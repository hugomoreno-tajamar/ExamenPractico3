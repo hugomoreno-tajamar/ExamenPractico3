{
  "cells": [
    {
      "cell_type": "markdown",
      "metadata": {
        "application/vnd.databricks.v1+cell": {
          "cellMetadata": {},
          "inputWidgets": {},
          "nuid": "6faa8f82-8459-4b9d-b8be-b985c9f761af",
          "showTitle": false,
          "tableResultSettingsMap": {},
          "title": ""
        },
        "id": "TxrYUwpxwcxn"
      },
      "source": [
        "# Limpieza de datos con PySpark: Data Science Job Posting on Glassdoor"
      ]
    },
    {
      "cell_type": "markdown",
      "metadata": {
        "application/vnd.databricks.v1+cell": {
          "cellMetadata": {},
          "inputWidgets": {},
          "nuid": "ffad86de-2091-43f9-97e4-c94456fee761",
          "showTitle": false,
          "tableResultSettingsMap": {},
          "title": ""
        },
        "id": "YWJiRhiXwcxp"
      },
      "source": [
        "Los [datos](https://tajamar365.sharepoint.com/:x:/s/3405-MasterIA2024-2025/ETYTQ0c-i6FLjM8rZ4iT1cgB6ipFAkainM-4V9M8DXsBiA?e=PeMtvh) fueron extraídos (scrapeados) del sitio web de Glassdoor y recoge los salarios de distintos puestos relacionados a Data."
      ]
    },
    {
      "cell_type": "code",
      "source": [
        "!pip install pyspark"
      ],
      "metadata": {
        "colab": {
          "base_uri": "https://localhost:8080/"
        },
        "id": "Bvbc0kk7wtuZ",
        "outputId": "5f06c9f8-bf46-4a56-d376-d3b6281d91c2"
      },
      "execution_count": 2,
      "outputs": [
        {
          "output_type": "stream",
          "name": "stdout",
          "text": [
            "Requirement already satisfied: pyspark in /usr/local/lib/python3.10/dist-packages (3.5.3)\n",
            "Requirement already satisfied: py4j==0.10.9.7 in /usr/local/lib/python3.10/dist-packages (from pyspark) (0.10.9.7)\n"
          ]
        }
      ]
    },
    {
      "cell_type": "code",
      "source": [
        "from pyspark.sql import SparkSession\n",
        "\n",
        "spark = SparkSession.builder.appName(\"Caso4\").getOrCreate()\n"
      ],
      "metadata": {
        "id": "4Ak4X_Uaw2dQ"
      },
      "execution_count": 3,
      "outputs": []
    },
    {
      "cell_type": "code",
      "source": [
        "from google.colab import files\n",
        "\n",
        "uploaded = files.upload()"
      ],
      "metadata": {
        "colab": {
          "base_uri": "https://localhost:8080/",
          "height": 73
        },
        "id": "-AxcYc0qw9FY",
        "outputId": "f0379a9b-4f22-4842-e32c-d0533763c0ee"
      },
      "execution_count": 4,
      "outputs": [
        {
          "output_type": "display_data",
          "data": {
            "text/plain": [
              "<IPython.core.display.HTML object>"
            ],
            "text/html": [
              "\n",
              "     <input type=\"file\" id=\"files-5639b6e5-7dfb-4e97-b43f-635154ff38be\" name=\"files[]\" multiple disabled\n",
              "        style=\"border:none\" />\n",
              "     <output id=\"result-5639b6e5-7dfb-4e97-b43f-635154ff38be\">\n",
              "      Upload widget is only available when the cell has been executed in the\n",
              "      current browser session. Please rerun this cell to enable.\n",
              "      </output>\n",
              "      <script>// Copyright 2017 Google LLC\n",
              "//\n",
              "// Licensed under the Apache License, Version 2.0 (the \"License\");\n",
              "// you may not use this file except in compliance with the License.\n",
              "// You may obtain a copy of the License at\n",
              "//\n",
              "//      http://www.apache.org/licenses/LICENSE-2.0\n",
              "//\n",
              "// Unless required by applicable law or agreed to in writing, software\n",
              "// distributed under the License is distributed on an \"AS IS\" BASIS,\n",
              "// WITHOUT WARRANTIES OR CONDITIONS OF ANY KIND, either express or implied.\n",
              "// See the License for the specific language governing permissions and\n",
              "// limitations under the License.\n",
              "\n",
              "/**\n",
              " * @fileoverview Helpers for google.colab Python module.\n",
              " */\n",
              "(function(scope) {\n",
              "function span(text, styleAttributes = {}) {\n",
              "  const element = document.createElement('span');\n",
              "  element.textContent = text;\n",
              "  for (const key of Object.keys(styleAttributes)) {\n",
              "    element.style[key] = styleAttributes[key];\n",
              "  }\n",
              "  return element;\n",
              "}\n",
              "\n",
              "// Max number of bytes which will be uploaded at a time.\n",
              "const MAX_PAYLOAD_SIZE = 100 * 1024;\n",
              "\n",
              "function _uploadFiles(inputId, outputId) {\n",
              "  const steps = uploadFilesStep(inputId, outputId);\n",
              "  const outputElement = document.getElementById(outputId);\n",
              "  // Cache steps on the outputElement to make it available for the next call\n",
              "  // to uploadFilesContinue from Python.\n",
              "  outputElement.steps = steps;\n",
              "\n",
              "  return _uploadFilesContinue(outputId);\n",
              "}\n",
              "\n",
              "// This is roughly an async generator (not supported in the browser yet),\n",
              "// where there are multiple asynchronous steps and the Python side is going\n",
              "// to poll for completion of each step.\n",
              "// This uses a Promise to block the python side on completion of each step,\n",
              "// then passes the result of the previous step as the input to the next step.\n",
              "function _uploadFilesContinue(outputId) {\n",
              "  const outputElement = document.getElementById(outputId);\n",
              "  const steps = outputElement.steps;\n",
              "\n",
              "  const next = steps.next(outputElement.lastPromiseValue);\n",
              "  return Promise.resolve(next.value.promise).then((value) => {\n",
              "    // Cache the last promise value to make it available to the next\n",
              "    // step of the generator.\n",
              "    outputElement.lastPromiseValue = value;\n",
              "    return next.value.response;\n",
              "  });\n",
              "}\n",
              "\n",
              "/**\n",
              " * Generator function which is called between each async step of the upload\n",
              " * process.\n",
              " * @param {string} inputId Element ID of the input file picker element.\n",
              " * @param {string} outputId Element ID of the output display.\n",
              " * @return {!Iterable<!Object>} Iterable of next steps.\n",
              " */\n",
              "function* uploadFilesStep(inputId, outputId) {\n",
              "  const inputElement = document.getElementById(inputId);\n",
              "  inputElement.disabled = false;\n",
              "\n",
              "  const outputElement = document.getElementById(outputId);\n",
              "  outputElement.innerHTML = '';\n",
              "\n",
              "  const pickedPromise = new Promise((resolve) => {\n",
              "    inputElement.addEventListener('change', (e) => {\n",
              "      resolve(e.target.files);\n",
              "    });\n",
              "  });\n",
              "\n",
              "  const cancel = document.createElement('button');\n",
              "  inputElement.parentElement.appendChild(cancel);\n",
              "  cancel.textContent = 'Cancel upload';\n",
              "  const cancelPromise = new Promise((resolve) => {\n",
              "    cancel.onclick = () => {\n",
              "      resolve(null);\n",
              "    };\n",
              "  });\n",
              "\n",
              "  // Wait for the user to pick the files.\n",
              "  const files = yield {\n",
              "    promise: Promise.race([pickedPromise, cancelPromise]),\n",
              "    response: {\n",
              "      action: 'starting',\n",
              "    }\n",
              "  };\n",
              "\n",
              "  cancel.remove();\n",
              "\n",
              "  // Disable the input element since further picks are not allowed.\n",
              "  inputElement.disabled = true;\n",
              "\n",
              "  if (!files) {\n",
              "    return {\n",
              "      response: {\n",
              "        action: 'complete',\n",
              "      }\n",
              "    };\n",
              "  }\n",
              "\n",
              "  for (const file of files) {\n",
              "    const li = document.createElement('li');\n",
              "    li.append(span(file.name, {fontWeight: 'bold'}));\n",
              "    li.append(span(\n",
              "        `(${file.type || 'n/a'}) - ${file.size} bytes, ` +\n",
              "        `last modified: ${\n",
              "            file.lastModifiedDate ? file.lastModifiedDate.toLocaleDateString() :\n",
              "                                    'n/a'} - `));\n",
              "    const percent = span('0% done');\n",
              "    li.appendChild(percent);\n",
              "\n",
              "    outputElement.appendChild(li);\n",
              "\n",
              "    const fileDataPromise = new Promise((resolve) => {\n",
              "      const reader = new FileReader();\n",
              "      reader.onload = (e) => {\n",
              "        resolve(e.target.result);\n",
              "      };\n",
              "      reader.readAsArrayBuffer(file);\n",
              "    });\n",
              "    // Wait for the data to be ready.\n",
              "    let fileData = yield {\n",
              "      promise: fileDataPromise,\n",
              "      response: {\n",
              "        action: 'continue',\n",
              "      }\n",
              "    };\n",
              "\n",
              "    // Use a chunked sending to avoid message size limits. See b/62115660.\n",
              "    let position = 0;\n",
              "    do {\n",
              "      const length = Math.min(fileData.byteLength - position, MAX_PAYLOAD_SIZE);\n",
              "      const chunk = new Uint8Array(fileData, position, length);\n",
              "      position += length;\n",
              "\n",
              "      const base64 = btoa(String.fromCharCode.apply(null, chunk));\n",
              "      yield {\n",
              "        response: {\n",
              "          action: 'append',\n",
              "          file: file.name,\n",
              "          data: base64,\n",
              "        },\n",
              "      };\n",
              "\n",
              "      let percentDone = fileData.byteLength === 0 ?\n",
              "          100 :\n",
              "          Math.round((position / fileData.byteLength) * 100);\n",
              "      percent.textContent = `${percentDone}% done`;\n",
              "\n",
              "    } while (position < fileData.byteLength);\n",
              "  }\n",
              "\n",
              "  // All done.\n",
              "  yield {\n",
              "    response: {\n",
              "      action: 'complete',\n",
              "    }\n",
              "  };\n",
              "}\n",
              "\n",
              "scope.google = scope.google || {};\n",
              "scope.google.colab = scope.google.colab || {};\n",
              "scope.google.colab._files = {\n",
              "  _uploadFiles,\n",
              "  _uploadFilesContinue,\n",
              "};\n",
              "})(self);\n",
              "</script> "
            ]
          },
          "metadata": {}
        },
        {
          "output_type": "stream",
          "name": "stdout",
          "text": [
            "Saving ds-jobs.csv to ds-jobs.csv\n"
          ]
        }
      ]
    },
    {
      "cell_type": "markdown",
      "metadata": {
        "application/vnd.databricks.v1+cell": {
          "cellMetadata": {},
          "inputWidgets": {},
          "nuid": "dbd64de3-16db-4ce1-89ee-026c842262a1",
          "showTitle": false,
          "tableResultSettingsMap": {},
          "title": ""
        },
        "id": "CVPsB3GDwcxq"
      },
      "source": [
        "### Resolver los siguientes requerimientos, para cada operación/moficación imprima como van quedadndo los cambios."
      ]
    },
    {
      "cell_type": "markdown",
      "metadata": {
        "application/vnd.databricks.v1+cell": {
          "cellMetadata": {},
          "inputWidgets": {},
          "nuid": "22e55e35-5fe8-4a9a-a14a-d8d15dbe45b0",
          "showTitle": false,
          "tableResultSettingsMap": {},
          "title": ""
        },
        "id": "PKL8lF1twcxq"
      },
      "source": [
        "1. Cargar los datos y mostrar el esquema o la informacion de las columnas y el tip de dato de cada columna"
      ]
    },
    {
      "cell_type": "code",
      "source": [
        "df = spark.read.option(\"header\", \"true\") \\\n",
        "               .option(\"delimiter\", \";\") \\\n",
        "               .option(\"multiline\", \"true\") \\\n",
        "               .option(\"encoding\", \"UTF-8\") \\\n",
        "               .csv(\"ds-jobs.csv\")\n",
        "\n",
        "df.printSchema()"
      ],
      "metadata": {
        "id": "wSp-vVBNxEze",
        "colab": {
          "base_uri": "https://localhost:8080/"
        },
        "outputId": "b5b3fbdc-1a58-48f8-f51d-22f3e6b9562a"
      },
      "execution_count": 5,
      "outputs": [
        {
          "output_type": "stream",
          "name": "stdout",
          "text": [
            "root\n",
            " |-- index: string (nullable = true)\n",
            " |-- Job Title: string (nullable = true)\n",
            " |-- Salary Estimate: string (nullable = true)\n",
            " |-- Job Description: string (nullable = true)\n",
            " |-- Rating: string (nullable = true)\n",
            " |-- Company Name: string (nullable = true)\n",
            " |-- Location: string (nullable = true)\n",
            " |-- Headquarters: string (nullable = true)\n",
            " |-- Size: string (nullable = true)\n",
            " |-- Founded: string (nullable = true)\n",
            " |-- Type of ownership: string (nullable = true)\n",
            " |-- Industry: string (nullable = true)\n",
            " |-- Sector: string (nullable = true)\n",
            " |-- Revenue: string (nullable = true)\n",
            " |-- Competitors: string (nullable = true)\n",
            "\n"
          ]
        }
      ]
    },
    {
      "cell_type": "code",
      "source": [
        "df.show()"
      ],
      "metadata": {
        "id": "1k4elgiU04dc",
        "colab": {
          "base_uri": "https://localhost:8080/"
        },
        "outputId": "1bc06d67-c0cf-43cb-d2ae-1867c0f34c37"
      },
      "execution_count": 6,
      "outputs": [
        {
          "output_type": "stream",
          "name": "stdout",
          "text": [
            "+--------------------+--------------------+--------------------+--------------------+-------------+--------------------+-----------------+--------------------+--------------------+-----------------+--------------------+--------------------+--------------------+--------------------+--------------------+\n",
            "|               index|           Job Title|     Salary Estimate|     Job Description|       Rating|        Company Name|         Location|        Headquarters|                Size|          Founded|   Type of ownership|            Industry|              Sector|             Revenue|         Competitors|\n",
            "+--------------------+--------------------+--------------------+--------------------+-------------+--------------------+-----------------+--------------------+--------------------+-----------------+--------------------+--------------------+--------------------+--------------------+--------------------+\n",
            "|                   0|   Sr Data Scientist|$137K-$171K (Glas...|Description\\n\\nTh...|           31|    Healthfirst\\n3.1|     New York, NY|        New York, NY|1001 to 5000 empl...|             1993|Nonprofit Organiz...|  Insurance Carriers|           Insurance|Unknown / Non-App...|EmblemHealth, Uni...|\n",
            "|                   1|      Data Scientist|$137K-$171K (Glas...|Secure our Nation...|           42|        ManTech\\n4.2|    Chantilly, VA|         Herndon, VA|5001 to 10000 emp...|             1968|    Company - Public|Research & Develo...|   Business Services|$1 to $2 billion ...|                  -1|\n",
            "|                   2|      Data Scientist|$137K-$171K (Glas...|Overview\\n\\n\\nAna...|           38| Analysis Group\\n3.8|       Boston, MA|          Boston, MA|1001 to 5000 empl...|             1981|Private Practice ...|          Consulting|   Business Services|$100 to $500 mill...|                  -1|\n",
            "|                   3|      Data Scientist|$137K-$171K (Glas...|JOB DESCRIPTION:\\...|           35|        INFICON\\n3.5|       Newton, MA|Bad Ragaz, Switze...|501 to 1000 emplo...|             2000|    Company - Public|Electrical & Elec...|       Manufacturing|$100 to $500 mill...|MKS Instruments, ...|\n",
            "|                   4|      Data Scientist|$137K-$171K (Glas...|Data Scientist\\nA...|           29|Affinity Solution...|     New York, NY|        New York, NY| 51 to 200 employees|             1998|   Company - Private|Advertising & Mar...|   Business Services|Unknown / Non-App...|Commerce Signals,...|\n",
            "|                   5|      Data Scientist|$137K-$171K (Glas...|About Us:\\n\\nHead...|           42|    HG Insights\\n4.2|Santa Barbara, CA|   Santa Barbara, CA| 51 to 200 employees|             2010|   Company - Private|Computer Hardware...|Information Techn...|Unknown / Non-App...|                  -1|\n",
            "|                   6|Data Scientist / ...|$137K-$171K (Glas...|Posting Title\\nDa...|           39|       Novartis\\n3.9|    Cambridge, MA|  Basel, Switzerland|    10000+ employees|             1996|    Company - Public|Biotech & Pharmac...|Biotech & Pharmac...|  $10+ billion (USD)|                  -1|\n",
            "|                   7|      Data Scientist|$137K-$171K (Glas...|Introduction\\n\\nH...|           35|         iRobot\\n3.5|      Bedford, MA|         Bedford, MA|1001 to 5000 empl...|             1990|    Company - Public|Consumer Electron...|              Retail|$1 to $2 billion ...|                  -1|\n",
            "|                   8|Staff Data Scient...|$137K-$171K (Glas...|Intuit is seeking...|           44|  Intuit - Data\\n4.4|    San Diego, CA|   Mountain View, CA|5001 to 10000 emp...|             1983|    Company - Public|Computer Hardware...|Information Techn...|$2 to $5 billion ...|Square, PayPal, H...|\n",
            "|                   9|      Data Scientist|$137K-$171K (Glas...|Ready to write th...|           36|XSELL Technologie...|      Chicago, IL|         Chicago, IL| 51 to 200 employees|             2014|   Company - Private|Enterprise Softwa...|Information Techn...|Unknown / Non-App...|                  -1|\n",
            "|                  10|      Data Scientist|$137K-$171K (Glas...|Join our team ded...|           45|        Novetta\\n4.5|      Herndon, VA|         Mc Lean, VA|501 to 1000 emplo...|             2012|   Company - Private|Enterprise Softwa...|Information Techn...|$100 to $500 mill...|Leidos, CACI Inte...|\n",
            "|                  11|      Data Scientist|$137K-$171K (Glas...|About Us\\n\\n\\nInt...|           47|       1904labs\\n4.7|  Saint Louis, MO|     Saint Louis, MO| 51 to 200 employees|             2016|   Company - Private|         IT Services|Information Techn...|Unknown / Non-App...|Slalom, Daugherty...|\n",
            "|                  12|Data Scientist - ...|$137K-$171K (Glas...|*Organization and...|           37|           PNNL\\n3.7|     Richland, WA|        Richland, WA|1001 to 5000 empl...|             1965|          Government|              Energy|Oil, Gas, Energy ...|$500 million to $...|Oak Ridge Nationa...|\n",
            "|                  13|        Data Modeler|$137K-$171K (Glas...|POSITION PURPOSE:...|           31|Old World Industr...|   Northbrook, IL|      Northbrook, IL|201 to 500 employees|             1973|   Company - Private|Chemical Manufact...|       Manufacturing|$1 to $2 billion ...|                  -1|\n",
            "|                  14|      Data Scientist|$137K-$171K (Glas...|\"Position Descrip...|         NULL|                NULL|             NULL|                NULL|                NULL|             NULL|                NULL|                NULL|                NULL|                NULL|                NULL|\n",
            "|Mathematica offer...|                  34|Mathematica Polic...|      Washington, DC|Princeton, NJ|1001 to 5000 empl...|             1986|   Company - Private|          Consulting|Business Services|$100 to $500 mill...|                  -1|                NULL|                NULL|                NULL|\n",
            "|                  15|Experienced Data ...|$137K-$171K (Glas...|*******Please App...|           44|Guzman & Griffin ...|   Washington, DC|    Mays Landing, NJ|   1 to 50 employees|             1997|   Company - Private|    Federal Agencies|          Government|Unknown / Non-App...|                  -1|\n",
            "|                  16|Data Scientist - ...|$137K-$171K (Glas...|We are an ambitio...|           41|Upside Business T...|           Remote|      Washington, DC| 51 to 200 employees|             2015|   Company - Private|            Internet|Information Techn...|Unknown / Non-App...|                  -1|\n",
            "|                  17|      Data Scientist|$137K-$171K (Glas...|Job Success Profi...|           35|        Buckman\\n3.5|      Memphis, TN|         Memphis, TN|1001 to 5000 empl...|             1945|   Company - Private|Chemical Manufact...|       Manufacturing|$500 million to $...|                  -1|\n",
            "|                  18|     Data Analyst II|$137K-$171K (Glas...|The Data Analyst ...|           42|Insight Enterpris...|        Plano, TX|           Tempe, AZ|5001 to 10000 emp...|             1988|    Company - Public|Enterprise Softwa...|Information Techn...|$5 to $10 billion...|CDW, PCM, SHI Int...|\n",
            "+--------------------+--------------------+--------------------+--------------------+-------------+--------------------+-----------------+--------------------+--------------------+-----------------+--------------------+--------------------+--------------------+--------------------+--------------------+\n",
            "only showing top 20 rows\n",
            "\n"
          ]
        }
      ]
    },
    {
      "cell_type": "markdown",
      "source": [
        "Vemos que todos los campos están en tipo string, por lo que, cuando queramos hacer alguna media, suma, u operaciones con enteros, sería recomendable hacer un cast de esa columna"
      ],
      "metadata": {
        "id": "WaDMXW7KyVSq"
      }
    },
    {
      "cell_type": "markdown",
      "metadata": {
        "application/vnd.databricks.v1+cell": {
          "cellMetadata": {},
          "inputWidgets": {},
          "nuid": "5a4b636b-5e44-4afa-9d44-0666b991cec1",
          "showTitle": false,
          "tableResultSettingsMap": {},
          "title": ""
        },
        "id": "u06cEnJgwcxq"
      },
      "source": [
        "2. Eliminar duplicados"
      ]
    },
    {
      "cell_type": "code",
      "source": [
        "from pyspark.sql.functions import col, count, countDistinct\n",
        "\n",
        "print(f\"Filas antes de borrar duplicados {df.count()}\")\n",
        "\n",
        "df = df.dropDuplicates()\n",
        "\n",
        "print(f\"Filas despues de borrar duplicados {df.count()}\")\n"
      ],
      "metadata": {
        "id": "iwXv7oZJxv4C",
        "colab": {
          "base_uri": "https://localhost:8080/"
        },
        "outputId": "671a764b-737e-44f2-fa1f-a26cec3bcd75"
      },
      "execution_count": 7,
      "outputs": [
        {
          "output_type": "stream",
          "name": "stdout",
          "text": [
            "Filas antes de borrar duplicados 733\n",
            "Filas despues de borrar duplicados 709\n"
          ]
        }
      ]
    },
    {
      "cell_type": "markdown",
      "metadata": {
        "application/vnd.databricks.v1+cell": {
          "cellMetadata": {},
          "inputWidgets": {},
          "nuid": "a9b97746-8b29-4550-9e1b-be2876c2a0a5",
          "showTitle": false,
          "tableResultSettingsMap": {},
          "title": ""
        },
        "id": "e6npCj6Uwcxq"
      },
      "source": [
        "3. Decidir que hacer con los datos faltantes"
      ]
    },
    {
      "cell_type": "markdown",
      "source": [
        "Primero contamos cuantos datos faltantes hay por cada columna, y dependiendo del valor que tenga esa columna, decidimos."
      ],
      "metadata": {
        "id": "GaDFc4F-5eXo"
      }
    },
    {
      "cell_type": "code",
      "source": [
        "from pyspark.sql import functions as F\n",
        "\n",
        "for column in df.columns:\n",
        "    empty_count = df.filter((F.col(column) == \"-1\")).count()\n",
        "    print(f\"Columna '{column}': {empty_count} valores vacíos\")\n"
      ],
      "metadata": {
        "id": "xhNyoB47ymhc",
        "colab": {
          "base_uri": "https://localhost:8080/"
        },
        "outputId": "9be86ba1-26be-431e-fe7d-c042588dea7f"
      },
      "execution_count": 8,
      "outputs": [
        {
          "output_type": "stream",
          "name": "stdout",
          "text": [
            "Columna 'index': 0 valores vacíos\n",
            "Columna 'Job Title': 2 valores vacíos\n",
            "Columna 'Salary Estimate': 0 valores vacíos\n",
            "Columna 'Job Description': 0 valores vacíos\n",
            "Columna 'Rating': 38 valores vacíos\n",
            "Columna 'Company Name': 2 valores vacíos\n",
            "Columna 'Location': 4 valores vacíos\n",
            "Columna 'Headquarters': 20 valores vacíos\n",
            "Columna 'Size': 17 valores vacíos\n",
            "Columna 'Founded': 104 valores vacíos\n",
            "Columna 'Type of ownership': 16 valores vacíos\n",
            "Columna 'Industry': 78 valores vacíos\n",
            "Columna 'Sector': 59 valores vacíos\n",
            "Columna 'Revenue': 15 valores vacíos\n",
            "Columna 'Competitors': 461 valores vacíos\n"
          ]
        }
      ]
    },
    {
      "cell_type": "markdown",
      "source": [
        "\n",
        "\n",
        "Visto el resultado, vamos a realizar lo siguiente para cada columna con datos faltantes:\n",
        "- Job Title --> eliminar ya que sin título el dato no vale\n",
        "- Rating --> ponemos la media de todas las ratings\n",
        "- Company name --> eliminamos porque son pocas filas y sin nombre de la compañía el dato pierde valor\n",
        "- Location --> intentaremos coger el dato de headquarters, si es nulo, eliminamos\n",
        "- Headquarters --> igual que location pero al revés\n",
        "- Size --> ponemos lit(none), no nos aporta gran información\n",
        "- Founded --> ponemos lit(none), no nos aporta gran información\n",
        "- Industry, sector, type of ownership, revenue y competitors --> lo dejaremos en lit(Unknown), ya que es importante pero no estrictamente necesaria la informacion"
      ],
      "metadata": {
        "id": "wcltFsxh5XnX"
      }
    },
    {
      "cell_type": "code",
      "source": [
        "from pyspark.sql import functions as F\n",
        "\n",
        "# Paso 1: Eliminar filas donde Job Title sea \"-1\"\n",
        "df_cleaned = df.filter(F.col(\"Job Title\") != \"-1\")\n",
        "\n",
        "# Paso 2: Rellenar Rating con la media de la columna, donde Rating sea \"-1\", para ello, primero hay que pasar rating a int\n",
        "df_cleaned = df.withColumn(\"Rating\", F.col(\"Rating\").cast(\"int\"))\n",
        "average_rating = df.filter(F.col(\"Rating\") != -1).agg(F.round(F.avg(\"Rating\"), 2)).collect()[0][0]\n",
        "df_cleaned = df_cleaned.withColumn(\"Rating\", F.when(F.col(\"Rating\") == -1, average_rating).otherwise(F.col(\"Rating\")))\n",
        "\n",
        "# Paso 3: Eliminar filas donde Company name sea \"-1\"\n",
        "df_cleaned = df_cleaned.filter(F.col(\"Company name\") != \"-1\")\n",
        "\n",
        "# Paso 4: Limpiar Location: si es \"-1\", tomar el valor de Headquarters, si ambos son \"-1\", eliminar fila\n",
        "df_cleaned = df_cleaned.withColumn(\n",
        "    \"Location\",\n",
        "    F.when(F.col(\"Location\") == \"-1\", F.col(\"Headquarters\")).otherwise(F.col(\"Location\"))\n",
        ")\n",
        "df_cleaned = df_cleaned.filter(F.col(\"Location\") != \"-1\")\n",
        "\n",
        "# Paso 5: Limpiar Headquarters: si es \"-1\", tomar el valor de Location, si ambos son \"-1\", eliminar fila\n",
        "df_cleaned = df_cleaned.withColumn(\n",
        "    \"Headquarters\",\n",
        "    F.when(F.col(\"Headquarters\") == \"-1\", F.col(\"Location\")).otherwise(F.col(\"Headquarters\"))\n",
        ")\n",
        "df_cleaned = df_cleaned.filter(F.col(\"Headquarters\") != \"-1\")\n",
        "\n",
        "# Paso 6: Reemplazar valores \"-1\" de Size con \"none\"\n",
        "df_cleaned = df_cleaned.withColumn(\"Size\", F.when(F.col(\"Size\") == \"-1\", \"none\").otherwise(F.col(\"Size\")))\n",
        "\n",
        "# Paso 7: Reemplazar valores \"-1\" de Founded con \"none\"\n",
        "df_cleaned = df_cleaned.withColumn(\"Founded\", F.when(F.col(\"Founded\") == \"-1\", \"none\").otherwise(F.col(\"Founded\")))\n",
        "\n",
        "# Paso 8: Reemplazar valores \"-1\" de Industry, Sector, Revenue, Competitors con \"Unknown\"\n",
        "df_cleaned = df_cleaned.withColumn(\"Industry\", F.when(F.col(\"Industry\") == \"-1\", \"Unknown\").otherwise(F.col(\"Industry\")))\n",
        "df_cleaned = df_cleaned.withColumn(\"Sector\", F.when(F.col(\"Sector\") == \"-1\", \"Unknown\").otherwise(F.col(\"Sector\")))\n",
        "df_cleaned = df_cleaned.withColumn(\"Revenue\", F.when(F.col(\"Revenue\") == \"-1\", \"Unknown\").otherwise(F.col(\"Revenue\")))\n",
        "df_cleaned = df_cleaned.withColumn(\"Competitors\", F.when(F.col(\"Competitors\") == \"-1\", \"Unknown\").otherwise(F.col(\"Competitors\")))\n",
        "df_cleaned = df_cleaned.withColumn(\"Type of ownership\", F.when(F.col(\"Type of ownership\") == \"-1\", \"Unknown\").otherwise(F.col(\"Type of ownership\")))\n",
        "\n",
        "\n",
        "# Asignar el dataframe limpio al dataframe principal\n",
        "df = df_cleaned\n",
        "\n",
        "# Mostrar el dataframe limpio\n",
        "df.show()\n"
      ],
      "metadata": {
        "id": "RaJCML3_5TKw",
        "colab": {
          "base_uri": "https://localhost:8080/"
        },
        "outputId": "8b9119e6-c0ed-4007-c648-f3586a5314cf"
      },
      "execution_count": 9,
      "outputs": [
        {
          "output_type": "stream",
          "name": "stdout",
          "text": [
            "+-----+--------------------+--------------------+--------------------+------+--------------------+-----------------+--------------------+--------------------+-------+--------------------+--------------------+--------------------+--------------------+--------------------+\n",
            "|index|           Job Title|     Salary Estimate|     Job Description|Rating|        Company Name|         Location|        Headquarters|                Size|Founded|   Type of ownership|            Industry|              Sector|             Revenue|         Competitors|\n",
            "+-----+--------------------+--------------------+--------------------+------+--------------------+-----------------+--------------------+--------------------+-------+--------------------+--------------------+--------------------+--------------------+--------------------+\n",
            "|   56|Senior Data Scien...|$75K-$131K (Glass...|Benson Hill empow...|  35.0|    Benson Hill\\n3.5|  Saint Louis, MO|     Saint Louis, MO|201 to 500 employees|   2012|   Company - Private|Biotech & Pharmac...|Biotech & Pharmac...|$1 to $5 million ...|             Unknown|\n",
            "|  282|      Data Scientist|$91K-$150K (Glass...|Greetings from Tr...| 38.84|      Trovetechs Inc|San Francisco, CA|    Hillsborough, NJ|             Unknown|   none|   Company - Private|             Unknown|             Unknown|Unknown / Non-App...|             Unknown|\n",
            "|   74|Purification Scie...|$79K-$131K (Glass...|New England Biola...|  49.0|New England Biola...|      Ipswich, MA|         Ipswich, MA|201 to 500 employees|   1974|   Company - Private|Biotech & Pharmac...|Biotech & Pharmac...|Unknown / Non-App...|Thermo Fisher Sci...|\n",
            "|  177|Data Scientist - ...|$56K-$97K (Glassd...|*Organization and...|  37.0|           PNNL\\n3.7|     Richland, WA|        Richland, WA|1001 to 5000 empl...|   1965|          Government|              Energy|Oil, Gas, Energy ...|$500 million to $...|Oak Ridge Nationa...|\n",
            "|  457|      Data Scientist|$69K-$116K (Glass...|Work in a fast gr...| 38.84|       Stride Search|San Francisco, CA|Westlake Village, CA|   1 to 50 employees|   none|   Company - Private|             Unknown|             Unknown|Less than $1 mill...|             Unknown|\n",
            "|  662|      Data Scientist|$105K-$167K (Glas...|Solution IT Inc. ...|  44.0|SolutionIT, Inc.\\...|       Edison, NJ|      Wilmington, MA| 51 to 200 employees|   none|   Company - Private|             Unknown|             Unknown|Unknown / Non-App...|             Unknown|\n",
            "|   19|Medical Lab Scien...|$137K-$171K (Glas...|Responsibilities\\...|  35.0|   Tower Health\\n3.5|   West Grove, PA|         Reading, PA|5001 to 10000 emp...|   2017|Nonprofit Organiz...|Health Care Servi...|         Health Care|Unknown / Non-App...|             Unknown|\n",
            "|  145|Research Scientis...|$90K-$109K (Glass...|*We would ideally...|  38.0|        Evidera\\n3.8|     Bethesda, MD|        Bethesda, MD|501 to 1000 emplo...|   2013|Subsidiary or Bus...|Biotech & Pharmac...|Biotech & Pharmac...|$100 to $500 mill...|         IQVIA, ICON|\n",
            "|  157|Experienced Data ...|$101K-$165K (Glas...|*******Please App...|  44.0|Guzman & Griffin ...|   Washington, DC|    Mays Landing, NJ|   1 to 50 employees|   1997|   Company - Private|    Federal Agencies|          Government|Unknown / Non-App...|             Unknown|\n",
            "|  303|      Data Scientist|$145K-$225K(Emplo...|Role Description\\...|  32.0|     Triplebyte\\n3.2|      Chicago, IL|   San Francisco, CA| 51 to 200 employees|   2015|   Company - Private|Computer Hardware...|Information Techn...|Unknown / Non-App...|             Unknown|\n",
            "|  176|       Data Engineer|$101K-$165K (Glas...|Building Bridges,...|  44.0|Resurgent Capital...|   Cincinnati, OH|      Greenville, SC|201 to 500 employees|   1998|   Company - Private|Venture Capital &...|             Finance|$50 to $100 milli...|             Unknown|\n",
            "|  478|      Data Scientist|$31K-$56K (Glassd...|Responsibilities�...|  41.0|IntelliPro Group ...|  Santa Clara, CA|     Santa Clara, CA|201 to 500 employees|   none|   Company - Private|             Unknown|             Unknown|$10 to $25 millio...|             Unknown|\n",
            "|  637|      Data Scientist|$92K-$155K (Glass...|Job Description\\n...| 38.84|            Sophinea|    Chantilly, VA|       Chantilly, VA|   1 to 50 employees|   none|             Unknown|             Unknown|             Unknown|Unknown / Non-App...|             Unknown|\n",
            "|   33|Senior Research S...|$75K-$131K (Glass...|Acuity is seeking...|  48.0|Acuity Insurance\\...|    Sheboygan, WI|       Sheboygan, WI|1001 to 5000 empl...|   1925|   Company - Private|  Insurance Carriers|           Insurance|$1 to $2 billion ...|             Unknown|\n",
            "|   40|        Data Analyst|$75K-$131K (Glass...|Data Analyst\\nLoc...|  31.0|Cambridge Associa...|       Boston, MA|          Boston, MA|501 to 1000 emplo...|   1973|   Company - Private|Investment Bankin...|             Finance|$100 to $500 mill...|             Unknown|\n",
            "|  542|COMPUTER SCIENTIS...|$66K-$112K (Glass...|Join our Intellig...|  39.0|Southwest Researc...|  San Antonio, TX|     San Antonio, TX|1001 to 5000 empl...|   1947|Nonprofit Organiz...|Research & Develo...|   Business Services|$500 million to $...|Los Alamos Nation...|\n",
            "|  206|Data Science Inst...|$79K-$106K (Glass...|Join our team ded...|  45.0|        Novetta\\n4.5|      Herndon, VA|         Mc Lean, VA|501 to 1000 emplo...|   2012|   Company - Private|Enterprise Softwa...|Information Techn...|$100 to $500 mill...|Leidos, CACI Inte...|\n",
            "|  428|Senior Data Scien...|$79K-$133K (Glass...|Benson Hill empow...|  35.0|    Benson Hill\\n3.5|  Saint Louis, MO|     Saint Louis, MO|201 to 500 employees|   2012|   Company - Private|Biotech & Pharmac...|Biotech & Pharmac...|$1 to $5 million ...|             Unknown|\n",
            "|  521|      Data Scientist|$212K-$331K (Glas...|The work is in su...|  38.0|  Aveshka, Inc.\\n3.8|   Washington, DC|       Arlington, VA| 51 to 200 employees|   2010|    Company - Public|         IT Services|Information Techn...|$10 to $25 millio...|             Unknown|\n",
            "|  253|      Data Scientist|$90K-$124K (Glass...|You are key to he...|  41.0|         Gallup\\n4.1|     New York, NY|      Washington, DC|1001 to 5000 empl...|   1935|   Company - Private|          Consulting|   Business Services|Unknown / Non-App...|Advisory Board, B...|\n",
            "+-----+--------------------+--------------------+--------------------+------+--------------------+-----------------+--------------------+--------------------+-------+--------------------+--------------------+--------------------+--------------------+--------------------+\n",
            "only showing top 20 rows\n",
            "\n"
          ]
        }
      ]
    },
    {
      "cell_type": "markdown",
      "metadata": {
        "application/vnd.databricks.v1+cell": {
          "cellMetadata": {},
          "inputWidgets": {},
          "nuid": "eaedda51-4a41-41cd-aba7-75f0e5a3c5f4",
          "showTitle": false,
          "tableResultSettingsMap": {},
          "title": ""
        },
        "id": "1Ylqy_jUwcxq"
      },
      "source": [
        "4. Decidir que hacer con los valores nulos"
      ]
    },
    {
      "cell_type": "markdown",
      "source": [
        "Con los nulos, vamos a hacer el mismo análisis que con los faltantes"
      ],
      "metadata": {
        "id": "91EGo_8G4yev"
      }
    },
    {
      "cell_type": "code",
      "source": [
        "for column in df.columns:\n",
        "    empty_count = df.filter((F.col(column).isNull())).count()\n",
        "    print(f\"Columna '{column}': {empty_count} valores nulos\")"
      ],
      "metadata": {
        "id": "mV7CEvdu4dsv",
        "colab": {
          "base_uri": "https://localhost:8080/"
        },
        "outputId": "dd05f642-dc3d-4ff0-a52f-4ed06569fc2e"
      },
      "execution_count": 10,
      "outputs": [
        {
          "output_type": "stream",
          "name": "stdout",
          "text": [
            "Columna 'index': 0 valores nulos\n",
            "Columna 'Job Title': 0 valores nulos\n",
            "Columna 'Salary Estimate': 1 valores nulos\n",
            "Columna 'Job Description': 1 valores nulos\n",
            "Columna 'Rating': 27 valores nulos\n",
            "Columna 'Company Name': 0 valores nulos\n",
            "Columna 'Location': 0 valores nulos\n",
            "Columna 'Headquarters': 0 valores nulos\n",
            "Columna 'Size': 0 valores nulos\n",
            "Columna 'Founded': 0 valores nulos\n",
            "Columna 'Type of ownership': 0 valores nulos\n",
            "Columna 'Industry': 0 valores nulos\n",
            "Columna 'Sector': 24 valores nulos\n",
            "Columna 'Revenue': 26 valores nulos\n",
            "Columna 'Competitors': 27 valores nulos\n"
          ]
        }
      ]
    },
    {
      "cell_type": "markdown",
      "source": [
        "A la vista de los resultados, amos a realizar lo mismo con los nulos que con los faltantes, pero añadiendo condiciones para Salary Estimate y Job Description, que también dejaremos en Unknown en caso de nulo"
      ],
      "metadata": {
        "id": "RX2OFYHz42cA"
      }
    },
    {
      "cell_type": "code",
      "source": [
        "# Paso 1: Eliminar filas con Job Title nulo o vacío\n",
        "df_cleaned = df.filter(F.col(\"Job Title\").isNotNull() & (F.col(\"Company name\") != \"\"))\n",
        "\n",
        "# Paso 2: Rellenar Rating con la media de la columna\n",
        "average_rating = df_cleaned.agg(F.round(F.avg(\"Rating\"), 2)).collect()[0][0]\n",
        "df_cleaned = df_cleaned.fillna({\"Rating\": average_rating})\n",
        "\n",
        "# Paso 3: Eliminar filas con Company Name nulo o vacío\n",
        "df_cleaned = df_cleaned.filter(F.col(\"Company name\").isNotNull() & (F.col(\"Company name\") != \"\"))\n",
        "\n",
        "# Paso 4: Limpiar Location: si es nulo, tomar el valor de Headquarters, si ambos son nulos, eliminar fila\n",
        "df_cleaned = df_cleaned.withColumn(\n",
        "    \"Location\",\n",
        "    F.coalesce(F.col(\"Location\"), F.col(\"Headquarters\"))\n",
        ").filter(F.col(\"Location\").isNotNull())\n",
        "\n",
        "# Paso 5: Limpiar Headquarters: si es nulo, tomar el valor de Location, si ambos son nulos, eliminar fila\n",
        "df_cleaned = df_cleaned.withColumn(\n",
        "    \"Headquarters\",\n",
        "    F.coalesce(F.col(\"Headquarters\"), F.col(\"Location\"))\n",
        ").filter(F.col(\"Headquarters\").isNotNull())\n",
        "\n",
        "# Paso 6: Reemplazar valores nulos de Size y Founded con \"none\"\n",
        "df_cleaned = df_cleaned.fillna({\n",
        "    \"Size\": \"none\",\n",
        "    \"Founded\": \"none\"\n",
        "    })\n",
        "\n",
        "# Paso 7: Reemplazar valores nulos de Industry, Sector, Revenue, Competitors con \"Unknown\"\n",
        "df_cleaned = df_cleaned.fillna({\n",
        "    \"Industry\": \"Unknown\",\n",
        "    \"Sector\": \"Unknown\",\n",
        "    \"Revenue\": \"Unknown\",\n",
        "    \"Type of ownership\": \"Unknown\",\n",
        "    \"Competitors\": \"Unknown\",\n",
        "    \"Salary Estimate\": \"Unknown\",\n",
        "    \"Job Description\": \"Unknown\"\n",
        "})\n",
        "\n",
        "# Asignar el dataframe limpio al principal\n",
        "df = df_cleaned\n",
        "\n",
        "\n",
        "# Mostrar el resultado\n",
        "df.show()"
      ],
      "metadata": {
        "id": "zGmaRukI6vLR",
        "colab": {
          "base_uri": "https://localhost:8080/"
        },
        "outputId": "af97109c-8f5a-40e3-b391-18fa448e6735"
      },
      "execution_count": 11,
      "outputs": [
        {
          "output_type": "stream",
          "name": "stdout",
          "text": [
            "+-----+--------------------+--------------------+--------------------+------+--------------------+-----------------+--------------------+--------------------+-------+--------------------+--------------------+--------------------+--------------------+--------------------+\n",
            "|index|           Job Title|     Salary Estimate|     Job Description|Rating|        Company Name|         Location|        Headquarters|                Size|Founded|   Type of ownership|            Industry|              Sector|             Revenue|         Competitors|\n",
            "+-----+--------------------+--------------------+--------------------+------+--------------------+-----------------+--------------------+--------------------+-------+--------------------+--------------------+--------------------+--------------------+--------------------+\n",
            "|   56|Senior Data Scien...|$75K-$131K (Glass...|Benson Hill empow...|  35.0|    Benson Hill\\n3.5|  Saint Louis, MO|     Saint Louis, MO|201 to 500 employees|   2012|   Company - Private|Biotech & Pharmac...|Biotech & Pharmac...|$1 to $5 million ...|             Unknown|\n",
            "|  282|      Data Scientist|$91K-$150K (Glass...|Greetings from Tr...| 38.84|      Trovetechs Inc|San Francisco, CA|    Hillsborough, NJ|             Unknown|   none|   Company - Private|             Unknown|             Unknown|Unknown / Non-App...|             Unknown|\n",
            "|   74|Purification Scie...|$79K-$131K (Glass...|New England Biola...|  49.0|New England Biola...|      Ipswich, MA|         Ipswich, MA|201 to 500 employees|   1974|   Company - Private|Biotech & Pharmac...|Biotech & Pharmac...|Unknown / Non-App...|Thermo Fisher Sci...|\n",
            "|  177|Data Scientist - ...|$56K-$97K (Glassd...|*Organization and...|  37.0|           PNNL\\n3.7|     Richland, WA|        Richland, WA|1001 to 5000 empl...|   1965|          Government|              Energy|Oil, Gas, Energy ...|$500 million to $...|Oak Ridge Nationa...|\n",
            "|  457|      Data Scientist|$69K-$116K (Glass...|Work in a fast gr...| 38.84|       Stride Search|San Francisco, CA|Westlake Village, CA|   1 to 50 employees|   none|   Company - Private|             Unknown|             Unknown|Less than $1 mill...|             Unknown|\n",
            "|  662|      Data Scientist|$105K-$167K (Glas...|Solution IT Inc. ...|  44.0|SolutionIT, Inc.\\...|       Edison, NJ|      Wilmington, MA| 51 to 200 employees|   none|   Company - Private|             Unknown|             Unknown|Unknown / Non-App...|             Unknown|\n",
            "|   19|Medical Lab Scien...|$137K-$171K (Glas...|Responsibilities\\...|  35.0|   Tower Health\\n3.5|   West Grove, PA|         Reading, PA|5001 to 10000 emp...|   2017|Nonprofit Organiz...|Health Care Servi...|         Health Care|Unknown / Non-App...|             Unknown|\n",
            "|  145|Research Scientis...|$90K-$109K (Glass...|*We would ideally...|  38.0|        Evidera\\n3.8|     Bethesda, MD|        Bethesda, MD|501 to 1000 emplo...|   2013|Subsidiary or Bus...|Biotech & Pharmac...|Biotech & Pharmac...|$100 to $500 mill...|         IQVIA, ICON|\n",
            "|  157|Experienced Data ...|$101K-$165K (Glas...|*******Please App...|  44.0|Guzman & Griffin ...|   Washington, DC|    Mays Landing, NJ|   1 to 50 employees|   1997|   Company - Private|    Federal Agencies|          Government|Unknown / Non-App...|             Unknown|\n",
            "|  303|      Data Scientist|$145K-$225K(Emplo...|Role Description\\...|  32.0|     Triplebyte\\n3.2|      Chicago, IL|   San Francisco, CA| 51 to 200 employees|   2015|   Company - Private|Computer Hardware...|Information Techn...|Unknown / Non-App...|             Unknown|\n",
            "|  176|       Data Engineer|$101K-$165K (Glas...|Building Bridges,...|  44.0|Resurgent Capital...|   Cincinnati, OH|      Greenville, SC|201 to 500 employees|   1998|   Company - Private|Venture Capital &...|             Finance|$50 to $100 milli...|             Unknown|\n",
            "|  478|      Data Scientist|$31K-$56K (Glassd...|Responsibilities�...|  41.0|IntelliPro Group ...|  Santa Clara, CA|     Santa Clara, CA|201 to 500 employees|   none|   Company - Private|             Unknown|             Unknown|$10 to $25 millio...|             Unknown|\n",
            "|  637|      Data Scientist|$92K-$155K (Glass...|Job Description\\n...| 38.84|            Sophinea|    Chantilly, VA|       Chantilly, VA|   1 to 50 employees|   none|             Unknown|             Unknown|             Unknown|Unknown / Non-App...|             Unknown|\n",
            "|   33|Senior Research S...|$75K-$131K (Glass...|Acuity is seeking...|  48.0|Acuity Insurance\\...|    Sheboygan, WI|       Sheboygan, WI|1001 to 5000 empl...|   1925|   Company - Private|  Insurance Carriers|           Insurance|$1 to $2 billion ...|             Unknown|\n",
            "|   40|        Data Analyst|$75K-$131K (Glass...|Data Analyst\\nLoc...|  31.0|Cambridge Associa...|       Boston, MA|          Boston, MA|501 to 1000 emplo...|   1973|   Company - Private|Investment Bankin...|             Finance|$100 to $500 mill...|             Unknown|\n",
            "|  542|COMPUTER SCIENTIS...|$66K-$112K (Glass...|Join our Intellig...|  39.0|Southwest Researc...|  San Antonio, TX|     San Antonio, TX|1001 to 5000 empl...|   1947|Nonprofit Organiz...|Research & Develo...|   Business Services|$500 million to $...|Los Alamos Nation...|\n",
            "|  206|Data Science Inst...|$79K-$106K (Glass...|Join our team ded...|  45.0|        Novetta\\n4.5|      Herndon, VA|         Mc Lean, VA|501 to 1000 emplo...|   2012|   Company - Private|Enterprise Softwa...|Information Techn...|$100 to $500 mill...|Leidos, CACI Inte...|\n",
            "|  428|Senior Data Scien...|$79K-$133K (Glass...|Benson Hill empow...|  35.0|    Benson Hill\\n3.5|  Saint Louis, MO|     Saint Louis, MO|201 to 500 employees|   2012|   Company - Private|Biotech & Pharmac...|Biotech & Pharmac...|$1 to $5 million ...|             Unknown|\n",
            "|  521|      Data Scientist|$212K-$331K (Glas...|The work is in su...|  38.0|  Aveshka, Inc.\\n3.8|   Washington, DC|       Arlington, VA| 51 to 200 employees|   2010|    Company - Public|         IT Services|Information Techn...|$10 to $25 millio...|             Unknown|\n",
            "|  253|      Data Scientist|$90K-$124K (Glass...|You are key to he...|  41.0|         Gallup\\n4.1|     New York, NY|      Washington, DC|1001 to 5000 empl...|   1935|   Company - Private|          Consulting|   Business Services|Unknown / Non-App...|Advisory Board, B...|\n",
            "+-----+--------------------+--------------------+--------------------+------+--------------------+-----------------+--------------------+--------------------+-------+--------------------+--------------------+--------------------+--------------------+--------------------+\n",
            "only showing top 20 rows\n",
            "\n"
          ]
        }
      ]
    },
    {
      "cell_type": "markdown",
      "source": [
        "Por último, vamos a comprobar que no haya ningún valor nulo ni vacío en nuestro dataframe, ejecutando el mismo código de antes"
      ],
      "metadata": {
        "id": "swdwthnj7omx"
      }
    },
    {
      "source": [
        "from pyspark.sql.types import StructType, StructField, StringType, IntegerType, FloatType\n",
        "\n",
        "for column in df.columns:\n",
        "    if df.schema[column].dataType == StringType():\n",
        "        empty_count = df.filter((F.col(column).isNull()) | (F.col(column) == \"-1\")).count()\n",
        "    else:\n",
        "        empty_count = df.filter(F.col(column).isNull()).count()\n",
        "    print(f\"Columna '{column}': {empty_count} valores nulos\")"
      ],
      "cell_type": "code",
      "metadata": {
        "id": "p3UYw4KY7-tR",
        "colab": {
          "base_uri": "https://localhost:8080/"
        },
        "outputId": "fc6bbbdc-fbb9-49e4-95cc-db7cd4a905ea"
      },
      "execution_count": 12,
      "outputs": [
        {
          "output_type": "stream",
          "name": "stdout",
          "text": [
            "Columna 'index': 0 valores nulos\n",
            "Columna 'Job Title': 0 valores nulos\n",
            "Columna 'Salary Estimate': 0 valores nulos\n",
            "Columna 'Job Description': 0 valores nulos\n",
            "Columna 'Rating': 0 valores nulos\n",
            "Columna 'Company Name': 0 valores nulos\n",
            "Columna 'Location': 0 valores nulos\n",
            "Columna 'Headquarters': 0 valores nulos\n",
            "Columna 'Size': 0 valores nulos\n",
            "Columna 'Founded': 0 valores nulos\n",
            "Columna 'Type of ownership': 0 valores nulos\n",
            "Columna 'Industry': 0 valores nulos\n",
            "Columna 'Sector': 0 valores nulos\n",
            "Columna 'Revenue': 0 valores nulos\n",
            "Columna 'Competitors': 0 valores nulos\n"
          ]
        }
      ]
    },
    {
      "cell_type": "markdown",
      "metadata": {
        "application/vnd.databricks.v1+cell": {
          "cellMetadata": {},
          "inputWidgets": {},
          "nuid": "cbb3b1ca-24ac-4206-8906-3ecee5d6c5aa",
          "showTitle": false,
          "tableResultSettingsMap": {},
          "title": ""
        },
        "id": "G7XuYqUgwcxq"
      },
      "source": [
        "5. ¿Cuántos registros tiene el csv?"
      ]
    },
    {
      "cell_type": "code",
      "source": [
        "df.count()"
      ],
      "metadata": {
        "id": "C-wLdSA49XS7",
        "colab": {
          "base_uri": "https://localhost:8080/"
        },
        "outputId": "bd1472f6-7e68-4e90-b011-356db1115604"
      },
      "execution_count": 13,
      "outputs": [
        {
          "output_type": "execute_result",
          "data": {
            "text/plain": [
              "653"
            ]
          },
          "metadata": {},
          "execution_count": 13
        }
      ]
    },
    {
      "cell_type": "markdown",
      "source": [
        "El csv contiene 653 registros tras la limpieza"
      ],
      "metadata": {
        "id": "EYvkyo4FF7q3"
      }
    },
    {
      "cell_type": "markdown",
      "metadata": {
        "application/vnd.databricks.v1+cell": {
          "cellMetadata": {},
          "inputWidgets": {},
          "nuid": "1e9aac77-6fe5-4a54-b6ae-c152feee149f",
          "showTitle": false,
          "tableResultSettingsMap": {},
          "title": ""
        },
        "id": "pUp9Ffb4wcxr"
      },
      "source": [
        "6. Mostrar los valores únicos de `Job title`"
      ]
    },
    {
      "cell_type": "code",
      "source": [
        "df.select(\"Job Title\").distinct().show(truncate=False)"
      ],
      "metadata": {
        "id": "XuZyCkb6zmbb",
        "colab": {
          "base_uri": "https://localhost:8080/"
        },
        "outputId": "a6ae96ac-ec98-448d-b411-e718c3f30401"
      },
      "execution_count": 14,
      "outputs": [
        {
          "output_type": "stream",
          "name": "stdout",
          "text": [
            "+-------------------------------------------------------------------------------------------------------------------------------------------------------------------------------------------------------------------------------------------------------------------------------------------------------------------------------------------------------------------------------------------------------------------------------------------------------------+\n",
            "|Job Title                                                                                                                                                                                                                                                                                                                                                                                                                                                    |\n",
            "+-------------------------------------------------------------------------------------------------------------------------------------------------------------------------------------------------------------------------------------------------------------------------------------------------------------------------------------------------------------------------------------------------------------------------------------------------------------+\n",
            "| at least one reference should be from a supervisor\\nLetter of interest\\nImportant for applicants who are NOT current university employees or contingent workers: You will be prompted to submit your resume the first time you apply, then you will be provided an option to upload a new Resume for subsequent applications. Any additional Required Materials (letter of interest, references, etc.) will be uploaded in the Application Questions section|\n",
            "|Clinical Data Analyst                                                                                                                                                                                                                                                                                                                                                                                                                                        |\n",
            "|Senior Business Intelligence Analyst                                                                                                                                                                                                                                                                                                                                                                                                                         |\n",
            "|Data Analyst/Engineer                                                                                                                                                                                                                                                                                                                                                                                                                                        |\n",
            "|Staff BI and Data Engineer                                                                                                                                                                                                                                                                                                                                                                                                                                   |\n",
            "|Intelligence Data Analyst, Senior                                                                                                                                                                                                                                                                                                                                                                                                                            |\n",
            "|Report Writer-Data Analyst                                                                                                                                                                                                                                                                                                                                                                                                                                   |\n",
            "|Hydrogen/Tritium Materials Scientist (Experienced)                                                                                                                                                                                                                                                                                                                                                                                                           |\n",
            "|Business Intelligence Analyst                                                                                                                                                                                                                                                                                                                                                                                                                                |\n",
            "|Data Modeler                                                                                                                                                                                                                                                                                                                                                                                                                                                 |\n",
            "|29                                                                                                                                                                                                                                                                                                                                                                                                                                                           |\n",
            "|42                                                                                                                                                                                                                                                                                                                                                                                                                                                           |\n",
            "|Scientist / Group Lead, Cancer Biology                                                                                                                                                                                                                                                                                                                                                                                                                       |\n",
            "|Senior Research Statistician- Data Scientist                                                                                                                                                                                                                                                                                                                                                                                                                 |\n",
            "|Software Engineer - Machine Learning & Data Science (Applied Intelligence Services Team)                                                                                                                                                                                                                                                                                                                                                                     |\n",
            "|Sr Data Scientist                                                                                                                                                                                                                                                                                                                                                                                                                                            |\n",
            "|COMPUTER SCIENTIST - ENGINEER - RESEARCH COMPUTER SCIENTIST - SIGNAL PROCESSING                                                                                                                                                                                                                                                                                                                                                                              |\n",
            "|34                                                                                                                                                                                                                                                                                                                                                                                                                                                           |\n",
            "|Data Scientist/Machine Learning                                                                                                                                                                                                                                                                                                                                                                                                                              |\n",
            "|Data Scientist - Statistics, Mid-Career                                                                                                                                                                                                                                                                                                                                                                                                                      |\n",
            "+-------------------------------------------------------------------------------------------------------------------------------------------------------------------------------------------------------------------------------------------------------------------------------------------------------------------------------------------------------------------------------------------------------------------------------------------------------------+\n",
            "only showing top 20 rows\n",
            "\n"
          ]
        }
      ]
    },
    {
      "cell_type": "markdown",
      "metadata": {
        "application/vnd.databricks.v1+cell": {
          "cellMetadata": {},
          "inputWidgets": {},
          "nuid": "df06a700-7dd6-44c8-877c-52819ffb73a0",
          "showTitle": false,
          "tableResultSettingsMap": {},
          "title": ""
        },
        "id": "rRCCcouRwcxr"
      },
      "source": [
        "7. Remover la letra `K` de la columna `Salary Estimate` y multiplicar por 1000."
      ]
    },
    {
      "cell_type": "code",
      "source": [
        "df_cleaned = df.withColumn(\"Salary Estimate\", F.regexp_replace(F.col(\"Salary Estimate\"), \"K\", \".000\"))\n",
        "df = df_cleaned\n",
        "df.select(\"Salary Estimate\").show(truncate= False)"
      ],
      "metadata": {
        "id": "RYulzEiGF4io",
        "colab": {
          "base_uri": "https://localhost:8080/"
        },
        "outputId": "482e25d2-28d0-4af6-c0dd-921695a97fb3"
      },
      "execution_count": 15,
      "outputs": [
        {
          "output_type": "stream",
          "name": "stdout",
          "text": [
            "+----------------------------------+\n",
            "|Salary Estimate                   |\n",
            "+----------------------------------+\n",
            "|$75.000-$131.000 (Glassdoor est.) |\n",
            "|$91.000-$150.000 (Glassdoor est.) |\n",
            "|$79.000-$131.000 (Glassdoor est.) |\n",
            "|$56.000-$97.000 (Glassdoor est.)  |\n",
            "|$69.000-$116.000 (Glassdoor est.) |\n",
            "|$105.000-$167.000 (Glassdoor est.)|\n",
            "|$137.000-$171.000 (Glassdoor est.)|\n",
            "|$90.000-$109.000 (Glassdoor est.) |\n",
            "|$101.000-$165.000 (Glassdoor est.)|\n",
            "|$145.000-$225.000(Employer est.)  |\n",
            "|$101.000-$165.000 (Glassdoor est.)|\n",
            "|$31.000-$56.000 (Glassdoor est.)  |\n",
            "|$92.000-$155.000 (Glassdoor est.) |\n",
            "|$75.000-$131.000 (Glassdoor est.) |\n",
            "|$75.000-$131.000 (Glassdoor est.) |\n",
            "|$66.000-$112.000 (Glassdoor est.) |\n",
            "|$79.000-$106.000 (Glassdoor est.) |\n",
            "|$79.000-$133.000 (Glassdoor est.) |\n",
            "|$212.000-$331.000 (Glassdoor est.)|\n",
            "|$90.000-$124.000 (Glassdoor est.) |\n",
            "+----------------------------------+\n",
            "only showing top 20 rows\n",
            "\n"
          ]
        }
      ]
    },
    {
      "cell_type": "markdown",
      "source": [
        "La salida nos devuelve efectivamente que la información de Salary Estimate está modificada con miles de dólares"
      ],
      "metadata": {
        "id": "gfIcJS3wHBPr"
      }
    },
    {
      "cell_type": "markdown",
      "metadata": {
        "application/vnd.databricks.v1+cell": {
          "cellMetadata": {},
          "inputWidgets": {},
          "nuid": "b0f2bbcd-5c78-4d10-9118-e105f611b4af",
          "showTitle": false,
          "tableResultSettingsMap": {},
          "title": ""
        },
        "id": "ruFUegNkwcxr"
      },
      "source": [
        "8. Mostrar los valores únicos del campo `Salary Estimate`"
      ]
    },
    {
      "cell_type": "code",
      "source": [
        "df.select(\"Salary Estimate\").distinct().show(truncate=False)"
      ],
      "metadata": {
        "id": "Gqm-mLrLzweU",
        "colab": {
          "base_uri": "https://localhost:8080/"
        },
        "outputId": "0e4268af-aeca-4feb-bebe-ac981313a2cf"
      },
      "execution_count": 16,
      "outputs": [
        {
          "output_type": "stream",
          "name": "stdout",
          "text": [
            "+----------------------------------+\n",
            "|Salary Estimate                   |\n",
            "+----------------------------------+\n",
            "|Thumbtack\\n3.9                    |\n",
            "|Western Digital\\n3.5              |\n",
            "|42                                |\n",
            "|$92.000-$155.000 (Glassdoor est.) |\n",
            "|$75.000-$131.000 (Glassdoor est.) |\n",
            "|$90.000-$109.000 (Glassdoor est.) |\n",
            "|$141.000-$225.000 (Glassdoor est.)|\n",
            "|$101.000-$165.000 (Glassdoor est.)|\n",
            "|$128.000-$201.000 (Glassdoor est.)|\n",
            "|$110.000-$163.000 (Glassdoor est.)|\n",
            "|IZEA\\n4.2                         |\n",
            "|0                                 |\n",
            "|$212.000-$331.000 (Glassdoor est.)|\n",
            "|$79.000-$106.000 (Glassdoor est.) |\n",
            "|$99.000-$132.000 (Glassdoor est.) |\n",
            "|hc1\\n2.9                          |\n",
            "|$122.000-$146.000 (Glassdoor est.)|\n",
            "|Giving Assistant\\n4.8             |\n",
            "|Jobot\\n5.0                        |\n",
            "|$87.000-$141.000 (Glassdoor est.) |\n",
            "+----------------------------------+\n",
            "only showing top 20 rows\n",
            "\n"
          ]
        }
      ]
    },
    {
      "cell_type": "markdown",
      "metadata": {
        "application/vnd.databricks.v1+cell": {
          "cellMetadata": {},
          "inputWidgets": {},
          "nuid": "da5d10ab-fd9e-4d8b-bf7f-f8d25b9ed1af",
          "showTitle": false,
          "tableResultSettingsMap": {},
          "title": ""
        },
        "id": "fVsf6_piwcxr"
      },
      "source": [
        "9. Eliminar `(Glassdoor est.)` y `(Employer est.)` del campo `Salary Estimate`"
      ]
    },
    {
      "cell_type": "code",
      "source": [
        "df_cleaned = df.withColumn(\"Salary Estimate\", F.regexp_replace(F.col(\"Salary Estimate\"), \"\\(Glassdoor est.\\)\", \"\"))\n",
        "df_cleaned = df_cleaned.withColumn(\"Salary Estimate\", F.regexp_replace(F.col(\"Salary Estimate\"), \"\\(Employer est.\\)\", \"\"))\n",
        "\n",
        "df = df_cleaned\n",
        "df.select(\"Salary Estimate\").show(truncate= False)"
      ],
      "metadata": {
        "id": "OYcNSPYKz5iy",
        "colab": {
          "base_uri": "https://localhost:8080/"
        },
        "outputId": "182b5b08-6a0a-4771-de4a-5544ffa4ae9e"
      },
      "execution_count": 17,
      "outputs": [
        {
          "output_type": "stream",
          "name": "stdout",
          "text": [
            "+------------------+\n",
            "|Salary Estimate   |\n",
            "+------------------+\n",
            "|$75.000-$131.000  |\n",
            "|$91.000-$150.000  |\n",
            "|$79.000-$131.000  |\n",
            "|$56.000-$97.000   |\n",
            "|$69.000-$116.000  |\n",
            "|$105.000-$167.000 |\n",
            "|$137.000-$171.000 |\n",
            "|$90.000-$109.000  |\n",
            "|$101.000-$165.000 |\n",
            "|$145.000-$225.000 |\n",
            "|$101.000-$165.000 |\n",
            "|$31.000-$56.000   |\n",
            "|$92.000-$155.000  |\n",
            "|$75.000-$131.000  |\n",
            "|$75.000-$131.000  |\n",
            "|$66.000-$112.000  |\n",
            "|$79.000-$106.000  |\n",
            "|$79.000-$133.000  |\n",
            "|$212.000-$331.000 |\n",
            "|$90.000-$124.000  |\n",
            "+------------------+\n",
            "only showing top 20 rows\n",
            "\n"
          ]
        }
      ]
    },
    {
      "cell_type": "markdown",
      "metadata": {
        "application/vnd.databricks.v1+cell": {
          "cellMetadata": {},
          "inputWidgets": {},
          "nuid": "80ff37c4-17a0-4eb4-b170-a131bd9b7844",
          "showTitle": false,
          "tableResultSettingsMap": {},
          "title": ""
        },
        "id": "Fpa_MkR4wcxr"
      },
      "source": [
        "10. Mostrar de mayor a menor los valores del campo `Salary Estimate`"
      ]
    },
    {
      "cell_type": "code",
      "source": [
        "df.select(\"Salary Estimate\").orderBy(F.col(\"Salary Estimate\").desc()).show(truncate=False)"
      ],
      "metadata": {
        "id": "zQfY1KquHyIu",
        "colab": {
          "base_uri": "https://localhost:8080/"
        },
        "outputId": "ed6b5099-cfc6-40be-f8b4-bc3df37a537d"
      },
      "execution_count": 18,
      "outputs": [
        {
          "output_type": "stream",
          "name": "stdout",
          "text": [
            "+-----------------------------------+\n",
            "|Salary Estimate                    |\n",
            "+-----------------------------------+\n",
            "|hc1\\n2.9                           |\n",
            "|Western Digital\\n3.5               |\n",
            "|Upstart\\n4.2                       |\n",
            "|Unknown                            |\n",
            "|Thumbtack\\n3.9                     |\n",
            "|Software Engineering Institute\\n2.6|\n",
            "|Royce Geospatial\\n5.0              |\n",
            "|Relativity\\n3.7                    |\n",
            "|Qurate Retail Group\\n3.6           |\n",
            "|Numeric, LLC\\n3.2                  |\n",
            "|Novartis\\n3.9                      |\n",
            "|Natera\\n3.9                        |\n",
            "|Mathematica Policy Research\\n3.4   |\n",
            "|LinQuest\\n3.9                      |\n",
            "|Life360\\n3.9                       |\n",
            "|Jobot\\n5.0                         |\n",
            "|Intellectual Ventures\\n3.3         |\n",
            "|IZEA\\n4.2                          |\n",
            "|HPOne\\n3.5                         |\n",
            "|Giving Assistant\\n4.8              |\n",
            "+-----------------------------------+\n",
            "only showing top 20 rows\n",
            "\n"
          ]
        }
      ]
    },
    {
      "cell_type": "markdown",
      "source": [
        "Al ver que hay muchos datos en la columna Salary Estimate que no coinciden con ningún número ni ningún salario estimado, voy a proceder a eliminar esta información y voy a reajustar los datos de salario aproximado de la siguiente manera:\n",
        "\n",
        "- Todas las filas que no contengan valores numéricos precedidos por el símbolo del dolar, las pondré a $0.0"
      ],
      "metadata": {
        "id": "CMYycloiI21d"
      }
    },
    {
      "source": [
        "df_cleaned = df.withColumn(\"Salary Estimate\", F.when(F.col(\"Salary Estimate\").contains(\"$\"), F.col(\"Salary Estimate\")).otherwise(F.lit(\"$0.0\")))\n",
        "\n",
        "df = df_cleaned\n",
        "\n",
        "df.select(\"Salary Estimate\").orderBy(F.col(\"Salary Estimate\").desc()).show(truncate=False)"
      ],
      "cell_type": "code",
      "metadata": {
        "id": "Y9Ym6gKgMFR3",
        "colab": {
          "base_uri": "https://localhost:8080/"
        },
        "outputId": "55bd535c-9d2a-4b7c-ea2f-3b25cc96cd9e"
      },
      "execution_count": 19,
      "outputs": [
        {
          "output_type": "stream",
          "name": "stdout",
          "text": [
            "+-----------------+\n",
            "|Salary Estimate  |\n",
            "+-----------------+\n",
            "|$99.000-$132.000 |\n",
            "|$99.000-$132.000 |\n",
            "|$99.000-$132.000 |\n",
            "|$99.000-$132.000 |\n",
            "|$99.000-$132.000 |\n",
            "|$99.000-$132.000 |\n",
            "|$99.000-$132.000 |\n",
            "|$99.000-$132.000 |\n",
            "|$99.000-$132.000 |\n",
            "|$99.000-$132.000 |\n",
            "|$99.000-$132.000 |\n",
            "|$99.000-$132.000 |\n",
            "|$99.000-$132.000 |\n",
            "|$99.000-$132.000 |\n",
            "|$99.000-$132.000 |\n",
            "|$99.000-$132.000 |\n",
            "|$99.000-$132.000 |\n",
            "|$99.000-$132.000 |\n",
            "|$99.000-$132.000 |\n",
            "|$99.000-$132.000 |\n",
            "+-----------------+\n",
            "only showing top 20 rows\n",
            "\n"
          ]
        }
      ]
    },
    {
      "cell_type": "markdown",
      "source": [
        "De esta manera, hemos conseguido limpiar aquellos datos que no nos daban información buena y hemos filtrado en orden descendente los datos de Salary Estimate"
      ],
      "metadata": {
        "id": "E9mUKv40NPov"
      }
    },
    {
      "cell_type": "markdown",
      "metadata": {
        "application/vnd.databricks.v1+cell": {
          "cellMetadata": {},
          "inputWidgets": {},
          "nuid": "c20074ca-ff4d-45ba-a548-369bd3bdadc1",
          "showTitle": false,
          "tableResultSettingsMap": {},
          "title": ""
        },
        "id": "xlqBB0Uowcxr"
      },
      "source": [
        "11. De la columna `Job Description` quitar los saltos de linea `\\n` del texto"
      ]
    },
    {
      "cell_type": "code",
      "source": [
        "df_cleaned = df.withColumn(\"Job Description\", F.regexp_replace(F.col(\"Job Description\"), \"\\n\", \" \")) \\\n",
        "  .withColumn(\"Job Description\", F.regexp_replace(\"Job Description\", r\"[^\\x00-\\x7F]\", \"\")) \\\n",
        "  .withColumn(\"Job Description\", F.regexp_replace(\"Job Description\", r\"\\*\", \"\"))\n",
        "\n",
        "df = df_cleaned\n",
        "\n",
        "df.select(\"Job Description\").show(truncate=False)\n"
      ],
      "metadata": {
        "id": "1eeGcWhUNd-h",
        "colab": {
          "base_uri": "https://localhost:8080/"
        },
        "outputId": "bfc8851e-6f1a-4e37-8209-eed1d0f7a4b4"
      },
      "execution_count": 20,
      "outputs": [
        {
          "output_type": "stream",
          "name": "stdout",
          "text": [
            "+----------------------------------------------------------------------------------------------------------------------------------------------------------------------------------------------------------------------------------------------------------------------------------------------------------------------------------------------------------------------------------------------------------------------------------------------------------------------------------------------------------------------------------------------------------------------------------------------------------------------------------------------------------------------------------------------------------------------------------------------------------------------------------------------------------------------------------------------------------------------------------------------------------------------------------------------------------------------------------------------------------------------------------------------------------------------------------------------------------------------------------------------------------------------------------------------------------------------------------------------------------------------------------------------------------------------------------------------------------------------------------------------------------------------------------------------------------------------------------------------------------------------------------------------------------------------------------------------------------------------------------------------------------------------------------------------------------------------------------------------------------------------------------------------------------------------------------------------------------------------------------------------------------------------------------------------------------------------------------------------------------------------------------------------------------------------------------------------------------------------------------------------------------------------------------------------------------------------------------------------------------------------------------------------------------------------------------------------------------------------------------------------------------------------------------------------------------------------------------------------------------------------------------------------------------------------------------------------------------------------------------------------------------------------------------------------------------------------------------------------------------------------------------------------------------------------------------------------------------------------------------------------------------------------------------------------------------------------------------------------------------------------------------------------------------------------------------------------------------------------------------------------------------------------------------------------------------------------------------------------------------------------------------------------------------------------------------------------------------------------------------------------------------------------------------------------------------------------------------------------------------------------------------------------------------------------------------------------------------------------------------------------------------------------------------------------------------------------------------------------------------------------------------------------------------------------------------------------------------------------------------------------------------------------------------------------------------------------------------------------------------------------------------------------------------------------------------------------------------------------------------------------------------------------------------------------------------------------------------------------------------------------------------------------------------------------------------------------------------------------------------------------------------------------------------------------------------------------------------------------------------------------------------------------------------------------------------------------------------------------------------------------------------------------------------------------------------------------------------------------------------------------------------------------------------------------------------------------------------------------------------------------------------------------------------------------------------------------------------------------------------------------------------------------------------------------------------------------------------------------------------------------------------------------------------------------------------------------------------------------------------------------------------------------------------------------------------------------------------------------------------------------------------------------------------------------------------------------------------------------------------------------------------------------------------------------------------------------------------------------------------------------------------------------------------------------------------------------------------------------------------------+\n",
            "|Job Description                                                                                                                                                                                                                                                                                                                                                                                                                                                                                                                                                                                                                                                                                                                                                                                                                                                                                                                                                                                                                                                                                                                                                                                                                                                                                                                                                                                                                                                                                                                                                                                                                                                                                                                                                                                                                                                                                                                                                                                                                                                                                                                                                                                                                                                                                                                                                                                                                                                                                                                                                                                                                                                                                                                                                                                                                                                                                                                                                                                                                                                                                                                                                                                                                                                                                                                                                                                                                                                                                                                                                                                                                                                                                                                                                                                                                                                                                                                                                                                                                                                                                                                                                                                                                                                                                                                                                                                                                                                                                                                                                                                                                                                                                                                                                                                                                                                                                                                                                                                                                                                                                                                                                                                                                                                                                                                                                                                                                                                                                                                                                                                                                                                                                                                                                 |\n",
            "+----------------------------------------------------------------------------------------------------------------------------------------------------------------------------------------------------------------------------------------------------------------------------------------------------------------------------------------------------------------------------------------------------------------------------------------------------------------------------------------------------------------------------------------------------------------------------------------------------------------------------------------------------------------------------------------------------------------------------------------------------------------------------------------------------------------------------------------------------------------------------------------------------------------------------------------------------------------------------------------------------------------------------------------------------------------------------------------------------------------------------------------------------------------------------------------------------------------------------------------------------------------------------------------------------------------------------------------------------------------------------------------------------------------------------------------------------------------------------------------------------------------------------------------------------------------------------------------------------------------------------------------------------------------------------------------------------------------------------------------------------------------------------------------------------------------------------------------------------------------------------------------------------------------------------------------------------------------------------------------------------------------------------------------------------------------------------------------------------------------------------------------------------------------------------------------------------------------------------------------------------------------------------------------------------------------------------------------------------------------------------------------------------------------------------------------------------------------------------------------------------------------------------------------------------------------------------------------------------------------------------------------------------------------------------------------------------------------------------------------------------------------------------------------------------------------------------------------------------------------------------------------------------------------------------------------------------------------------------------------------------------------------------------------------------------------------------------------------------------------------------------------------------------------------------------------------------------------------------------------------------------------------------------------------------------------------------------------------------------------------------------------------------------------------------------------------------------------------------------------------------------------------------------------------------------------------------------------------------------------------------------------------------------------------------------------------------------------------------------------------------------------------------------------------------------------------------------------------------------------------------------------------------------------------------------------------------------------------------------------------------------------------------------------------------------------------------------------------------------------------------------------------------------------------------------------------------------------------------------------------------------------------------------------------------------------------------------------------------------------------------------------------------------------------------------------------------------------------------------------------------------------------------------------------------------------------------------------------------------------------------------------------------------------------------------------------------------------------------------------------------------------------------------------------------------------------------------------------------------------------------------------------------------------------------------------------------------------------------------------------------------------------------------------------------------------------------------------------------------------------------------------------------------------------------------------------------------------------------------------------------------------------------------------------------------------------------------------------------------------------------------------------------------------------------------------------------------------------------------------------------------------------------------------------------------------------------------------------------------------------------------------------------------------------------------------------------------------------------------------------------------------+\n",
            "|Benson Hill empowers innovators to develop more healthy, tasty and sustainable food by unlocking the natural genetic diversity of plants. Benson Hill's CropOS platform combines machine learning and big data with breeding techniques and plant biology to drastically accelerate and simplify the product development process. This platform allows for cost-effective and more efficient ways for companies to analyze and make improvements in plant genetics. Benson Hill brings a unique and holistic approach to our product and platform development, as we span a broader workflow involving trait and seed development, genome editing, and breeding all the way to creating better ingredients and varieties that tap a strong consumer demand for more flavorful and nutritious fruits and vegetables. More information can be found online at www.bensonhill.com. Follow us on Twitter at @BensonHillInc.  Our Purpose and Core Values  Our Core Values are a set of common principles we share that are fundamental to our company's identity. Be Bold! We redefine boundaries by providing new solutions to difficult problems. Together we are driven to transform the future and will not allow the fear of failure to prevent us from innovating. We voice our opinions, embrace change, and challenge each other to think creatively. Be Inspired! We redefine boundaries by providing new solutions to difficult problems. Together we are driven to transform the future and will not allow the fear of failure to prevent us from innovating. We voice our opinions, embrace change, and challenge each other to think creatively. Be Real! We understand who we are, what we want to achieve, and what it takes to get there. We hold each other accountable through timely, candid, and well-intentioned feedback. Together we engage in honest communication and healthy debate that leads to success through true alignment. Department Overview  The Data Science & Platform Engineering Department leads the development of Benson Hill's crop design platform, CropOS which combines machine learning and big data with genome editing and plant biology to accelerate and simplify the product development process. The team partners with the Research & Development teams on the development of a portfolio of offerings (commercial, product, or platform related) that meet the needs of Benson Hill's business units.  Position Summary  We are actively seeking a Senior Data Scientist to join our rapidly growing Research and Development Department. The successful candidate will be responsible for developing and implementing environmental and geospatial models enabling field experimental design and optimization of product performance across testing environments. This person will work closely with Benson Hill data engineers, scientists and project leaders to maximize the impact of Benson Hill's product development programs.  You Will:  (Essential Duties and Responsibilities) Develop and refine geospatial data analysis, storage, and modeling systems. Conduct independent analyses of performance and use advanced approaches to identify predictive models in a geospatial framework. Participate in the design of hypothesis-driven experiments and analyses. Perform spatial and statistical analysis on experimental outputs and interpret results Communicate results in written and visual formats to scientists and program leaders. Identify opportunities for model enhancements and opportunities for new models to create value in the product discovery and testing pipeline. You Have:  Education PhD preferred (minimum BS plus 4 years' experience), in applied mathematics, physics, engineering, statistics, ecology, or closely related field with formal training in statistics and experimental design, with demonstrable track record of peer-reviewed publications. Experience Demonstrated enthusiasm for data-driven discovery. Experience with geospatial analyses, modeling, and interactive system development. Highly developed ability to identify and evaluate predictive models and their utility. Experience with machine learning and statistical concepts, packages and libraries. Background and experience analyzing data with Python, R, or Julia. Expert with at least one scripting language, Python or R preferred. Ability to work in collaborative team, and the ability to respond positively to critiques of work. Excellent communication skills, both electronic and in-person. A track record of producing deliverables and meeting tight release deadlines. Ability to work autonomously, identify key tasks, and find solutions to challenges. Experience organizing and planning complex projects Strong record of personal development and learning new technologies. Software/Skillset Strong understanding of scientific concepts, approaches, application, and interpretation. Demonstrated experience with common machine learning approaches, statistics, geospatial and command line (e.g. R) applications. Other Attention to detail Strong Customer Focus Collaborative Ability to focus and work independently with little direction We have a Total Rewards Package at Benson Hill that consists of more than just your paycheck. Total Rewards at Benson Hill covers Pay (salary and bonus), Health (employer benefit contributions) and Wealth (investments). Some of the perks include: A Collaborative Environment A flexible PTO program with a focus on work/life balance Competitive medical benefits and retirement savings plan FREE Dental and Vision Coverage Education reimbursement PAID parental leave And more.|\n",
            "|Greetings from Trovetechs!!!    We have an immediate need for Data Scientist Role @ San Francisco, CA. Please find the below Job Description for your kind reference.    Duration: Long term Contract  Experience: 8+ Years  Rate: DOE$/hr.    Job Description:  1. Apply a deep understanding of technology innovation to solve complex. ambiguous, and novel problems.  2. Contribute to evolving multiple research pipelines  3. Implement new algorithms to enhance simulations and inference pipelines.  4. Enhance code efficiency through design, testing, and documentation,  5. Collaborate with other data science teams: Signal processing, deep learning and bioinformatics  6. Support the Statistical Modeling team discussions by demonstrating technology with compelling and clear communications Experience with TensorFlow-Probability, or another probabilistic framework is a big plus.  8. Experience in genomics  9. Experience with cloud computing  10. Experience building robust, scalable software products.  11. Fluency with modern software engineering practices: version control, code reviews, automated testing, etc.    If you are interested, please send us your updated resume along with best Time & Number to reach you ASAP.    Thanks and look forward to working with you,                                                                                                                                                                                                                                                                                                                                                                                                                                                                                                                                                                                                                                                                                                                                                                                                                                                                                                                                                                                                                                                                                                                                                                                                                                                                                                                                                                                                                                                                                                                                                                                                                                                                                                                                                                                                                                                                                                                                                                                                                                                                                                                                                                                                                                                                                                                                                                                                                                                                                                                                                                                                                                                                                                                                                                                                                                                                                                                                                                                                                                                                                                                                                                                                                                                                                                                                                                                                                                                                                                                                                                                                                                                                                                                                                                                                                                                                                                                                                                                                                                                                                                                                                                                                                                                                                                                                                                                                                                          |\n",
            "|New England Biolabs (NEB) is seeking highly motivated and detail-oriented individual for a downstream protein manufacturing role as a Purification Scientist in a laboratory equipped with cutting edge technologies. The successful candidate will execute downstream processes and perform in-process analytics. This role requires working in a fast-paced and collaborative environment to provide the highest quality products to the scientific community.  Primary Responsibilities: Program, operate, and troubleshoot purification equipment at small/pilot scale using the GE AKTA platform including AKTA PURE, Pilot, Process, as well as Tangential Flow Filtration and Inline Buffer Dilution Skids Represent commercial manufacturing needs in close working interaction with internal process development and management Perform and analyze numerous in process enzymatic and DNA assays required during the purification process to develop pooling protocols Apply creative problem solving to downstream processes to perform tasks more efficiently and effectively Maintain accurate records. Effectively organize, interpret and present data to colleagues, cross functional teams and senior leadership Advocate for new biopharma and information technologies to help advance downstream manufacturing Required Qualifications and Experience: Bachelors or advanced degree in Biology, Biochemistry, or a related field Minimum 3 years of industry experience Extensive knowledge of chromatography techniques including IEX, affinity, HIC, SEC and MMC Hands on experience with downstream processing equipment and protocols including sanitization, general operation, troubleshooting, and associated manufacturing tasks Experience operating protein purification equipment and knowledge of Unicorn software Familiarity with techniques such as SDS PAGE, restriction digestion, capillary electrophoresis-based RNA, DNA and protein assays Demonstrate precise bench skills to produce consistent and dependable data Exceptional attention to detail and passion for problem solving with a developed sense of ownership and responsibility Working knowledge of microbial fermentation and upstream processing a plus New England Biolabs, Inc. is an Equal Opportunity/Affirmative Action Employer of Minorities, Females, Disabled and Protected Veterans and a participating employer in the Employment Verification (E-Verify) program. More in-depth details of EEO are available here.  If you need an accommodation for any part of the employment process because of a medical condition or disability, please send an email to hr@neb.com or call 978-927-5054 to let us know the nature of your request.                                                                                                                                                                                                                                                                                                                                                                                                                                                                                                                                                                                                                                                                                                                                                                                                                                                                                                                                                                                                                                                                                                                                                                                                                                                                                                                                                                                                                                                                                                                                                                                                                                                                                                                                                                                                                                                                                                                                                                                                                                                                                                                                                                                                                                                                                                                                                                                                                                                                                                                                                                                                                                                                                                                                                                                                                                                                                                                                                                                                    |\n",
            "|Organization and Job ID Job ID: 310918  Directorate: National Security Directorate  Division: Computing & Analytics  Group: Applied Statistics & Computational Modeling Job Description This position is for a Scientist in Data Science and Applied or Mathematical Statistics who will provide scientific and technical research within the National Security Directorate (NSD) supporting the data analytics capabilities of the Computational Analytics Division. The Scientist will develop and apply fundamental mathematical or statistical theory to advance analytic solutions in various scientific domains. The Scientist must be able to draw from a strong statistical background, in areas including experimental design, advanced statistical modeling (e.g. mixed linear models, nonparametric models, etc.), machine learning, and computer simulations, to recognize patterns, characterize uncertainty, and develop predictive models using structured and unstructured data. The Scientist will produce solutions driven by domain science and mathematical statistical science from complex and high-dimensional datasets and design, develop, and evaluate advanced algorithms that lead to optimal value extraction from data. In addition to technical research this position expects participation and career development in task management, proposal writing, business development, and publishing.  Operating on the data-information-knowledge continuum, staff at PNNL employ diverse methods to confront significant problems of national interest from distilling distributed data into knowledge that supports decision processes to enabling resilient technologies that enhance computing at extreme scales. Our research portfolio spanning from basic to applied includes statistical modeling and experimental design, applied statistics, applied mathematics, machine learning, operations research, optimization, and other advanced statistical and mathematical domains.  Computing researchers and practitioners work side by side to apply advanced theories, methods, algorithms, models, evaluation tools and testbeds, and computational-based solutions to address complex scientific challenges affecting energy, biological sciences, the environment, and national security. Core domain knowledge is beneficial, such as in the nuclear, biological, energy, materials, or chemical science spaces. The hiring level will be determined based on the education, experience, and skill set of the successful candidate based on the following: Level II : Leads specific tasks of the project to meet scope, schedule and budget. Expected to contribute professionally, building a professional reputation for technical expertise. Fully applying and interpreting standard theories, principles, methods, tools and technologies. Contributes technical content to proposals and develops business through excellent project performance. Level III: Manages small to moderate projects and/or major project tasks. Integrates intellectual and technical capabilities of work teams. Enhances technical/professional skills of junior staff through active mentoring and training. Generates ideas for new proposals and participates in business development activities Minimum Qualifications + BS/BA with 2 years of experience, MS/MA with 0 years of experience, or PhD with 0 years of experience Preferred Qualifications + BS/BA with 5 years of experience, MS/MA with 3 years of experience, or PhD with 1 year of experience, focused in statistics with experience involving increasing levels of scientific research, task management, and programmatic responsibility  + Position requires ability to apply theories and develop technical approaches with minimal oversight  + Position requires the ability to effectively team with scientists and engineers to develop creative solutions to complex problems Equal Employment Opportunity Battelle Memorial Institute (BMI) at Pacific Northwest National Laboratory (PNNL) is an Affirmative Action/Equal Opportunity Employer and supports diversity in the workplace. All employment decisions are made without regard to race, color, religion, sex, national origin, age, disability, veteran status, marital or family status, sexual orientation, gender identity, or genetic information. All BMI staff must be able to demonstrate the legal right to work in the United States. BMI is an E-Verify employer. Learn more at jobs.pnnl.gov. _Please be aware that the Department of Energy (DOE) prohibits DOE employees and contractors from participation in certain foreign government talent recruitment programs. If you are offered a position at PNNL and are currently a participant in a foreign government talent recruitment program you will be required to disclose this information before your first day of employment._ Other Information Due to business needs and client space, US Citizenship is required:  The Pacific Northwest National Laboratory is subject to the Department of Energy Unclassified Foreign Visits & Assignment Program site, information, technologies, and equipment access requirements.  _Directorate:_ _National Security_  _Job Category:_ _Scientists/Scientific Support_  _Group:_ _Appld Stats & Comp Modeling_  _Opening Date:_ _2020-06-03_  _Closing Date:_ _2020-09-01_                                                                                                                                                                                                                                                                                                |\n",
            "|Work in a fast growing startup with unlimited opportunity and lots of room for growth and advancement. Were on a mission to simply residential real estate transactions nationwide by bringing world-class software, data science, and design to an age-old industry.  Were seeking an exceptional Data Scientist to join us in building data products at the core of the company. We build valuation models, predictive modeling infrastructure, and lead growth experiments. Day to day, its a mix of machine learning, crowdsourcing, exploratory data analysis, feature extraction, and software engineering.  As a Data Scientist you will: Improve our industry-leading home valuation model using millions of real-estate transactions and complementary datasets. Rapidly prototype features and predictive models. Build ML pipelines in production. Identify, research, and analyze new data sources to improve model accuracy. Become a domain expert in real-estate. Coordinate with product, engineering, and operations to understand impact and trade-offs of modeling improvements.  Were looking for teammates who bring: Commitment to rigorous analysis and production-quality code Passion for building solid data infrastructure A love of tackling complexity in real-world datasets such geo data and transaction data Experience in one of Python, R, Java, Scala, Julia; if R or Julia, candidate must be able to make algorithms scale Familiarity with basic classes of ML algorithms, concepts in feature extraction and selection Ability and desire to communicate your analysis with clarity and precision Resourcefulness and pragmatism Bonus points: Competition experience in data mining or machine learning You love delighting customers with honest, transparent products and experiences                                                                                                                                                                                                                                                                                                                                                                                                                                                                                                                                                                                                                                                                                                                                                                                                                                                                                                                                                                                                                                                                                                                                                                                                                                                                                                                                                                                                                                                                                                                                                                                                                                                                                                                                                                                                                                                                                                                                                                                                                                                                                                                                                                                                                                                                                                                                                                                                                                                                                                                                                                                                                                                                                                                                                                                                                                                                                                                                                                                                                                                                                                                                                                                                                                                                                                                                                                                                                                                                                                                                                                                                                                                                                                                                                                                                                                                                                                                                |\n",
            "|Solution IT Inc. is looking for an Data Scientist for one of its clients in Edison, NJ NC Job Title Data Scientist Responsibilities Must have recent 2-3 projects of Data Science experience. Should have experience with following skills Data Science Machine Learning Statistics Predictive Modeling Data Visualization Bachelorrsquos degree in Computer Science or Computer Information Systems or its equivalent with relevant experience Work Sites Edison, NJ NC Duration 6-9+ Months Expected Start Date Immediate Number of Positions 1 Please send your responses back to contractssolutionit.com mailtorecruitingsolutionit.com About Solution IT Solution IT is a national IT consulting company specializing in Technology Staffing and Oracle E-Business Solutions based in Boston, Massachusetts. Thanks Recruiting Team SOLUTION IT INC Work 781-503-1700 URL httpsolutionit.com httpsolutionit.com                                                                                                                                                                                                                                                                                                                                                                                                                                                                                                                                                                                                                                                                                                                                                                                                                                                                                                                                                                                                                                                                                                                                                                                                                                                                                                                                                                                                                                                                                                                                                                                                                                                                                                                                                                                                                                                                                                                                                                                                                                                                                                                                                                                                                                                                                                                                                                                                                                                                                                                                                                                                                                                                                                                                                                                                                                                                                                                                                                                                                                                                                                                                                                                                                                                                                                                                                                                                                                                                                                                                                                                                                                                                                                                                                                                                                                                                                                                                                                                                                                                                                                                                                                                                                                                                                                                                                                                                                                                                                                                                                                                                                                                                                                                                                                                                                                            |\n",
            "|Responsibilities   The Medical Laboratory Scientist is responsible for obtaining or receiving specimens, performing clinical laboratory tests by standardized procedures, understanding method principles, performing quality control, performing preventive maintenance, and interpreting results accurately, acceptably and within critical limits. The MLS works independently, organizing work to meet established deadlines and validates all data obtained.  Qualifications Bachelor's Degree: Baccalaureate Degree in Medical Technology, Clinical Laboratory Science, Medical Laboratory Science or related science (Required) Minimum of 1 year of experience Certification and Licensure Requirements. MLS (ASCP) (Preferred) 3p-1130p 2-Evening                                                                                                                                                                                                                                                                                                                                                                                                                                                                                                                                                                                                                                                                                                                                                                                                                                                                                                                                                                                                                                                                                                                                                                                                                                                                                                                                                                                                                                                                                                                                                                                                                                                                                                                                                                                                                                                                                                                                                                                                                                                                                                                                                                                                                                                                                                                                                                                                                                                                                                                                                                                                                                                                                                                                                                                                                                                                                                                                                                                                                                                                                                                                                                                                                                                                                                                                                                                                                                                                                                                                                                                                                                                                                                                                                                                                                                                                                                                                                                                                                                                                                                                                                                                                                                                                                                                                                                                                                                                                                                                                                                                                                                                                                                                                                                                                                                                                                                                                                                                                      |\n",
            "|We would ideally like this position to be based in Bethesda, MD or London, UK; however, remote opportunities are available based on experience. Position Summary As a Research Scientist, you will be an independent PI, with scientific and strategic responsibility for preference and/or multi-criteria decision analysis studies (MCDA) projects; delegating project management tasks to more junior scientific staff. You will oversee and participate in a large project portfolio, innovate scientifically, produces output of high scientific quality, and assume significant responsibilities for sales targets and client development. You would be joining a fast growing, successful team, operating at the cutting edge of the science of incorporating stakeholder preferences into health care decision making. We have developed an innovative, collaborative culture, aimed at developing and sharing good practice in preference research, both internally and externally. We are looking for someone who will thrive as a leading member of this team, shaping our science, and with the relationships and reputation to boost our sales. Key Skills and Attributes Deep and demonstrated understanding of preference elicitation techniques, such as discrete choice experiments (DCE), best-worst scaling (BWS), or swing weighting. Knowledge of relevant regulatory requirements and guidelines. Understanding of the pharmaceutical industry. Strong analytical and problem-solving skills Ability to direct large portfolio of projects in terms of dollar volume and number of projects. Able to provide oversight, management, and mentoring to more junior staff. Excellent ability to develop and maintain client relationships. Excellent written and oral communication skills: scientific, professional, and consulting. Ability to develop positive, collegial, and productive relationships with colleagues and clients. Excellent time management and logistic skills to be highly effective in fast-paced, deadline-driven work environment. Job Responsibilities Science Leads studies of high scientific quality, presenting scientific work in peer-reviewed journals and at professional meetings Provides scientific leadership to team members, and contributes to the development of the way that preference methods are delivered by the team. Strategy/Consulting Develops and maintains client relationships. Identifies scientific methods/plans that help clients meet their goals. Helps clients prepare for regulatory meetings and attend regulatory meetings with clients as requested. Financial & Business Development Brings in proposal leads. Writes proposals and managing proposal writing process. Closes sales. Project Management Responsible for ensuring client timelines are met. Responsible for ensuring project does not to exceed contracted budget. PCR Operations Support Supervises mid- level scientific staff. Develops and presents internal scientific trainings. Participates in staff recruitment efforts (phone screening, interviewing, attending presentations, etc.). Conforms to SOPs and other requirements. Actively supports new product development and scientific innovation. Education Level/Years of Experience Doctorate in scientific discipline and more than one year experience in relevant field; or Masters degree in scientific discipline and more than 5 years experience in relevant field Computer programming or software skills required for position MS Word, PPT, Excel; familiarity with SAS or similar data analysis software  About Evidera: Evidera is a business within in Pharmaceutical Product Development, LLC (PPD) a leading global contract research organization (CRO), and a is a preeminent provider of evidence-based solutions. We provide integrated scientific expertise and global operational capabilities to help clients generate the evidence needed to optimize the market access and commercial potential of products.  Perks: We offer a competitive salary and benefits package, with clear opportunities for growth and career progression. You will have the opportunity to work on multiple projects with some of the industrys leading researchers. Our offices boast a fun and collaborative working environment, frequent social events and a robust support system. We are committed to providing training and professional development, with ample opportunity to advance, for all our staff. Evideras Core Competencies: Customer Focus Initiative Teamwork Problem Solving/Judgment Accountability If you resonate with our core competencies and want to contribute to research and consulting services driven by world-class science and thought leadership, then please submit your application  wed love to hear from you. Evidera, Inc. provides equal employment opportunities (EEO) to all employees and applicants for employment without regard to race, color, religion, sex, national origin, age, genetics, sexual orientation, gender preference,disability, or status as a qualified individual with a disability or protected veteran.                                                                                                                                                                                                                                                                                                                                                                                                                                                                                                                                                           |\n",
            "|Please Apply using this link: https://app.smartsheet.com/b/form/2cb8018ed6a041b0870e3cd056c286ab Our Focus In aviation safety, we seek to minimize the potential for harm to the flying public. To support this effort, we collect vast amounts of operational and simulation data. How can we use statistical analyses and data science to analyze this data and effect meaningful change to aviation safety? If this sounds interesting to you, GGTI seeks a Data Scientist to join its Data Science & Analytics Team. Whats the Job?  Preprocessing, cleansing, and verifying integrity of data that can be provided as input for advanced analytics  Ad-hoc analysis and presentations of results for technical and non-technical audiences  Feature selection, model building and optimization using machine learning techniques  Building regression, classification, association models  Building anomaly detection systems About You You are an experienced Data Scientist with an advanced degree in a quantitative discipline. You will be able to discover information hidden in vast amounts of aviation data, including operation and simulated data, and provide recommendations to managements at various levels. Along with working with air traffic domain experts, you will be able to apply data mining techniques, perform statistical analyses, and build high quality predictive models and causal analyses of safety issues. You can analyze large, complex, multi-dimensional datasets with R and/or Python and Business Intelligence (BI) tools such as Tableau. In addition, you have some familiarity with SQL. What do you need to qualify?   10+ years of professional work experience in a quantitative field  A Ph.D. or Masters Degree in operations research, applied statistics, Computer Science (data mining, machine learning stream) or a related quantitative discipline  Deep understanding of statistical and predictive modeling concepts, machine-learning approaches, clustering and classification techniques, and recommendation and optimization algorithms  Excellent applied statistics skills, such as distributions, statistical testing, regression, etc.  Excellent understanding of common machine learning techniques and algorithms, such as K-means, k-NN, Bayesian Networks, SVM, Decision trees, ensemble methods etc.  Experience with common data science toolkits, such as Python, R, Weka, NumPy, MatLab, etc. Proficiency in at least one of these (preferably Python)  Experience with data visualization tools, such as D3.js, Tableau etc.  Experience with Amazon Web Services  Some experience with NoSQL databases, such as MongoDB, Cassandra, or HBase  Ability to pass a Federal Government background investigation to obtain a Public Trust clearance.  Current U.S. Citizen/Green Card-holder Stand-out Skills Deep learning with TensorFlow, Torch, or similar Spark, Hadoop, or similar SQL, Java or C/C++. Please Apply using this link: https://app.smartsheet.com/b/form/2cb8018ed6a041b0870e3cd056c286ab                                                                                                                                                                                                                                                                                                                                                                                                                                                                                                                                                                                                                                                                                                                                                                                                                                                                                                                                                                                                                                                                                                                                                                                                                                                                                                                                                                                                                                                                                                                                                                                                                                                                                                                                                                                                                                                                                                                                                                                                                                                                                                                                                                                                                                                                                                                                                                                                                                                                                                                                                                                                                                                                      |\n",
            "|Role Description As a data scientist at Triplebyte, youll have the opportunity to work on a variety of challenges to help us scale. You'll be part of a small team, who are leveraging data to fix technical hiring. Your day to day, will include a mix of dataset acquisition, statistical modeling, exploratory data analysis, and software engineering. Youll report directly to Triplebytes' Head of Machine Learning and will work alongside a team of 6-8 machine learning engineers and data scientists. Fields your work will touch on Psychometrics Recommender systems Time series analysis Survival analysis Bayesian inference Probabilistic programming This is an ideal role for a data scientist who wants the scope and responsibility to own features/products from the inception and research phase through to measuring real-world results.  About Triplebyte Triplebyte is a hiring marketplace used by companies like Apple, Dropbox, Stripe, and Instacart to hire the best technical talent. We are on a mission to build a meritocratic hiring process, and we do all our evaluation background blind. Our ultimate goal is to collect the largest dataset and use this to build the world's best technical hiring process. No other company has successfully done what we're doing in this field. We are growing extremely quickly, working on a problem that is fundamental, sitting at the crossroads between the workforce and employers. Ten years from now, it'll look silly to use anything other than Triplebyte for technical hiring. Company Culture We have a laid-back, friendly office culture. Over lunch you'll often find us discussing the latest in technology, books, and pop culture, and then maybe getting in a quick game of chess or babyfoot (foosball). Since we're an early-stage company, we move fast, and it's important that each member of our team is able to take ownership of projects by defining problems, brainstorming solutions, and running experiments.                                                                                                                                                                                                                                                                                                                                                                                                                                                                                                                                                                                                                                                                                                                                                                                                                                                                                                                                                                                                                                                                                                                                                                                                                                                                                                                                                                                                                                                                                                                                                                                                                                                                                                                                                                                                                                                                                                                                                                                                                                                                                                                                                                                                                                                                                                                                                                                                                                                                                                                                                                                                                                                                                                                                                                                                                                                                                                                                                                                                                                                                                                                                                                                                                                                                                                                                                                                                                                                                                                                                                                                                                                                                                                                                      |\n",
            "|Building Bridges, Moving Ahead Work hard. Play hard. Breathe Easy. Thats a nutshell description of the professionals who thrive at Resurgent. Regardless of their position, our people are ambitious and entrepreneurial, attracted to the fresh point-of-view of an evolving, growing company. They are personable and patient, attracted to the collaborative nature of our company. And they are centered, understanding the balance needed to achieve success at work and harmony at home.  As a Data Engineer, you will be responsible for all aspects of the software development lifecycle, including design, coding, integration testing, deployment and documentation. You will create and maintain new data applications relying heavily on experience and judgment to plan and accomplish goals. Prior experience designing and developing production solutions is expected. Design & Develop custom data warehouse solutions that enable leadership and general users to make informed data driven decisions and address the high demand for data availability in the enterprise. Responsible for creating work estimates, technical project plans, and implementation plans Research emerging development technologies, products, and processes Work collaboratively within an agile project team Follow best practices and coding standards Grow your personal skillset as well as the skills of the team  Qualifications/Skills: Experience designing data warehouse solutions with strong working SQL knowledge Knowledge of databases, data structures, data management, and data manipulation Experience creating data models, and data pipelines for acquisition, cleansing, and integration Proficient with Microsoft SQL Server Experience with C# and/or PowerShell Familiar with distributed architecture a plus Demonstrated experience in IT concepts and practices Understands and has used software development lifecycles Experience working in a team-oriented, collaborative environment Good communication skills with a customer support orientation Excellent problem-solving skills Familiar with application lifecycle management tools and source control  Additional Desired Skills: SSIS or equivalent ETL tool Azure / AWS R or Python  Educational Requirements: College degree preferred; or a combination of education and experience We would be honored if you applied to join our team! We are an equal opportunity employer,offering a fantastic work environment, challenging career opportunities and competitive compensation.                                                                                                                                                                                                                                                                                                                                                                                                                                                                                                                                                                                                                                                                                                                                                                                                                                                                                                                                                                                                                                                                                                                                                                                                                                                                                                                                                                                                                                                                                                                                                                                                                                                                                                                                                                                                                                                                                                                                                                                                                                                                                                                                                                                                                                                                                                                                                                                                                                                                                                                                                                                                                                                                                                                                                                                                                                                                                                                                                                                                                                                                                                                                                                                 |\n",
            "|Responsibilities Analyze large datasets to glean actionable insights and identify emerging opportunities Create metrics to measure the success of products, services, and features. Use data mining and machine learning skills to design and develop products which drive engagement, growth, retention, and monetization. Develop and deploy scalable classification, regression, ranking, and optimization algorithms. Work with data engineers and other stakeholders in data products pipeline to enable automation of the data-driven products. Communicate both routine and ad-hoc data analysis results in a clear, insightful and actionable way. Minimum Qualifications  BA/BS in Statistics, Computer Science, Math or other related technical fields. 2+ years prior research, data science, or engineering experience in building and implementing recommender systems, machine learning models/algorithms, etc. Excellent programming skills - ability to prototype effective simple or complex algorithms and collaborate with engineering team to implement them in the production system Familiarity with or willingness to learn large-scale distributed computing tools (Hadoop, Hive, etc.) Preferred Qualifications  PhD or MSc degrees in Statistics, Computer Science, Math or other related technical field.  Proficient in R or Python.  Familiar with or have contributed to open source machine learning tools/platforms. First author publications in top-tier conferences or journals. Powered by JazzHR                                                                                                                                                                                                                                                                                                                                                                                                                                                                                                                                                                                                                                                                                                                                                                                                                                                                                                                                                                                                                                                                                                                                                                                                                                                                                                                                                                                                                                                                                                                                                                                                                                                                                                                                                                                                                                                                                                                                                                                                                                                                                                                                                                                                                                                                                                                                                                                                                                                                                                                                                                                                                                                                                                                                                                                                                                                                                                                                                                                                                                                                                                                                                                                                                                                                                                                                                                                                                                                                                                                                                                                                                                                                                                                                                                                                                                                                                                                                                                                                                                                                                                                                                                                                                           |\n",
            "|Job Description Working at Sophinea  Sophinea is looking for individuals who are passionate about data and want to join a growing company that is intently focused on bringing clarity to data for our clients. At Sophinea, we use data to support complex programs and missions of global significance. As an employee you will have the opportunity to contribute to our clients' success through applying your knowledge in Technology and Business Consulting to design data solutions that empower our clients to make data-driven decisions. If you have a passion for data and thrive on delivering highly valued solutions, Sophinea is the company for you!  Citizenship Requirement  Must be a United States citizen with an Active Secret Security Clearance  Position Overview  Sophinea is seeking a Data Scientist to join our team who has a passion for deriving meaningful insight from raw, complex data sets.  This role provides the opportunity to leverage experience in multiple facets of data science - from developing data models to delivering visualizations that enable business leaders to gain deep insight to the health of the program and identify potential areas for growth.  This position is a hybrid role that will enable you to work across several different teams, each having unique use cases for data reporting and visualization. Additionally, you will have the opportunity to work closely with the Program Management team to analyze data and report results directly to Senior Executives.  Responsibilities Analyze highly complex business requirements and generate technical specifications to design or redesign interactive dashboards for internal and external users Gain a deep understanding of key business and data requirements to design and develop dashboards, data visualizations, and complex reports Define, execute, and interpret complex/nested data models and queries Establish standards and best practices for dashboards and related technologies Manage a repository of re-usable data visualization templates and views Support activities to document, evolve, and communicate data models and visualizations Implement row-level security for embedded reporting Qualifications Bachelor's degree in a technical field such as computer science, computer engineering, or related field required 2-5 years experience required Experience in designing, developing, and successfully deploying large scale projects from end-to-end Experience with relational databases, specifically SQL, and non-SQL and big-data technologies Experience consolidating information from various data sources Experience working with multiple datasets with a high degree of complex relationships Experience supporting numerous Business Management reports and dashboards using data visualization tools Education  Bachelors in Computer Science, Engineering or a related field.                                                                                                                                                                                                                                                                                                                                                                                                                                                                                                                                                                                                                                                                                                                                                                                                                                                                                                                                                                                                                                                                                                                                                                                                                                                                                                                                                                                                                                                                                                                                                                                                                                                                                                                                                                                                                                                                                                                                                                                                                                                                                                                                                                                                                                                                                                                                                                                                                                                                                                                                                                                                                                                                                                                                                                                                 |\n",
            "|Acuity is seeking a Senior Research Statistician- Data Scientist to use statistical knowledge and research skills to solve business problems. The Research Statistician will develop, implement, and interpret statistical models with a strong emphasis on data mining and statistical/predictive modeling. Provides work direction. ESSENTIAL FUNCTIONS: Identifies and acquires additional data sources, both internal and external, that can be used to enhance analyses. Lead the development of analytical models to drive superior business outcomes. Develop in-depth understanding of drivers for optimization by utilizing statistics and data mining techniques. Using latest PC tools, develop, enhance and monitor reports and models for other business areas. Evaluate and use Data Mining Tools. Support, train, encourage, consult other areas in the company and provide actionable information to management. Continually monitor database information and future needs. Explore and acquire data from outside sources. Use database tools to support other departments Regular and predictable attendance. Perform other duties as assigned. EDUCATION: Masters/PhD in Statistics, Mathematics, Economics, Operations Research or Computer Science EXPERIENCE: 5 years P&C insurance, modelling and project leader experience. Programming skills including SAS and R. OTHER QUALIFICATIONS: Strong interpersonal, quantitative, problem-solving, computer and conceptual skills. Aptitude in predictive modeling, multivariate analysis, statistical modeling, data mining techniques and mathematical statistics. Ability to apply strong programming and data management skills. Knowledge of and experience with at least one major computer programming language or advanced syntax in a major statistical package. This job is classified as exempt.                                                                                                                                                                                                                                                                                                                                                                                                                                                                                                                                                                                                                                                                                                                                                                                                                                                                                                                                                                                                                                                                                                                                                                                                                                                                                                                                                                                                                                                                                                                                                                                                                                                                                                                                                                                                                                                                                                                                                                                                                                                                                                                                                                                                                                                                                                                                                                                                                                                                                                                                                                                                                                                                                                                                                                                                                                                                                                                                                                                                                                                                                                                                                                                                                                                                                                                                                                                                                                                                                                                                                                                                                                                                                                                                                                                                                                                                                  |\n",
            "|Data Analyst Location   Boston  Business Function   Portfolio Services  Apply Now  Job Description:   Enterprise Data Support Services is a newly formulated centralized group that is going to play a pivotal role in building the next generation of tools and platforms to address the data needs for end users and applications through the creation, maintenance and use of an Enterprise level data platform. This platform is being built to not only support data but also provide capabilities of centralized calculation engines for data accuracy and data consistency. This position reports into the Manager of Enterprise Data Support Services as part of the organization under the Chief Data Officer.  The Data Analyst will serve as a flexible generalist by providing data analysis and analytical insight based on the requests from Investment and Business Development teams. The individual will utilize data analysis tools such as Excel, SQL, R or Python to collate data from various sources, analyze the information and provide insights and analysis to the requesting teams. In conjunction with IT, the individual will verify any new data being added to the Central Data Repository to sign-off on data completeness and accuracy from a business domain perspective.  Principal Duties : Work with investment teams to understand their data needs and translate them into a process to collate and analyze data to provide insights Use statistical models and industry recognized investment data calculation methodologies to perform various data analytics in SQL and MS Excel Exercise relational database knowledge to construct and execute SQL queries to be used in data analysis activities Use other tools such as R and Python to manipulate data to address the information needs across the organization Build and maintain strong relationships across the firm to understand CAs business goals and prepare for the organizations evolving data needs Contribute to additional projects where relevant domain or data analysis expertise is needed Qualifications:   Bachelors Degree, with preference to Data Analytics, Information Systems, or Mathematics Demonstrated skill in SQL usage as part of data analysis Working knowledge of R or Python is desirable Working knowledge of relational database design concepts Demonstrated track record of working autonomously in a highly-productive environment, executing with comfort in gray areas, and executing across multiple competing deadlines with fast-paced delivery targets Excellent organizational, written and verbal communication skills Willingness to learn and embrace a jack of all trades mentality to build expertise and data depth across the entire Enterprise Data Support Services product suite Demonstrated progression towards CIPM, CFA, and/or CAIA certification is a big plus Direct experience integrating data from multiple sources such as client, fund, and market data domains strongly preferred                                                                                                                                                                                                                                                                                                                                                                                                                                                                                                                                                                                                                                                                                                                                                                                                                                                                                                                                                                                                                                                                                                                                                                                                                                                                                                                                                                                                                                                                                                                                                                                                                                                                                                                                                                                                                                                                                                                                                                                                                                                                                                                                                                                                                                                                                                                                                                                                                                                                                                                                                                                                                                                                                                         |\n",
            "|Join our Intelligent Systems Division to serve as a software developer and researcher on a team developing software solutions in technology areas such as Intelligent Transportation Systems (ITS), Integrated Corridor Management Systems (ICMS), and Decision Support Systems (DSS). Utilize advanced data analytics techniques and enterprise data infrastructure skills in state-of-the-art software development environments. Perform in all phases of the development lifecycle, including requirements definition, software/systems design, implementation, testing, and integration. Initiate advanced research and development programs, interact with clients, and make technical presentations.   Education/Experience:   Requires a BS degree in Software Engineering, Computer Engineering or Computer Science or related with 0-5 years of experience. Must have at least a 3.0 GPA. Must have an emphasis on software development and systems engineering and exposure to object-oriented programming (programming languages such as, but not limited to, C++, C#, Java). Applicable internships or education experience is required. Education and/or experience involving .NET, C#, Java, Python, Git, Microsoft SQL Server, Windows, Linux, Docker, Kubernetes, Redis, Elastic Stack, TypeScript, HTML, CSS, Angular, Kafka is preferred. Excellent interpersonal skills and the ability to work well individually and as a member of a project team are required. Excellent written and verbal communication skills required. A valid/clear driver's license is required.   Special Considerations:   Applicant selected will be subject to a government security investigation and must meet eligibility requirements for access to classified information. Applicant must be a U.S. citizen.  Job Locations: San Antonio, Texas   For more information about this division, visit the Intelligent Systems home page.  An Equal Employment Opportunity/Affirmative Action Employer Race/Color/Religion/Sex/Sexual Orientation/Gender Identity/National Origin/Disabled/Veteran Committed to Diversity in the Workplace                                                                                                                                                                                                                                                                                                                                                                                                                                                                                                                                                                                                                                                                                                                                                                                                                                                                                                                                                                                                                                                                                                                                                                                                                                                                                                                                                                                                                                                                                                                                                                                                                                                                                                                                                                                                                                                                                                                                                                                                                                                                                                                                                                                                                                                                                                                                                                                                                                                                                                                                                                                                                                                                                                                                                                                                                                                                                                                                                                                                                                                                                                                                                                                                                                                                                                                                                                                                                                                                                                                                                                                                                      |\n",
            "|Join our team dedicated to developing and executing innovative solutions in support of customer mission success.  Job Description:  Novetta is seeking a skilled Data Science Instructor to support a fast paced, innovative project supporting our client in the field of data science and AI/Machine Learning.  Basic Qualifications: SME skill level 15+ years of experience in data science or a related field Ability to become familiar with current client priorities, programs and issues in order to adapt training programs to reflect changes in client mission, structure, regulations, or processes. Excellent oral, written, and interpersonal communication skills Outstanding facilitation skills to manage group processes and elicit student participation Analytic and problem-solving skills Demonstrated ability to apply structured analysis methods to various types of data to establish trends, determine variability, and diagnose the effect on training curricula. Ability to work independently and as part of a team Security Clearance: An active TS/SCI w/Poly clearance  Novetta, from complexity to clarity.  Novetta delivers highly scalable advanced analytics and secure technology solutions to address challenges of national and global significance. Focused on mission success, Novetta pioneers disruptive technologies in machine learning, data analytics, full-spectrum cyber, cloud engineering, open source analytics, and multi-INT fusion for Defense, Intelligence Community, and Federal Law Enforcement customers. Novetta is headquartered in McLean, VA with over 1,000 employees across the U.S.   Our culture is shaped by a commitment to our core values:  Integrity  We hold ourselves accountable to the highest standards of integrity and ethics.  Customer Success  We strive daily to exceed expectations and achieve customer mission success.  Employee Focus  We invest in our employees' professional development and training, respecting individuality, and fostering a culture of diversity and inclusion.  Innovation  We know that discovering new and innovative ways to solve problems is critical to our success and makes us a great company.  Excellence in Execution  We take pride in flawless execution as we build a company that is best in class.   Earn a REFERRAL BONUS for the qualified people you know. For more details or to submit a referral, visit bit.ly/NovettaReferrals.  Novetta is an equal opportunity/affirmative action employer. All qualified applicants will receive consideration for employment without regard to sex, gender identity, sexual orientation, race, color, religion, national origin, disability, protected veteran status, age, or any other characteristic protected by law.                                                                                                                                                                                                                                                                                                                                                                                                                                                                                                                                                                                                                                                                                                                                                                                                                                                                                                                                                                                                                                                                                                                                                                                                                                                                                                                                                                                                                                                                                                                                                                                                                                                                                                                                                                                                                                                                                                                                                                                                                                                                                                                                                                                                                                                                                                                                                                                                                                                                                                                                                                                                                                                                                                                                                                                                                                                                                                                                                       |\n",
            "|Benson Hill empowers innovators to develop more healthy, tasty and sustainable food by unlocking the natural genetic diversity of plants. Benson Hill's CropOS platform combines machine learning and big data with breeding techniques and plant biology to drastically accelerate and simplify the product development process. This platform allows for cost-effective and more efficient ways for companies to analyze and make improvements in plant genetics. Benson Hill brings a unique and holistic approach to our product and platform development, as we span a broader workflow involving trait and seed development, genome editing, and breeding all the way to creating better ingredients and varieties that tap a strong consumer demand for more flavorful and nutritious fruits and vegetables. More information can be found online at www.bensonhill.com. Follow us on Twitter at @BensonHillInc.  Our Purpose and Core Values  Our Core Values are a set of common principles we share that are fundamental to our company's identity. Be Bold! We redefine boundaries by providing new solutions to difficult problems. Together we are driven to transform the future and will not allow the fear of failure to prevent us from innovating. We voice our opinions, embrace change, and challenge each other to think creatively. Be Inspired! We redefine boundaries by providing new solutions to difficult problems. Together we are driven to transform the future and will not allow the fear of failure to prevent us from innovating. We voice our opinions, embrace change, and challenge each other to think creatively. Be Real! We understand who we are, what we want to achieve, and what it takes to get there. We hold each other accountable through timely, candid, and well-intentioned feedback. Together we engage in honest communication and healthy debate that leads to success through true alignment. Department Overview  The Data Science & Platform Engineering Department leads the development of Benson Hill's crop design platform, CropOS which combines machine learning and big data with genome editing and plant biology to accelerate and simplify the product development process. The team partners with the Research & Development teams on the development of a portfolio of offerings (commercial, product, or platform related) that meet the needs of Benson Hill's business units.  Position Summary  We are actively seeking a Senior Data Scientist to join our rapidly growing Research and Development Department. The successful candidate will be responsible for developing and implementing environmental and geospatial models enabling field experimental design and optimization of product performance across testing environments. This person will work closely with Benson Hill data engineers, scientists and project leaders to maximize the impact of Benson Hill's product development programs.  You Will:  (Essential Duties and Responsibilities) Develop and refine geospatial data analysis, storage, and modeling systems. Conduct independent analyses of performance and use advanced approaches to identify predictive models in a geospatial framework. Participate in the design of hypothesis-driven experiments and analyses. Perform spatial and statistical analysis on experimental outputs and interpret results Communicate results in written and visual formats to scientists and program leaders. Identify opportunities for model enhancements and opportunities for new models to create value in the product discovery and testing pipeline. You Have:  Education PhD preferred (minimum BS plus 4 years' experience), in applied mathematics, physics, engineering, statistics, ecology, or closely related field with formal training in statistics and experimental design, with demonstrable track record of peer-reviewed publications. Experience Demonstrated enthusiasm for data-driven discovery. Experience with geospatial analyses, modeling, and interactive system development. Highly developed ability to identify and evaluate predictive models and their utility. Experience with machine learning and statistical concepts, packages and libraries. Background and experience analyzing data with Python, R, or Julia. Expert with at least one scripting language, Python or R preferred. Ability to work in collaborative team, and the ability to respond positively to critiques of work. Excellent communication skills, both electronic and in-person. A track record of producing deliverables and meeting tight release deadlines. Ability to work autonomously, identify key tasks, and find solutions to challenges. Experience organizing and planning complex projects Strong record of personal development and learning new technologies. Software/Skillset Strong understanding of scientific concepts, approaches, application, and interpretation. Demonstrated experience with common machine learning approaches, statistics, geospatial and command line (e.g. R) applications. Other Attention to detail Strong Customer Focus Collaborative Ability to focus and work independently with little direction We have a Total Rewards Package at Benson Hill that consists of more than just your paycheck. Total Rewards at Benson Hill covers Pay (salary and bonus), Health (employer benefit contributions) and Wealth (investments). Some of the perks include: A Collaborative Environment A flexible PTO program with a focus on work/life balance Competitive medical benefits and retirement savings plan FREE Dental and Vision Coverage Education reimbursement PAID parental leave And more.|\n",
            "|The work is in support of targeting and watchlisting operations, and specifically document and media exploitation.  Handles raw data (e.g. structured, unstructured, and mixed datasets), and analyzes data through the application of various statistical techniques or tools. Familiar with programming languages such as, but not limited to: R, SAS, Python, MatLab, SQL, Hive, Pig, and Spark. Experienced in working with and exploiting big data; distributed computing; predictive modelling; mathematics; statistics; machine learning; story-telling; and visualization. Demonstrates ability to extract meaning from and interpret data using a variety of tools and methods from statistics and machine learning. Ability to collect, clean, and mung data in a timely manner as part of a cross-functional team in an intelligence, or related, environment. Possesses strong working knowledge of the Microsoft Office suite, including Access, Excel, PowerPoint, Project, Visio, and Word.  Required Education: Associates and 6 years; or Bachelors and 4 years; or Masters and 2 years. Required Experience: Experience with programming languages such as, but not limited to: R, SAS, Python, MatLab, SQL, Hive, Pig, and Spark. Experiece with using the Microsoft Office suite, including Access, Excel, PowerPoint, Project, Visio, and Word. Required Clearance: TS/SCI Desired Qualifications: Homeland security knowledge and experience. About Aveshka: Aveshka is a professional services firm focused on addressing our nations most complex threats and challenges. As a small business were committed to supporting our clients missions with services delivered by our diverse and experienced staff. With expertise in cybersecurity, emergency preparedness, and public health, our experience base spans federal, state, and local governments, as well as private sector entities. Aveshka encourages collaborative communication and ongoing learning. Some of our benefits include: Extensive training programs Gym membership reimbursement Education reimbursement Technology benefits Commuter benefits Generous paid time off and much more! Aveshka is an Equal Opportunity Employer (EOE)                                                                                                                                                                                                                                                                                                                                                                                                                                                                                                                                                                                                                                                                                                                                                                                                                                                                                                                                                                                                                                                                                                                                                                                                                                                                                                                                                                                                                                                                                                                                                                                                                                                                                                                                                                                                                                                                                                                                                                                                                                                                                                                                                                                                                                                                                                                                                                                                                                                                                                                                                                                                                                                                                                                                                                                                                                                                                                                                                                                                                                                                                                                                                                                                                                                                                                                                                                                                                                                                                                                           |\n",
            "|You are key to helping global clients make better decisions based on data analytics.  As a data scientist at Gallup, you will apply your knowledge of statistical and machine-learning techniques to a wide variety of challenging projects customized to our clients complex global research. Working on the biggest stage for researchers, youll explain and predict large-scale social behavior (e.g., consumer spending, lifestyle trends, political stability, election outcomes, and employee performance and retention) using data from Gallup, the web, third parties (e.g., governments, IGOs and NGOs) and our clients. We will count on your expertise with parametric, nonparametric, linear, and nonlinear methods as well as feature selection and variable transformation. And we will depend on your ability to translate data for clients in a comprehensible way.  Gallups unique data give you an unparalleled opportunity to use your creativity to explore new avenues of social research. If you are passionate about using data to solve the worlds most pressing problems, join Gallup  the company that established the gold standard in survey research methodology.  Who we want: Analytical thinkers who use their research talents to provide critical insights in advanced analytics for the growing needs of global organizations Curious researchers who apply their instincts and expertise to discover breakthroughs that are key to clients growth Sophisticated communicators who can easily explain complex technical material to nontechnical audiences Self-motivated professionals who can manage multiple projects, set a standard of excellence, and consistently deliver exceptional results Data experts who excel at building predictive models using various data sources and techniques to inform business decisions Mission-driven scientists who are motivated to solve the worlds most pressing problems What you need: Masters degree required. Degree from a statistics, engineering, mathematics, computer science, computational social science, physics, or operations research program preferred. Ph.D. a plus. At least six years of professional work experience conducting analysis and writing code in Python and R required. A deep understanding of the mathematical fundamentals of machine learning and statistics, with an emphasis on nonparametric and nonlinear methods (e.g., random forests, support vector machines, neural networks) required Previous work experience with survey design, sampling, weighting, item nonresponse, imputation and other survey research concepts and challenges preferred Must be currently authorized to work in the United States on a full-time basis What we offer: A strengths-based, engagement-focused, and performance-oriented culture A flexible work environment World-class managers who support, empower, and engage you Ongoing learning and development opportunities Mission-driven work that changes the lives of people around the world Gallup is an equal opportunity/affirmative action employer that celebrates, supports, and promotes diversity and inclusion. We will consider all qualified applicants without regard to race, color, religion, sex, national origin, disability, protected veteran status, sexual orientation or gender identity, or any other legally protected basis, in accordance with applicable law.                                                                                                                                                                                                                                                                                                                                                                                                                                                                                                                                                                                                                                                                                                                                                                                                                                                                                                                                                                                                                                                                                                                                                                                                                                                                                                                                                                                                                                                                                                                                                                                                                                                                                                                                                                                                                                                                                                                                                                                                                                                                                                                                                                                                                                                                                                    |\n",
            "+----------------------------------------------------------------------------------------------------------------------------------------------------------------------------------------------------------------------------------------------------------------------------------------------------------------------------------------------------------------------------------------------------------------------------------------------------------------------------------------------------------------------------------------------------------------------------------------------------------------------------------------------------------------------------------------------------------------------------------------------------------------------------------------------------------------------------------------------------------------------------------------------------------------------------------------------------------------------------------------------------------------------------------------------------------------------------------------------------------------------------------------------------------------------------------------------------------------------------------------------------------------------------------------------------------------------------------------------------------------------------------------------------------------------------------------------------------------------------------------------------------------------------------------------------------------------------------------------------------------------------------------------------------------------------------------------------------------------------------------------------------------------------------------------------------------------------------------------------------------------------------------------------------------------------------------------------------------------------------------------------------------------------------------------------------------------------------------------------------------------------------------------------------------------------------------------------------------------------------------------------------------------------------------------------------------------------------------------------------------------------------------------------------------------------------------------------------------------------------------------------------------------------------------------------------------------------------------------------------------------------------------------------------------------------------------------------------------------------------------------------------------------------------------------------------------------------------------------------------------------------------------------------------------------------------------------------------------------------------------------------------------------------------------------------------------------------------------------------------------------------------------------------------------------------------------------------------------------------------------------------------------------------------------------------------------------------------------------------------------------------------------------------------------------------------------------------------------------------------------------------------------------------------------------------------------------------------------------------------------------------------------------------------------------------------------------------------------------------------------------------------------------------------------------------------------------------------------------------------------------------------------------------------------------------------------------------------------------------------------------------------------------------------------------------------------------------------------------------------------------------------------------------------------------------------------------------------------------------------------------------------------------------------------------------------------------------------------------------------------------------------------------------------------------------------------------------------------------------------------------------------------------------------------------------------------------------------------------------------------------------------------------------------------------------------------------------------------------------------------------------------------------------------------------------------------------------------------------------------------------------------------------------------------------------------------------------------------------------------------------------------------------------------------------------------------------------------------------------------------------------------------------------------------------------------------------------------------------------------------------------------------------------------------------------------------------------------------------------------------------------------------------------------------------------------------------------------------------------------------------------------------------------------------------------------------------------------------------------------------------------------------------------------------------------------------------------------------------------------------------------------------+\n",
            "only showing top 20 rows\n",
            "\n"
          ]
        }
      ]
    },
    {
      "cell_type": "markdown",
      "source": [
        "He decidido limpiar los siguientes caracteres para tener el texto limpio de Job Description:\n",
        "\n",
        "- caracteres no ASCII\n",
        "\n",
        "- asteriscos (*)\n",
        "\n",
        "- saltos de línea (\\n)\n",
        "\n",
        "La salida nos muestra texto limpio y sin caracteres raros"
      ],
      "metadata": {
        "id": "pAXngXBhNyKS"
      }
    },
    {
      "cell_type": "markdown",
      "metadata": {
        "application/vnd.databricks.v1+cell": {
          "cellMetadata": {},
          "inputWidgets": {},
          "nuid": "63b8b421-3881-4bae-95c0-b79a37422e48",
          "showTitle": false,
          "tableResultSettingsMap": {},
          "title": ""
        },
        "id": "MuUN4YXEwcxr"
      },
      "source": [
        "12. De la columna `Rating` muestre los valores unicos."
      ]
    },
    {
      "cell_type": "code",
      "source": [
        "df.select(\"Rating\").distinct().show(truncate=False)\n",
        "\n",
        "df.select(\"Rating\").distinct().count()\n"
      ],
      "metadata": {
        "id": "alWYK3ZLN7kZ",
        "colab": {
          "base_uri": "https://localhost:8080/"
        },
        "outputId": "4de4aae2-b33e-4e88-b7a2-5b13110fa151"
      },
      "execution_count": 21,
      "outputs": [
        {
          "output_type": "stream",
          "name": "stdout",
          "text": [
            "+------+\n",
            "|Rating|\n",
            "+------+\n",
            "|49.0  |\n",
            "|29.0  |\n",
            "|38.84 |\n",
            "|47.0  |\n",
            "|42.0  |\n",
            "|44.0  |\n",
            "|35.0  |\n",
            "|39.0  |\n",
            "|37.0  |\n",
            "|34.0  |\n",
            "|25.0  |\n",
            "|36.0  |\n",
            "|41.0  |\n",
            "|23.0  |\n",
            "|50.0  |\n",
            "|45.0  |\n",
            "|31.0  |\n",
            "|21.0  |\n",
            "|48.0  |\n",
            "|22.0  |\n",
            "+------+\n",
            "only showing top 20 rows\n",
            "\n"
          ]
        },
        {
          "output_type": "execute_result",
          "data": {
            "text/plain": [
              "32"
            ]
          },
          "metadata": {},
          "execution_count": 21
        }
      ]
    },
    {
      "cell_type": "markdown",
      "source": [
        "Se da una muestra de 20 pero se ve que hay 32 valores distintos"
      ],
      "metadata": {
        "id": "bjOAenyYODx4"
      }
    },
    {
      "cell_type": "markdown",
      "metadata": {
        "application/vnd.databricks.v1+cell": {
          "cellMetadata": {},
          "inputWidgets": {},
          "nuid": "fd85fcdd-3514-4ad2-ab52-d1f21b825f5b",
          "showTitle": false,
          "tableResultSettingsMap": {},
          "title": ""
        },
        "id": "ouzdiZ5ywcxs"
      },
      "source": [
        "13. Del campo `Rating` reemplazar los `-1.0` por `0.0`."
      ]
    },
    {
      "cell_type": "markdown",
      "source": [
        "Este apartado ya lo hice arriba, y decidí cambiar los valores -1 (que serían vacíos) por el valor medio de las valoraciones. Por lo que no va a ser muy eficiente esta ejecución, pero el código correspondiente sería el siguiente:\n"
      ],
      "metadata": {
        "id": "38tlf6qcIADl"
      }
    },
    {
      "cell_type": "code",
      "source": [
        "df = df.withColumn(\"Rating\", F.regexp_replace(F.col(\"Rating\"), \"-1.0\", \"0.0\"))\n",
        "\n",
        "df.select(\"Rating\").show(truncate=False)"
      ],
      "metadata": {
        "id": "4cy0NZlQIQdz",
        "colab": {
          "base_uri": "https://localhost:8080/"
        },
        "outputId": "642472eb-a699-4eb6-8e7f-60c1aa4d51b5"
      },
      "execution_count": 22,
      "outputs": [
        {
          "output_type": "stream",
          "name": "stdout",
          "text": [
            "+------+\n",
            "|Rating|\n",
            "+------+\n",
            "|35.0  |\n",
            "|38.84 |\n",
            "|49.0  |\n",
            "|37.0  |\n",
            "|38.84 |\n",
            "|44.0  |\n",
            "|35.0  |\n",
            "|38.0  |\n",
            "|44.0  |\n",
            "|32.0  |\n",
            "|44.0  |\n",
            "|41.0  |\n",
            "|38.84 |\n",
            "|48.0  |\n",
            "|31.0  |\n",
            "|39.0  |\n",
            "|45.0  |\n",
            "|35.0  |\n",
            "|38.0  |\n",
            "|41.0  |\n",
            "+------+\n",
            "only showing top 20 rows\n",
            "\n"
          ]
        }
      ]
    },
    {
      "cell_type": "markdown",
      "metadata": {
        "application/vnd.databricks.v1+cell": {
          "cellMetadata": {},
          "inputWidgets": {},
          "nuid": "fd30cd0d-46a3-4f2f-84f8-4c7e81d7d3ee",
          "showTitle": false,
          "tableResultSettingsMap": {},
          "title": ""
        },
        "id": "MTCDjCJLwcxs"
      },
      "source": [
        "14. Mostrar los valores unicos y ordenar los valores del campo `Company Name`."
      ]
    },
    {
      "cell_type": "code",
      "source": [
        "df.select(\"Company name\").distinct().orderBy(F.col(\"Company name\")).show(truncate=False)"
      ],
      "metadata": {
        "id": "4X718iGFOyHI",
        "colab": {
          "base_uri": "https://localhost:8080/"
        },
        "outputId": "5fb33d5b-9ab4-4381-949c-0ade60e56a48"
      },
      "execution_count": 23,
      "outputs": [
        {
          "output_type": "stream",
          "name": "stdout",
          "text": [
            "+---------------------------------+\n",
            "|Company name                     |\n",
            "+---------------------------------+\n",
            "|0                                |\n",
            "|1 to 50 employees                |\n",
            "|1-800-Flowers\\n2.7               |\n",
            "|10000+ employees                 |\n",
            "|1001 to 5000 employees           |\n",
            "|1010data\\n3.1                    |\n",
            "|1904labs\\n4.7                    |\n",
            "|201 to 500 employees             |\n",
            "|22nd Century Technologies\\n3.7   |\n",
            "|5001 to 10000 employees          |\n",
            "|501 to 1000 employees            |\n",
            "|51 to 200 employees              |\n",
            "|7Park Data\\n3.9                  |\n",
            "|A Place for Mom\\n2.7             |\n",
            "|A-Line Staffing Solutions\\n4.1   |\n",
            "|ABIOMED\\n4.1                     |\n",
            "|ALTA IT Services\\n3.9            |\n",
            "|ASRC Federal Holding Company\\n3.4|\n",
            "|AccessHope                       |\n",
            "|Acuity Insurance\\n4.8            |\n",
            "+---------------------------------+\n",
            "only showing top 20 rows\n",
            "\n"
          ]
        }
      ]
    },
    {
      "cell_type": "markdown",
      "source": [
        "Vemos que en el campo Company Name hay muchos datos incorrectos, por lo que en la siguiente ejecución voy a hacer una limpieza de esos datos"
      ],
      "metadata": {
        "id": "j-C3-oaDO9An"
      }
    },
    {
      "cell_type": "markdown",
      "metadata": {
        "application/vnd.databricks.v1+cell": {
          "cellMetadata": {},
          "inputWidgets": {},
          "nuid": "bd2e2a45-3570-49a6-823c-882f5714a647",
          "showTitle": false,
          "tableResultSettingsMap": {},
          "title": ""
        },
        "id": "bf1NOX9Rwcxs"
      },
      "source": [
        "15. Quitar todos los caracteres innecesarios que encuentres en el campo `Company Name`. Por ejemplo los saltos de linea `\\n`"
      ]
    },
    {
      "cell_type": "markdown",
      "source": [
        "Primero vamos a empezar limpiando aquellos datos que sean del tipo: *1 to n employees*. Después vamos a eliminar aquellos en los que el valor sea 0 y luego vamos a eliminar los saltos de línea (\"\\n\")"
      ],
      "metadata": {
        "id": "VAfI5KQjPicq"
      }
    },
    {
      "source": [
        "# Paso 1: Filtrar filas donde 'Company Name' sea del tipo \"n to n employees\"\n",
        "df_cleaned = df_cleaned.withColumn(\"Company Name\", F.regexp_replace(col(\"Company Name\"), r\"\\d+\\s+to\\s+\\d+\\s+employees\", \"Unknown\"))\n",
        "\n",
        "# Paso 2: Filtrar filas donde 'Company Name' sea \"0\"\n",
        "df_cleaned = df_cleaned.filter((col(\"Company Name\") != \"0\"))\n",
        "\n",
        "# Paso 3: Eliminar saltos de línea (\"\\n\") en la columna \"Company Name\"\n",
        "df_cleaned = df_cleaned.withColumn(\"Company Name\", F.regexp_replace(col(\"Company Name\"), r\"\\n\", \"\"))\n",
        "\n",
        "df = df_cleaned\n",
        "# Mostrar el DataFrame y ordenado como previamente\n",
        "df.select(\"Company name\").distinct().orderBy(F.col(\"Company name\")).show(truncate=False)"
      ],
      "cell_type": "code",
      "metadata": {
        "id": "HPPM6h_rShA5",
        "colab": {
          "base_uri": "https://localhost:8080/"
        },
        "outputId": "b43bac39-06a0-4a2f-82d3-302e5085a073"
      },
      "execution_count": 24,
      "outputs": [
        {
          "output_type": "stream",
          "name": "stdout",
          "text": [
            "+------------------------------------+\n",
            "|Company name                        |\n",
            "+------------------------------------+\n",
            "|1-800-Flowers2.7                    |\n",
            "|10000+ employees                    |\n",
            "|1010data3.1                         |\n",
            "|1904labs4.7                         |\n",
            "|22nd Century Technologies3.7        |\n",
            "|7Park Data3.9                       |\n",
            "|A Place for Mom2.7                  |\n",
            "|A-Line Staffing Solutions4.1        |\n",
            "|ABIOMED4.1                          |\n",
            "|ALTA IT Services3.9                 |\n",
            "|ASRC Federal Holding Company3.4     |\n",
            "|AccessHope                          |\n",
            "|Acuity Insurance4.8                 |\n",
            "|Advance Sourcing Concepts3.4        |\n",
            "|Advanced Bio-Logic Solutions Corp4.0|\n",
            "|Advanced BioScience Laboratories2.7 |\n",
            "|Adwait Algorithm4.4                 |\n",
            "|AeroVironment4.2                    |\n",
            "|Affinity Solutions2.9               |\n",
            "|AgreeYa Solutions3.8                |\n",
            "+------------------------------------+\n",
            "only showing top 20 rows\n",
            "\n"
          ]
        }
      ]
    },
    {
      "cell_type": "markdown",
      "metadata": {
        "application/vnd.databricks.v1+cell": {
          "cellMetadata": {},
          "inputWidgets": {},
          "nuid": "5e594ec2-2d3f-429a-8cf4-7a6815567aa0",
          "showTitle": false,
          "tableResultSettingsMap": {},
          "title": ""
        },
        "id": "4nIatKGvwcxs"
      },
      "source": [
        "16. En el campo `Location` convertir esa columna en dos: `City` y `State`. Las ciudades que tengas en `Location` asignar a la columna `City`. Lo mismo para `State`. Luego elimine la columna `Location`."
      ]
    },
    {
      "cell_type": "code",
      "source": [
        "df = df.withColumn(\"City\", F.split(F.col(\"Location\"), \",\")[0])\n",
        "df = df.withColumn(\"State\", F.split(F.col(\"Location\"), \",\")[1])\n",
        "df = df.drop(\"Location\")\n",
        "df.show()"
      ],
      "metadata": {
        "id": "_I1C3vgtTkR4",
        "colab": {
          "base_uri": "https://localhost:8080/"
        },
        "outputId": "8485a143-8719-4008-99b1-10517d3836f3"
      },
      "execution_count": 25,
      "outputs": [
        {
          "output_type": "stream",
          "name": "stdout",
          "text": [
            "+-----+--------------------+------------------+--------------------+------+--------------------+--------------------+--------------------+-------+--------------------+--------------------+--------------------+--------------------+--------------------+-------------+-----+\n",
            "|index|           Job Title|   Salary Estimate|     Job Description|Rating|        Company Name|        Headquarters|                Size|Founded|   Type of ownership|            Industry|              Sector|             Revenue|         Competitors|         City|State|\n",
            "+-----+--------------------+------------------+--------------------+------+--------------------+--------------------+--------------------+-------+--------------------+--------------------+--------------------+--------------------+--------------------+-------------+-----+\n",
            "|   56|Senior Data Scien...| $75.000-$131.000 |Benson Hill empow...|  35.0|      Benson Hill3.5|     Saint Louis, MO|201 to 500 employees|   2012|   Company - Private|Biotech & Pharmac...|Biotech & Pharmac...|$1 to $5 million ...|             Unknown|  Saint Louis|   MO|\n",
            "|  282|      Data Scientist| $91.000-$150.000 |Greetings from Tr...| 38.84|      Trovetechs Inc|    Hillsborough, NJ|             Unknown|   none|   Company - Private|             Unknown|             Unknown|Unknown / Non-App...|             Unknown|San Francisco|   CA|\n",
            "|   74|Purification Scie...| $79.000-$131.000 |New England Biola...|  49.0|New England Biola...|         Ipswich, MA|201 to 500 employees|   1974|   Company - Private|Biotech & Pharmac...|Biotech & Pharmac...|Unknown / Non-App...|Thermo Fisher Sci...|      Ipswich|   MA|\n",
            "|  177|Data Scientist - ...|  $56.000-$97.000 |Organization and ...|  37.0|             PNNL3.7|        Richland, WA|1001 to 5000 empl...|   1965|          Government|              Energy|Oil, Gas, Energy ...|$500 million to $...|Oak Ridge Nationa...|     Richland|   WA|\n",
            "|  457|      Data Scientist| $69.000-$116.000 |Work in a fast gr...| 38.84|       Stride Search|Westlake Village, CA|   1 to 50 employees|   none|   Company - Private|             Unknown|             Unknown|Less than $1 mill...|             Unknown|San Francisco|   CA|\n",
            "|  662|      Data Scientist|$105.000-$167.000 |Solution IT Inc. ...|  44.0| SolutionIT, Inc.4.4|      Wilmington, MA| 51 to 200 employees|   none|   Company - Private|             Unknown|             Unknown|Unknown / Non-App...|             Unknown|       Edison|   NJ|\n",
            "|   19|Medical Lab Scien...|$137.000-$171.000 |Responsibilities ...|  35.0|     Tower Health3.5|         Reading, PA|5001 to 10000 emp...|   2017|Nonprofit Organiz...|Health Care Servi...|         Health Care|Unknown / Non-App...|             Unknown|   West Grove|   PA|\n",
            "|  145|Research Scientis...| $90.000-$109.000 |We would ideally ...|  38.0|          Evidera3.8|        Bethesda, MD|501 to 1000 emplo...|   2013|Subsidiary or Bus...|Biotech & Pharmac...|Biotech & Pharmac...|$100 to $500 mill...|         IQVIA, ICON|     Bethesda|   MD|\n",
            "|  157|Experienced Data ...|$101.000-$165.000 |Please Apply usin...|  44.0|Guzman & Griffin ...|    Mays Landing, NJ|   1 to 50 employees|   1997|   Company - Private|    Federal Agencies|          Government|Unknown / Non-App...|             Unknown|   Washington|   DC|\n",
            "|  303|      Data Scientist| $145.000-$225.000|Role Description ...|  32.0|       Triplebyte3.2|   San Francisco, CA| 51 to 200 employees|   2015|   Company - Private|Computer Hardware...|Information Techn...|Unknown / Non-App...|             Unknown|      Chicago|   IL|\n",
            "|  176|       Data Engineer|$101.000-$165.000 |Building Bridges,...|  44.0|Resurgent Capital...|      Greenville, SC|201 to 500 employees|   1998|   Company - Private|Venture Capital &...|             Finance|$50 to $100 milli...|             Unknown|   Cincinnati|   OH|\n",
            "|  478|      Data Scientist|  $31.000-$56.000 |Responsibilities ...|  41.0|IntelliPro Group ...|     Santa Clara, CA|201 to 500 employees|   none|   Company - Private|             Unknown|             Unknown|$10 to $25 millio...|             Unknown|  Santa Clara|   CA|\n",
            "|  637|      Data Scientist| $92.000-$155.000 |Job Description W...| 38.84|            Sophinea|       Chantilly, VA|   1 to 50 employees|   none|             Unknown|             Unknown|             Unknown|Unknown / Non-App...|             Unknown|    Chantilly|   VA|\n",
            "|   33|Senior Research S...| $75.000-$131.000 |Acuity is seeking...|  48.0| Acuity Insurance4.8|       Sheboygan, WI|1001 to 5000 empl...|   1925|   Company - Private|  Insurance Carriers|           Insurance|$1 to $2 billion ...|             Unknown|    Sheboygan|   WI|\n",
            "|   40|        Data Analyst| $75.000-$131.000 |Data Analyst Loca...|  31.0|Cambridge Associa...|          Boston, MA|501 to 1000 emplo...|   1973|   Company - Private|Investment Bankin...|             Finance|$100 to $500 mill...|             Unknown|       Boston|   MA|\n",
            "|  542|COMPUTER SCIENTIS...| $66.000-$112.000 |Join our Intellig...|  39.0|Southwest Researc...|     San Antonio, TX|1001 to 5000 empl...|   1947|Nonprofit Organiz...|Research & Develo...|   Business Services|$500 million to $...|Los Alamos Nation...|  San Antonio|   TX|\n",
            "|  206|Data Science Inst...| $79.000-$106.000 |Join our team ded...|  45.0|          Novetta4.5|         Mc Lean, VA|501 to 1000 emplo...|   2012|   Company - Private|Enterprise Softwa...|Information Techn...|$100 to $500 mill...|Leidos, CACI Inte...|      Herndon|   VA|\n",
            "|  428|Senior Data Scien...| $79.000-$133.000 |Benson Hill empow...|  35.0|      Benson Hill3.5|     Saint Louis, MO|201 to 500 employees|   2012|   Company - Private|Biotech & Pharmac...|Biotech & Pharmac...|$1 to $5 million ...|             Unknown|  Saint Louis|   MO|\n",
            "|  521|      Data Scientist|$212.000-$331.000 |The work is in su...|  38.0|    Aveshka, Inc.3.8|       Arlington, VA| 51 to 200 employees|   2010|    Company - Public|         IT Services|Information Techn...|$10 to $25 millio...|             Unknown|   Washington|   DC|\n",
            "|  253|      Data Scientist| $90.000-$124.000 |You are key to he...|  41.0|           Gallup4.1|      Washington, DC|1001 to 5000 empl...|   1935|   Company - Private|          Consulting|   Business Services|Unknown / Non-App...|Advisory Board, B...|     New York|   NY|\n",
            "+-----+--------------------+------------------+--------------------+------+--------------------+--------------------+--------------------+-------+--------------------+--------------------+--------------------+--------------------+--------------------+-------------+-----+\n",
            "only showing top 20 rows\n",
            "\n"
          ]
        }
      ]
    },
    {
      "cell_type": "markdown",
      "source": [
        "Podemos ver cómo se ha eliminado la columna location y se han añadido city y state"
      ],
      "metadata": {
        "id": "_qrS7NZ8T9aC"
      }
    },
    {
      "cell_type": "markdown",
      "metadata": {
        "application/vnd.databricks.v1+cell": {
          "cellMetadata": {},
          "inputWidgets": {},
          "nuid": "0ed408ad-803a-4209-9dae-57b7418724ef",
          "showTitle": false,
          "tableResultSettingsMap": {},
          "title": ""
        },
        "id": "RMD2HMgcwcxs"
      },
      "source": [
        "17. Repetir la misma lógica de la pregunta 16 pero para el campo `Headquarters`. En Headquarters dejar solo la ciudad, mientras que para el estado añadirla a una columna nueva ` Headquarter State`."
      ]
    },
    {
      "cell_type": "code",
      "source": [
        "df = df.withColumn(\"Headquarters State\", F.split(F.col(\"Headquarters\"), \",\")[1])\n",
        "df = df.withColumn(\"Headquarters\", F.split(F.trim(F.col(\"Headquarters\")), \",\")[0])\n",
        "\n",
        "df.select(\"Headquarters\", \"Headquarters State\").show(truncate=False)"
      ],
      "metadata": {
        "id": "_CoSybGjUGNJ",
        "colab": {
          "base_uri": "https://localhost:8080/"
        },
        "outputId": "b06c2e28-5332-4dd0-853b-be3922b0bdb1"
      },
      "execution_count": 26,
      "outputs": [
        {
          "output_type": "stream",
          "name": "stdout",
          "text": [
            "+----------------+------------------+\n",
            "|Headquarters    |Headquarters State|\n",
            "+----------------+------------------+\n",
            "|Saint Louis     | MO               |\n",
            "|Hillsborough    | NJ               |\n",
            "|Ipswich         | MA               |\n",
            "|Richland        | WA               |\n",
            "|Westlake Village| CA               |\n",
            "|Wilmington      | MA               |\n",
            "|Reading         | PA               |\n",
            "|Bethesda        | MD               |\n",
            "|Mays Landing    | NJ               |\n",
            "|San Francisco   | CA               |\n",
            "|Greenville      | SC               |\n",
            "|Santa Clara     | CA               |\n",
            "|Chantilly       | VA               |\n",
            "|Sheboygan       | WI               |\n",
            "|Boston          | MA               |\n",
            "|San Antonio     | TX               |\n",
            "|Mc Lean         | VA               |\n",
            "|Saint Louis     | MO               |\n",
            "|Arlington       | VA               |\n",
            "|Washington      | DC               |\n",
            "+----------------+------------------+\n",
            "only showing top 20 rows\n",
            "\n"
          ]
        }
      ]
    },
    {
      "cell_type": "markdown",
      "metadata": {
        "application/vnd.databricks.v1+cell": {
          "cellMetadata": {},
          "inputWidgets": {},
          "nuid": "09c9f37c-dbe5-4f0e-8f9b-7c4b4cfe8ee1",
          "showTitle": false,
          "tableResultSettingsMap": {},
          "title": ""
        },
        "id": "ZmimiQkBwcxs"
      },
      "source": [
        "18. Muestre los valores únicos del campo `Headquarter State`"
      ]
    },
    {
      "cell_type": "code",
      "source": [
        "df.select(\"Headquarters\").distinct().show(truncate=False)"
      ],
      "metadata": {
        "id": "gp8miLmiU3G0",
        "colab": {
          "base_uri": "https://localhost:8080/"
        },
        "outputId": "cb88a5d4-2b95-42c3-b421-e833f36904ab"
      },
      "execution_count": 27,
      "outputs": [
        {
          "output_type": "stream",
          "name": "stdout",
          "text": [
            "+-------------+\n",
            "|Headquarters |\n",
            "+-------------+\n",
            "|Hanover      |\n",
            "|Bangalore    |\n",
            "|Springfield  |\n",
            "|Harrisburg   |\n",
            "|Tempe        |\n",
            "|Cherry Hill  |\n",
            "|Monroe       |\n",
            "|Menlo Park   |\n",
            "|Waltham      |\n",
            "|Fairmont     |\n",
            "|Sterling     |\n",
            "|Palo Alto    |\n",
            "|Omaha        |\n",
            "|Blue Bell    |\n",
            "|Ashburn      |\n",
            "|Woodbridge   |\n",
            "|Goteborg     |\n",
            "|2012         |\n",
            "|Richland     |\n",
            "|Half Moon Bay|\n",
            "+-------------+\n",
            "only showing top 20 rows\n",
            "\n"
          ]
        }
      ]
    },
    {
      "cell_type": "markdown",
      "metadata": {
        "application/vnd.databricks.v1+cell": {
          "cellMetadata": {},
          "inputWidgets": {},
          "nuid": "a7895f10-d9c8-443b-a225-848031030eb5",
          "showTitle": false,
          "tableResultSettingsMap": {},
          "title": ""
        },
        "id": "QoVSeSYrwcxs"
      },
      "source": [
        "19. Mostrar valores unicos del campo `Size`."
      ]
    },
    {
      "cell_type": "code",
      "source": [
        "df.select(\"Size\").distinct().show(truncate=False)\n"
      ],
      "metadata": {
        "id": "BwUXhaFzU6Qw",
        "colab": {
          "base_uri": "https://localhost:8080/"
        },
        "outputId": "ea938e8f-b02b-4c33-df76-e156e4e52121"
      },
      "execution_count": 28,
      "outputs": [
        {
          "output_type": "stream",
          "name": "stdout",
          "text": [
            "+---------------------------------------+\n",
            "|Size                                   |\n",
            "+---------------------------------------+\n",
            "|Wholesale                              |\n",
            "|5001 to 10000 employees                |\n",
            "|Investment Banking & Asset Management  |\n",
            "|Insurance Carriers                     |\n",
            "|none                                   |\n",
            "|Advertising & Marketing                |\n",
            "|IT Services                            |\n",
            "|Government                             |\n",
            "|Enterprise Software & Network Solutions|\n",
            "|Internet                               |\n",
            "|Unknown                                |\n",
            "|Colleges & Universities                |\n",
            "|Lending                                |\n",
            "|51 to 200 employees                    |\n",
            "|Other Retail Stores                    |\n",
            "|Biotech & Pharmaceuticals              |\n",
            "|Staffing & Outsourcing                 |\n",
            "|1001 to 5000 employees                 |\n",
            "|Consulting                             |\n",
            "|501 to 1000 employees                  |\n",
            "+---------------------------------------+\n",
            "only showing top 20 rows\n",
            "\n"
          ]
        }
      ]
    },
    {
      "cell_type": "markdown",
      "metadata": {
        "application/vnd.databricks.v1+cell": {
          "cellMetadata": {},
          "inputWidgets": {},
          "nuid": "c8f6a6b8-52b5-4e2e-9850-6dadc97f206c",
          "showTitle": false,
          "tableResultSettingsMap": {},
          "title": ""
        },
        "id": "he1gsNaGwcxs"
      },
      "source": [
        "20. Quitar 'employee' de los registros del campo `Size`. Elimine tambien otros caracteres basura."
      ]
    },
    {
      "cell_type": "markdown",
      "source": [
        "Veo que hay mucha información inadecuada en el campo size, por lo que voy a hacer una condición de que si ese campo no contiene valores numéricos, lo remplazaré por lit(\"none\"). Después, volveré a sacar los valores únicos y veré que caracteres basura puedo eliminar a parte de employee"
      ],
      "metadata": {
        "id": "RKHTlod7VtiX"
      }
    },
    {
      "cell_type": "code",
      "source": [
        "# Verificar valores no numéricos en la columna 'Size' y reemplazarlos con 'none'\n",
        "df_cleaned = df.withColumn(\n",
        "    \"Size\",\n",
        "    F.when(col(\"Size\").rlike(r\".*\\d.*\"), col(\"Size\")).otherwise(F.lit(\"none\"))\n",
        ")\n",
        "\n",
        "# Limpiar la palabra employees\n",
        "df_cleaned = df_cleaned.withColumn(\"Size\", F.regexp_replace(F.col(\"Size\"), \"employees\", \"\"))\n",
        "\n",
        "df = df_cleaned\n",
        "# Mostrar el resultado\n",
        "df.select(\"Size\").distinct().show(truncate=False)"
      ],
      "metadata": {
        "id": "kVF80G5_WDFB",
        "colab": {
          "base_uri": "https://localhost:8080/"
        },
        "outputId": "59e2dc90-2e67-4268-f1d1-685c539068e1"
      },
      "execution_count": 29,
      "outputs": [
        {
          "output_type": "stream",
          "name": "stdout",
          "text": [
            "+--------------+\n",
            "|Size          |\n",
            "+--------------+\n",
            "|5001 to 10000 |\n",
            "|51 to 200     |\n",
            "|1 to 50       |\n",
            "|none          |\n",
            "|10000+        |\n",
            "|501 to 1000   |\n",
            "|201 to 500    |\n",
            "|1001 to 5000  |\n",
            "+--------------+\n",
            "\n"
          ]
        }
      ]
    },
    {
      "cell_type": "markdown",
      "source": [
        "Al no ver más caracteres basura que limpiar, lo dejo así tal cual"
      ],
      "metadata": {
        "id": "rgyTizl0XnT8"
      }
    },
    {
      "cell_type": "markdown",
      "metadata": {
        "application/vnd.databricks.v1+cell": {
          "cellMetadata": {},
          "inputWidgets": {},
          "nuid": "36dfe0a0-9a25-40bc-8282-cba498d2badd",
          "showTitle": false,
          "tableResultSettingsMap": {},
          "title": ""
        },
        "id": "raEVhoggwcxs"
      },
      "source": [
        "21. Reemplazar la palabra 'to' por '-' en todos los registros del campo `Size`. Reemplazar tambien '-1' por 'Unknown'."
      ]
    },
    {
      "cell_type": "markdown",
      "source": [
        "El reemplazo de \"-1\" por Unknown ya lo he ejecutado en el código de limpieza de valores vacíos, por lo que cambiaré el texto none (previamente elegido para ser el valor que diga que no existe información) por Unknown"
      ],
      "metadata": {
        "id": "eAyaLQuBXtcL"
      }
    },
    {
      "cell_type": "code",
      "source": [
        "df = df.withColumn(\"Size\", F.regexp_replace(F.col(\"Size\"), \"to\", \"-\")).withColumn(\"Size\", F.regexp_replace(F.col(\"Size\"), \" \", \"\"))\n",
        "df = df.withColumn(\"Size\", F.regexp_replace(F.col(\"Size\"), \"none\", \"Unknown\"))\n",
        "\n",
        "df.select(\"Size\").distinct().show(truncate=False)"
      ],
      "metadata": {
        "id": "KehgnNVXXs8a",
        "colab": {
          "base_uri": "https://localhost:8080/"
        },
        "outputId": "fb4585a0-1dfa-4269-dedf-a35a58035847"
      },
      "execution_count": 30,
      "outputs": [
        {
          "output_type": "stream",
          "name": "stdout",
          "text": [
            "+----------+\n",
            "|Size      |\n",
            "+----------+\n",
            "|51-200    |\n",
            "|Unknown   |\n",
            "|501-1000  |\n",
            "|1001-5000 |\n",
            "|5001-10000|\n",
            "|1-50      |\n",
            "|201-500   |\n",
            "|10000+    |\n",
            "+----------+\n",
            "\n"
          ]
        }
      ]
    },
    {
      "cell_type": "markdown",
      "metadata": {
        "application/vnd.databricks.v1+cell": {
          "cellMetadata": {},
          "inputWidgets": {},
          "nuid": "f598578e-b86d-4de7-a298-709ec19648ed",
          "showTitle": false,
          "tableResultSettingsMap": {},
          "title": ""
        },
        "id": "QadfsOMIwcxs"
      },
      "source": [
        "22. Mostrar el tipo de dato del campo `Type of ownership` y sus registros unicos."
      ]
    },
    {
      "cell_type": "code",
      "source": [
        "df.select(\"Type of ownership\").distinct().show(truncate=False)\n",
        "\n",
        "column_name = \"Type of ownership\"\n",
        "column_type = [f.dataType for f in df.schema.fields if f.name == column_name][0]\n",
        "\n",
        "print(f\"El tipo de dato de la columna '{column_name}' es: {column_type}\")"
      ],
      "metadata": {
        "id": "4TKZQG28YeY6",
        "colab": {
          "base_uri": "https://localhost:8080/"
        },
        "outputId": "773ecd3c-2785-432f-9935-135b07ffa00f"
      },
      "execution_count": 31,
      "outputs": [
        {
          "output_type": "stream",
          "name": "stdout",
          "text": [
            "+------------------------------+\n",
            "|Type of ownership             |\n",
            "+------------------------------+\n",
            "|$50 to $100 million (USD)     |\n",
            "|$100 to $500 million (USD)    |\n",
            "|$10 to $25 million (USD)      |\n",
            "|Government                    |\n",
            "|$10+ billion (USD)            |\n",
            "|Subsidiary or Business Segment|\n",
            "|Self-employed                 |\n",
            "|Contract                      |\n",
            "|Unknown                       |\n",
            "|Colleges & Universities       |\n",
            "|Company - Private             |\n",
            "|Biotech & Pharmaceuticals     |\n",
            "|Nonprofit Organization        |\n",
            "|Unknown / Non-Applicable      |\n",
            "|$25 to $50 million (USD)      |\n",
            "|Hospital                      |\n",
            "|$5 to $10 million (USD)       |\n",
            "|Private Practice / Firm       |\n",
            "|Company - Public              |\n",
            "|Other Organization            |\n",
            "+------------------------------+\n",
            "\n",
            "El tipo de dato de la columna 'Type of ownership' es: StringType()\n"
          ]
        }
      ]
    },
    {
      "cell_type": "markdown",
      "metadata": {
        "application/vnd.databricks.v1+cell": {
          "cellMetadata": {},
          "inputWidgets": {},
          "nuid": "4f42ef72-f068-4b46-b1d3-6a5d59290322",
          "showTitle": false,
          "tableResultSettingsMap": {},
          "title": ""
        },
        "id": "HNs6SaR1wcxt"
      },
      "source": [
        "23. Cambiar '-1' por 'Unknown' en todos los registros del campo `Type of ownership`."
      ]
    },
    {
      "cell_type": "markdown",
      "source": [
        "Una vez más, ya ejecuté ese código en la primera limpieza, pero de todas maneras este sería el código correspondiente:\n"
      ],
      "metadata": {
        "id": "LZowoRtuZOIi"
      }
    },
    {
      "cell_type": "code",
      "source": [
        "df = df.withColumn(\"Type of ownership\", F.regexp_replace(F.col(\"Type of ownership\"), \"-1\", \"Unknown\"))\n",
        "\n",
        "df.select(\"Type of ownership\").distinct().show(truncate=False)"
      ],
      "metadata": {
        "id": "wx6mREthZVN8",
        "colab": {
          "base_uri": "https://localhost:8080/"
        },
        "outputId": "4fc23892-b967-45b7-f803-c8b061669142"
      },
      "execution_count": 32,
      "outputs": [
        {
          "output_type": "stream",
          "name": "stdout",
          "text": [
            "+------------------------------+\n",
            "|Type of ownership             |\n",
            "+------------------------------+\n",
            "|$50 to $100 million (USD)     |\n",
            "|$100 to $500 million (USD)    |\n",
            "|$10 to $25 million (USD)      |\n",
            "|Government                    |\n",
            "|$10+ billion (USD)            |\n",
            "|Subsidiary or Business Segment|\n",
            "|Self-employed                 |\n",
            "|Contract                      |\n",
            "|Unknown                       |\n",
            "|Colleges & Universities       |\n",
            "|Company - Private             |\n",
            "|Biotech & Pharmaceuticals     |\n",
            "|Nonprofit Organization        |\n",
            "|Unknown / Non-Applicable      |\n",
            "|$25 to $50 million (USD)      |\n",
            "|Hospital                      |\n",
            "|$5 to $10 million (USD)       |\n",
            "|Private Practice / Firm       |\n",
            "|Company - Public              |\n",
            "|Other Organization            |\n",
            "+------------------------------+\n",
            "\n"
          ]
        }
      ]
    },
    {
      "cell_type": "markdown",
      "metadata": {
        "application/vnd.databricks.v1+cell": {
          "cellMetadata": {},
          "inputWidgets": {},
          "nuid": "6b9f9087-9cce-4213-b99b-f573757dbd97",
          "showTitle": false,
          "tableResultSettingsMap": {},
          "title": ""
        },
        "id": "moSmfSZNwcxt"
      },
      "source": [
        "24. Cambiar:  \n",
        "-  `Company - Public` por `Public Company`  \n",
        "-  `Company - Private` por `Private Company`  \n",
        "-  `Private Practice / Firm` por `Private Company`  \n",
        "-  `Subsidiary or Business Segment` por `Business`  \n",
        "-  `College / University` por `Education`  \n",
        "En todos los registros del campo `Type of ownership`."
      ]
    },
    {
      "cell_type": "code",
      "source": [
        "df = df.withColumn(\"Type of ownership\", F.regexp_replace(F.col(\"Type of ownership\"), \"Company - Public\", \"Public Company\"))\n",
        "df = df.withColumn(\"Type of ownership\", F.regexp_replace(F.col(\"Type of ownership\"), \"Company - Private\", \"Private Company\"))\n",
        "df = df.withColumn(\"Type of ownership\", F.regexp_replace(F.col(\"Type of ownership\"), \"Private Practice / Firm\", \"Private Company\"))\n",
        "df = df.withColumn(\"Type of ownership\", F.regexp_replace(F.col(\"Type of ownership\"), \"Subsidiary or Business Segment\", \"Business\"))\n",
        "df = df.withColumn(\"Type of ownership\", F.regexp_replace(F.col(\"Type of ownership\"), \"College / University\", \"Education\"))\n",
        "\n",
        "df.select(\"Type of ownership\").distinct().show(truncate=False)"
      ],
      "metadata": {
        "id": "zhyylCKsZfL_",
        "colab": {
          "base_uri": "https://localhost:8080/"
        },
        "outputId": "f9509e43-28be-4d6b-d37d-b1073f926d14"
      },
      "execution_count": 33,
      "outputs": [
        {
          "output_type": "stream",
          "name": "stdout",
          "text": [
            "+--------------------------+\n",
            "|Type of ownership         |\n",
            "+--------------------------+\n",
            "|$50 to $100 million (USD) |\n",
            "|$100 to $500 million (USD)|\n",
            "|$10 to $25 million (USD)  |\n",
            "|Government                |\n",
            "|$10+ billion (USD)        |\n",
            "|Self-employed             |\n",
            "|Contract                  |\n",
            "|Unknown                   |\n",
            "|Colleges & Universities   |\n",
            "|Private Company           |\n",
            "|Biotech & Pharmaceuticals |\n",
            "|Nonprofit Organization    |\n",
            "|Unknown / Non-Applicable  |\n",
            "|$25 to $50 million (USD)  |\n",
            "|Hospital                  |\n",
            "|$5 to $10 million (USD)   |\n",
            "|Public Company            |\n",
            "|Business                  |\n",
            "|Other Organization        |\n",
            "+--------------------------+\n",
            "\n"
          ]
        }
      ]
    },
    {
      "cell_type": "markdown",
      "source": [
        "Como he visto que hay datos incorrectos en el campo Type of Ownership, voy a sustituir esa información por Unknown"
      ],
      "metadata": {
        "id": "1FAXv1YGZtbF"
      }
    },
    {
      "cell_type": "code",
      "source": [
        "df = df.withColumn(\n",
        "    \"Type of ownership\",\n",
        "    F.when(col(\"Type of ownership\").rlike(r\".*\\d.*\"), F.lit(\"Unknown\")).otherwise(col(\"Type of ownership\"))\n",
        ")\n",
        "\n",
        "df.select(\"Type of ownership\").distinct().show(truncate=False)\n"
      ],
      "metadata": {
        "id": "0ESG5hdHZ22w",
        "colab": {
          "base_uri": "https://localhost:8080/"
        },
        "outputId": "e1ecbb30-d7f2-4027-c834-6b18fe311acf"
      },
      "execution_count": 34,
      "outputs": [
        {
          "output_type": "stream",
          "name": "stdout",
          "text": [
            "+-------------------------+\n",
            "|Type of ownership        |\n",
            "+-------------------------+\n",
            "|Government               |\n",
            "|Self-employed            |\n",
            "|Contract                 |\n",
            "|Unknown                  |\n",
            "|Colleges & Universities  |\n",
            "|Private Company          |\n",
            "|Biotech & Pharmaceuticals|\n",
            "|Nonprofit Organization   |\n",
            "|Unknown / Non-Applicable |\n",
            "|Hospital                 |\n",
            "|Public Company           |\n",
            "|Business                 |\n",
            "|Other Organization       |\n",
            "+-------------------------+\n",
            "\n"
          ]
        }
      ]
    },
    {
      "cell_type": "markdown",
      "metadata": {
        "application/vnd.databricks.v1+cell": {
          "cellMetadata": {},
          "inputWidgets": {},
          "nuid": "ed329cf5-1daa-4dd9-9b16-d2ab23bbf486",
          "showTitle": false,
          "tableResultSettingsMap": {},
          "title": ""
        },
        "id": "VylhFg-Ywcxt"
      },
      "source": [
        "25. Mostrar el tipo de dato y los valores unicos del campo `Industry`."
      ]
    },
    {
      "cell_type": "code",
      "source": [
        "df.select(\"Industry\").distinct().show(truncate=False)\n",
        "\n",
        "column_name = \"Industry\"\n",
        "column_type = [f.dataType for f in df.schema.fields if f.name == column_name][0]\n",
        "\n",
        "print(f\"El tipo de dato de la columna '{column_name}' es: {column_type}\")"
      ],
      "metadata": {
        "id": "eMYB6ymQa_Jz",
        "colab": {
          "base_uri": "https://localhost:8080/"
        },
        "outputId": "14fbe43c-7931-4c82-9057-b57fb56009a0"
      },
      "execution_count": 35,
      "outputs": [
        {
          "output_type": "stream",
          "name": "stdout",
          "text": [
            "+---------------------------------------------------+\n",
            "|Industry                                           |\n",
            "+---------------------------------------------------+\n",
            "|Seagate Technology, Toshiba                        |\n",
            "|Wholesale                                          |\n",
            "|United Natural Foods, US Foods, DPI Specialty Foods|\n",
            "|Telecommunications Services                        |\n",
            "|Education                                          |\n",
            "|Linqia, Collective Bias                            |\n",
            "|Cable, Internet & Telephone Providers              |\n",
            "|Investment Banking & Asset Management              |\n",
            "|Rail                                               |\n",
            "|Insurance Carriers                                 |\n",
            "|Consumer Products Manufacturing                    |\n",
            "|Energy                                             |\n",
            "|Genomic Health, 23andMe, Illumina                  |\n",
            "|Accounting                                         |\n",
            "|Advertising & Marketing                            |\n",
            "|IT Services                                        |\n",
            "|Farm Support Services                              |\n",
            "|Chemical Manufacturing                             |\n",
            "|Logistics & Supply Chain                           |\n",
            "|Enterprise Software & Network Solutions            |\n",
            "+---------------------------------------------------+\n",
            "only showing top 20 rows\n",
            "\n",
            "El tipo de dato de la columna 'Industry' es: StringType()\n"
          ]
        }
      ]
    },
    {
      "cell_type": "markdown",
      "source": [
        "Vemos que estos datos están bastante limpios y es una columna tipo String"
      ],
      "metadata": {
        "id": "8Ku04nwEbHTO"
      }
    },
    {
      "cell_type": "markdown",
      "metadata": {
        "application/vnd.databricks.v1+cell": {
          "cellMetadata": {},
          "inputWidgets": {},
          "nuid": "c06a12fb-1a33-4cfa-aadb-c01e00a9c4ee",
          "showTitle": false,
          "tableResultSettingsMap": {},
          "title": ""
        },
        "id": "Xqy3TkEnwcxt"
      },
      "source": [
        "26. En el mismo campo de `Industry` reemplazar '-1' por 'Not Available' y '&' por 'and'.  Vuelva a imprimir los valores unicos en orden alfabético."
      ]
    },
    {
      "cell_type": "markdown",
      "source": [
        "De nuevo, como ya hemos hecho la limpieza de los valores \"-1\" y hemos colocado Unknown, vamos a hacer el remplazo con la condición de que sea == \"Unknown\""
      ],
      "metadata": {
        "id": "CO_cGlTwbT4h"
      }
    },
    {
      "cell_type": "code",
      "source": [
        "df = df.withColumn(\"Industry\", F.regexp_replace(F.col(\"Industry\"), \"Unknown\", \"Not Available\"))\n",
        "df = df.withColumn(\"Industry\", F.regexp_replace(F.col(\"Industry\"), \"&\", \"and\"))\n",
        "\n",
        "df.select(\"Industry\").distinct().orderBy(\"Industry\", ascending=True).show(truncate=False)"
      ],
      "metadata": {
        "id": "pL3ZlAVvbiAx",
        "colab": {
          "base_uri": "https://localhost:8080/"
        },
        "outputId": "e16e4c3d-247b-4425-bcf4-0fef78dd7583"
      },
      "execution_count": 36,
      "outputs": [
        {
          "output_type": "stream",
          "name": "stdout",
          "text": [
            "+------------------------------------------+\n",
            "|Industry                                  |\n",
            "+------------------------------------------+\n",
            "|Accounting                                |\n",
            "|Advertising and Marketing                 |\n",
            "|Aerospace and Defense                     |\n",
            "|Architectural and Engineering Services    |\n",
            "|Banks and Credit Unions                   |\n",
            "|Biotech and Pharmaceuticals               |\n",
            "|Cable, Internet and Telephone Providers   |\n",
            "|Chemical Manufacturing                    |\n",
            "|Computer Hardware and Software            |\n",
            "|Construction                              |\n",
            "|Consulting                                |\n",
            "|Consumer Electronics and Appliances Stores|\n",
            "|Consumer Products Manufacturing           |\n",
            "|Department, Clothing, and Shoe Stores     |\n",
            "|Education                                 |\n",
            "|Electrical and Electronic Manufacturing   |\n",
            "|Energy                                    |\n",
            "|Enterprise Software and Network Solutions |\n",
            "|Express Delivery Services                 |\n",
            "|Farm Support Services                     |\n",
            "+------------------------------------------+\n",
            "only showing top 20 rows\n",
            "\n"
          ]
        }
      ]
    },
    {
      "cell_type": "markdown",
      "metadata": {
        "application/vnd.databricks.v1+cell": {
          "cellMetadata": {},
          "inputWidgets": {},
          "nuid": "c2490bb6-1f88-4410-a0c4-75826c48b70c",
          "showTitle": false,
          "tableResultSettingsMap": {},
          "title": ""
        },
        "id": "HagyG85bwcxt"
      },
      "source": [
        "27. Para el campo `Sector`, muestre el tipo de dato y los valores únicos."
      ]
    },
    {
      "cell_type": "code",
      "source": [
        "df.select(\"Sector\").distinct().show(truncate=False)\n",
        "\n",
        "column_name = \"Sector\"\n",
        "column_type = [f.dataType for f in df.schema.fields if f.name == column_name][0]\n",
        "\n",
        "print(f\"El tipo de dato de la columna '{column_name}' es: {column_type}\")"
      ],
      "metadata": {
        "id": "FEXfWNwvcFYW",
        "colab": {
          "base_uri": "https://localhost:8080/"
        },
        "outputId": "4ad38fcd-927a-46f1-bd95-1c77f9adf442"
      },
      "execution_count": 37,
      "outputs": [
        {
          "output_type": "stream",
          "name": "stdout",
          "text": [
            "+----------------------------------+\n",
            "|Sector                            |\n",
            "+----------------------------------+\n",
            "|Health Care                       |\n",
            "|Insurance                         |\n",
            "|Information Technology            |\n",
            "|Government                        |\n",
            "|Oil, Gas, Energy & Utilities      |\n",
            "|Finance                           |\n",
            "|Real Estate                       |\n",
            "|Non-Profit                        |\n",
            "|Construction, Repair & Maintenance|\n",
            "|Media                             |\n",
            "|Unknown                           |\n",
            "|Biotech & Pharmaceuticals         |\n",
            "|Telecommunications                |\n",
            "|Unknown / Non-Applicable          |\n",
            "|Consumer Services                 |\n",
            "|Accounting & Legal                |\n",
            "|Travel & Tourism                  |\n",
            "|Aerospace & Defense               |\n",
            "|Business Services                 |\n",
            "|Agriculture & Forestry            |\n",
            "+----------------------------------+\n",
            "only showing top 20 rows\n",
            "\n",
            "El tipo de dato de la columna 'Sector' es: StringType()\n"
          ]
        }
      ]
    },
    {
      "cell_type": "markdown",
      "source": [
        "Vemos que este también es un campo con datos limpios y de tipo string"
      ],
      "metadata": {
        "id": "ogXZW-6CcJ__"
      }
    },
    {
      "cell_type": "markdown",
      "metadata": {
        "application/vnd.databricks.v1+cell": {
          "cellMetadata": {},
          "inputWidgets": {},
          "nuid": "b0d92b2b-c4be-4aca-b734-3ef8d80b62cd",
          "showTitle": false,
          "tableResultSettingsMap": {},
          "title": ""
        },
        "id": "1u-8meiuwcxu"
      },
      "source": [
        "28. Aplica la misma lógica de la pregunta 26 pero sobre el campo `Sector`."
      ]
    },
    {
      "cell_type": "markdown",
      "source": [
        "De nuevo, como ya hemos hecho la limpieza de los valores \"-1\" y hemos colocado Unknown, vamos a hacer el remplazo con la condición de que sea == \"Unknown\""
      ],
      "metadata": {
        "id": "6lJXWhUBcYeW"
      }
    },
    {
      "cell_type": "code",
      "source": [
        "df = df.withColumn(\"Sector\", F.regexp_replace(F.col(\"Sector\"), \"Unknown\", \"Not Available\"))\n",
        "df = df.withColumn(\"Sector\", F.regexp_replace(F.col(\"Sector\"), \"&\", \"and\"))\n",
        "\n",
        "df.select(\"Sector\").distinct().orderBy(\"Sector\", ascending=True).show(truncate=False)"
      ],
      "metadata": {
        "id": "aglOlGCZcWbx",
        "colab": {
          "base_uri": "https://localhost:8080/"
        },
        "outputId": "ff2848db-9030-401a-e00b-dda5d0122a87"
      },
      "execution_count": 38,
      "outputs": [
        {
          "output_type": "stream",
          "name": "stdout",
          "text": [
            "+------------------------------------+\n",
            "|Sector                              |\n",
            "+------------------------------------+\n",
            "|Accounting and Legal                |\n",
            "|Aerospace and Defense               |\n",
            "|Agriculture and Forestry            |\n",
            "|Biotech and Pharmaceuticals         |\n",
            "|Business Services                   |\n",
            "|Construction, Repair and Maintenance|\n",
            "|Consumer Services                   |\n",
            "|Finance                             |\n",
            "|Government                          |\n",
            "|Health Care                         |\n",
            "|Information Technology              |\n",
            "|Insurance                           |\n",
            "|Manufacturing                       |\n",
            "|Media                               |\n",
            "|Non-Profit                          |\n",
            "|Not Available                       |\n",
            "|Not Available / Non-Applicable      |\n",
            "|Oil, Gas, Energy and Utilities      |\n",
            "|Real Estate                         |\n",
            "|Retail                              |\n",
            "+------------------------------------+\n",
            "only showing top 20 rows\n",
            "\n"
          ]
        }
      ]
    },
    {
      "cell_type": "markdown",
      "metadata": {
        "application/vnd.databricks.v1+cell": {
          "cellMetadata": {},
          "inputWidgets": {},
          "nuid": "6a3770cb-694e-439f-8038-d28da4e3ac0f",
          "showTitle": false,
          "tableResultSettingsMap": {},
          "title": ""
        },
        "id": "cpOCGTpPwcxu"
      },
      "source": [
        "29. Para el campo `Revenue`, muestre el tipo de dato y los valores únicos en orden ascedente."
      ]
    },
    {
      "cell_type": "code",
      "source": [
        "df.select(\"Revenue\").distinct().orderBy(\"Revenue\", ascending=True).show(truncate=False)\n",
        "\n",
        "column_name = \"Revenue\"\n",
        "column_type = [f.dataType for f in df.schema.fields if f.name == column_name][0]\n",
        "\n",
        "print(f\"El tipo de dato de la columna '{column_name}' es: {column_type}\")"
      ],
      "metadata": {
        "id": "ERKdwahFcpt4",
        "colab": {
          "base_uri": "https://localhost:8080/"
        },
        "outputId": "5b96a3c1-2ed6-40c0-9658-656c5c0efafd"
      },
      "execution_count": 39,
      "outputs": [
        {
          "output_type": "stream",
          "name": "stdout",
          "text": [
            "+--------------------------------+\n",
            "|Revenue                         |\n",
            "+--------------------------------+\n",
            "|$1 to $2 billion (USD)          |\n",
            "|$1 to $5 million (USD)          |\n",
            "|$10 to $25 million (USD)        |\n",
            "|$10+ billion (USD)              |\n",
            "|$100 to $500 million (USD)      |\n",
            "|$2 to $5 billion (USD)          |\n",
            "|$25 to $50 million (USD)        |\n",
            "|$5 to $10 billion (USD)         |\n",
            "|$5 to $10 million (USD)         |\n",
            "|$50 to $100 million (USD)       |\n",
            "|$500 million to $1 billion (USD)|\n",
            "|Less than $1 million (USD)      |\n",
            "|Unknown                         |\n",
            "|Unknown / Non-Applicable        |\n",
            "+--------------------------------+\n",
            "\n",
            "El tipo de dato de la columna 'Revenue' es: StringType()\n"
          ]
        }
      ]
    },
    {
      "cell_type": "markdown",
      "metadata": {
        "application/vnd.databricks.v1+cell": {
          "cellMetadata": {},
          "inputWidgets": {},
          "nuid": "9cb56eb9-3684-49cd-b20f-fd368d23b499",
          "showTitle": false,
          "tableResultSettingsMap": {},
          "title": ""
        },
        "id": "PRk6r9xGwcxu"
      },
      "source": [
        "30. En el campo `Revenue`, cambiar:  \n",
        "-  `-1` por `N/A`  \n",
        "-  `Unknown / Non-Applicable` por `N/A`  \n",
        "-  `Less than $1 million (USD)` por `Less than 1`\n",
        "-  Quitar `$` y `(USD)`"
      ]
    },
    {
      "cell_type": "markdown",
      "source": [
        "De nuevo, como ya hemos hecho la limpieza de los valores \"-1\" y hemos colocado Unknown, vamos a hacer el remplazo con la condición de que sea == \"Unknown\""
      ],
      "metadata": {
        "id": "ayBR9QOwdX7_"
      }
    },
    {
      "cell_type": "code",
      "source": [
        "df = df.withColumn(\"Revenue\", F.regexp_replace(F.col(\"Revenue\"), \"Unknown\", \"N/A\"))\n",
        "df = df.withColumn(\"Revenue\", F.regexp_replace(F.col(\"Revenue\"), \"/ Non-Applicable\", \"\"))\n",
        "df = df.withColumn(\"Revenue\", F.regexp_replace(F.col(\"Revenue\"), \"Less than $1 million (USD)\", \"Less than 1\"))\n",
        "df = df.withColumn(\"Revenue\", F.regexp_replace(F.col(\"Revenue\"), \"\\$\", \"\"))\n",
        "df = df.withColumn(\"Revenue\", F.regexp_replace(F.col(\"Revenue\"), \"\\(USD\\)\", \"\"))\n",
        "\n",
        "df.select(\"Revenue\").distinct().orderBy(\"Revenue\", ascending=True).show(truncate=False)"
      ],
      "metadata": {
        "id": "8LrEzcWNdAAf",
        "colab": {
          "base_uri": "https://localhost:8080/"
        },
        "outputId": "e1edd1d2-fccd-448b-db7a-b82c7e7c726f"
      },
      "execution_count": 40,
      "outputs": [
        {
          "output_type": "stream",
          "name": "stdout",
          "text": [
            "+-------------------------+\n",
            "|Revenue                  |\n",
            "+-------------------------+\n",
            "|1 to 2 billion           |\n",
            "|1 to 5 million           |\n",
            "|10 to 25 million         |\n",
            "|10+ billion              |\n",
            "|100 to 500 million       |\n",
            "|2 to 5 billion           |\n",
            "|25 to 50 million         |\n",
            "|5 to 10 billion          |\n",
            "|5 to 10 million          |\n",
            "|50 to 100 million        |\n",
            "|500 million to 1 billion |\n",
            "|Less than 1 million      |\n",
            "|N/A                      |\n",
            "|N/A                      |\n",
            "+-------------------------+\n",
            "\n"
          ]
        }
      ]
    },
    {
      "cell_type": "markdown",
      "metadata": {
        "application/vnd.databricks.v1+cell": {
          "cellMetadata": {},
          "inputWidgets": {},
          "nuid": "d89472f2-855f-4edc-bc47-d2654069bf38",
          "showTitle": false,
          "tableResultSettingsMap": {},
          "title": ""
        },
        "id": "r3_hRZ7Lwcxu"
      },
      "source": [
        "31. Borrar el campo `Competitors`."
      ]
    },
    {
      "cell_type": "code",
      "source": [
        "df = df.drop(\"Competitors\")\n",
        "df.show()"
      ],
      "metadata": {
        "id": "uvhi8WfkdZv3",
        "colab": {
          "base_uri": "https://localhost:8080/"
        },
        "outputId": "95568b76-7195-44c1-c5b8-e932d0166589"
      },
      "execution_count": 41,
      "outputs": [
        {
          "output_type": "stream",
          "name": "stdout",
          "text": [
            "+-----+--------------------+------------------+--------------------+------+--------------------+----------------+----------+-------+--------------------+--------------------+--------------------+--------------------+-------------+-----+------------------+\n",
            "|index|           Job Title|   Salary Estimate|     Job Description|Rating|        Company Name|    Headquarters|      Size|Founded|   Type of ownership|            Industry|              Sector|             Revenue|         City|State|Headquarters State|\n",
            "+-----+--------------------+------------------+--------------------+------+--------------------+----------------+----------+-------+--------------------+--------------------+--------------------+--------------------+-------------+-----+------------------+\n",
            "|   56|Senior Data Scien...| $75.000-$131.000 |Benson Hill empow...|  35.0|      Benson Hill3.5|     Saint Louis|   201-500|   2012|     Private Company|Biotech and Pharm...|Biotech and Pharm...|     1 to 5 million |  Saint Louis|   MO|                MO|\n",
            "|  282|      Data Scientist| $91.000-$150.000 |Greetings from Tr...| 38.84|      Trovetechs Inc|    Hillsborough|   Unknown|   none|     Private Company|       Not Available|       Not Available|                N/A |San Francisco|   CA|                NJ|\n",
            "|   74|Purification Scie...| $79.000-$131.000 |New England Biola...|  49.0|New England Biola...|         Ipswich|   201-500|   1974|     Private Company|Biotech and Pharm...|Biotech and Pharm...|                N/A |      Ipswich|   MA|                MA|\n",
            "|  177|Data Scientist - ...|  $56.000-$97.000 |Organization and ...|  37.0|             PNNL3.7|        Richland| 1001-5000|   1965|          Government|              Energy|Oil, Gas, Energy ...|500 million to 1 ...|     Richland|   WA|                WA|\n",
            "|  457|      Data Scientist| $69.000-$116.000 |Work in a fast gr...| 38.84|       Stride Search|Westlake Village|      1-50|   none|     Private Company|       Not Available|       Not Available|Less than 1 million |San Francisco|   CA|                CA|\n",
            "|  662|      Data Scientist|$105.000-$167.000 |Solution IT Inc. ...|  44.0| SolutionIT, Inc.4.4|      Wilmington|    51-200|   none|     Private Company|       Not Available|       Not Available|                N/A |       Edison|   NJ|                MA|\n",
            "|   19|Medical Lab Scien...|$137.000-$171.000 |Responsibilities ...|  35.0|     Tower Health3.5|         Reading|5001-10000|   2017|Nonprofit Organiz...|Health Care Servi...|         Health Care|                N/A |   West Grove|   PA|                PA|\n",
            "|  145|Research Scientis...| $90.000-$109.000 |We would ideally ...|  38.0|          Evidera3.8|        Bethesda|  501-1000|   2013|            Business|Biotech and Pharm...|Biotech and Pharm...| 100 to 500 million |     Bethesda|   MD|                MD|\n",
            "|  157|Experienced Data ...|$101.000-$165.000 |Please Apply usin...|  44.0|Guzman & Griffin ...|    Mays Landing|      1-50|   1997|     Private Company|    Federal Agencies|          Government|                N/A |   Washington|   DC|                NJ|\n",
            "|  303|      Data Scientist| $145.000-$225.000|Role Description ...|  32.0|       Triplebyte3.2|   San Francisco|    51-200|   2015|     Private Company|Computer Hardware...|Information Techn...|                N/A |      Chicago|   IL|                CA|\n",
            "|  176|       Data Engineer|$101.000-$165.000 |Building Bridges,...|  44.0|Resurgent Capital...|      Greenville|   201-500|   1998|     Private Company|Venture Capital a...|             Finance|  50 to 100 million |   Cincinnati|   OH|                SC|\n",
            "|  478|      Data Scientist|  $31.000-$56.000 |Responsibilities ...|  41.0|IntelliPro Group ...|     Santa Clara|   201-500|   none|     Private Company|       Not Available|       Not Available|   10 to 25 million |  Santa Clara|   CA|                CA|\n",
            "|  637|      Data Scientist| $92.000-$155.000 |Job Description W...| 38.84|            Sophinea|       Chantilly|      1-50|   none|             Unknown|       Not Available|       Not Available|                N/A |    Chantilly|   VA|                VA|\n",
            "|   33|Senior Research S...| $75.000-$131.000 |Acuity is seeking...|  48.0| Acuity Insurance4.8|       Sheboygan| 1001-5000|   1925|     Private Company|  Insurance Carriers|           Insurance|     1 to 2 billion |    Sheboygan|   WI|                WI|\n",
            "|   40|        Data Analyst| $75.000-$131.000 |Data Analyst Loca...|  31.0|Cambridge Associa...|          Boston|  501-1000|   1973|     Private Company|Investment Bankin...|             Finance| 100 to 500 million |       Boston|   MA|                MA|\n",
            "|  542|COMPUTER SCIENTIS...| $66.000-$112.000 |Join our Intellig...|  39.0|Southwest Researc...|     San Antonio| 1001-5000|   1947|Nonprofit Organiz...|Research and Deve...|   Business Services|500 million to 1 ...|  San Antonio|   TX|                TX|\n",
            "|  206|Data Science Inst...| $79.000-$106.000 |Join our team ded...|  45.0|          Novetta4.5|         Mc Lean|  501-1000|   2012|     Private Company|Enterprise Softwa...|Information Techn...| 100 to 500 million |      Herndon|   VA|                VA|\n",
            "|  428|Senior Data Scien...| $79.000-$133.000 |Benson Hill empow...|  35.0|      Benson Hill3.5|     Saint Louis|   201-500|   2012|     Private Company|Biotech and Pharm...|Biotech and Pharm...|     1 to 5 million |  Saint Louis|   MO|                MO|\n",
            "|  521|      Data Scientist|$212.000-$331.000 |The work is in su...|  38.0|    Aveshka, Inc.3.8|       Arlington|    51-200|   2010|      Public Company|         IT Services|Information Techn...|   10 to 25 million |   Washington|   DC|                VA|\n",
            "|  253|      Data Scientist| $90.000-$124.000 |You are key to he...|  41.0|           Gallup4.1|      Washington| 1001-5000|   1935|     Private Company|          Consulting|   Business Services|                N/A |     New York|   NY|                DC|\n",
            "+-----+--------------------+------------------+--------------------+------+--------------------+----------------+----------+-------+--------------------+--------------------+--------------------+--------------------+-------------+-----+------------------+\n",
            "only showing top 20 rows\n",
            "\n"
          ]
        }
      ]
    },
    {
      "cell_type": "markdown",
      "metadata": {
        "application/vnd.databricks.v1+cell": {
          "cellMetadata": {},
          "inputWidgets": {},
          "nuid": "a1d3b8e8-a020-4a19-9d85-fb3f635ed316",
          "showTitle": false,
          "tableResultSettingsMap": {},
          "title": ""
        },
        "id": "wnbQC79hwcxv"
      },
      "source": [
        "32. Crear tres columnas: `min_salary` (salario mínimo), `max_salary` (salario maximo) y `avg_salary` (salario promedio) a partir de los datos del campo `Salary Estimate`."
      ]
    },
    {
      "source": [
        "# primero usamos una columna auxiliar para tener el máximo y el mínimo en un array con dos posiciones\n",
        "df_cleaned = df.withColumn(\"aux\", F.regexp_replace(F.col(\"Salary Estimate\"), \"\\$\", \"\")) \\\n",
        "                .withColumn(\"aux\", F.split(F.col(\"aux\"), \"-\"))\n",
        "\n",
        "# una vez tenemos la columna con los datos que queremos, la utilizamos para separar estos datos y operar con ellos\n",
        "df_cleaned = df_cleaned.withColumn(\"min_salary\", F.col(\"aux\")[0].cast(\"int\"))\n",
        "df_cleaned = df_cleaned.withColumn(\"max_salary\", F.col(\"aux\")[1].cast(\"int\"))\n",
        "df_cleaned = df_cleaned.withColumn(\"avg_salary\", (F.col(\"min_salary\") + F.col(\"max_salary\")) / 2)\n",
        "df_cleaned = df_cleaned.drop(\"aux\")\n",
        "\n",
        "df = df_cleaned\n",
        "\n",
        "# mostramos los datos\n",
        "df.select(\"Salary Estimate\", \"min_salary\", \"max_salary\", \"avg_salary\").show()"
      ],
      "cell_type": "code",
      "metadata": {
        "id": "zjrsqJBZfN5g",
        "colab": {
          "base_uri": "https://localhost:8080/"
        },
        "outputId": "f8d6aec0-f9ba-4bcc-89b2-d6d03a6289c0"
      },
      "execution_count": 42,
      "outputs": [
        {
          "output_type": "stream",
          "name": "stdout",
          "text": [
            "+------------------+----------+----------+----------+\n",
            "|   Salary Estimate|min_salary|max_salary|avg_salary|\n",
            "+------------------+----------+----------+----------+\n",
            "| $75.000-$131.000 |        75|       131|     103.0|\n",
            "| $91.000-$150.000 |        91|       150|     120.5|\n",
            "| $79.000-$131.000 |        79|       131|     105.0|\n",
            "|  $56.000-$97.000 |        56|        97|      76.5|\n",
            "| $69.000-$116.000 |        69|       116|      92.5|\n",
            "|$105.000-$167.000 |       105|       167|     136.0|\n",
            "|$137.000-$171.000 |       137|       171|     154.0|\n",
            "| $90.000-$109.000 |        90|       109|      99.5|\n",
            "|$101.000-$165.000 |       101|       165|     133.0|\n",
            "| $145.000-$225.000|       145|       225|     185.0|\n",
            "|$101.000-$165.000 |       101|       165|     133.0|\n",
            "|  $31.000-$56.000 |        31|        56|      43.5|\n",
            "| $92.000-$155.000 |        92|       155|     123.5|\n",
            "| $75.000-$131.000 |        75|       131|     103.0|\n",
            "| $75.000-$131.000 |        75|       131|     103.0|\n",
            "| $66.000-$112.000 |        66|       112|      89.0|\n",
            "| $79.000-$106.000 |        79|       106|      92.5|\n",
            "| $79.000-$133.000 |        79|       133|     106.0|\n",
            "|$212.000-$331.000 |       212|       331|     271.5|\n",
            "| $90.000-$124.000 |        90|       124|     107.0|\n",
            "+------------------+----------+----------+----------+\n",
            "only showing top 20 rows\n",
            "\n"
          ]
        }
      ]
    },
    {
      "cell_type": "markdown",
      "metadata": {
        "application/vnd.databricks.v1+cell": {
          "cellMetadata": {},
          "inputWidgets": {},
          "nuid": "359b377b-30ee-4c05-b7cd-f0f217a4d9e7",
          "showTitle": false,
          "tableResultSettingsMap": {},
          "title": ""
        },
        "id": "_dSFIm0Pwcxv"
      },
      "source": [
        "33. Mostrar los valores unicos del campo `Founded` y el tipo de dato."
      ]
    },
    {
      "cell_type": "code",
      "source": [
        "df.select(\"Founded\").distinct().show(truncate=False)\n",
        "\n",
        "column_name = \"Founded\"\n",
        "column_type = [f.dataType for f in df.schema.fields if f.name == column_name][0]\n",
        "\n",
        "print(f\"El tipo de dato de la columna '{column_name}' es: {column_type}\")"
      ],
      "metadata": {
        "id": "wp8I8_czgDOk",
        "colab": {
          "base_uri": "https://localhost:8080/"
        },
        "outputId": "d17a8919-eb34-40a8-ed86-5b4d02e42e5e"
      },
      "execution_count": 43,
      "outputs": [
        {
          "output_type": "stream",
          "name": "stdout",
          "text": [
            "+---------+\n",
            "|Founded  |\n",
            "+---------+\n",
            "|1953     |\n",
            "|1957     |\n",
            "|1880     |\n",
            "|1987     |\n",
            "|1956     |\n",
            "|Education|\n",
            "|2016     |\n",
            "|2012     |\n",
            "|1958     |\n",
            "|1972     |\n",
            "|1988     |\n",
            "|1926     |\n",
            "|1911     |\n",
            "|2019     |\n",
            "|1918     |\n",
            "|2017     |\n",
            "|1932     |\n",
            "|1977     |\n",
            "|2014     |\n",
            "|1971     |\n",
            "+---------+\n",
            "only showing top 20 rows\n",
            "\n",
            "El tipo de dato de la columna 'Founded' es: StringType()\n"
          ]
        }
      ]
    },
    {
      "cell_type": "markdown",
      "source": [
        "Como veo que el tipo de datos es string y que hay información incorrecta en un formato no numérico, voy a pasar la columna a entero, para dejar nulos los valores no numéricos y gestionarlos en la siguiente ejecución"
      ],
      "metadata": {
        "id": "d1kyNGiNgQGR"
      }
    },
    {
      "cell_type": "code",
      "source": [
        "df = df.withColumn(\"Founded\", F.col(\"Founded\").cast(\"int\"))\n",
        "\n",
        "df.select(\"Founded\").distinct().show(truncate=False)\n",
        "\n",
        "# contar filas nulas\n",
        "df.where(F.col(\"Founded\").isNull()).count()"
      ],
      "metadata": {
        "id": "cEd9r76Hgf9Q",
        "colab": {
          "base_uri": "https://localhost:8080/"
        },
        "outputId": "e539ea6e-5f50-4d03-e3ff-08064c7dec26"
      },
      "execution_count": 44,
      "outputs": [
        {
          "output_type": "stream",
          "name": "stdout",
          "text": [
            "+-------+\n",
            "|Founded|\n",
            "+-------+\n",
            "|1959   |\n",
            "|1990   |\n",
            "|1896   |\n",
            "|1977   |\n",
            "|1863   |\n",
            "|2003   |\n",
            "|2007   |\n",
            "|2018   |\n",
            "|1974   |\n",
            "|2015   |\n",
            "|1875   |\n",
            "|1955   |\n",
            "|2006   |\n",
            "|1978   |\n",
            "|1820   |\n",
            "|1925   |\n",
            "|1908   |\n",
            "|1961   |\n",
            "|2013   |\n",
            "|1942   |\n",
            "+-------+\n",
            "only showing top 20 rows\n",
            "\n"
          ]
        },
        {
          "output_type": "execute_result",
          "data": {
            "text/plain": [
              "129"
            ]
          },
          "metadata": {},
          "execution_count": 44
        }
      ]
    },
    {
      "cell_type": "markdown",
      "metadata": {
        "application/vnd.databricks.v1+cell": {
          "cellMetadata": {},
          "inputWidgets": {},
          "nuid": "6cd2dd8d-9e02-46e5-b441-0b93d2775f05",
          "showTitle": false,
          "tableResultSettingsMap": {},
          "title": ""
        },
        "id": "t-WiaQ25wcxv"
      },
      "source": [
        "34. Reemplazar '-1' por '2024' en todos los registros del campo `Founded`."
      ]
    },
    {
      "cell_type": "markdown",
      "source": [
        "Ya hicimos esta comprobación anteriormente, pero remplazamos -1 por none, por lo que ahora, ya que he convertido los datos a tipo entero, ese dato se habrá convertido en nulo, entonces voy a cambiar los nulos por 2024"
      ],
      "metadata": {
        "id": "ZXIHLvxzgnJA"
      }
    },
    {
      "cell_type": "code",
      "source": [
        "df = df.withColumn(\"Founded\", F.when(F.col(\"Founded\").isNull(), 2024).otherwise(F.col(\"Founded\")))\n",
        "\n",
        "df.select(\"Founded\").distinct().show(truncate=False)\n",
        "\n",
        "# contar filas nulas nulas\n",
        "df.where(F.col(\"Founded\").isNull()).count()"
      ],
      "metadata": {
        "id": "Ihy4avgvg37f",
        "colab": {
          "base_uri": "https://localhost:8080/"
        },
        "outputId": "14c68358-0e77-4e1a-84ee-a5d383dc5296"
      },
      "execution_count": 45,
      "outputs": [
        {
          "output_type": "stream",
          "name": "stdout",
          "text": [
            "+-------+\n",
            "|Founded|\n",
            "+-------+\n",
            "|1959   |\n",
            "|1896   |\n",
            "|1990   |\n",
            "|1977   |\n",
            "|1863   |\n",
            "|2003   |\n",
            "|2007   |\n",
            "|2018   |\n",
            "|1974   |\n",
            "|2015   |\n",
            "|1875   |\n",
            "|1955   |\n",
            "|2006   |\n",
            "|1978   |\n",
            "|1820   |\n",
            "|1925   |\n",
            "|1908   |\n",
            "|1961   |\n",
            "|2013   |\n",
            "|1942   |\n",
            "+-------+\n",
            "only showing top 20 rows\n",
            "\n"
          ]
        },
        {
          "output_type": "execute_result",
          "data": {
            "text/plain": [
              "0"
            ]
          },
          "metadata": {},
          "execution_count": 45
        }
      ]
    },
    {
      "cell_type": "markdown",
      "metadata": {
        "application/vnd.databricks.v1+cell": {
          "cellMetadata": {},
          "inputWidgets": {},
          "nuid": "e823336d-0258-4af5-8d13-c9a358b9295f",
          "showTitle": false,
          "tableResultSettingsMap": {},
          "title": ""
        },
        "id": "SbBNiISOwcxv"
      },
      "source": [
        "35. Crear una nueva columna o campo que se llame `company_age` con los datos que se deducen del campo `Founded`."
      ]
    },
    {
      "cell_type": "code",
      "source": [
        "df = df.withColumn(\"company_age\", (F.year(F.current_date())) - F.col(\"Founded\"))\n",
        "\n",
        "df.select(\"Founded\", \"company_age\").orderBy(\"company_age\", ascending=False).show()"
      ],
      "metadata": {
        "id": "Ye8JDfKWiMph",
        "colab": {
          "base_uri": "https://localhost:8080/"
        },
        "outputId": "98b6e11e-503d-4c7d-d61e-f24cda161fe8"
      },
      "execution_count": 46,
      "outputs": [
        {
          "output_type": "stream",
          "name": "stdout",
          "text": [
            "+-------+-----------+\n",
            "|Founded|company_age|\n",
            "+-------+-----------+\n",
            "|   1781|        243|\n",
            "|   1781|        243|\n",
            "|   1788|        236|\n",
            "|   1820|        204|\n",
            "|   1830|        194|\n",
            "|   1830|        194|\n",
            "|   1849|        175|\n",
            "|   1850|        174|\n",
            "|   1850|        174|\n",
            "|   1851|        173|\n",
            "|   1851|        173|\n",
            "|   1851|        173|\n",
            "|   1851|        173|\n",
            "|   1851|        173|\n",
            "|   1853|        171|\n",
            "|   1853|        171|\n",
            "|   1853|        171|\n",
            "|   1860|        164|\n",
            "|   1863|        161|\n",
            "|   1875|        149|\n",
            "+-------+-----------+\n",
            "only showing top 20 rows\n",
            "\n"
          ]
        }
      ]
    },
    {
      "cell_type": "markdown",
      "metadata": {
        "application/vnd.databricks.v1+cell": {
          "cellMetadata": {},
          "inputWidgets": {},
          "nuid": "49a8f7ed-434c-4ad1-ba31-eeecd65c117c",
          "showTitle": false,
          "tableResultSettingsMap": {},
          "title": ""
        },
        "id": "RR7TayUmwcxv"
      },
      "source": [
        "36. Crear una columna o campo que se llame: `Job Type` y en cada registro debe ir Senior, Junior o NA según los datos del campo `Job Title`.  \n",
        "- Cambiar 'sr' o 'senior' o 'lead' o 'principal' por `Senior` en el campo `Job Type`. No olvidar las mayúsculas.\n",
        "- Cambiar 'jr' o 'jr.' o cualquier otra variante por `Junior`.  \n",
        "- En cualquier otro caso distinto a los anteriores añadir NA."
      ]
    },
    {
      "cell_type": "code",
      "source": [
        "df = df.withColumn(\"Job Title\", F.lower(F.col(\"Job Title\")))\n",
        "\n",
        "df = df.withColumn(\n",
        "    \"Job Type\",\n",
        "    F.when(\n",
        "        F.lower(F.col(\"Job Title\")).rlike(r\".*\\b(sr|senior|lead|principal)\\b.*\"), \"Senior\"\n",
        "    ).when(\n",
        "        F.lower(F.col(\"Job Title\")).rlike(r\".*\\b(jr|jr\\.)\\b.*\"), \"Junior\"\n",
        "    ).otherwise(\"NA\")\n",
        ")\n",
        "\n",
        "# Mostrar el resultado\n",
        "df.where((F.col(\"Job Type\") == \"Junior\")).select(\"Job Title\", \"Job Type\").show(truncate=False)\n",
        "\n",
        "df.where((F.col(\"Job Type\") == \"Senior\")).select(\"Job Title\", \"Job Type\").show(truncate=False)\n"
      ],
      "metadata": {
        "id": "c_wt9Nsai2GK",
        "colab": {
          "base_uri": "https://localhost:8080/"
        },
        "outputId": "0263eb84-acc9-4066-efc1-ba6761754d18"
      },
      "execution_count": 47,
      "outputs": [
        {
          "output_type": "stream",
          "name": "stdout",
          "text": [
            "+----------------------------------------------------+--------+\n",
            "|Job Title                                           |Job Type|\n",
            "+----------------------------------------------------+--------+\n",
            "|jr. business data analyst (position added 6/12/2020)|Junior  |\n",
            "|jr. data engineer                                   |Junior  |\n",
            "+----------------------------------------------------+--------+\n",
            "\n",
            "+-----------------------------------------------------------------+--------+\n",
            "|Job Title                                                        |Job Type|\n",
            "+-----------------------------------------------------------------+--------+\n",
            "|senior data scientist                                            |Senior  |\n",
            "|senior research statistician- data scientist                     |Senior  |\n",
            "|senior data scientist                                            |Senior  |\n",
            "|manager / lead, data science & analytics                         |Senior  |\n",
            "|sr. ml/data scientist - ai/nlp/chatbot                           |Senior  |\n",
            "|principal data scientist                                         |Senior  |\n",
            "|lead data scientist                                              |Senior  |\n",
            "|sr data scientist                                                |Senior  |\n",
            "|scientist / group lead, cancer biology                           |Senior  |\n",
            "|senior data scientist                                            |Senior  |\n",
            "|senior data scientist - r&d oncology                             |Senior  |\n",
            "|senior machine learning engineer                                 |Senior  |\n",
            "|senior analyst/data scientist                                    |Senior  |\n",
            "|senior data scientist                                            |Senior  |\n",
            "|senior data scientist                                            |Senior  |\n",
            "|sr data analyst                                                  |Senior  |\n",
            "|senior scientist - toxicologist - product integrity (stewardship)|Senior  |\n",
            "|senior principal data scientist (python/r)                       |Senior  |\n",
            "|senior data scientist                                            |Senior  |\n",
            "|scientist / group lead, cancer biology                           |Senior  |\n",
            "+-----------------------------------------------------------------+--------+\n",
            "only showing top 20 rows\n",
            "\n"
          ]
        }
      ]
    },
    {
      "cell_type": "markdown",
      "metadata": {
        "application/vnd.databricks.v1+cell": {
          "cellMetadata": {},
          "inputWidgets": {},
          "nuid": "2c70227b-c16c-4919-9aa2-9bf9514b76dd",
          "showTitle": false,
          "tableResultSettingsMap": {},
          "title": ""
        },
        "id": "z1rRVS1uwcxz"
      },
      "source": [
        "37. Muestra los registros únicos del campo `Job Type`."
      ]
    },
    {
      "cell_type": "code",
      "source": [
        "df.select(\"Job Type\").distinct().show(truncate=False)"
      ],
      "metadata": {
        "id": "pJ2Xog5vm27h",
        "colab": {
          "base_uri": "https://localhost:8080/"
        },
        "outputId": "bb8b9de6-cf88-4050-ea8e-74181cd841af"
      },
      "execution_count": 48,
      "outputs": [
        {
          "output_type": "stream",
          "name": "stdout",
          "text": [
            "+--------+\n",
            "|Job Type|\n",
            "+--------+\n",
            "|Senior  |\n",
            "|NA      |\n",
            "|Junior  |\n",
            "+--------+\n",
            "\n"
          ]
        }
      ]
    },
    {
      "cell_type": "markdown",
      "metadata": {
        "application/vnd.databricks.v1+cell": {
          "cellMetadata": {},
          "inputWidgets": {},
          "nuid": "2cd4dbad-048d-461f-bf2a-f54c557d16f4",
          "showTitle": false,
          "tableResultSettingsMap": {},
          "title": ""
        },
        "id": "x7Rr3sykwcxz"
      },
      "source": [
        "38. Partiendo del campo `Job Description` se extraer todas o las principales skills solicitadas por las empresas, por ejemplo: Python, Spark , Big Data. Cada Skill debe ir en una nueva columna de tipo Binaria ( 0 , 1) o Booleana (True,  False) de modo que cada skill va ser una nueva columna y si esa skill es solicitada por la empresa colocar 1 sino colocar 0. Por ejemplo:  "
      ]
    },
    {
      "cell_type": "markdown",
      "metadata": {
        "application/vnd.databricks.v1+cell": {
          "cellMetadata": {},
          "inputWidgets": {},
          "nuid": "80e86af1-e86e-48db-b9d8-832cee782b01",
          "showTitle": false,
          "tableResultSettingsMap": {},
          "title": ""
        },
        "id": "rYGwTQiawcxz"
      },
      "source": [
        "Por ejemplo:  \n",
        "| Job Title         | Salary Estimate | Job Description                                 | Rating | Company Name       | Size       | Founded | Type of ownership         | Industry                       | Sector                         | Same State      | company_age | Python | Excel |\n",
        "|--------------------|-----------------|-------------------------------------------------|--------|--------------------|------------|---------|---------------------------|--------------------------------|--------------------------------|----------------|-------------|--------|-------|\n",
        "| Sr Data Scientist | 137000-171000   | Description The Senior Data Scientist is resp... | 3.1    | Healthfirst        | 1001-5000  | 1993    | Nonprofit Organization    | Insurance Carriers            | Insurance Carriers            | Same State      | 31          | 0      | 0     |\n",
        "| Data Scientist    | 137000-171000   | Secure our Nation, Ignite your Future Join th... | 4.2    | ManTech            | 5001-10000 | 1968    | Public Company            | Research and Development      | Research and Development      | Same State      | 56          | 0      | 0     |\n",
        "| Data Scientist    | 137000-171000   | Overview Analysis Group is one of the larges... | 3.8    | Analysis Group      | 1001-5000  | 1981    | Private Company           | Consulting                    | Consulting                    | Same State      | 43          | 1      | 1     |\n",
        "| Data Scientist    | 137000-171000   | JOB DESCRIPTION: Do you have a passion for Da... | 3.5    | INFICON            | 501-1000   | 2000    | Public Company            | Electrical and Electronic Manufacturing | Electrical and Electronic Manufacturing | Different State | 24          | 1      | 1     |\n"
      ]
    },
    {
      "cell_type": "code",
      "source": [
        "df = df.withColumn(\"Python\", F.when(F.lower(F.col(\"Job Description\")).rlike(r\".*\\b(python)\\b.*\"), 1).otherwise(0)) \\\n",
        "       .withColumn(\"Scala\", F.when(F.lower(F.col(\"Job Description\")).rlike(r\".*\\b(scala)\\b.*\"), 1).otherwise(0)) \\\n",
        "       .withColumn(\"Pyspark\", F.when(F.lower(F.col(\"Job Description\")).rlike(r\".*\\b(pyspark)\\b.*\"), 1).otherwise(0)) \\\n",
        "       .withColumn(\"PowerBi\", F.when(F.lower(F.col(\"Job Description\")).rlike(r\".*\\b(powerbi)\\b.*\"), 1).otherwise(0)) \\\n",
        "       .withColumn(\"SQL\", F.when(F.lower(F.col(\"Job Description\")).rlike(r\".*\\b(sql)\\b.*\"), 1).otherwise(0)) \\\n",
        "       .withColumn(\"Java\", F.when(F.lower(F.col(\"Job Description\")).rlike(r\".*\\b(java)\\b.*\"), 1).otherwise(0))\n",
        "\n",
        "df.select(\"Python\", \"Scala\", \"Pyspark\", \"PowerBi\", \"SQL\", \"Java\").show()"
      ],
      "metadata": {
        "id": "09jcEBNTnLF1",
        "colab": {
          "base_uri": "https://localhost:8080/"
        },
        "outputId": "4928b36f-27bb-4bbd-93a3-0d5b9bfcb9a4"
      },
      "execution_count": 49,
      "outputs": [
        {
          "output_type": "stream",
          "name": "stdout",
          "text": [
            "+------+-----+-------+-------+---+----+\n",
            "|Python|Scala|Pyspark|PowerBi|SQL|Java|\n",
            "+------+-----+-------+-------+---+----+\n",
            "|     1|    0|      0|      0|  0|   0|\n",
            "|     0|    0|      0|      0|  0|   0|\n",
            "|     0|    0|      0|      0|  0|   0|\n",
            "|     0|    0|      0|      0|  0|   0|\n",
            "|     1|    1|      0|      0|  0|   1|\n",
            "|     0|    0|      0|      0|  0|   0|\n",
            "|     0|    0|      0|      0|  0|   0|\n",
            "|     0|    0|      0|      0|  0|   0|\n",
            "|     1|    0|      0|      0|  1|   1|\n",
            "|     0|    0|      0|      0|  0|   0|\n",
            "|     1|    0|      0|      0|  1|   0|\n",
            "|     1|    0|      0|      0|  0|   0|\n",
            "|     0|    0|      0|      0|  1|   0|\n",
            "|     0|    0|      0|      0|  0|   0|\n",
            "|     1|    0|      0|      0|  1|   0|\n",
            "|     1|    0|      0|      0|  1|   1|\n",
            "|     0|    0|      0|      0|  0|   0|\n",
            "|     1|    0|      0|      0|  0|   0|\n",
            "|     1|    0|      0|      0|  1|   0|\n",
            "|     1|    0|      0|      0|  0|   0|\n",
            "+------+-----+-------+-------+---+----+\n",
            "only showing top 20 rows\n",
            "\n"
          ]
        }
      ]
    },
    {
      "cell_type": "markdown",
      "metadata": {
        "application/vnd.databricks.v1+cell": {
          "cellMetadata": {},
          "inputWidgets": {},
          "nuid": "5609a545-1510-4707-a0bd-a937e37675a4",
          "showTitle": false,
          "tableResultSettingsMap": {},
          "title": ""
        },
        "id": "Onuk3hnDwcxz"
      },
      "source": [
        "39. Exportar dataset final a csv"
      ]
    },
    {
      "cell_type": "code",
      "source": [
        "import pandas as pd\n",
        "\n",
        "df = df.limit(100)\n",
        "df_pandas = df.toPandas()\n",
        "\n",
        "# Exportar a un archivo CSV\n",
        "df_pandas.to_csv(\"output.csv\", index=False)\n",
        "\n",
        "# Descargar el archivo\n",
        "from google.colab import files\n",
        "files.download(\"output.csv\")"
      ],
      "metadata": {
        "id": "ObvkPUa2nbRP",
        "colab": {
          "base_uri": "https://localhost:8080/",
          "height": 17
        },
        "outputId": "4ed7058c-1e16-4308-f37a-b9e927abaa3f"
      },
      "execution_count": 50,
      "outputs": [
        {
          "output_type": "display_data",
          "data": {
            "text/plain": [
              "<IPython.core.display.Javascript object>"
            ],
            "application/javascript": [
              "\n",
              "    async function download(id, filename, size) {\n",
              "      if (!google.colab.kernel.accessAllowed) {\n",
              "        return;\n",
              "      }\n",
              "      const div = document.createElement('div');\n",
              "      const label = document.createElement('label');\n",
              "      label.textContent = `Downloading \"${filename}\": `;\n",
              "      div.appendChild(label);\n",
              "      const progress = document.createElement('progress');\n",
              "      progress.max = size;\n",
              "      div.appendChild(progress);\n",
              "      document.body.appendChild(div);\n",
              "\n",
              "      const buffers = [];\n",
              "      let downloaded = 0;\n",
              "\n",
              "      const channel = await google.colab.kernel.comms.open(id);\n",
              "      // Send a message to notify the kernel that we're ready.\n",
              "      channel.send({})\n",
              "\n",
              "      for await (const message of channel.messages) {\n",
              "        // Send a message to notify the kernel that we're ready.\n",
              "        channel.send({})\n",
              "        if (message.buffers) {\n",
              "          for (const buffer of message.buffers) {\n",
              "            buffers.push(buffer);\n",
              "            downloaded += buffer.byteLength;\n",
              "            progress.value = downloaded;\n",
              "          }\n",
              "        }\n",
              "      }\n",
              "      const blob = new Blob(buffers, {type: 'application/binary'});\n",
              "      const a = document.createElement('a');\n",
              "      a.href = window.URL.createObjectURL(blob);\n",
              "      a.download = filename;\n",
              "      div.appendChild(a);\n",
              "      a.click();\n",
              "      div.remove();\n",
              "    }\n",
              "  "
            ]
          },
          "metadata": {}
        },
        {
          "output_type": "display_data",
          "data": {
            "text/plain": [
              "<IPython.core.display.Javascript object>"
            ],
            "application/javascript": [
              "download(\"download_626cb318-4a9d-4465-b5a3-f396d3ff84d7\", \"output.csv\", 351137)"
            ]
          },
          "metadata": {}
        }
      ]
    },
    {
      "cell_type": "markdown",
      "metadata": {
        "application/vnd.databricks.v1+cell": {
          "cellMetadata": {},
          "inputWidgets": {},
          "nuid": "41fe24a6-5fc3-4ec4-9b76-56fd2b3e36ba",
          "showTitle": false,
          "tableResultSettingsMap": {},
          "title": ""
        },
        "id": "SZPMMumowcxz"
      },
      "source": [
        "40. Extraer todos los insights posibles que sean de valor o utilidad. Cree nuevas columnas, agrupar,  filtrar hacer varios plots que muestren dichos insights que sean de utilidad para una empresa o para un usuario. Elabore conclusiones con los insights encontrados."
      ]
    },
    {
      "cell_type": "markdown",
      "source": [
        "Para analizar que columnas nuevas puedo obtener, primero voy a visualizar los datos para tener una buena noción de qué posibilidades tengo y qué ventanas de negocios puedo crear"
      ],
      "metadata": {
        "id": "SuGXPb4TugUK"
      }
    },
    {
      "cell_type": "code",
      "source": [
        "df.show()"
      ],
      "metadata": {
        "id": "sOAByAmpt7xO",
        "colab": {
          "base_uri": "https://localhost:8080/"
        },
        "outputId": "badd13ac-97e8-4c5a-edee-bdb21d975981"
      },
      "execution_count": 51,
      "outputs": [
        {
          "output_type": "stream",
          "name": "stdout",
          "text": [
            "+-----+--------------------+------------------+--------------------+------+--------------------+----------------+----------+-------+--------------------+--------------------+--------------------+--------------------+-------------+-----+------------------+----------+----------+----------+-----------+--------+------+-----+-------+-------+---+----+\n",
            "|index|           Job Title|   Salary Estimate|     Job Description|Rating|        Company Name|    Headquarters|      Size|Founded|   Type of ownership|            Industry|              Sector|             Revenue|         City|State|Headquarters State|min_salary|max_salary|avg_salary|company_age|Job Type|Python|Scala|Pyspark|PowerBi|SQL|Java|\n",
            "+-----+--------------------+------------------+--------------------+------+--------------------+----------------+----------+-------+--------------------+--------------------+--------------------+--------------------+-------------+-----+------------------+----------+----------+----------+-----------+--------+------+-----+-------+-------+---+----+\n",
            "|   56|senior data scien...| $75.000-$131.000 |Benson Hill empow...|  35.0|      Benson Hill3.5|     Saint Louis|   201-500|   2012|     Private Company|Biotech and Pharm...|Biotech and Pharm...|     1 to 5 million |  Saint Louis|   MO|                MO|        75|       131|     103.0|         12|  Senior|     1|    0|      0|      0|  0|   0|\n",
            "|  282|      data scientist| $91.000-$150.000 |Greetings from Tr...| 38.84|      Trovetechs Inc|    Hillsborough|   Unknown|   2024|     Private Company|       Not Available|       Not Available|                N/A |San Francisco|   CA|                NJ|        91|       150|     120.5|          0|      NA|     0|    0|      0|      0|  0|   0|\n",
            "|   74|purification scie...| $79.000-$131.000 |New England Biola...|  49.0|New England Biola...|         Ipswich|   201-500|   1974|     Private Company|Biotech and Pharm...|Biotech and Pharm...|                N/A |      Ipswich|   MA|                MA|        79|       131|     105.0|         50|      NA|     0|    0|      0|      0|  0|   0|\n",
            "|  177|data scientist - ...|  $56.000-$97.000 |Organization and ...|  37.0|             PNNL3.7|        Richland| 1001-5000|   1965|          Government|              Energy|Oil, Gas, Energy ...|500 million to 1 ...|     Richland|   WA|                WA|        56|        97|      76.5|         59|      NA|     0|    0|      0|      0|  0|   0|\n",
            "|  457|      data scientist| $69.000-$116.000 |Work in a fast gr...| 38.84|       Stride Search|Westlake Village|      1-50|   2024|     Private Company|       Not Available|       Not Available|Less than 1 million |San Francisco|   CA|                CA|        69|       116|      92.5|          0|      NA|     1|    1|      0|      0|  0|   1|\n",
            "|  662|      data scientist|$105.000-$167.000 |Solution IT Inc. ...|  44.0| SolutionIT, Inc.4.4|      Wilmington|    51-200|   2024|     Private Company|       Not Available|       Not Available|                N/A |       Edison|   NJ|                MA|       105|       167|     136.0|          0|      NA|     0|    0|      0|      0|  0|   0|\n",
            "|   19|medical lab scien...|$137.000-$171.000 |Responsibilities ...|  35.0|     Tower Health3.5|         Reading|5001-10000|   2017|Nonprofit Organiz...|Health Care Servi...|         Health Care|                N/A |   West Grove|   PA|                PA|       137|       171|     154.0|          7|      NA|     0|    0|      0|      0|  0|   0|\n",
            "|  145|research scientis...| $90.000-$109.000 |We would ideally ...|  38.0|          Evidera3.8|        Bethesda|  501-1000|   2013|            Business|Biotech and Pharm...|Biotech and Pharm...| 100 to 500 million |     Bethesda|   MD|                MD|        90|       109|      99.5|         11|      NA|     0|    0|      0|      0|  0|   0|\n",
            "|  157|experienced data ...|$101.000-$165.000 |Please Apply usin...|  44.0|Guzman & Griffin ...|    Mays Landing|      1-50|   1997|     Private Company|    Federal Agencies|          Government|                N/A |   Washington|   DC|                NJ|       101|       165|     133.0|         27|      NA|     1|    0|      0|      0|  1|   1|\n",
            "|  303|      data scientist| $145.000-$225.000|Role Description ...|  32.0|       Triplebyte3.2|   San Francisco|    51-200|   2015|     Private Company|Computer Hardware...|Information Techn...|                N/A |      Chicago|   IL|                CA|       145|       225|     185.0|          9|      NA|     0|    0|      0|      0|  0|   0|\n",
            "|  176|       data engineer|$101.000-$165.000 |Building Bridges,...|  44.0|Resurgent Capital...|      Greenville|   201-500|   1998|     Private Company|Venture Capital a...|             Finance|  50 to 100 million |   Cincinnati|   OH|                SC|       101|       165|     133.0|         26|      NA|     1|    0|      0|      0|  1|   0|\n",
            "|  478|      data scientist|  $31.000-$56.000 |Responsibilities ...|  41.0|IntelliPro Group ...|     Santa Clara|   201-500|   2024|     Private Company|       Not Available|       Not Available|   10 to 25 million |  Santa Clara|   CA|                CA|        31|        56|      43.5|          0|      NA|     1|    0|      0|      0|  0|   0|\n",
            "|  637|      data scientist| $92.000-$155.000 |Job Description W...| 38.84|            Sophinea|       Chantilly|      1-50|   2024|             Unknown|       Not Available|       Not Available|                N/A |    Chantilly|   VA|                VA|        92|       155|     123.5|          0|      NA|     0|    0|      0|      0|  1|   0|\n",
            "|   33|senior research s...| $75.000-$131.000 |Acuity is seeking...|  48.0| Acuity Insurance4.8|       Sheboygan| 1001-5000|   1925|     Private Company|  Insurance Carriers|           Insurance|     1 to 2 billion |    Sheboygan|   WI|                WI|        75|       131|     103.0|         99|  Senior|     0|    0|      0|      0|  0|   0|\n",
            "|   40|        data analyst| $75.000-$131.000 |Data Analyst Loca...|  31.0|Cambridge Associa...|          Boston|  501-1000|   1973|     Private Company|Investment Bankin...|             Finance| 100 to 500 million |       Boston|   MA|                MA|        75|       131|     103.0|         51|      NA|     1|    0|      0|      0|  1|   0|\n",
            "|  542|computer scientis...| $66.000-$112.000 |Join our Intellig...|  39.0|Southwest Researc...|     San Antonio| 1001-5000|   1947|Nonprofit Organiz...|Research and Deve...|   Business Services|500 million to 1 ...|  San Antonio|   TX|                TX|        66|       112|      89.0|         77|      NA|     1|    0|      0|      0|  1|   1|\n",
            "|  206|data science inst...| $79.000-$106.000 |Join our team ded...|  45.0|          Novetta4.5|         Mc Lean|  501-1000|   2012|     Private Company|Enterprise Softwa...|Information Techn...| 100 to 500 million |      Herndon|   VA|                VA|        79|       106|      92.5|         12|      NA|     0|    0|      0|      0|  0|   0|\n",
            "|  428|senior data scien...| $79.000-$133.000 |Benson Hill empow...|  35.0|      Benson Hill3.5|     Saint Louis|   201-500|   2012|     Private Company|Biotech and Pharm...|Biotech and Pharm...|     1 to 5 million |  Saint Louis|   MO|                MO|        79|       133|     106.0|         12|  Senior|     1|    0|      0|      0|  0|   0|\n",
            "|  521|      data scientist|$212.000-$331.000 |The work is in su...|  38.0|    Aveshka, Inc.3.8|       Arlington|    51-200|   2010|      Public Company|         IT Services|Information Techn...|   10 to 25 million |   Washington|   DC|                VA|       212|       331|     271.5|         14|      NA|     1|    0|      0|      0|  1|   0|\n",
            "|  253|      data scientist| $90.000-$124.000 |You are key to he...|  41.0|           Gallup4.1|      Washington| 1001-5000|   1935|     Private Company|          Consulting|   Business Services|                N/A |     New York|   NY|                DC|        90|       124|     107.0|         89|      NA|     1|    0|      0|      0|  0|   0|\n",
            "+-----+--------------------+------------------+--------------------+------+--------------------+----------------+----------+-------+--------------------+--------------------+--------------------+--------------------+-------------+-----+------------------+----------+----------+----------+-----------+--------+------+-----+-------+-------+---+----+\n",
            "only showing top 20 rows\n",
            "\n"
          ]
        }
      ]
    },
    {
      "cell_type": "markdown",
      "source": [
        "Vamos a crear una columna que sea competitividad salarial, la cual va a ser un valor que mida cuanto de competitivo es el salario de esa oferta respecto a la media de las ofertas de esa industria"
      ],
      "metadata": {
        "id": "uyny7Mjpus7q"
      }
    },
    {
      "cell_type": "code",
      "source": [
        "# sacamos el salario medio de cada sector\n",
        "sector_avg_salary = df.groupBy(\"Sector\").agg(F.avg(\"avg_salary\").alias(\"sector_avg_salary\"))\n",
        "\n",
        "# Unir con el DataFrame original\n",
        "df = df.join(sector_avg_salary, on=\"Sector\", how=\"inner\")\n",
        "\n",
        "# Calcular la competitividad salarial\n",
        "df = df.withColumn(\n",
        "    \"Salary Competitiveness\",\n",
        "    ((F.col(\"avg_salary\") - F.col(\"sector_avg_salary\")) / F.col(\"sector_avg_salary\"))\n",
        ")\n",
        "\n",
        "df.select(\"Sector\", \"avg_salary\", \"sector_avg_salary\", \"Salary Competitiveness\").show()"
      ],
      "metadata": {
        "id": "RI5O2J6Quwr8",
        "colab": {
          "base_uri": "https://localhost:8080/"
        },
        "outputId": "721d5fac-b3a8-480c-c9ed-dda685952cc3"
      },
      "execution_count": 52,
      "outputs": [
        {
          "output_type": "stream",
          "name": "stdout",
          "text": [
            "+--------------------+----------+------------------+----------------------+\n",
            "|              Sector|avg_salary| sector_avg_salary|Salary Competitiveness|\n",
            "+--------------------+----------+------------------+----------------------+\n",
            "|Biotech and Pharm...|     103.0|109.23076923076923|  -0.05704225352112...|\n",
            "|       Not Available|     120.5|137.79166666666666|   -0.1254913819171454|\n",
            "|Biotech and Pharm...|     105.0|109.23076923076923|  -0.03873239436619...|\n",
            "|Oil, Gas, Energy ...|      76.5|107.66666666666667|   -0.2894736842105263|\n",
            "|       Not Available|      92.5|137.79166666666666|   -0.3286967039612942|\n",
            "|       Not Available|     136.0|137.79166666666666|  -0.01300272149984...|\n",
            "|         Health Care|     154.0|             151.0|  0.019867549668874173|\n",
            "|Biotech and Pharm...|      99.5|109.23076923076923|  -0.08908450704225349|\n",
            "|          Government|     133.0|            134.75|  -0.01298701298701...|\n",
            "|Information Techn...|     185.0|             128.7|   0.43745143745143755|\n",
            "|             Finance|     133.0|            129.25|  0.029013539651837523|\n",
            "|       Not Available|      43.5|137.79166666666666|   -0.6843060175385546|\n",
            "|       Not Available|     123.5|137.79166666666666|  -0.10371938312670087|\n",
            "|           Insurance|     103.0|             124.1|  -0.17002417405318287|\n",
            "|             Finance|     103.0|            129.25|  -0.20309477756286268|\n",
            "|   Business Services|      89.0|119.66666666666667|   -0.2562674094707521|\n",
            "|Information Techn...|      92.5|             128.7|   -0.2812742812742812|\n",
            "|Biotech and Pharm...|     106.0|109.23076923076923|  -0.02957746478873...|\n",
            "|Information Techn...|     271.5|             128.7|    1.1095571095571097|\n",
            "|   Business Services|     107.0|119.66666666666667|  -0.10584958217270199|\n",
            "+--------------------+----------+------------------+----------------------+\n",
            "only showing top 20 rows\n",
            "\n"
          ]
        }
      ]
    },
    {
      "cell_type": "markdown",
      "source": [
        "Una vez creado el insight, vamos a crear una gráfica que muestre la media de  salarios ofrecidos respecto a cada sector"
      ],
      "metadata": {
        "id": "gUZOJoILF_Ei"
      }
    },
    {
      "cell_type": "code",
      "source": [
        "import pandas as pd\n",
        "import matplotlib.pyplot as plt\n",
        "\n",
        "# Agrupar por industria y calcular el promedio de salario, redondeando a 2 decimales\n",
        "df_out = df.groupBy(\"Sector\").agg(F.round(F.avg(\"avg_salary\"), 2).alias(\"media_sector\"))\n",
        "\n",
        "# Convertir el DataFrame de PySpark a Pandas para graficar\n",
        "df_pd = df_out.toPandas()\n",
        "\n",
        "# Ordenar el DataFrame por salario promedio para una visualización clara\n",
        "df_pd = df_pd.sort_values(by=\"media_sector\", ascending=False)\n",
        "\n",
        "# Crear la gráfica\n",
        "plt.figure(figsize=(12, 6))\n",
        "plt.barh(df_pd[\"Sector\"], df_pd[\"media_sector\"], color='skyblue', edgecolor='black')\n",
        "plt.title('Media Salarial por Sector', fontsize=14)\n",
        "plt.xlabel('Media Salarial', fontsize=12)\n",
        "plt.ylabel('Sector', fontsize=12)\n",
        "plt.grid(axis='x', linestyle='--', alpha=0.7)\n",
        "plt.tight_layout()\n",
        "\n",
        "# Mostrar la gráfica\n",
        "plt.show()"
      ],
      "metadata": {
        "id": "-lE0tdeKOMHD",
        "colab": {
          "base_uri": "https://localhost:8080/",
          "height": 607
        },
        "outputId": "022d2acb-a10d-4612-d264-81359c006374"
      },
      "execution_count": 53,
      "outputs": [
        {
          "output_type": "display_data",
          "data": {
            "text/plain": [
              "<Figure size 1200x600 with 1 Axes>"
            ],
            "image/png": "[encoded data removed]"
          },
          "metadata": {}
        }
      ]
    },
    {
      "cell_type": "markdown",
      "source": [
        "Como vemos, los sectores que ahora mismo están pagando más en el mercado es manufacturing. Por otro lado, el sector que menos remunera, sería Oil, Gas, Energies and Utilities"
      ],
      "metadata": {
        "id": "m2wEZM7TIh2w"
      }
    },
    {
      "cell_type": "markdown",
      "source": [
        "Vamos a crear ahora una gráfica donde nos muestre el salario mínimo distinguiendo entre junior y senior"
      ],
      "metadata": {
        "id": "Sac4_RGew_I5"
      }
    },
    {
      "cell_type": "code",
      "source": [
        "import matplotlib.pyplot as plt\n",
        "import seaborn as sns\n",
        "import pandas as pd\n",
        "\n",
        "# Paso 1: Agrupar por 'Job Type' y 'Job Title' y calcular el salario mínimo promedio\n",
        "df_grouped = df.groupBy(\"Job Type\") \\\n",
        "    .agg(F.avg(\"min_salary\").alias(\"avg_min_salary\"))\n",
        "\n",
        "# Paso 2: Convertir a pandas para graficar\n",
        "df_pandas = df_grouped.toPandas()\n",
        "\n",
        "# Paso 3: Filtrar por los valores 'Junior' y 'Senior' (si tienes otros tipos, ajusta)\n",
        "df_filtered = df_pandas[df_pandas['Job Type'].isin(['Junior', 'Senior'])]\n",
        "\n",
        "# Paso 4: Crear el gráfico (boxplot para comparar la distribución de salarios)\n",
        "plt.figure(figsize=(12, 8))\n",
        "sns.boxplot(x='Job Type', y='avg_min_salary', data=df_filtered, hue='Job Type', palette=\"Set2\", legend=False)\n",
        "\n",
        "# Personalizar el gráfico\n",
        "plt.title('Distribución de Salario Mínimo Promedio por Job Type (Junior vs Senior)', fontsize=16)\n",
        "plt.xlabel('Job Type', fontsize=12)\n",
        "plt.ylabel('Salario Mínimo Promedio en miles de dólares', fontsize=12)\n",
        "\n",
        "# Mostrar el gráfico\n",
        "plt.tight_layout()\n",
        "plt.show()"
      ],
      "metadata": {
        "id": "obqMQOz7xrEr",
        "colab": {
          "base_uri": "https://localhost:8080/",
          "height": 807
        },
        "outputId": "42031479-dbe9-4976-cc38-775ec32c6bbf"
      },
      "execution_count": 54,
      "outputs": [
        {
          "output_type": "display_data",
          "data": {
            "text/plain": [
              "<Figure size 1200x800 with 1 Axes>"
            ],
            "image/png": "[encoded data removed]"
          },
          "metadata": {}
        }
      ]
    },
    {
      "cell_type": "markdown",
      "source": [
        "Como podemos apreciar, el salario mínimo de los seniors es muchísimo mayor al de los Junior 😢"
      ],
      "metadata": {
        "id": "JAO4at1bzc_4"
      }
    },
    {
      "cell_type": "markdown",
      "source": [
        "Ahora vamos a crear un gráfico donde veamos qué lenguaje está mas demandado, para ver qué aptitud sería más interesante desarrollar"
      ],
      "metadata": {
        "id": "NLGOTlUvzRUs"
      }
    },
    {
      "cell_type": "code",
      "source": [
        "import matplotlib.pyplot as plt\n",
        "import seaborn as sns\n",
        "import pandas as pd\n",
        "from pyspark.sql import functions as F\n",
        "\n",
        "# Paso 1: Seleccionar las columnas de lenguajes\n",
        "df_selected = df.select(\"Python\", \"Scala\", \"Pyspark\", \"PowerBi\", \"SQL\", \"Java\")\n",
        "\n",
        "# Paso 2: Contar cuántos trabajos requieren cada lenguaje (sumar las columnas)\n",
        "df_count = df_selected.agg(\n",
        "    F.sum(\"Python\").alias(\"Python_count\"),\n",
        "    F.sum(\"Scala\").alias(\"Scala_count\"),\n",
        "    F.sum(\"Pyspark\").alias(\"Pyspark_count\"),\n",
        "    F.sum(\"PowerBi\").alias(\"PowerBi_count\"),\n",
        "    F.sum(\"SQL\").alias(\"SQL_count\"),\n",
        "    F.sum(\"Java\").alias(\"Java_count\")\n",
        ")\n",
        "\n",
        "# Paso 3: Convertir el resultado a pandas\n",
        "df_pandas = df_count.toPandas()\n",
        "\n",
        "# Paso 4: Transformar el DataFrame para tener una fila por lenguaje y su respectivo conteo\n",
        "df_pandas_melted = df_pandas.melt(var_name=\"Language\", value_name=\"Job Count\")\n",
        "\n",
        "# Paso 5: Crear el gráfico de barras\n",
        "plt.figure(figsize=(8, 6))\n",
        "sns.barplot(x='Language', y='Job Count', data=df_pandas_melted, palette=\"Set2\")\n",
        "\n",
        "# Personalizar el gráfico\n",
        "plt.title('Cantidad de Trabajos que Requieren Cada Lenguaje', fontsize=16)\n",
        "plt.xlabel('Lenguaje', fontsize=12)\n",
        "plt.ylabel('Cantidad de Trabajos', fontsize=12)\n",
        "\n",
        "# Mostrar el gráfico\n",
        "plt.tight_layout()\n",
        "plt.show()\n"
      ],
      "metadata": {
        "id": "7U_dD1TBzNCD",
        "colab": {
          "base_uri": "https://localhost:8080/",
          "height": 694
        },
        "outputId": "7b21fead-6249-4948-e4bc-b8dc4baaacfb"
      },
      "execution_count": 55,
      "outputs": [
        {
          "output_type": "stream",
          "name": "stderr",
          "text": [
            "<ipython-input-55-e6235cc5798b>:27: FutureWarning: \n",
            "\n",
            "Passing `palette` without assigning `hue` is deprecated and will be removed in v0.14.0. Assign the `x` variable to `hue` and set `legend=False` for the same effect.\n",
            "\n",
            "  sns.barplot(x='Language', y='Job Count', data=df_pandas_melted, palette=\"Set2\")\n"
          ]
        },
        {
          "output_type": "display_data",
          "data": {
            "text/plain": [
              "<Figure size 800x600 with 1 Axes>"
            ],
            "image/png": "[encoded data removed]"
          },
          "metadata": {}
        }
      ]
    },
    {
      "cell_type": "markdown",
      "source": [
        "Vemos que python es un claro ganador con casi 70 ofertas de trabajo que demandan este lenguaje. Lo siguen SQL y Java, siendo ambos bastante solicitados"
      ],
      "metadata": {
        "id": "tvQnis-izyB1"
      }
    },
    {
      "cell_type": "markdown",
      "source": [
        "Por último, vamos a sacar un gráfico de quesos, en donde veamos el porcentaje de ofertas por cada Job Type que encontramos en los anuncios ofertantes. Es decir, la cantidad de ofertas para Junior, Senior y NA (ninguna)"
      ],
      "metadata": {
        "id": "CxewQ3GBfwpE"
      }
    },
    {
      "cell_type": "code",
      "source": [
        "import matplotlib.pyplot as plt\n",
        "from pyspark.sql import functions as F\n",
        "\n",
        "# Paso 1: Agrupar por Job Type y contar las ofertas\n",
        "df_job_type = df.groupBy(\"Job Type\").agg(F.count(\"*\").alias(\"count\"))\n",
        "\n",
        "# Paso 2: Calcular el total y el porcentaje\n",
        "total_count = df_job_type.agg(F.sum(\"count\").alias(\"total\")).collect()[0][\"total\"]\n",
        "df_job_type = df_job_type.withColumn(\"percentage\", (F.col(\"count\") / total_count) * 100)\n",
        "\n",
        "# Paso 3: Convertir a Pandas\n",
        "df_pandas = df_job_type.toPandas()\n",
        "\n",
        "# Paso 4: Ordenar los datos por porcentaje (opcional, para estética)\n",
        "df_pandas = df_pandas.sort_values(by='percentage', ascending=False)\n",
        "\n",
        "# Paso 5: Crear el gráfico de pastel\n",
        "plt.figure(figsize=(8, 8))  # Ajustar el tamaño del gráfico\n",
        "colors = ['#ff9999', '#66b3ff', '#99ff99']  # Paleta personalizada para 3 categorías\n",
        "\n",
        "# Crear el gráfico de pastel\n",
        "plt.pie(\n",
        "    df_pandas['percentage'],\n",
        "    labels=df_pandas['Job Type'],  # Etiquetas directamente en el gráfico\n",
        "    autopct='%1.1f%%',  # Mostrar porcentajes en los segmentos\n",
        "    startangle=140,\n",
        "    colors=colors,\n",
        "    textprops={'fontsize': 12}  # Tamaño de fuente para las etiquetas\n",
        ")\n",
        "\n",
        "# Personalizar el gráfico\n",
        "plt.title(\"Porcentaje de Ofertas por Job Type\", fontsize=16)\n",
        "plt.axis('equal')  # Asegurar que sea un círculo perfecto\n",
        "\n",
        "# Mostrar el gráfico\n",
        "plt.tight_layout()\n",
        "plt.show()\n"
      ],
      "metadata": {
        "colab": {
          "base_uri": "https://localhost:8080/",
          "height": 807
        },
        "id": "BYCmezM0hl4U",
        "outputId": "e79a347a-8e22-4630-ed8a-223160720058"
      },
      "execution_count": 61,
      "outputs": [
        {
          "output_type": "display_data",
          "data": {
            "text/plain": [
              "<Figure size 800x800 with 1 Axes>"
            ],
            "image/png": "[encoded data removed]"
          },
          "metadata": {}
        }
      ]
    },
    {
      "cell_type": "markdown",
      "source": [
        "Vemos como vuelve a predominar la apariencia de trabajos de Senior respecto a los Junior"
      ],
      "metadata": {
        "id": "EdcCbpXChq_6"
      }
    }
  ],
  "metadata": {
    "application/vnd.databricks.v1+notebook": {
      "dashboards": [],
      "environmentMetadata": null,
      "language": "python",
      "notebookMetadata": {
        "pythonIndentUnit": 4
      },
      "notebookName": "Caso_4",
      "widgets": {}
    },
    "colab": {
      "provenance": [],
      "gpuType": "T4"
    },
    "language_info": {
      "name": "python"
    },
    "kernelspec": {
      "name": "python3",
      "display_name": "Python 3"
    }
  },
  "nbformat": 4,
  "nbformat_minor": 0
}