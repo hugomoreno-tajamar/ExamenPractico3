{
  "cells": [
    {
      "cell_type": "markdown",
      "metadata": {
        "application/vnd.databricks.v1+cell": {
          "cellMetadata": {
            "byteLimit": 2048000,
            "rowLimit": 10000
          },
          "inputWidgets": {},
          "nuid": "1f826429-1b0b-452b-98d5-d724d06f8ba3",
          "showTitle": false,
          "tableResultSettingsMap": {},
          "title": ""
        },
        "id": "9vYpqkavlpwZ"
      },
      "source": [
        "# Explorando tendencias de mercado de Airbnb"
      ]
    },
    {
      "cell_type": "markdown",
      "metadata": {
        "application/vnd.databricks.v1+cell": {
          "cellMetadata": {},
          "inputWidgets": {},
          "nuid": "30017573-ddfa-442e-931f-69e52cab3f33",
          "showTitle": false,
          "tableResultSettingsMap": {},
          "title": ""
        },
        "id": "6l87q-iRlpwb"
      },
      "source": [
        "La ciudad de Nueva York tiene una variedad de anuncios de Airbnb para satisfacer la alta demanda de alojamiento temporal para viajeros, con diferentes niveles de precios, tipos de habitaciones y ubicaciones."
      ]
    },
    {
      "cell_type": "markdown",
      "metadata": {
        "application/vnd.databricks.v1+cell": {
          "cellMetadata": {},
          "inputWidgets": {},
          "nuid": "9113a8f5-7192-4887-b383-2d285a405f0f",
          "showTitle": false,
          "tableResultSettingsMap": {},
          "title": ""
        },
        "id": "AJ9A1PWWlpwb"
      },
      "source": [
        "La ciudad de Nueva York, es una de las ciudades más visitadas del mundo. Hay muchos anuncios de Airbnb en la ciudad de Nueva York para satisfacer la alta demanda de alojamiento temporal para viajeros, que puede durar desde unas pocas noches hasta muchos meses. En este proyecto, analizaremos más de cerca el mercado de Airbnb de Nueva York combinando datos de varios tipos de archivos como .csv, .tsv y .xlsx.\n",
        "\n",
        "Recuerde que los archivos CSV, TSV y Excel son tres formatos comunes para almacenar datos. Tiene a su disposición [tres archivos](https://tajamar365.sharepoint.com/:f:/s/3405-MasterIA2024-2025/EoXMgjAJLLNJqWDyKDig8kABSUkpWj_HGQjl267qNnHS9g?e=foxjFc) que contienen datos sobre los anuncios de Airbnb de 2019:  \n",
        "\n",
        "- `airbnb_price.csv `: Este es un archivo CSV que contiene datos sobre precios y ubicaciones de anuncios de Airbnb.  \n",
        "  1. `listing_id`: identificador único del anuncio  \n",
        "  2. `price`: precio del anuncio por noche en USD  \n",
        "  3. `nbhood_full`: nombre del distrito y del barrio donde se encuentra el anuncio  \n",
        "    \n",
        "\n",
        "- `airbnb_room_type.xlsx`: Este es un archivo Excel que contiene datos sobre las descripciones de los anuncios de Airbnb y los tipos de habitaciones.  \n",
        "  1. `listing_id`: identificador único del anuncio  \n",
        "  2. `description`: descripción del anuncio     \n",
        "  3. `room_type`: Airbnb tiene tres tipos de habitaciones: habitaciones compartidas, habitaciones privadas y casas o apartamentos completos\n",
        "\n",
        "\n",
        "- `airbnb_last_review.tsv`: Este es un archivo TSV que contiene datos sobre los nombres de los anfitriones de Airbnb y las fechas de revisión.  \n",
        "  1. `listing_id`: identificador único del anuncio  \n",
        "  2. `host_name`:  nombre del anfitrión del anuncio  \n",
        "  3. `last_review`: echa en la que se revisó el anuncio por última vez   "
      ]
    },
    {
      "cell_type": "code",
      "source": [
        "from pyspark.sql import SparkSession\n",
        "\n",
        "# Crear una sesión de Spark\n",
        "spark = SparkSession.builder.appName(\"AirBNB\").getOrCreate()"
      ],
      "metadata": {
        "id": "NVnvNow1l42o"
      },
      "execution_count": 1,
      "outputs": []
    },
    {
      "cell_type": "code",
      "source": [
        "from google.colab import files\n",
        "\n",
        "# Subir los archivos CSV\n",
        "uploaded = files.upload()"
      ],
      "metadata": {
        "colab": {
          "base_uri": "https://localhost:8080/",
          "height": 142
        },
        "id": "Zif3l_s-l-nS",
        "outputId": "511e5eec-c141-46a7-f775-5315181ed890"
      },
      "execution_count": 2,
      "outputs": [
        {
          "output_type": "display_data",
          "data": {
            "text/plain": [
              "<IPython.core.display.HTML object>"
            ],
            "text/html": [
              "\n",
              "     <input type=\"file\" id=\"files-14a8ab03-416c-4bdf-a7f3-b12f41268ac2\" name=\"files[]\" multiple disabled\n",
              "        style=\"border:none\" />\n",
              "     <output id=\"result-14a8ab03-416c-4bdf-a7f3-b12f41268ac2\">\n",
              "      Upload widget is only available when the cell has been executed in the\n",
              "      current browser session. Please rerun this cell to enable.\n",
              "      </output>\n",
              "      <script>// Copyright 2017 Google LLC\n",
              "//\n",
              "// Licensed under the Apache License, Version 2.0 (the \"License\");\n",
              "// you may not use this file except in compliance with the License.\n",
              "// You may obtain a copy of the License at\n",
              "//\n",
              "//      http://www.apache.org/licenses/LICENSE-2.0\n",
              "//\n",
              "// Unless required by applicable law or agreed to in writing, software\n",
              "// distributed under the License is distributed on an \"AS IS\" BASIS,\n",
              "// WITHOUT WARRANTIES OR CONDITIONS OF ANY KIND, either express or implied.\n",
              "// See the License for the specific language governing permissions and\n",
              "// limitations under the License.\n",
              "\n",
              "/**\n",
              " * @fileoverview Helpers for google.colab Python module.\n",
              " */\n",
              "(function(scope) {\n",
              "function span(text, styleAttributes = {}) {\n",
              "  const element = document.createElement('span');\n",
              "  element.textContent = text;\n",
              "  for (const key of Object.keys(styleAttributes)) {\n",
              "    element.style[key] = styleAttributes[key];\n",
              "  }\n",
              "  return element;\n",
              "}\n",
              "\n",
              "// Max number of bytes which will be uploaded at a time.\n",
              "const MAX_PAYLOAD_SIZE = 100 * 1024;\n",
              "\n",
              "function _uploadFiles(inputId, outputId) {\n",
              "  const steps = uploadFilesStep(inputId, outputId);\n",
              "  const outputElement = document.getElementById(outputId);\n",
              "  // Cache steps on the outputElement to make it available for the next call\n",
              "  // to uploadFilesContinue from Python.\n",
              "  outputElement.steps = steps;\n",
              "\n",
              "  return _uploadFilesContinue(outputId);\n",
              "}\n",
              "\n",
              "// This is roughly an async generator (not supported in the browser yet),\n",
              "// where there are multiple asynchronous steps and the Python side is going\n",
              "// to poll for completion of each step.\n",
              "// This uses a Promise to block the python side on completion of each step,\n",
              "// then passes the result of the previous step as the input to the next step.\n",
              "function _uploadFilesContinue(outputId) {\n",
              "  const outputElement = document.getElementById(outputId);\n",
              "  const steps = outputElement.steps;\n",
              "\n",
              "  const next = steps.next(outputElement.lastPromiseValue);\n",
              "  return Promise.resolve(next.value.promise).then((value) => {\n",
              "    // Cache the last promise value to make it available to the next\n",
              "    // step of the generator.\n",
              "    outputElement.lastPromiseValue = value;\n",
              "    return next.value.response;\n",
              "  });\n",
              "}\n",
              "\n",
              "/**\n",
              " * Generator function which is called between each async step of the upload\n",
              " * process.\n",
              " * @param {string} inputId Element ID of the input file picker element.\n",
              " * @param {string} outputId Element ID of the output display.\n",
              " * @return {!Iterable<!Object>} Iterable of next steps.\n",
              " */\n",
              "function* uploadFilesStep(inputId, outputId) {\n",
              "  const inputElement = document.getElementById(inputId);\n",
              "  inputElement.disabled = false;\n",
              "\n",
              "  const outputElement = document.getElementById(outputId);\n",
              "  outputElement.innerHTML = '';\n",
              "\n",
              "  const pickedPromise = new Promise((resolve) => {\n",
              "    inputElement.addEventListener('change', (e) => {\n",
              "      resolve(e.target.files);\n",
              "    });\n",
              "  });\n",
              "\n",
              "  const cancel = document.createElement('button');\n",
              "  inputElement.parentElement.appendChild(cancel);\n",
              "  cancel.textContent = 'Cancel upload';\n",
              "  const cancelPromise = new Promise((resolve) => {\n",
              "    cancel.onclick = () => {\n",
              "      resolve(null);\n",
              "    };\n",
              "  });\n",
              "\n",
              "  // Wait for the user to pick the files.\n",
              "  const files = yield {\n",
              "    promise: Promise.race([pickedPromise, cancelPromise]),\n",
              "    response: {\n",
              "      action: 'starting',\n",
              "    }\n",
              "  };\n",
              "\n",
              "  cancel.remove();\n",
              "\n",
              "  // Disable the input element since further picks are not allowed.\n",
              "  inputElement.disabled = true;\n",
              "\n",
              "  if (!files) {\n",
              "    return {\n",
              "      response: {\n",
              "        action: 'complete',\n",
              "      }\n",
              "    };\n",
              "  }\n",
              "\n",
              "  for (const file of files) {\n",
              "    const li = document.createElement('li');\n",
              "    li.append(span(file.name, {fontWeight: 'bold'}));\n",
              "    li.append(span(\n",
              "        `(${file.type || 'n/a'}) - ${file.size} bytes, ` +\n",
              "        `last modified: ${\n",
              "            file.lastModifiedDate ? file.lastModifiedDate.toLocaleDateString() :\n",
              "                                    'n/a'} - `));\n",
              "    const percent = span('0% done');\n",
              "    li.appendChild(percent);\n",
              "\n",
              "    outputElement.appendChild(li);\n",
              "\n",
              "    const fileDataPromise = new Promise((resolve) => {\n",
              "      const reader = new FileReader();\n",
              "      reader.onload = (e) => {\n",
              "        resolve(e.target.result);\n",
              "      };\n",
              "      reader.readAsArrayBuffer(file);\n",
              "    });\n",
              "    // Wait for the data to be ready.\n",
              "    let fileData = yield {\n",
              "      promise: fileDataPromise,\n",
              "      response: {\n",
              "        action: 'continue',\n",
              "      }\n",
              "    };\n",
              "\n",
              "    // Use a chunked sending to avoid message size limits. See b/62115660.\n",
              "    let position = 0;\n",
              "    do {\n",
              "      const length = Math.min(fileData.byteLength - position, MAX_PAYLOAD_SIZE);\n",
              "      const chunk = new Uint8Array(fileData, position, length);\n",
              "      position += length;\n",
              "\n",
              "      const base64 = btoa(String.fromCharCode.apply(null, chunk));\n",
              "      yield {\n",
              "        response: {\n",
              "          action: 'append',\n",
              "          file: file.name,\n",
              "          data: base64,\n",
              "        },\n",
              "      };\n",
              "\n",
              "      let percentDone = fileData.byteLength === 0 ?\n",
              "          100 :\n",
              "          Math.round((position / fileData.byteLength) * 100);\n",
              "      percent.textContent = `${percentDone}% done`;\n",
              "\n",
              "    } while (position < fileData.byteLength);\n",
              "  }\n",
              "\n",
              "  // All done.\n",
              "  yield {\n",
              "    response: {\n",
              "      action: 'complete',\n",
              "    }\n",
              "  };\n",
              "}\n",
              "\n",
              "scope.google = scope.google || {};\n",
              "scope.google.colab = scope.google.colab || {};\n",
              "scope.google.colab._files = {\n",
              "  _uploadFiles,\n",
              "  _uploadFilesContinue,\n",
              "};\n",
              "})(self);\n",
              "</script> "
            ]
          },
          "metadata": {}
        },
        {
          "output_type": "stream",
          "name": "stdout",
          "text": [
            "Saving airbnb_last_review.tsv to airbnb_last_review.tsv\n",
            "Saving airbnb_price.csv to airbnb_price.csv\n",
            "Saving airbnb_room_type.xlsx to airbnb_room_type.xlsx\n"
          ]
        }
      ]
    },
    {
      "cell_type": "code",
      "source": [
        "!pip install openpyxl\n"
      ],
      "metadata": {
        "colab": {
          "base_uri": "https://localhost:8080/"
        },
        "id": "j68ZLrTem4zJ",
        "outputId": "162ba029-471c-4c0c-85ff-087041603ab5"
      },
      "execution_count": 3,
      "outputs": [
        {
          "output_type": "stream",
          "name": "stdout",
          "text": [
            "Requirement already satisfied: openpyxl in /usr/local/lib/python3.10/dist-packages (3.1.5)\n",
            "Requirement already satisfied: et-xmlfile in /usr/local/lib/python3.10/dist-packages (from openpyxl) (2.0.0)\n"
          ]
        }
      ]
    },
    {
      "cell_type": "code",
      "source": [
        "import pandas as pd\n",
        "\n",
        "df_tsv = spark.read.option(\"delimiter\", \"\\t\").option(\"header\", \"true\").csv(\"airbnb_last_review.tsv\")\n",
        "df_csv = spark.read.option(\"header\", \"true\").csv(\"airbnb_price.csv\")\n",
        "df_excel = spark.createDataFrame(pd.read_excel(\"airbnb_room_type.xlsx\", engine=\"openpyxl\"))\n"
      ],
      "metadata": {
        "id": "AhZUx-pmmz6J"
      },
      "execution_count": 4,
      "outputs": []
    },
    {
      "cell_type": "markdown",
      "metadata": {
        "application/vnd.databricks.v1+cell": {
          "cellMetadata": {},
          "inputWidgets": {},
          "nuid": "bab5e15d-251d-4092-9ec3-61f8a0d84f43",
          "showTitle": false,
          "tableResultSettingsMap": {},
          "title": ""
        },
        "id": "LaLfpxfvlpwc"
      },
      "source": [
        "Como consultor que trabaja para una empresa inmobiliaria emergente, ha recopilado datos de anuncios de Airbnb de varias fuentes para investigar el mercado de alquileres a corto plazo en Nueva York. Analizará estos datos para brindar información sobre habitaciones privadas a la empresa inmobiliaria."
      ]
    },
    {
      "cell_type": "markdown",
      "source": [
        "- ¿Cuáles son las fechas de las primeras y las últimas reseñas? Almacene estos valores como dos variables independientes con los nombres que prefiera."
      ],
      "metadata": {
        "id": "JlGaXNY7nZNR"
      }
    },
    {
      "cell_type": "code",
      "source": [
        "import pyspark.sql.functions as F\n",
        "\n",
        "df = df_tsv.join(df_csv, on=\"listing_id\").join(df_excel, on=\"listing_id\")"
      ],
      "metadata": {
        "id": "xI4zqvL4nZwZ"
      },
      "execution_count": 16,
      "outputs": []
    },
    {
      "cell_type": "code",
      "source": [
        "df.show()\n",
        "\n",
        "df.printSchema()"
      ],
      "metadata": {
        "colab": {
          "base_uri": "https://localhost:8080/"
        },
        "id": "Dc1E4OautTJW",
        "outputId": "11073100-49eb-43fb-ea87-d893d42710ba"
      },
      "execution_count": 27,
      "outputs": [
        {
          "output_type": "stream",
          "name": "stdout",
          "text": [
            "+----------+----------------+---------------+-----------+--------------------+--------------------+---------------+\n",
            "|listing_id|       host_name|    last_review|      price|         nbhood_full|         description|      room_type|\n",
            "+----------+----------------+---------------+-----------+--------------------+--------------------+---------------+\n",
            "|      2595|        Jennifer|    May 21 2019|225 dollars|  Manhattan, Midtown|Skylit Midtown Ca...|Entire home/apt|\n",
            "|      3831|     LisaRoxanne|   July 05 2019| 89 dollars|Brooklyn, Clinton...|Cozy Entire Floor...|Entire home/apt|\n",
            "|      5099|           Chris|   June 22 2019|200 dollars|Manhattan, Murray...|Large Cozy 1 BR A...|Entire home/apt|\n",
            "|      5178|        Shunichi|   June 24 2019| 79 dollars|Manhattan, Hell's...|Large Furnished R...|   private room|\n",
            "|      5238|             Ben|   June 09 2019|150 dollars|Manhattan, Chinatown|Cute & Cozy Lower...|Entire home/apt|\n",
            "|      5295|            Lena|   June 22 2019|135 dollars|Manhattan, Upper ...|Beautiful 1br on ...|Entire home/apt|\n",
            "|      5441|            Kate|   June 23 2019| 85 dollars|Manhattan, Hell's...|Central Manhattan...|   Private room|\n",
            "|      5803|          Laurie|   June 24 2019| 89 dollars|Brooklyn, South S...|Lovely Room 1, Ga...|   Private room|\n",
            "|      6021|         Claudio|   July 05 2019| 85 dollars|Manhattan, Upper ...|Wonderful Guest B...|   Private room|\n",
            "|      6848|   Allen & Irina|   June 29 2019|140 dollars|Brooklyn, William...|Only 2 stops to M...|entire home/apt|\n",
            "|      7097|            Jane|   June 28 2019|215 dollars|Brooklyn, Fort Gr...|Perfect for Your ...|Entire home/apt|\n",
            "|      7322|            Doti|   July 01 2019|140 dollars|  Manhattan, Chelsea|     Chelsea Perfect|   Private room|\n",
            "|      7726|Adam And Charity|   June 22 2019| 99 dollars|Brooklyn, Crown H...|Hip Historic Brow...|Entire home/apt|\n",
            "|      8024|           Lisel|   July 01 2019|130 dollars|Brooklyn, Park Slope|CBG CtyBGd HelpsH...|   PRIVATE ROOM|\n",
            "|      8025|           Lisel|January 01 2019| 80 dollars|Brooklyn, Park Slope|CBG Helps Haiti R...|   PRIVATE ROOM|\n",
            "|      8110|           Lisel|   July 02 2019|110 dollars|Brooklyn, Park Slope|CBG Helps Haiti R...|   Private room|\n",
            "|      8490|        Nathalie|   June 19 2019|120 dollars|Brooklyn, Bedford...|MAISON DES SIRENE...|Entire home/apt|\n",
            "|      8505|         Gregory|   June 23 2019| 60 dollars|Brooklyn, Windsor...|Sunny Bedroom Acr...|   Private room|\n",
            "|      9518|            Shon|   June 15 2019| 44 dollars|   Manhattan, Inwood|SPACIOUS, LOVELY ...|   PRIVATE ROOM|\n",
            "|      9657|            Dana|  April 19 2019|180 dollars|Manhattan, East V...|Modern 1 BR / NYC...|entire home/apt|\n",
            "+----------+----------------+---------------+-----------+--------------------+--------------------+---------------+\n",
            "only showing top 20 rows\n",
            "\n",
            "root\n",
            " |-- listing_id: string (nullable = true)\n",
            " |-- host_name: string (nullable = true)\n",
            " |-- last_review: string (nullable = true)\n",
            " |-- price: string (nullable = true)\n",
            " |-- nbhood_full: string (nullable = true)\n",
            " |-- description: string (nullable = true)\n",
            " |-- room_type: string (nullable = true)\n",
            "\n"
          ]
        }
      ]
    },
    {
      "cell_type": "code",
      "source": [
        "# Definimos dos variables para la fecha más próxima y la más lejana\n",
        "# Convertimos los datos a fecha, y luego las ponemos en formato MMM dd yyyy(Apr 09 2019)\n",
        "last_review = F.date_format(F.max(F.to_date(F.col(\"last_review\"), \"MMMM dd yyyy\")), \"MMM dd yyyy\")\n",
        "earlier_review = F.date_format(F.min(F.to_date(F.col(\"last_review\"), \"MMMM dd yyyy\")), \"MMM dd yyyy\")\n",
        "\n",
        "# guardamos la consulta de máximos y mínimos en variables\n",
        "df_last_review = df.select(last_review.alias(\"most_recent_review\"))\n",
        "df_earlier_review = df.select(earlier_review.alias(\"first_review\"))\n",
        "\n",
        "# mostramos los resultados\n",
        "df_last_review.show()\n",
        "df_earlier_review.show()"
      ],
      "metadata": {
        "colab": {
          "base_uri": "https://localhost:8080/"
        },
        "id": "MhqLL_jip07W",
        "outputId": "4c6d0652-8c6e-4a6e-9529-73b8e4beca71"
      },
      "execution_count": 23,
      "outputs": [
        {
          "output_type": "stream",
          "name": "stdout",
          "text": [
            "+------------------+\n",
            "|most_recent_review|\n",
            "+------------------+\n",
            "|       Jul 09 2019|\n",
            "+------------------+\n",
            "\n",
            "+------------+\n",
            "|first_review|\n",
            "+------------+\n",
            "| Jan 01 2019|\n",
            "+------------+\n",
            "\n"
          ]
        }
      ]
    },
    {
      "cell_type": "markdown",
      "source": [
        "Como vemos, nos da los valores máximos y mínimos de la columna *last_review*, formateado tal y como sale en la tabla"
      ],
      "metadata": {
        "id": "vsimcdtysV0P"
      }
    },
    {
      "cell_type": "markdown",
      "source": [
        "- ¿Cuántos de los anuncios son habitaciones privadas? Guárdelo en cualquier variable."
      ],
      "metadata": {
        "id": "pTvdwa0usjC1"
      }
    },
    {
      "cell_type": "code",
      "source": [
        "# filtramos por private_room y contamos las filas\n",
        "private_room = df.where(F.col(\"room_type\") == \"Private room\").count()\n",
        "\n",
        "#imprimimos el resultado\n",
        "print(private_room)"
      ],
      "metadata": {
        "colab": {
          "base_uri": "https://localhost:8080/"
        },
        "id": "ybafy3bhsj3N",
        "outputId": "b285c01d-ed51-4d5d-eaaa-eeb29a44aa4f"
      },
      "execution_count": 25,
      "outputs": [
        {
          "output_type": "stream",
          "name": "stdout",
          "text": [
            "7241\n"
          ]
        }
      ]
    },
    {
      "cell_type": "markdown",
      "source": [
        "Hay 7241 anuncios que son habitaciones privadas"
      ],
      "metadata": {
        "id": "KzcmxHPEs2lW"
      }
    },
    {
      "cell_type": "markdown",
      "source": [
        "- ¿Cuál es el precio promedio de los anuncios? Redondee a los dos decimales más cercanos y guárdelo en una variable."
      ],
      "metadata": {
        "id": "1-NNWLW7s-el"
      }
    },
    {
      "cell_type": "code",
      "source": [
        "# hacemos un cast a la columna price para quedarnos solo con el precio en formato double\n",
        "price = F.split(F.col(\"price\"), \" \")[0].cast(\"double\")\n",
        "df = df.withColumn(\"price\", price)\n",
        "\n",
        "# calculamos la media\n",
        "avg_price = df.select(F.round(F.avg(F.col(\"price\")), 2).alias(\"average_price\")).collect()[0][0]\n",
        "\n",
        "# imprimimos el resultado\n",
        "print(avg_price)"
      ],
      "metadata": {
        "colab": {
          "base_uri": "https://localhost:8080/"
        },
        "id": "SeTowHX9s-Fd",
        "outputId": "05c3b603-925c-4be9-945c-610757a2ec19"
      },
      "execution_count": 28,
      "outputs": [
        {
          "output_type": "stream",
          "name": "stdout",
          "text": [
            "141.78\n"
          ]
        }
      ]
    },
    {
      "cell_type": "markdown",
      "source": [
        "El precio medio de los anuncios es de 141.78 dólares"
      ],
      "metadata": {
        "id": "CLY54JaDt-SY"
      }
    },
    {
      "cell_type": "markdown",
      "metadata": {
        "application/vnd.databricks.v1+cell": {
          "cellMetadata": {},
          "inputWidgets": {},
          "nuid": "3db66806-50c8-46b2-ab8b-fb66b3602f7d",
          "showTitle": false,
          "tableResultSettingsMap": {},
          "title": ""
        },
        "id": "kzSqMZOelpwc"
      },
      "source": [
        "\n",
        "\n",
        "\n",
        "- Combine las nuevas variables en un DataFrame llamado review_dates con cuatro columnas en el siguiente orden: first_reviewed, last_reviewed, nb_private_rooms y avg_price. El DataFrame solo debe contener una fila de valores."
      ]
    },
    {
      "cell_type": "code",
      "execution_count": 30,
      "metadata": {
        "application/vnd.databricks.v1+cell": {
          "cellMetadata": {},
          "inputWidgets": {},
          "nuid": "bc87f8df-a1fb-47d1-a2a4-54b38ad97511",
          "showTitle": false,
          "tableResultSettingsMap": {},
          "title": ""
        },
        "colab": {
          "base_uri": "https://localhost:8080/"
        },
        "id": "hzO4aN3Rlpwc",
        "outputId": "001deba6-1805-46fd-8d98-5c3b8f769435"
      },
      "outputs": [
        {
          "output_type": "stream",
          "name": "stdout",
          "text": [
            "+--------------+-------------+------------+---------+\n",
            "|first_reviewed|last_reviewed|private_room|avg_price|\n",
            "+--------------+-------------+------------+---------+\n",
            "|   Jan 01 2019|  Jul 09 2019|        7241|   141.78|\n",
            "+--------------+-------------+------------+---------+\n",
            "\n"
          ]
        }
      ],
      "source": [
        "# extraemos los valores de las variables guardadas como dataframes\n",
        "firts_reviewed = df_earlier_review.collect()[0][0]\n",
        "last_reviewed = df_last_review.collect()[0][0]\n",
        "\n",
        "# específicamos las columnas y los datos que va a tener nuestro dataframe (1 fila)\n",
        "columns = [\"first_reviewed\", \"last_reviewed\", \"private_room\", \"avg_price\"]\n",
        "data = [[firts_reviewed, last_reviewed, private_room, avg_price]]\n",
        "\n",
        "# creamos el dataframe\n",
        "review_dates = spark.createDataFrame(data, columns)\n",
        "\n",
        "# imprimimos los resultados\n",
        "review_dates.show()"
      ]
    }
  ],
  "metadata": {
    "application/vnd.databricks.v1+notebook": {
      "dashboards": [],
      "environmentMetadata": null,
      "language": "python",
      "notebookMetadata": {
        "pythonIndentUnit": 4
      },
      "notebookName": "Caso_3",
      "widgets": {}
    },
    "colab": {
      "provenance": []
    },
    "language_info": {
      "name": "python"
    },
    "kernelspec": {
      "name": "python3",
      "display_name": "Python 3"
    }
  },
  "nbformat": 4,
  "nbformat_minor": 0
}