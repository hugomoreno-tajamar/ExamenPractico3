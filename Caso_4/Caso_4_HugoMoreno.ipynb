{
  "cells": [
    {
      "cell_type": "markdown",
      "metadata": {
        "application/vnd.databricks.v1+cell": {
          "cellMetadata": {},
          "inputWidgets": {},
          "nuid": "6faa8f82-8459-4b9d-b8be-b985c9f761af",
          "showTitle": false,
          "tableResultSettingsMap": {},
          "title": ""
        },
        "id": "TxrYUwpxwcxn"
      },
      "source": [
        "# Limpieza de datos con PySpark: Data Science Job Posting on Glassdoor"
      ]
    },
    {
      "cell_type": "markdown",
      "metadata": {
        "application/vnd.databricks.v1+cell": {
          "cellMetadata": {},
          "inputWidgets": {},
          "nuid": "ffad86de-2091-43f9-97e4-c94456fee761",
          "showTitle": false,
          "tableResultSettingsMap": {},
          "title": ""
        },
        "id": "YWJiRhiXwcxp"
      },
      "source": [
        "Los [datos](https://tajamar365.sharepoint.com/:x:/s/3405-MasterIA2024-2025/ETYTQ0c-i6FLjM8rZ4iT1cgB6ipFAkainM-4V9M8DXsBiA?e=PeMtvh) fueron extraídos (scrapeados) del sitio web de Glassdoor y recoge los salarios de distintos puestos relacionados a Data."
      ]
    },
    {
      "cell_type": "code",
      "source": [
        "!pip install pyspark"
      ],
      "metadata": {
        "colab": {
          "base_uri": "https://localhost:8080/"
        },
        "id": "Bvbc0kk7wtuZ",
        "outputId": "4483b579-a92c-4dcc-d709-3a055435b5ad"
      },
      "execution_count": 204,
      "outputs": [
        {
          "output_type": "stream",
          "name": "stdout",
          "text": [
            "Requirement already satisfied: pyspark in /usr/local/lib/python3.10/dist-packages (3.5.3)\n",
            "Requirement already satisfied: py4j==0.10.9.7 in /usr/local/lib/python3.10/dist-packages (from pyspark) (0.10.9.7)\n"
          ]
        }
      ]
    },
    {
      "cell_type": "code",
      "source": [
        "from pyspark.sql import SparkSession\n",
        "\n",
        "spark = SparkSession.builder.appName(\"Caso4\").getOrCreate()\n"
      ],
      "metadata": {
        "id": "4Ak4X_Uaw2dQ"
      },
      "execution_count": 205,
      "outputs": []
    },
    {
      "cell_type": "code",
      "source": [
        "from google.colab import files\n",
        "\n",
        "uploaded = files.upload()"
      ],
      "metadata": {
        "colab": {
          "base_uri": "https://localhost:8080/",
          "height": 38
        },
        "id": "-AxcYc0qw9FY",
        "outputId": "f377b8f5-0c16-4c90-fe3a-7fd4edd10137"
      },
      "execution_count": 206,
      "outputs": [
        {
          "output_type": "display_data",
          "data": {
            "text/plain": [
              "<IPython.core.display.HTML object>"
            ],
            "text/html": [
              "\n",
              "     <input type=\"file\" id=\"files-2fd7233c-360b-49ac-b45c-8349d597141b\" name=\"files[]\" multiple disabled\n",
              "        style=\"border:none\" />\n",
              "     <output id=\"result-2fd7233c-360b-49ac-b45c-8349d597141b\">\n",
              "      Upload widget is only available when the cell has been executed in the\n",
              "      current browser session. Please rerun this cell to enable.\n",
              "      </output>\n",
              "      <script>// Copyright 2017 Google LLC\n",
              "//\n",
              "// Licensed under the Apache License, Version 2.0 (the \"License\");\n",
              "// you may not use this file except in compliance with the License.\n",
              "// You may obtain a copy of the License at\n",
              "//\n",
              "//      http://www.apache.org/licenses/LICENSE-2.0\n",
              "//\n",
              "// Unless required by applicable law or agreed to in writing, software\n",
              "// distributed under the License is distributed on an \"AS IS\" BASIS,\n",
              "// WITHOUT WARRANTIES OR CONDITIONS OF ANY KIND, either express or implied.\n",
              "// See the License for the specific language governing permissions and\n",
              "// limitations under the License.\n",
              "\n",
              "/**\n",
              " * @fileoverview Helpers for google.colab Python module.\n",
              " */\n",
              "(function(scope) {\n",
              "function span(text, styleAttributes = {}) {\n",
              "  const element = document.createElement('span');\n",
              "  element.textContent = text;\n",
              "  for (const key of Object.keys(styleAttributes)) {\n",
              "    element.style[key] = styleAttributes[key];\n",
              "  }\n",
              "  return element;\n",
              "}\n",
              "\n",
              "// Max number of bytes which will be uploaded at a time.\n",
              "const MAX_PAYLOAD_SIZE = 100 * 1024;\n",
              "\n",
              "function _uploadFiles(inputId, outputId) {\n",
              "  const steps = uploadFilesStep(inputId, outputId);\n",
              "  const outputElement = document.getElementById(outputId);\n",
              "  // Cache steps on the outputElement to make it available for the next call\n",
              "  // to uploadFilesContinue from Python.\n",
              "  outputElement.steps = steps;\n",
              "\n",
              "  return _uploadFilesContinue(outputId);\n",
              "}\n",
              "\n",
              "// This is roughly an async generator (not supported in the browser yet),\n",
              "// where there are multiple asynchronous steps and the Python side is going\n",
              "// to poll for completion of each step.\n",
              "// This uses a Promise to block the python side on completion of each step,\n",
              "// then passes the result of the previous step as the input to the next step.\n",
              "function _uploadFilesContinue(outputId) {\n",
              "  const outputElement = document.getElementById(outputId);\n",
              "  const steps = outputElement.steps;\n",
              "\n",
              "  const next = steps.next(outputElement.lastPromiseValue);\n",
              "  return Promise.resolve(next.value.promise).then((value) => {\n",
              "    // Cache the last promise value to make it available to the next\n",
              "    // step of the generator.\n",
              "    outputElement.lastPromiseValue = value;\n",
              "    return next.value.response;\n",
              "  });\n",
              "}\n",
              "\n",
              "/**\n",
              " * Generator function which is called between each async step of the upload\n",
              " * process.\n",
              " * @param {string} inputId Element ID of the input file picker element.\n",
              " * @param {string} outputId Element ID of the output display.\n",
              " * @return {!Iterable<!Object>} Iterable of next steps.\n",
              " */\n",
              "function* uploadFilesStep(inputId, outputId) {\n",
              "  const inputElement = document.getElementById(inputId);\n",
              "  inputElement.disabled = false;\n",
              "\n",
              "  const outputElement = document.getElementById(outputId);\n",
              "  outputElement.innerHTML = '';\n",
              "\n",
              "  const pickedPromise = new Promise((resolve) => {\n",
              "    inputElement.addEventListener('change', (e) => {\n",
              "      resolve(e.target.files);\n",
              "    });\n",
              "  });\n",
              "\n",
              "  const cancel = document.createElement('button');\n",
              "  inputElement.parentElement.appendChild(cancel);\n",
              "  cancel.textContent = 'Cancel upload';\n",
              "  const cancelPromise = new Promise((resolve) => {\n",
              "    cancel.onclick = () => {\n",
              "      resolve(null);\n",
              "    };\n",
              "  });\n",
              "\n",
              "  // Wait for the user to pick the files.\n",
              "  const files = yield {\n",
              "    promise: Promise.race([pickedPromise, cancelPromise]),\n",
              "    response: {\n",
              "      action: 'starting',\n",
              "    }\n",
              "  };\n",
              "\n",
              "  cancel.remove();\n",
              "\n",
              "  // Disable the input element since further picks are not allowed.\n",
              "  inputElement.disabled = true;\n",
              "\n",
              "  if (!files) {\n",
              "    return {\n",
              "      response: {\n",
              "        action: 'complete',\n",
              "      }\n",
              "    };\n",
              "  }\n",
              "\n",
              "  for (const file of files) {\n",
              "    const li = document.createElement('li');\n",
              "    li.append(span(file.name, {fontWeight: 'bold'}));\n",
              "    li.append(span(\n",
              "        `(${file.type || 'n/a'}) - ${file.size} bytes, ` +\n",
              "        `last modified: ${\n",
              "            file.lastModifiedDate ? file.lastModifiedDate.toLocaleDateString() :\n",
              "                                    'n/a'} - `));\n",
              "    const percent = span('0% done');\n",
              "    li.appendChild(percent);\n",
              "\n",
              "    outputElement.appendChild(li);\n",
              "\n",
              "    const fileDataPromise = new Promise((resolve) => {\n",
              "      const reader = new FileReader();\n",
              "      reader.onload = (e) => {\n",
              "        resolve(e.target.result);\n",
              "      };\n",
              "      reader.readAsArrayBuffer(file);\n",
              "    });\n",
              "    // Wait for the data to be ready.\n",
              "    let fileData = yield {\n",
              "      promise: fileDataPromise,\n",
              "      response: {\n",
              "        action: 'continue',\n",
              "      }\n",
              "    };\n",
              "\n",
              "    // Use a chunked sending to avoid message size limits. See b/62115660.\n",
              "    let position = 0;\n",
              "    do {\n",
              "      const length = Math.min(fileData.byteLength - position, MAX_PAYLOAD_SIZE);\n",
              "      const chunk = new Uint8Array(fileData, position, length);\n",
              "      position += length;\n",
              "\n",
              "      const base64 = btoa(String.fromCharCode.apply(null, chunk));\n",
              "      yield {\n",
              "        response: {\n",
              "          action: 'append',\n",
              "          file: file.name,\n",
              "          data: base64,\n",
              "        },\n",
              "      };\n",
              "\n",
              "      let percentDone = fileData.byteLength === 0 ?\n",
              "          100 :\n",
              "          Math.round((position / fileData.byteLength) * 100);\n",
              "      percent.textContent = `${percentDone}% done`;\n",
              "\n",
              "    } while (position < fileData.byteLength);\n",
              "  }\n",
              "\n",
              "  // All done.\n",
              "  yield {\n",
              "    response: {\n",
              "      action: 'complete',\n",
              "    }\n",
              "  };\n",
              "}\n",
              "\n",
              "scope.google = scope.google || {};\n",
              "scope.google.colab = scope.google.colab || {};\n",
              "scope.google.colab._files = {\n",
              "  _uploadFiles,\n",
              "  _uploadFilesContinue,\n",
              "};\n",
              "})(self);\n",
              "</script> "
            ]
          },
          "metadata": {}
        }
      ]
    },
    {
      "cell_type": "markdown",
      "metadata": {
        "application/vnd.databricks.v1+cell": {
          "cellMetadata": {},
          "inputWidgets": {},
          "nuid": "dbd64de3-16db-4ce1-89ee-026c842262a1",
          "showTitle": false,
          "tableResultSettingsMap": {},
          "title": ""
        },
        "id": "CVPsB3GDwcxq"
      },
      "source": [
        "### Resolver los siguientes requerimientos, para cada operación/moficación imprima como van quedadndo los cambios."
      ]
    },
    {
      "cell_type": "markdown",
      "metadata": {
        "application/vnd.databricks.v1+cell": {
          "cellMetadata": {},
          "inputWidgets": {},
          "nuid": "22e55e35-5fe8-4a9a-a14a-d8d15dbe45b0",
          "showTitle": false,
          "tableResultSettingsMap": {},
          "title": ""
        },
        "id": "PKL8lF1twcxq"
      },
      "source": [
        "1. Cargar los datos y mostrar el esquema o la informacion de las columnas y el tip de dato de cada columna"
      ]
    },
    {
      "cell_type": "code",
      "source": [
        "df = spark.read.option(\"header\", \"true\") \\\n",
        "               .option(\"delimiter\", \";\") \\\n",
        "               .option(\"multiline\", \"true\") \\\n",
        "               .csv(\"ds-jobs.csv\")\n",
        "\n",
        "df.printSchema()"
      ],
      "metadata": {
        "colab": {
          "base_uri": "https://localhost:8080/"
        },
        "id": "wSp-vVBNxEze",
        "outputId": "71a0f34d-0c66-457e-8f33-bb90ee36d2ef"
      },
      "execution_count": 207,
      "outputs": [
        {
          "output_type": "stream",
          "name": "stdout",
          "text": [
            "root\n",
            " |-- index: string (nullable = true)\n",
            " |-- Job Title: string (nullable = true)\n",
            " |-- Salary Estimate: string (nullable = true)\n",
            " |-- Job Description: string (nullable = true)\n",
            " |-- Rating: string (nullable = true)\n",
            " |-- Company Name: string (nullable = true)\n",
            " |-- Location: string (nullable = true)\n",
            " |-- Headquarters: string (nullable = true)\n",
            " |-- Size: string (nullable = true)\n",
            " |-- Founded: string (nullable = true)\n",
            " |-- Type of ownership: string (nullable = true)\n",
            " |-- Industry: string (nullable = true)\n",
            " |-- Sector: string (nullable = true)\n",
            " |-- Revenue: string (nullable = true)\n",
            " |-- Competitors: string (nullable = true)\n",
            "\n"
          ]
        }
      ]
    },
    {
      "cell_type": "code",
      "source": [
        "df.show()"
      ],
      "metadata": {
        "colab": {
          "base_uri": "https://localhost:8080/"
        },
        "id": "1k4elgiU04dc",
        "outputId": "26f9454b-3142-40c0-efc3-6c91a22b17c8"
      },
      "execution_count": 208,
      "outputs": [
        {
          "output_type": "stream",
          "name": "stdout",
          "text": [
            "+--------------------+--------------------+--------------------+--------------------+-------------+--------------------+-----------------+--------------------+--------------------+-----------------+--------------------+--------------------+--------------------+--------------------+--------------------+\n",
            "|               index|           Job Title|     Salary Estimate|     Job Description|       Rating|        Company Name|         Location|        Headquarters|                Size|          Founded|   Type of ownership|            Industry|              Sector|             Revenue|         Competitors|\n",
            "+--------------------+--------------------+--------------------+--------------------+-------------+--------------------+-----------------+--------------------+--------------------+-----------------+--------------------+--------------------+--------------------+--------------------+--------------------+\n",
            "|                   0|   Sr Data Scientist|$137K-$171K (Glas...|Description\\n\\nTh...|           31|    Healthfirst\\n3.1|     New York, NY|        New York, NY|1001 to 5000 empl...|             1993|Nonprofit Organiz...|  Insurance Carriers|           Insurance|Unknown / Non-App...|EmblemHealth, Uni...|\n",
            "|                   1|      Data Scientist|$137K-$171K (Glas...|Secure our Nation...|           42|        ManTech\\n4.2|    Chantilly, VA|         Herndon, VA|5001 to 10000 emp...|             1968|    Company - Public|Research & Develo...|   Business Services|$1 to $2 billion ...|                  -1|\n",
            "|                   2|      Data Scientist|$137K-$171K (Glas...|Overview\\n\\n\\nAna...|           38| Analysis Group\\n3.8|       Boston, MA|          Boston, MA|1001 to 5000 empl...|             1981|Private Practice ...|          Consulting|   Business Services|$100 to $500 mill...|                  -1|\n",
            "|                   3|      Data Scientist|$137K-$171K (Glas...|JOB DESCRIPTION:\\...|           35|        INFICON\\n3.5|       Newton, MA|Bad Ragaz, Switze...|501 to 1000 emplo...|             2000|    Company - Public|Electrical & Elec...|       Manufacturing|$100 to $500 mill...|MKS Instruments, ...|\n",
            "|                   4|      Data Scientist|$137K-$171K (Glas...|Data Scientist\\nA...|           29|Affinity Solution...|     New York, NY|        New York, NY| 51 to 200 employees|             1998|   Company - Private|Advertising & Mar...|   Business Services|Unknown / Non-App...|Commerce Signals,...|\n",
            "|                   5|      Data Scientist|$137K-$171K (Glas...|About Us:\\n\\nHead...|           42|    HG Insights\\n4.2|Santa Barbara, CA|   Santa Barbara, CA| 51 to 200 employees|             2010|   Company - Private|Computer Hardware...|Information Techn...|Unknown / Non-App...|                  -1|\n",
            "|                   6|Data Scientist / ...|$137K-$171K (Glas...|Posting Title\\nDa...|           39|       Novartis\\n3.9|    Cambridge, MA|  Basel, Switzerland|    10000+ employees|             1996|    Company - Public|Biotech & Pharmac...|Biotech & Pharmac...|  $10+ billion (USD)|                  -1|\n",
            "|                   7|      Data Scientist|$137K-$171K (Glas...|Introduction\\n\\nH...|           35|         iRobot\\n3.5|      Bedford, MA|         Bedford, MA|1001 to 5000 empl...|             1990|    Company - Public|Consumer Electron...|              Retail|$1 to $2 billion ...|                  -1|\n",
            "|                   8|Staff Data Scient...|$137K-$171K (Glas...|Intuit is seeking...|           44|  Intuit - Data\\n4.4|    San Diego, CA|   Mountain View, CA|5001 to 10000 emp...|             1983|    Company - Public|Computer Hardware...|Information Techn...|$2 to $5 billion ...|Square, PayPal, H...|\n",
            "|                   9|      Data Scientist|$137K-$171K (Glas...|Ready to write th...|           36|XSELL Technologie...|      Chicago, IL|         Chicago, IL| 51 to 200 employees|             2014|   Company - Private|Enterprise Softwa...|Information Techn...|Unknown / Non-App...|                  -1|\n",
            "|                  10|      Data Scientist|$137K-$171K (Glas...|Join our team ded...|           45|        Novetta\\n4.5|      Herndon, VA|         Mc Lean, VA|501 to 1000 emplo...|             2012|   Company - Private|Enterprise Softwa...|Information Techn...|$100 to $500 mill...|Leidos, CACI Inte...|\n",
            "|                  11|      Data Scientist|$137K-$171K (Glas...|About Us\\n\\n\\nInt...|           47|       1904labs\\n4.7|  Saint Louis, MO|     Saint Louis, MO| 51 to 200 employees|             2016|   Company - Private|         IT Services|Information Techn...|Unknown / Non-App...|Slalom, Daugherty...|\n",
            "|                  12|Data Scientist - ...|$137K-$171K (Glas...|*Organization and...|           37|           PNNL\\n3.7|     Richland, WA|        Richland, WA|1001 to 5000 empl...|             1965|          Government|              Energy|Oil, Gas, Energy ...|$500 million to $...|Oak Ridge Nationa...|\n",
            "|                  13|        Data Modeler|$137K-$171K (Glas...|POSITION PURPOSE:...|           31|Old World Industr...|   Northbrook, IL|      Northbrook, IL|201 to 500 employees|             1973|   Company - Private|Chemical Manufact...|       Manufacturing|$1 to $2 billion ...|                  -1|\n",
            "|                  14|      Data Scientist|$137K-$171K (Glas...|\"Position Descrip...|         NULL|                NULL|             NULL|                NULL|                NULL|             NULL|                NULL|                NULL|                NULL|                NULL|                NULL|\n",
            "|Mathematica offer...|                  34|Mathematica Polic...|      Washington, DC|Princeton, NJ|1001 to 5000 empl...|             1986|   Company - Private|          Consulting|Business Services|$100 to $500 mill...|                  -1|                NULL|                NULL|                NULL|\n",
            "|                  15|Experienced Data ...|$137K-$171K (Glas...|*******Please App...|           44|Guzman & Griffin ...|   Washington, DC|    Mays Landing, NJ|   1 to 50 employees|             1997|   Company - Private|    Federal Agencies|          Government|Unknown / Non-App...|                  -1|\n",
            "|                  16|Data Scientist - ...|$137K-$171K (Glas...|We are an ambitio...|           41|Upside Business T...|           Remote|      Washington, DC| 51 to 200 employees|             2015|   Company - Private|            Internet|Information Techn...|Unknown / Non-App...|                  -1|\n",
            "|                  17|      Data Scientist|$137K-$171K (Glas...|Job Success Profi...|           35|        Buckman\\n3.5|      Memphis, TN|         Memphis, TN|1001 to 5000 empl...|             1945|   Company - Private|Chemical Manufact...|       Manufacturing|$500 million to $...|                  -1|\n",
            "|                  18|     Data Analyst II|$137K-$171K (Glas...|The Data Analyst ...|           42|Insight Enterpris...|        Plano, TX|           Tempe, AZ|5001 to 10000 emp...|             1988|    Company - Public|Enterprise Softwa...|Information Techn...|$5 to $10 billion...|CDW, PCM, SHI Int...|\n",
            "+--------------------+--------------------+--------------------+--------------------+-------------+--------------------+-----------------+--------------------+--------------------+-----------------+--------------------+--------------------+--------------------+--------------------+--------------------+\n",
            "only showing top 20 rows\n",
            "\n"
          ]
        }
      ]
    },
    {
      "cell_type": "markdown",
      "source": [
        "Vemos que todos los campos están en tipo string, por lo que, cuando queramos hacer alguna media, suma, u operaciones con enteros, sería recomendable hacer un cast de esa columna"
      ],
      "metadata": {
        "id": "WaDMXW7KyVSq"
      }
    },
    {
      "cell_type": "markdown",
      "metadata": {
        "application/vnd.databricks.v1+cell": {
          "cellMetadata": {},
          "inputWidgets": {},
          "nuid": "5a4b636b-5e44-4afa-9d44-0666b991cec1",
          "showTitle": false,
          "tableResultSettingsMap": {},
          "title": ""
        },
        "id": "u06cEnJgwcxq"
      },
      "source": [
        "2. Eliminar duplicados"
      ]
    },
    {
      "cell_type": "code",
      "source": [
        "from pyspark.sql.functions import col, count, countDistinct\n",
        "\n",
        "print(f\"Filas antes de borrar duplicados {df.count()}\")\n",
        "\n",
        "df = df.dropDuplicates()\n",
        "\n",
        "print(f\"Filas despues de borrar duplicados {df.count()}\")\n"
      ],
      "metadata": {
        "colab": {
          "base_uri": "https://localhost:8080/"
        },
        "id": "iwXv7oZJxv4C",
        "outputId": "c40f94c3-27dd-4cbf-eb2d-1a375739ec03"
      },
      "execution_count": 209,
      "outputs": [
        {
          "output_type": "stream",
          "name": "stdout",
          "text": [
            "Filas antes de borrar duplicados 733\n",
            "Filas despues de borrar duplicados 709\n"
          ]
        }
      ]
    },
    {
      "cell_type": "markdown",
      "metadata": {
        "application/vnd.databricks.v1+cell": {
          "cellMetadata": {},
          "inputWidgets": {},
          "nuid": "a9b97746-8b29-4550-9e1b-be2876c2a0a5",
          "showTitle": false,
          "tableResultSettingsMap": {},
          "title": ""
        },
        "id": "e6npCj6Uwcxq"
      },
      "source": [
        "3. Decidir que hacer con los datos faltantes"
      ]
    },
    {
      "cell_type": "markdown",
      "source": [
        "Primero contamos cuantos datos faltantes hay por cada columna, y dependiendo del valor que tenga esa columna, decidimos."
      ],
      "metadata": {
        "id": "GaDFc4F-5eXo"
      }
    },
    {
      "cell_type": "code",
      "source": [
        "from pyspark.sql import functions as F\n",
        "\n",
        "for column in df.columns:\n",
        "    empty_count = df.filter((F.col(column) == \"-1\")).count()\n",
        "    print(f\"Columna '{column}': {empty_count} valores vacíos\")\n"
      ],
      "metadata": {
        "colab": {
          "base_uri": "https://localhost:8080/"
        },
        "id": "xhNyoB47ymhc",
        "outputId": "a641b3a1-9da1-41cc-c1ab-13bac6f26c4d"
      },
      "execution_count": 210,
      "outputs": [
        {
          "output_type": "stream",
          "name": "stdout",
          "text": [
            "Columna 'index': 0 valores vacíos\n",
            "Columna 'Job Title': 2 valores vacíos\n",
            "Columna 'Salary Estimate': 0 valores vacíos\n",
            "Columna 'Job Description': 0 valores vacíos\n",
            "Columna 'Rating': 38 valores vacíos\n",
            "Columna 'Company Name': 2 valores vacíos\n",
            "Columna 'Location': 4 valores vacíos\n",
            "Columna 'Headquarters': 20 valores vacíos\n",
            "Columna 'Size': 17 valores vacíos\n",
            "Columna 'Founded': 104 valores vacíos\n",
            "Columna 'Type of ownership': 16 valores vacíos\n",
            "Columna 'Industry': 78 valores vacíos\n",
            "Columna 'Sector': 59 valores vacíos\n",
            "Columna 'Revenue': 15 valores vacíos\n",
            "Columna 'Competitors': 461 valores vacíos\n"
          ]
        }
      ]
    },
    {
      "cell_type": "markdown",
      "source": [
        "\n",
        "\n",
        "Visto el resultado, vamos a realizar lo siguiente para cada columna con datos faltantes:\n",
        "- Job Title --> eliminar ya que sin título el dato no vale\n",
        "- Rating --> ponemos la media de todas las ratings\n",
        "- Company name --> eliminamos porque son pocas filas y sin nombre de la compañía el dato pierde valor\n",
        "- Location --> intentaremos coger el dato de headquarters, si es nulo, eliminamos\n",
        "- Headquarters --> igual que location pero al revés\n",
        "- Size --> ponemos lit(none), no nos aporta gran información\n",
        "- Founded --> ponemos lit(none), no nos aporta gran información\n",
        "- Industry, sector, type of ownership, revenue y competitors --> lo dejaremos en lit(Unknown), ya que es importante pero no estrictamente necesaria la informacion"
      ],
      "metadata": {
        "id": "wcltFsxh5XnX"
      }
    },
    {
      "cell_type": "code",
      "source": [
        "from pyspark.sql import functions as F\n",
        "\n",
        "# Paso 1: Eliminar filas donde Job Title sea \"-1\"\n",
        "df_cleaned = df.filter(F.col(\"Job Title\") != \"-1\")\n",
        "\n",
        "# Paso 2: Rellenar Rating con la media de la columna, donde Rating sea \"-1\", para ello, primero hay que pasar rating a int\n",
        "df_cleaned = df.withColumn(\"Rating\", F.col(\"Rating\").cast(\"int\"))\n",
        "average_rating = df.filter(F.col(\"Rating\") != -1).agg(F.round(F.avg(\"Rating\"), 2)).collect()[0][0]\n",
        "df_cleaned = df_cleaned.withColumn(\"Rating\", F.when(F.col(\"Rating\") == -1, average_rating).otherwise(F.col(\"Rating\")))\n",
        "\n",
        "# Paso 3: Eliminar filas donde Company name sea \"-1\"\n",
        "df_cleaned = df_cleaned.filter(F.col(\"Company name\") != \"-1\")\n",
        "\n",
        "# Paso 4: Limpiar Location: si es \"-1\", tomar el valor de Headquarters, si ambos son \"-1\", eliminar fila\n",
        "df_cleaned = df_cleaned.withColumn(\n",
        "    \"Location\",\n",
        "    F.when(F.col(\"Location\") == \"-1\", F.col(\"Headquarters\")).otherwise(F.col(\"Location\"))\n",
        ")\n",
        "df_cleaned = df_cleaned.filter(F.col(\"Location\") != \"-1\")\n",
        "\n",
        "# Paso 5: Limpiar Headquarters: si es \"-1\", tomar el valor de Location, si ambos son \"-1\", eliminar fila\n",
        "df_cleaned = df_cleaned.withColumn(\n",
        "    \"Headquarters\",\n",
        "    F.when(F.col(\"Headquarters\") == \"-1\", F.col(\"Location\")).otherwise(F.col(\"Headquarters\"))\n",
        ")\n",
        "df_cleaned = df_cleaned.filter(F.col(\"Headquarters\") != \"-1\")\n",
        "\n",
        "# Paso 6: Reemplazar valores \"-1\" de Size con \"none\"\n",
        "df_cleaned = df_cleaned.withColumn(\"Size\", F.when(F.col(\"Size\") == \"-1\", \"none\").otherwise(F.col(\"Size\")))\n",
        "\n",
        "# Paso 7: Reemplazar valores \"-1\" de Founded con \"none\"\n",
        "df_cleaned = df_cleaned.withColumn(\"Founded\", F.when(F.col(\"Founded\") == \"-1\", \"none\").otherwise(F.col(\"Founded\")))\n",
        "\n",
        "# Paso 8: Reemplazar valores \"-1\" de Industry, Sector, Revenue, Competitors con \"Unknown\"\n",
        "df_cleaned = df_cleaned.withColumn(\"Industry\", F.when(F.col(\"Industry\") == \"-1\", \"Unknown\").otherwise(F.col(\"Industry\")))\n",
        "df_cleaned = df_cleaned.withColumn(\"Sector\", F.when(F.col(\"Sector\") == \"-1\", \"Unknown\").otherwise(F.col(\"Sector\")))\n",
        "df_cleaned = df_cleaned.withColumn(\"Revenue\", F.when(F.col(\"Revenue\") == \"-1\", \"Unknown\").otherwise(F.col(\"Revenue\")))\n",
        "df_cleaned = df_cleaned.withColumn(\"Competitors\", F.when(F.col(\"Competitors\") == \"-1\", \"Unknown\").otherwise(F.col(\"Competitors\")))\n",
        "df_cleaned = df_cleaned.withColumn(\"Type of ownership\", F.when(F.col(\"Type of ownership\") == \"-1\", \"Unknown\").otherwise(F.col(\"Type of ownership\")))\n",
        "\n",
        "\n",
        "# Asignar el dataframe limpio al dataframe principal\n",
        "df = df_cleaned\n",
        "\n",
        "# Mostrar el dataframe limpio\n",
        "df.show()\n"
      ],
      "metadata": {
        "colab": {
          "base_uri": "https://localhost:8080/"
        },
        "id": "RaJCML3_5TKw",
        "outputId": "dccf5d71-e5e3-44c6-b3fb-cb6246d43c29"
      },
      "execution_count": 211,
      "outputs": [
        {
          "output_type": "stream",
          "name": "stdout",
          "text": [
            "+-----+--------------------+--------------------+--------------------+------+--------------------+-----------------+--------------------+--------------------+-------+--------------------+--------------------+--------------------+--------------------+--------------------+\n",
            "|index|           Job Title|     Salary Estimate|     Job Description|Rating|        Company Name|         Location|        Headquarters|                Size|Founded|   Type of ownership|            Industry|              Sector|             Revenue|         Competitors|\n",
            "+-----+--------------------+--------------------+--------------------+------+--------------------+-----------------+--------------------+--------------------+-------+--------------------+--------------------+--------------------+--------------------+--------------------+\n",
            "|   56|Senior Data Scien...|$75K-$131K (Glass...|Benson Hill empow...|  35.0|    Benson Hill\\n3.5|  Saint Louis, MO|     Saint Louis, MO|201 to 500 employees|   2012|   Company - Private|Biotech & Pharmac...|Biotech & Pharmac...|$1 to $5 million ...|             Unknown|\n",
            "|  282|      Data Scientist|$91K-$150K (Glass...|Greetings from Tr...| 38.84|      Trovetechs Inc|San Francisco, CA|    Hillsborough, NJ|             Unknown|   none|   Company - Private|             Unknown|             Unknown|Unknown / Non-App...|             Unknown|\n",
            "|   74|Purification Scie...|$79K-$131K (Glass...|New England Biola...|  49.0|New England Biola...|      Ipswich, MA|         Ipswich, MA|201 to 500 employees|   1974|   Company - Private|Biotech & Pharmac...|Biotech & Pharmac...|Unknown / Non-App...|Thermo Fisher Sci...|\n",
            "|  177|Data Scientist - ...|$56K-$97K (Glassd...|*Organization and...|  37.0|           PNNL\\n3.7|     Richland, WA|        Richland, WA|1001 to 5000 empl...|   1965|          Government|              Energy|Oil, Gas, Energy ...|$500 million to $...|Oak Ridge Nationa...|\n",
            "|  457|      Data Scientist|$69K-$116K (Glass...|Work in a fast gr...| 38.84|       Stride Search|San Francisco, CA|Westlake Village, CA|   1 to 50 employees|   none|   Company - Private|             Unknown|             Unknown|Less than $1 mill...|             Unknown|\n",
            "|  662|      Data Scientist|$105K-$167K (Glas...|Solution IT Inc. ...|  44.0|SolutionIT, Inc.\\...|       Edison, NJ|      Wilmington, MA| 51 to 200 employees|   none|   Company - Private|             Unknown|             Unknown|Unknown / Non-App...|             Unknown|\n",
            "|   19|Medical Lab Scien...|$137K-$171K (Glas...|Responsibilities\\...|  35.0|   Tower Health\\n3.5|   West Grove, PA|         Reading, PA|5001 to 10000 emp...|   2017|Nonprofit Organiz...|Health Care Servi...|         Health Care|Unknown / Non-App...|             Unknown|\n",
            "|  145|Research Scientis...|$90K-$109K (Glass...|*We would ideally...|  38.0|        Evidera\\n3.8|     Bethesda, MD|        Bethesda, MD|501 to 1000 emplo...|   2013|Subsidiary or Bus...|Biotech & Pharmac...|Biotech & Pharmac...|$100 to $500 mill...|         IQVIA, ICON|\n",
            "|  157|Experienced Data ...|$101K-$165K (Glas...|*******Please App...|  44.0|Guzman & Griffin ...|   Washington, DC|    Mays Landing, NJ|   1 to 50 employees|   1997|   Company - Private|    Federal Agencies|          Government|Unknown / Non-App...|             Unknown|\n",
            "|  303|      Data Scientist|$145K-$225K(Emplo...|Role Description\\...|  32.0|     Triplebyte\\n3.2|      Chicago, IL|   San Francisco, CA| 51 to 200 employees|   2015|   Company - Private|Computer Hardware...|Information Techn...|Unknown / Non-App...|             Unknown|\n",
            "|  176|       Data Engineer|$101K-$165K (Glas...|Building Bridges,...|  44.0|Resurgent Capital...|   Cincinnati, OH|      Greenville, SC|201 to 500 employees|   1998|   Company - Private|Venture Capital &...|             Finance|$50 to $100 milli...|             Unknown|\n",
            "|  478|      Data Scientist|$31K-$56K (Glassd...|Responsibilities�...|  41.0|IntelliPro Group ...|  Santa Clara, CA|     Santa Clara, CA|201 to 500 employees|   none|   Company - Private|             Unknown|             Unknown|$10 to $25 millio...|             Unknown|\n",
            "|  637|      Data Scientist|$92K-$155K (Glass...|Job Description\\n...| 38.84|            Sophinea|    Chantilly, VA|       Chantilly, VA|   1 to 50 employees|   none|             Unknown|             Unknown|             Unknown|Unknown / Non-App...|             Unknown|\n",
            "|   33|Senior Research S...|$75K-$131K (Glass...|Acuity is seeking...|  48.0|Acuity Insurance\\...|    Sheboygan, WI|       Sheboygan, WI|1001 to 5000 empl...|   1925|   Company - Private|  Insurance Carriers|           Insurance|$1 to $2 billion ...|             Unknown|\n",
            "|   40|        Data Analyst|$75K-$131K (Glass...|Data Analyst\\nLoc...|  31.0|Cambridge Associa...|       Boston, MA|          Boston, MA|501 to 1000 emplo...|   1973|   Company - Private|Investment Bankin...|             Finance|$100 to $500 mill...|             Unknown|\n",
            "|  542|COMPUTER SCIENTIS...|$66K-$112K (Glass...|Join our Intellig...|  39.0|Southwest Researc...|  San Antonio, TX|     San Antonio, TX|1001 to 5000 empl...|   1947|Nonprofit Organiz...|Research & Develo...|   Business Services|$500 million to $...|Los Alamos Nation...|\n",
            "|  206|Data Science Inst...|$79K-$106K (Glass...|Join our team ded...|  45.0|        Novetta\\n4.5|      Herndon, VA|         Mc Lean, VA|501 to 1000 emplo...|   2012|   Company - Private|Enterprise Softwa...|Information Techn...|$100 to $500 mill...|Leidos, CACI Inte...|\n",
            "|  428|Senior Data Scien...|$79K-$133K (Glass...|Benson Hill empow...|  35.0|    Benson Hill\\n3.5|  Saint Louis, MO|     Saint Louis, MO|201 to 500 employees|   2012|   Company - Private|Biotech & Pharmac...|Biotech & Pharmac...|$1 to $5 million ...|             Unknown|\n",
            "|  521|      Data Scientist|$212K-$331K (Glas...|The work is in su...|  38.0|  Aveshka, Inc.\\n3.8|   Washington, DC|       Arlington, VA| 51 to 200 employees|   2010|    Company - Public|         IT Services|Information Techn...|$10 to $25 millio...|             Unknown|\n",
            "|  253|      Data Scientist|$90K-$124K (Glass...|You are key to he...|  41.0|         Gallup\\n4.1|     New York, NY|      Washington, DC|1001 to 5000 empl...|   1935|   Company - Private|          Consulting|   Business Services|Unknown / Non-App...|Advisory Board, B...|\n",
            "+-----+--------------------+--------------------+--------------------+------+--------------------+-----------------+--------------------+--------------------+-------+--------------------+--------------------+--------------------+--------------------+--------------------+\n",
            "only showing top 20 rows\n",
            "\n"
          ]
        }
      ]
    },
    {
      "cell_type": "markdown",
      "metadata": {
        "application/vnd.databricks.v1+cell": {
          "cellMetadata": {},
          "inputWidgets": {},
          "nuid": "eaedda51-4a41-41cd-aba7-75f0e5a3c5f4",
          "showTitle": false,
          "tableResultSettingsMap": {},
          "title": ""
        },
        "id": "1Ylqy_jUwcxq"
      },
      "source": [
        "4. Decidir que hacer con los valores nulos"
      ]
    },
    {
      "cell_type": "markdown",
      "source": [
        "Con los nulos, vamos a hacer el mismo análisis que con los faltantes"
      ],
      "metadata": {
        "id": "91EGo_8G4yev"
      }
    },
    {
      "cell_type": "code",
      "source": [
        "for column in df.columns:\n",
        "    empty_count = df.filter((F.col(column).isNull())).count()\n",
        "    print(f\"Columna '{column}': {empty_count} valores nulos\")"
      ],
      "metadata": {
        "colab": {
          "base_uri": "https://localhost:8080/"
        },
        "id": "mV7CEvdu4dsv",
        "outputId": "dff1c1d5-4c93-44e4-c875-92e0be9b5912"
      },
      "execution_count": 212,
      "outputs": [
        {
          "output_type": "stream",
          "name": "stdout",
          "text": [
            "Columna 'index': 0 valores nulos\n",
            "Columna 'Job Title': 0 valores nulos\n",
            "Columna 'Salary Estimate': 1 valores nulos\n",
            "Columna 'Job Description': 1 valores nulos\n",
            "Columna 'Rating': 27 valores nulos\n",
            "Columna 'Company Name': 0 valores nulos\n",
            "Columna 'Location': 0 valores nulos\n",
            "Columna 'Headquarters': 0 valores nulos\n",
            "Columna 'Size': 0 valores nulos\n",
            "Columna 'Founded': 0 valores nulos\n",
            "Columna 'Type of ownership': 0 valores nulos\n",
            "Columna 'Industry': 0 valores nulos\n",
            "Columna 'Sector': 24 valores nulos\n",
            "Columna 'Revenue': 26 valores nulos\n",
            "Columna 'Competitors': 27 valores nulos\n"
          ]
        }
      ]
    },
    {
      "cell_type": "markdown",
      "source": [
        "A la vista de los resultados, amos a realizar lo mismo con los nulos que con los faltantes, pero añadiendo condiciones para Salary Estimate y Job Description, que también dejaremos en Unknown en caso de nulo"
      ],
      "metadata": {
        "id": "RX2OFYHz42cA"
      }
    },
    {
      "cell_type": "code",
      "source": [
        "# Paso 1: Eliminar filas con Job Title nulo o vacío\n",
        "df_cleaned = df.filter(F.col(\"Job Title\").isNotNull() & (F.col(\"Company name\") != \"\"))\n",
        "\n",
        "# Paso 2: Rellenar Rating con la media de la columna\n",
        "average_rating = df_cleaned.agg(F.round(F.avg(\"Rating\"), 2)).collect()[0][0]\n",
        "df_cleaned = df_cleaned.fillna({\"Rating\": average_rating})\n",
        "\n",
        "# Paso 3: Eliminar filas con Company Name nulo o vacío\n",
        "df_cleaned = df_cleaned.filter(F.col(\"Company name\").isNotNull() & (F.col(\"Company name\") != \"\"))\n",
        "\n",
        "# Paso 4: Limpiar Location: si es nulo, tomar el valor de Headquarters, si ambos son nulos, eliminar fila\n",
        "df_cleaned = df_cleaned.withColumn(\n",
        "    \"Location\",\n",
        "    F.coalesce(F.col(\"Location\"), F.col(\"Headquarters\"))\n",
        ").filter(F.col(\"Location\").isNotNull())\n",
        "\n",
        "# Paso 5: Limpiar Headquarters: si es nulo, tomar el valor de Location, si ambos son nulos, eliminar fila\n",
        "df_cleaned = df_cleaned.withColumn(\n",
        "    \"Headquarters\",\n",
        "    F.coalesce(F.col(\"Headquarters\"), F.col(\"Location\"))\n",
        ").filter(F.col(\"Headquarters\").isNotNull())\n",
        "\n",
        "# Paso 6: Reemplazar valores nulos de Size y Founded con \"none\"\n",
        "df_cleaned = df_cleaned.fillna({\n",
        "    \"Size\": \"none\",\n",
        "    \"Founded\": \"none\"\n",
        "    })\n",
        "\n",
        "# Paso 7: Reemplazar valores nulos de Industry, Sector, Revenue, Competitors con \"Unknown\"\n",
        "df_cleaned = df_cleaned.fillna({\n",
        "    \"Industry\": \"Unknown\",\n",
        "    \"Sector\": \"Unknown\",\n",
        "    \"Revenue\": \"Unknown\",\n",
        "    \"Type of ownership\": \"Unknown\",\n",
        "    \"Competitors\": \"Unknown\",\n",
        "    \"Salary Estimate\": \"Unknown\",\n",
        "    \"Job Description\": \"Unknown\"\n",
        "})\n",
        "\n",
        "# Asignar el dataframe limpio al principal\n",
        "df = df_cleaned\n",
        "\n",
        "\n",
        "# Mostrar el resultado\n",
        "df.show()"
      ],
      "metadata": {
        "colab": {
          "base_uri": "https://localhost:8080/"
        },
        "id": "zGmaRukI6vLR",
        "outputId": "5a0abafa-3218-4561-bbf5-9894036f1fd4"
      },
      "execution_count": 213,
      "outputs": [
        {
          "output_type": "stream",
          "name": "stdout",
          "text": [
            "+-----+--------------------+--------------------+--------------------+------+--------------------+-----------------+--------------------+--------------------+-------+--------------------+--------------------+--------------------+--------------------+--------------------+\n",
            "|index|           Job Title|     Salary Estimate|     Job Description|Rating|        Company Name|         Location|        Headquarters|                Size|Founded|   Type of ownership|            Industry|              Sector|             Revenue|         Competitors|\n",
            "+-----+--------------------+--------------------+--------------------+------+--------------------+-----------------+--------------------+--------------------+-------+--------------------+--------------------+--------------------+--------------------+--------------------+\n",
            "|   56|Senior Data Scien...|$75K-$131K (Glass...|Benson Hill empow...|  35.0|    Benson Hill\\n3.5|  Saint Louis, MO|     Saint Louis, MO|201 to 500 employees|   2012|   Company - Private|Biotech & Pharmac...|Biotech & Pharmac...|$1 to $5 million ...|             Unknown|\n",
            "|  282|      Data Scientist|$91K-$150K (Glass...|Greetings from Tr...| 38.84|      Trovetechs Inc|San Francisco, CA|    Hillsborough, NJ|             Unknown|   none|   Company - Private|             Unknown|             Unknown|Unknown / Non-App...|             Unknown|\n",
            "|   74|Purification Scie...|$79K-$131K (Glass...|New England Biola...|  49.0|New England Biola...|      Ipswich, MA|         Ipswich, MA|201 to 500 employees|   1974|   Company - Private|Biotech & Pharmac...|Biotech & Pharmac...|Unknown / Non-App...|Thermo Fisher Sci...|\n",
            "|  177|Data Scientist - ...|$56K-$97K (Glassd...|*Organization and...|  37.0|           PNNL\\n3.7|     Richland, WA|        Richland, WA|1001 to 5000 empl...|   1965|          Government|              Energy|Oil, Gas, Energy ...|$500 million to $...|Oak Ridge Nationa...|\n",
            "|  457|      Data Scientist|$69K-$116K (Glass...|Work in a fast gr...| 38.84|       Stride Search|San Francisco, CA|Westlake Village, CA|   1 to 50 employees|   none|   Company - Private|             Unknown|             Unknown|Less than $1 mill...|             Unknown|\n",
            "|  662|      Data Scientist|$105K-$167K (Glas...|Solution IT Inc. ...|  44.0|SolutionIT, Inc.\\...|       Edison, NJ|      Wilmington, MA| 51 to 200 employees|   none|   Company - Private|             Unknown|             Unknown|Unknown / Non-App...|             Unknown|\n",
            "|   19|Medical Lab Scien...|$137K-$171K (Glas...|Responsibilities\\...|  35.0|   Tower Health\\n3.5|   West Grove, PA|         Reading, PA|5001 to 10000 emp...|   2017|Nonprofit Organiz...|Health Care Servi...|         Health Care|Unknown / Non-App...|             Unknown|\n",
            "|  145|Research Scientis...|$90K-$109K (Glass...|*We would ideally...|  38.0|        Evidera\\n3.8|     Bethesda, MD|        Bethesda, MD|501 to 1000 emplo...|   2013|Subsidiary or Bus...|Biotech & Pharmac...|Biotech & Pharmac...|$100 to $500 mill...|         IQVIA, ICON|\n",
            "|  157|Experienced Data ...|$101K-$165K (Glas...|*******Please App...|  44.0|Guzman & Griffin ...|   Washington, DC|    Mays Landing, NJ|   1 to 50 employees|   1997|   Company - Private|    Federal Agencies|          Government|Unknown / Non-App...|             Unknown|\n",
            "|  303|      Data Scientist|$145K-$225K(Emplo...|Role Description\\...|  32.0|     Triplebyte\\n3.2|      Chicago, IL|   San Francisco, CA| 51 to 200 employees|   2015|   Company - Private|Computer Hardware...|Information Techn...|Unknown / Non-App...|             Unknown|\n",
            "|  176|       Data Engineer|$101K-$165K (Glas...|Building Bridges,...|  44.0|Resurgent Capital...|   Cincinnati, OH|      Greenville, SC|201 to 500 employees|   1998|   Company - Private|Venture Capital &...|             Finance|$50 to $100 milli...|             Unknown|\n",
            "|  478|      Data Scientist|$31K-$56K (Glassd...|Responsibilities�...|  41.0|IntelliPro Group ...|  Santa Clara, CA|     Santa Clara, CA|201 to 500 employees|   none|   Company - Private|             Unknown|             Unknown|$10 to $25 millio...|             Unknown|\n",
            "|  637|      Data Scientist|$92K-$155K (Glass...|Job Description\\n...| 38.84|            Sophinea|    Chantilly, VA|       Chantilly, VA|   1 to 50 employees|   none|             Unknown|             Unknown|             Unknown|Unknown / Non-App...|             Unknown|\n",
            "|   33|Senior Research S...|$75K-$131K (Glass...|Acuity is seeking...|  48.0|Acuity Insurance\\...|    Sheboygan, WI|       Sheboygan, WI|1001 to 5000 empl...|   1925|   Company - Private|  Insurance Carriers|           Insurance|$1 to $2 billion ...|             Unknown|\n",
            "|   40|        Data Analyst|$75K-$131K (Glass...|Data Analyst\\nLoc...|  31.0|Cambridge Associa...|       Boston, MA|          Boston, MA|501 to 1000 emplo...|   1973|   Company - Private|Investment Bankin...|             Finance|$100 to $500 mill...|             Unknown|\n",
            "|  542|COMPUTER SCIENTIS...|$66K-$112K (Glass...|Join our Intellig...|  39.0|Southwest Researc...|  San Antonio, TX|     San Antonio, TX|1001 to 5000 empl...|   1947|Nonprofit Organiz...|Research & Develo...|   Business Services|$500 million to $...|Los Alamos Nation...|\n",
            "|  206|Data Science Inst...|$79K-$106K (Glass...|Join our team ded...|  45.0|        Novetta\\n4.5|      Herndon, VA|         Mc Lean, VA|501 to 1000 emplo...|   2012|   Company - Private|Enterprise Softwa...|Information Techn...|$100 to $500 mill...|Leidos, CACI Inte...|\n",
            "|  428|Senior Data Scien...|$79K-$133K (Glass...|Benson Hill empow...|  35.0|    Benson Hill\\n3.5|  Saint Louis, MO|     Saint Louis, MO|201 to 500 employees|   2012|   Company - Private|Biotech & Pharmac...|Biotech & Pharmac...|$1 to $5 million ...|             Unknown|\n",
            "|  521|      Data Scientist|$212K-$331K (Glas...|The work is in su...|  38.0|  Aveshka, Inc.\\n3.8|   Washington, DC|       Arlington, VA| 51 to 200 employees|   2010|    Company - Public|         IT Services|Information Techn...|$10 to $25 millio...|             Unknown|\n",
            "|  253|      Data Scientist|$90K-$124K (Glass...|You are key to he...|  41.0|         Gallup\\n4.1|     New York, NY|      Washington, DC|1001 to 5000 empl...|   1935|   Company - Private|          Consulting|   Business Services|Unknown / Non-App...|Advisory Board, B...|\n",
            "+-----+--------------------+--------------------+--------------------+------+--------------------+-----------------+--------------------+--------------------+-------+--------------------+--------------------+--------------------+--------------------+--------------------+\n",
            "only showing top 20 rows\n",
            "\n"
          ]
        }
      ]
    },
    {
      "cell_type": "markdown",
      "source": [
        "Por último, vamos a comprobar que no haya ningún valor nulo ni vacío en nuestro dataframe, ejecutando el mismo código de antes"
      ],
      "metadata": {
        "id": "swdwthnj7omx"
      }
    },
    {
      "source": [
        "from pyspark.sql.types import StructType, StructField, StringType, IntegerType, FloatType\n",
        "\n",
        "for column in df.columns:\n",
        "    if df.schema[column].dataType == StringType():\n",
        "        empty_count = df.filter((F.col(column).isNull()) | (F.col(column) == \"-1\")).count()\n",
        "    else:\n",
        "        empty_count = df.filter(F.col(column).isNull()).count()\n",
        "    print(f\"Columna '{column}': {empty_count} valores nulos\")"
      ],
      "cell_type": "code",
      "metadata": {
        "colab": {
          "base_uri": "https://localhost:8080/"
        },
        "id": "p3UYw4KY7-tR",
        "outputId": "927dd109-c366-4552-b5b0-fa49df5b2c3a"
      },
      "execution_count": 214,
      "outputs": [
        {
          "output_type": "stream",
          "name": "stdout",
          "text": [
            "Columna 'index': 0 valores nulos\n",
            "Columna 'Job Title': 0 valores nulos\n",
            "Columna 'Salary Estimate': 0 valores nulos\n",
            "Columna 'Job Description': 0 valores nulos\n",
            "Columna 'Rating': 0 valores nulos\n",
            "Columna 'Company Name': 0 valores nulos\n",
            "Columna 'Location': 0 valores nulos\n",
            "Columna 'Headquarters': 0 valores nulos\n",
            "Columna 'Size': 0 valores nulos\n",
            "Columna 'Founded': 0 valores nulos\n",
            "Columna 'Type of ownership': 0 valores nulos\n",
            "Columna 'Industry': 0 valores nulos\n",
            "Columna 'Sector': 0 valores nulos\n",
            "Columna 'Revenue': 0 valores nulos\n",
            "Columna 'Competitors': 0 valores nulos\n"
          ]
        }
      ]
    },
    {
      "cell_type": "markdown",
      "metadata": {
        "application/vnd.databricks.v1+cell": {
          "cellMetadata": {},
          "inputWidgets": {},
          "nuid": "cbb3b1ca-24ac-4206-8906-3ecee5d6c5aa",
          "showTitle": false,
          "tableResultSettingsMap": {},
          "title": ""
        },
        "id": "G7XuYqUgwcxq"
      },
      "source": [
        "5. ¿Cuántos registros tiene el csv?"
      ]
    },
    {
      "cell_type": "code",
      "source": [
        "df.count()"
      ],
      "metadata": {
        "id": "C-wLdSA49XS7",
        "outputId": "68ea219f-1495-4962-e821-7957f88d3e83",
        "colab": {
          "base_uri": "https://localhost:8080/"
        }
      },
      "execution_count": 215,
      "outputs": [
        {
          "output_type": "execute_result",
          "data": {
            "text/plain": [
              "653"
            ]
          },
          "metadata": {},
          "execution_count": 215
        }
      ]
    },
    {
      "cell_type": "markdown",
      "source": [
        "El csv contiene 653 registros tras la limpieza"
      ],
      "metadata": {
        "id": "EYvkyo4FF7q3"
      }
    },
    {
      "cell_type": "markdown",
      "metadata": {
        "application/vnd.databricks.v1+cell": {
          "cellMetadata": {},
          "inputWidgets": {},
          "nuid": "1e9aac77-6fe5-4a54-b6ae-c152feee149f",
          "showTitle": false,
          "tableResultSettingsMap": {},
          "title": ""
        },
        "id": "pUp9Ffb4wcxr"
      },
      "source": [
        "6. Mostrar los valores únicos de `Job title`"
      ]
    },
    {
      "cell_type": "code",
      "source": [
        "df.select(\"Job Title\").distinct().show(truncate=False)"
      ],
      "metadata": {
        "colab": {
          "base_uri": "https://localhost:8080/"
        },
        "id": "XuZyCkb6zmbb",
        "outputId": "80996954-4f63-45cb-85c5-af9582b9574f"
      },
      "execution_count": 216,
      "outputs": [
        {
          "output_type": "stream",
          "name": "stdout",
          "text": [
            "+-------------------------------------------------------------------------------------------------------------------------------------------------------------------------------------------------------------------------------------------------------------------------------------------------------------------------------------------------------------------------------------------------------------------------------------------------------------+\n",
            "|Job Title                                                                                                                                                                                                                                                                                                                                                                                                                                                    |\n",
            "+-------------------------------------------------------------------------------------------------------------------------------------------------------------------------------------------------------------------------------------------------------------------------------------------------------------------------------------------------------------------------------------------------------------------------------------------------------------+\n",
            "| at least one reference should be from a supervisor\\nLetter of interest\\nImportant for applicants who are NOT current university employees or contingent workers: You will be prompted to submit your resume the first time you apply, then you will be provided an option to upload a new Resume for subsequent applications. Any additional Required Materials (letter of interest, references, etc.) will be uploaded in the Application Questions section|\n",
            "|Clinical Data Analyst                                                                                                                                                                                                                                                                                                                                                                                                                                        |\n",
            "|Senior Business Intelligence Analyst                                                                                                                                                                                                                                                                                                                                                                                                                         |\n",
            "|Data Analyst/Engineer                                                                                                                                                                                                                                                                                                                                                                                                                                        |\n",
            "|Staff BI and Data Engineer                                                                                                                                                                                                                                                                                                                                                                                                                                   |\n",
            "|Intelligence Data Analyst, Senior                                                                                                                                                                                                                                                                                                                                                                                                                            |\n",
            "|Report Writer-Data Analyst                                                                                                                                                                                                                                                                                                                                                                                                                                   |\n",
            "|Hydrogen/Tritium Materials Scientist (Experienced)                                                                                                                                                                                                                                                                                                                                                                                                           |\n",
            "|Business Intelligence Analyst                                                                                                                                                                                                                                                                                                                                                                                                                                |\n",
            "|Data Modeler                                                                                                                                                                                                                                                                                                                                                                                                                                                 |\n",
            "|29                                                                                                                                                                                                                                                                                                                                                                                                                                                           |\n",
            "|42                                                                                                                                                                                                                                                                                                                                                                                                                                                           |\n",
            "|Scientist / Group Lead, Cancer Biology                                                                                                                                                                                                                                                                                                                                                                                                                       |\n",
            "|Senior Research Statistician- Data Scientist                                                                                                                                                                                                                                                                                                                                                                                                                 |\n",
            "|Software Engineer - Machine Learning & Data Science (Applied Intelligence Services Team)                                                                                                                                                                                                                                                                                                                                                                     |\n",
            "|Sr Data Scientist                                                                                                                                                                                                                                                                                                                                                                                                                                            |\n",
            "|COMPUTER SCIENTIST - ENGINEER - RESEARCH COMPUTER SCIENTIST - SIGNAL PROCESSING                                                                                                                                                                                                                                                                                                                                                                              |\n",
            "|34                                                                                                                                                                                                                                                                                                                                                                                                                                                           |\n",
            "|Data Scientist/Machine Learning                                                                                                                                                                                                                                                                                                                                                                                                                              |\n",
            "|Data Scientist - Statistics, Mid-Career                                                                                                                                                                                                                                                                                                                                                                                                                      |\n",
            "+-------------------------------------------------------------------------------------------------------------------------------------------------------------------------------------------------------------------------------------------------------------------------------------------------------------------------------------------------------------------------------------------------------------------------------------------------------------+\n",
            "only showing top 20 rows\n",
            "\n"
          ]
        }
      ]
    },
    {
      "cell_type": "markdown",
      "metadata": {
        "application/vnd.databricks.v1+cell": {
          "cellMetadata": {},
          "inputWidgets": {},
          "nuid": "df06a700-7dd6-44c8-877c-52819ffb73a0",
          "showTitle": false,
          "tableResultSettingsMap": {},
          "title": ""
        },
        "id": "rRCCcouRwcxr"
      },
      "source": [
        "7. Remover la letra `K` de la columna `Salary Estimate` y multiplicar por 1000."
      ]
    },
    {
      "cell_type": "code",
      "source": [
        "df_cleaned = df.withColumn(\"Salary Estimate\", F.regexp_replace(F.col(\"Salary Estimate\"), \"K\", \".000\"))\n",
        "df = df_cleaned\n",
        "df.select(\"Salary Estimate\").show(truncate= False)"
      ],
      "metadata": {
        "colab": {
          "base_uri": "https://localhost:8080/"
        },
        "id": "RYulzEiGF4io",
        "outputId": "80fceb41-e42b-4ff1-dc24-a2d0d1d467fa"
      },
      "execution_count": 217,
      "outputs": [
        {
          "output_type": "stream",
          "name": "stdout",
          "text": [
            "+----------------------------------+\n",
            "|Salary Estimate                   |\n",
            "+----------------------------------+\n",
            "|$75.000-$131.000 (Glassdoor est.) |\n",
            "|$91.000-$150.000 (Glassdoor est.) |\n",
            "|$79.000-$131.000 (Glassdoor est.) |\n",
            "|$56.000-$97.000 (Glassdoor est.)  |\n",
            "|$69.000-$116.000 (Glassdoor est.) |\n",
            "|$105.000-$167.000 (Glassdoor est.)|\n",
            "|$137.000-$171.000 (Glassdoor est.)|\n",
            "|$90.000-$109.000 (Glassdoor est.) |\n",
            "|$101.000-$165.000 (Glassdoor est.)|\n",
            "|$145.000-$225.000(Employer est.)  |\n",
            "|$101.000-$165.000 (Glassdoor est.)|\n",
            "|$31.000-$56.000 (Glassdoor est.)  |\n",
            "|$92.000-$155.000 (Glassdoor est.) |\n",
            "|$75.000-$131.000 (Glassdoor est.) |\n",
            "|$75.000-$131.000 (Glassdoor est.) |\n",
            "|$66.000-$112.000 (Glassdoor est.) |\n",
            "|$79.000-$106.000 (Glassdoor est.) |\n",
            "|$79.000-$133.000 (Glassdoor est.) |\n",
            "|$212.000-$331.000 (Glassdoor est.)|\n",
            "|$90.000-$124.000 (Glassdoor est.) |\n",
            "+----------------------------------+\n",
            "only showing top 20 rows\n",
            "\n"
          ]
        }
      ]
    },
    {
      "cell_type": "markdown",
      "source": [
        "La salida nos devuelve efectivamente que la información de Salary Estimate está modificada con miles de dólares"
      ],
      "metadata": {
        "id": "gfIcJS3wHBPr"
      }
    },
    {
      "cell_type": "markdown",
      "metadata": {
        "application/vnd.databricks.v1+cell": {
          "cellMetadata": {},
          "inputWidgets": {},
          "nuid": "b0f2bbcd-5c78-4d10-9118-e105f611b4af",
          "showTitle": false,
          "tableResultSettingsMap": {},
          "title": ""
        },
        "id": "ruFUegNkwcxr"
      },
      "source": [
        "8. Mostrar los valores únicos del campo `Salary Estimate`"
      ]
    },
    {
      "cell_type": "code",
      "source": [
        "df.select(\"Salary Estimate\").distinct().show(truncate=False)"
      ],
      "metadata": {
        "colab": {
          "base_uri": "https://localhost:8080/"
        },
        "id": "Gqm-mLrLzweU",
        "outputId": "ae61c613-75d8-495c-fafb-ba63c1034be6"
      },
      "execution_count": 218,
      "outputs": [
        {
          "output_type": "stream",
          "name": "stdout",
          "text": [
            "+----------------------------------+\n",
            "|Salary Estimate                   |\n",
            "+----------------------------------+\n",
            "|Thumbtack\\n3.9                    |\n",
            "|Western Digital\\n3.5              |\n",
            "|42                                |\n",
            "|$92.000-$155.000 (Glassdoor est.) |\n",
            "|$75.000-$131.000 (Glassdoor est.) |\n",
            "|$90.000-$109.000 (Glassdoor est.) |\n",
            "|$141.000-$225.000 (Glassdoor est.)|\n",
            "|$101.000-$165.000 (Glassdoor est.)|\n",
            "|$128.000-$201.000 (Glassdoor est.)|\n",
            "|$110.000-$163.000 (Glassdoor est.)|\n",
            "|IZEA\\n4.2                         |\n",
            "|0                                 |\n",
            "|$212.000-$331.000 (Glassdoor est.)|\n",
            "|$79.000-$106.000 (Glassdoor est.) |\n",
            "|$99.000-$132.000 (Glassdoor est.) |\n",
            "|hc1\\n2.9                          |\n",
            "|$122.000-$146.000 (Glassdoor est.)|\n",
            "|Giving Assistant\\n4.8             |\n",
            "|Jobot\\n5.0                        |\n",
            "|$87.000-$141.000 (Glassdoor est.) |\n",
            "+----------------------------------+\n",
            "only showing top 20 rows\n",
            "\n"
          ]
        }
      ]
    },
    {
      "cell_type": "markdown",
      "metadata": {
        "application/vnd.databricks.v1+cell": {
          "cellMetadata": {},
          "inputWidgets": {},
          "nuid": "da5d10ab-fd9e-4d8b-bf7f-f8d25b9ed1af",
          "showTitle": false,
          "tableResultSettingsMap": {},
          "title": ""
        },
        "id": "fVsf6_piwcxr"
      },
      "source": [
        "9. Eliminar `(Glassdoor est.)` y `(Employer est.)` del campo `Salary Estimate`"
      ]
    },
    {
      "cell_type": "code",
      "source": [
        "df_cleaned = df.withColumn(\"Salary Estimate\", F.regexp_replace(F.col(\"Salary Estimate\"), \"\\(Glassdoor est.\\)\", \"\"))\n",
        "df_cleaned = df_cleaned.withColumn(\"Salary Estimate\", F.regexp_replace(F.col(\"Salary Estimate\"), \"\\(Employer est.\\)\", \"\"))\n",
        "\n",
        "df = df_cleaned\n",
        "df.select(\"Salary Estimate\").show(truncate= False)"
      ],
      "metadata": {
        "colab": {
          "base_uri": "https://localhost:8080/"
        },
        "id": "OYcNSPYKz5iy",
        "outputId": "7888f88d-45dd-463d-dc66-d4a385426d03"
      },
      "execution_count": 219,
      "outputs": [
        {
          "output_type": "stream",
          "name": "stdout",
          "text": [
            "+------------------+\n",
            "|Salary Estimate   |\n",
            "+------------------+\n",
            "|$75.000-$131.000  |\n",
            "|$91.000-$150.000  |\n",
            "|$79.000-$131.000  |\n",
            "|$56.000-$97.000   |\n",
            "|$69.000-$116.000  |\n",
            "|$105.000-$167.000 |\n",
            "|$137.000-$171.000 |\n",
            "|$90.000-$109.000  |\n",
            "|$101.000-$165.000 |\n",
            "|$145.000-$225.000 |\n",
            "|$101.000-$165.000 |\n",
            "|$31.000-$56.000   |\n",
            "|$92.000-$155.000  |\n",
            "|$75.000-$131.000  |\n",
            "|$75.000-$131.000  |\n",
            "|$66.000-$112.000  |\n",
            "|$79.000-$106.000  |\n",
            "|$79.000-$133.000  |\n",
            "|$212.000-$331.000 |\n",
            "|$90.000-$124.000  |\n",
            "+------------------+\n",
            "only showing top 20 rows\n",
            "\n"
          ]
        }
      ]
    },
    {
      "cell_type": "markdown",
      "metadata": {
        "application/vnd.databricks.v1+cell": {
          "cellMetadata": {},
          "inputWidgets": {},
          "nuid": "80ff37c4-17a0-4eb4-b170-a131bd9b7844",
          "showTitle": false,
          "tableResultSettingsMap": {},
          "title": ""
        },
        "id": "Fpa_MkR4wcxr"
      },
      "source": [
        "10. Mostrar de mayor a menor los valores del campo `Salary Estimate`"
      ]
    },
    {
      "cell_type": "code",
      "source": [
        "df.select(\"Salary Estimate\").orderBy(F.col(\"Salary Estimate\").desc()).show(truncate=False)"
      ],
      "metadata": {
        "colab": {
          "base_uri": "https://localhost:8080/"
        },
        "id": "zQfY1KquHyIu",
        "outputId": "f80b9555-693f-484d-b6aa-79b2c8610fa5"
      },
      "execution_count": 220,
      "outputs": [
        {
          "output_type": "stream",
          "name": "stdout",
          "text": [
            "+-----------------------------------+\n",
            "|Salary Estimate                    |\n",
            "+-----------------------------------+\n",
            "|hc1\\n2.9                           |\n",
            "|Western Digital\\n3.5               |\n",
            "|Upstart\\n4.2                       |\n",
            "|Unknown                            |\n",
            "|Thumbtack\\n3.9                     |\n",
            "|Software Engineering Institute\\n2.6|\n",
            "|Royce Geospatial\\n5.0              |\n",
            "|Relativity\\n3.7                    |\n",
            "|Qurate Retail Group\\n3.6           |\n",
            "|Numeric, LLC\\n3.2                  |\n",
            "|Novartis\\n3.9                      |\n",
            "|Natera\\n3.9                        |\n",
            "|Mathematica Policy Research\\n3.4   |\n",
            "|LinQuest\\n3.9                      |\n",
            "|Life360\\n3.9                       |\n",
            "|Jobot\\n5.0                         |\n",
            "|Intellectual Ventures\\n3.3         |\n",
            "|IZEA\\n4.2                          |\n",
            "|HPOne\\n3.5                         |\n",
            "|Giving Assistant\\n4.8              |\n",
            "+-----------------------------------+\n",
            "only showing top 20 rows\n",
            "\n"
          ]
        }
      ]
    },
    {
      "cell_type": "markdown",
      "source": [
        "Al ver que hay muchos datos en la columna Salary Estimate que no coinciden con ningún número ni ningún salario estimado, voy a proceder a eliminar esta información y voy a reajustar los datos de salario aproximado de la siguiente manera:\n",
        "\n",
        "- Todas las filas que no contengan valores numéricos precedidos por el símbolo del dolar, las pondré a $0.0"
      ],
      "metadata": {
        "id": "CMYycloiI21d"
      }
    },
    {
      "source": [
        "df_cleaned = df.withColumn(\"Salary Estimate\", F.when(F.col(\"Salary Estimate\").contains(\"$\"), F.col(\"Salary Estimate\")).otherwise(F.lit(\"$0.0\")))\n",
        "\n",
        "df = df_cleaned\n",
        "\n",
        "df.select(\"Salary Estimate\").orderBy(F.col(\"Salary Estimate\").desc()).show(truncate=False)"
      ],
      "cell_type": "code",
      "metadata": {
        "colab": {
          "base_uri": "https://localhost:8080/"
        },
        "id": "Y9Ym6gKgMFR3",
        "outputId": "a75ca9aa-ad4a-400c-e972-a1a044380071"
      },
      "execution_count": 221,
      "outputs": [
        {
          "output_type": "stream",
          "name": "stdout",
          "text": [
            "+-----------------+\n",
            "|Salary Estimate  |\n",
            "+-----------------+\n",
            "|$99.000-$132.000 |\n",
            "|$99.000-$132.000 |\n",
            "|$99.000-$132.000 |\n",
            "|$99.000-$132.000 |\n",
            "|$99.000-$132.000 |\n",
            "|$99.000-$132.000 |\n",
            "|$99.000-$132.000 |\n",
            "|$99.000-$132.000 |\n",
            "|$99.000-$132.000 |\n",
            "|$99.000-$132.000 |\n",
            "|$99.000-$132.000 |\n",
            "|$99.000-$132.000 |\n",
            "|$99.000-$132.000 |\n",
            "|$99.000-$132.000 |\n",
            "|$99.000-$132.000 |\n",
            "|$99.000-$132.000 |\n",
            "|$99.000-$132.000 |\n",
            "|$99.000-$132.000 |\n",
            "|$99.000-$132.000 |\n",
            "|$99.000-$132.000 |\n",
            "+-----------------+\n",
            "only showing top 20 rows\n",
            "\n"
          ]
        }
      ]
    },
    {
      "cell_type": "markdown",
      "source": [
        "De esta manera, hemos conseguido limpiar aquellos datos que no nos daban información buena y hemos filtrado en orden descendente los datos de Salary Estimate"
      ],
      "metadata": {
        "id": "E9mUKv40NPov"
      }
    },
    {
      "cell_type": "markdown",
      "metadata": {
        "application/vnd.databricks.v1+cell": {
          "cellMetadata": {},
          "inputWidgets": {},
          "nuid": "c20074ca-ff4d-45ba-a548-369bd3bdadc1",
          "showTitle": false,
          "tableResultSettingsMap": {},
          "title": ""
        },
        "id": "xlqBB0Uowcxr"
      },
      "source": [
        "11. De la columna `Job Description` quitar los saltos de linea `\\n` del texto"
      ]
    },
    {
      "cell_type": "code",
      "source": [
        "df_cleaned = df.withColumn(\"Job Description\", F.regexp_replace(F.col(\"Job Description\"), \"\\n\", \" \"))\n",
        "\n",
        "df = df_cleaned\n",
        "\n",
        "df.where(F.col(\"Job Description\").contains(\"\\n\")).count()"
      ],
      "metadata": {
        "colab": {
          "base_uri": "https://localhost:8080/"
        },
        "id": "1eeGcWhUNd-h",
        "outputId": "b3dc1448-4fe6-41cb-f38f-ba76b3d33dc9"
      },
      "execution_count": 222,
      "outputs": [
        {
          "output_type": "execute_result",
          "data": {
            "text/plain": [
              "0"
            ]
          },
          "metadata": {},
          "execution_count": 222
        }
      ]
    },
    {
      "cell_type": "markdown",
      "source": [
        "La salida nos muestra que no ahy filas que coincidan con el texto \"\\n\", por lo que hemos conseguido quitar los saltos de línea correctamente"
      ],
      "metadata": {
        "id": "pAXngXBhNyKS"
      }
    },
    {
      "cell_type": "markdown",
      "metadata": {
        "application/vnd.databricks.v1+cell": {
          "cellMetadata": {},
          "inputWidgets": {},
          "nuid": "63b8b421-3881-4bae-95c0-b79a37422e48",
          "showTitle": false,
          "tableResultSettingsMap": {},
          "title": ""
        },
        "id": "MuUN4YXEwcxr"
      },
      "source": [
        "12. De la columna `Rating` muestre los valores unicos."
      ]
    },
    {
      "cell_type": "code",
      "source": [
        "df.select(\"Rating\").distinct().show(truncate=False)\n",
        "\n",
        "df.select(\"Rating\").distinct().count()\n"
      ],
      "metadata": {
        "colab": {
          "base_uri": "https://localhost:8080/"
        },
        "id": "alWYK3ZLN7kZ",
        "outputId": "72742e37-9844-43e6-af4e-33b20fd43a90"
      },
      "execution_count": 223,
      "outputs": [
        {
          "output_type": "stream",
          "name": "stdout",
          "text": [
            "+------+\n",
            "|Rating|\n",
            "+------+\n",
            "|49.0  |\n",
            "|29.0  |\n",
            "|38.84 |\n",
            "|47.0  |\n",
            "|42.0  |\n",
            "|44.0  |\n",
            "|35.0  |\n",
            "|39.0  |\n",
            "|37.0  |\n",
            "|34.0  |\n",
            "|25.0  |\n",
            "|36.0  |\n",
            "|41.0  |\n",
            "|23.0  |\n",
            "|50.0  |\n",
            "|45.0  |\n",
            "|31.0  |\n",
            "|21.0  |\n",
            "|48.0  |\n",
            "|22.0  |\n",
            "+------+\n",
            "only showing top 20 rows\n",
            "\n"
          ]
        },
        {
          "output_type": "execute_result",
          "data": {
            "text/plain": [
              "32"
            ]
          },
          "metadata": {},
          "execution_count": 223
        }
      ]
    },
    {
      "cell_type": "markdown",
      "source": [
        "Se da una muestra de 20 pero se ve que hay 32 valores distintos"
      ],
      "metadata": {
        "id": "bjOAenyYODx4"
      }
    },
    {
      "cell_type": "markdown",
      "metadata": {
        "application/vnd.databricks.v1+cell": {
          "cellMetadata": {},
          "inputWidgets": {},
          "nuid": "fd85fcdd-3514-4ad2-ab52-d1f21b825f5b",
          "showTitle": false,
          "tableResultSettingsMap": {},
          "title": ""
        },
        "id": "ouzdiZ5ywcxs"
      },
      "source": [
        "13. Del campo `Rating` reemplazar los `-1.0` por `0.0`."
      ]
    },
    {
      "cell_type": "markdown",
      "source": [
        "Este apartado ya lo hice arriba, y decidí cambiar los valores -1 (que serían vacíos) por el valor medio de las valoraciones. Por lo que no va a ser muy eficiente esta ejecución, pero el código correspondiente sería el siguiente:\n"
      ],
      "metadata": {
        "id": "38tlf6qcIADl"
      }
    },
    {
      "cell_type": "code",
      "source": [
        "df = df.withColumn(\"Rating\", F.regexp_replace(F.col(\"Rating\"), \"-1.0\", \"0.0\"))\n",
        "\n",
        "df.select(\"Rating\").show(truncate=False)"
      ],
      "metadata": {
        "colab": {
          "base_uri": "https://localhost:8080/"
        },
        "id": "4cy0NZlQIQdz",
        "outputId": "fd12ef35-754d-4484-bc99-3dc335105050"
      },
      "execution_count": 224,
      "outputs": [
        {
          "output_type": "stream",
          "name": "stdout",
          "text": [
            "+------+\n",
            "|Rating|\n",
            "+------+\n",
            "|35.0  |\n",
            "|38.84 |\n",
            "|49.0  |\n",
            "|37.0  |\n",
            "|38.84 |\n",
            "|44.0  |\n",
            "|35.0  |\n",
            "|38.0  |\n",
            "|44.0  |\n",
            "|32.0  |\n",
            "|44.0  |\n",
            "|41.0  |\n",
            "|38.84 |\n",
            "|48.0  |\n",
            "|31.0  |\n",
            "|39.0  |\n",
            "|45.0  |\n",
            "|35.0  |\n",
            "|38.0  |\n",
            "|41.0  |\n",
            "+------+\n",
            "only showing top 20 rows\n",
            "\n"
          ]
        }
      ]
    },
    {
      "cell_type": "markdown",
      "metadata": {
        "application/vnd.databricks.v1+cell": {
          "cellMetadata": {},
          "inputWidgets": {},
          "nuid": "fd30cd0d-46a3-4f2f-84f8-4c7e81d7d3ee",
          "showTitle": false,
          "tableResultSettingsMap": {},
          "title": ""
        },
        "id": "MTCDjCJLwcxs"
      },
      "source": [
        "14. Mostrar los valores unicos y ordenar los valores del campo `Company Name`."
      ]
    },
    {
      "cell_type": "code",
      "source": [
        "df.select(\"Company name\").distinct().orderBy(F.col(\"Company name\")).show(truncate=False)"
      ],
      "metadata": {
        "colab": {
          "base_uri": "https://localhost:8080/"
        },
        "id": "4X718iGFOyHI",
        "outputId": "9c6d746f-3ed7-41dc-c6f7-85b16304794b"
      },
      "execution_count": 225,
      "outputs": [
        {
          "output_type": "stream",
          "name": "stdout",
          "text": [
            "+---------------------------------+\n",
            "|Company name                     |\n",
            "+---------------------------------+\n",
            "|0                                |\n",
            "|1 to 50 employees                |\n",
            "|1-800-Flowers\\n2.7               |\n",
            "|10000+ employees                 |\n",
            "|1001 to 5000 employees           |\n",
            "|1010data\\n3.1                    |\n",
            "|1904labs\\n4.7                    |\n",
            "|201 to 500 employees             |\n",
            "|22nd Century Technologies\\n3.7   |\n",
            "|5001 to 10000 employees          |\n",
            "|501 to 1000 employees            |\n",
            "|51 to 200 employees              |\n",
            "|7Park Data\\n3.9                  |\n",
            "|A Place for Mom\\n2.7             |\n",
            "|A-Line Staffing Solutions\\n4.1   |\n",
            "|ABIOMED\\n4.1                     |\n",
            "|ALTA IT Services\\n3.9            |\n",
            "|ASRC Federal Holding Company\\n3.4|\n",
            "|AccessHope                       |\n",
            "|Acuity Insurance\\n4.8            |\n",
            "+---------------------------------+\n",
            "only showing top 20 rows\n",
            "\n"
          ]
        }
      ]
    },
    {
      "cell_type": "markdown",
      "source": [
        "Vemos que en el campo Company Name hay muchos datos incorrectos, por lo que en la siguiente ejecución voy a hacer una limpieza de esos datos"
      ],
      "metadata": {
        "id": "j-C3-oaDO9An"
      }
    },
    {
      "cell_type": "markdown",
      "metadata": {
        "application/vnd.databricks.v1+cell": {
          "cellMetadata": {},
          "inputWidgets": {},
          "nuid": "bd2e2a45-3570-49a6-823c-882f5714a647",
          "showTitle": false,
          "tableResultSettingsMap": {},
          "title": ""
        },
        "id": "bf1NOX9Rwcxs"
      },
      "source": [
        "15. Quitar todos los caracteres innecesarios que encuentres en el campo `Company Name`. Por ejemplo los saltos de linea `\\n`"
      ]
    },
    {
      "cell_type": "markdown",
      "source": [
        "Primero vamos a empezar limpiando aquellos datos que sean del tipo: *1 to n employees*. Después vamos a eliminar aquellos en los que el valor sea 0 y luego vamos a eliminar los saltos de línea (\"\\n\")"
      ],
      "metadata": {
        "id": "VAfI5KQjPicq"
      }
    },
    {
      "source": [
        "# Paso 1: Filtrar filas donde 'Company Name' sea del tipo \"n to n employees\"\n",
        "df_cleaned = df_cleaned.withColumn(\"Company Name\", F.regexp_replace(col(\"Company Name\"), r\"\\d+\\s+to\\s+\\d+\\s+employees\", \"Unknown\"))\n",
        "\n",
        "# Paso 2: Filtrar filas donde 'Company Name' sea \"0\"\n",
        "df_cleaned = df_cleaned.filter((col(\"Company Name\") != \"0\"))\n",
        "\n",
        "# Paso 3: Eliminar saltos de línea (\"\\n\") en la columna \"Company Name\"\n",
        "df_cleaned = df_cleaned.withColumn(\"Company Name\", F.regexp_replace(col(\"Company Name\"), r\"\\n\", \"\"))\n",
        "\n",
        "df = df_cleaned\n",
        "# Mostrar el DataFrame y ordenado como previamente\n",
        "df.select(\"Company name\").distinct().orderBy(F.col(\"Company name\")).show(truncate=False)"
      ],
      "cell_type": "code",
      "metadata": {
        "colab": {
          "base_uri": "https://localhost:8080/"
        },
        "id": "HPPM6h_rShA5",
        "outputId": "d4a46ff9-acb5-44b0-9126-8ef9ae6a4d47"
      },
      "execution_count": 226,
      "outputs": [
        {
          "output_type": "stream",
          "name": "stdout",
          "text": [
            "+------------------------------------+\n",
            "|Company name                        |\n",
            "+------------------------------------+\n",
            "|1-800-Flowers2.7                    |\n",
            "|10000+ employees                    |\n",
            "|1010data3.1                         |\n",
            "|1904labs4.7                         |\n",
            "|22nd Century Technologies3.7        |\n",
            "|7Park Data3.9                       |\n",
            "|A Place for Mom2.7                  |\n",
            "|A-Line Staffing Solutions4.1        |\n",
            "|ABIOMED4.1                          |\n",
            "|ALTA IT Services3.9                 |\n",
            "|ASRC Federal Holding Company3.4     |\n",
            "|AccessHope                          |\n",
            "|Acuity Insurance4.8                 |\n",
            "|Advance Sourcing Concepts3.4        |\n",
            "|Advanced Bio-Logic Solutions Corp4.0|\n",
            "|Advanced BioScience Laboratories2.7 |\n",
            "|Adwait Algorithm4.4                 |\n",
            "|AeroVironment4.2                    |\n",
            "|Affinity Solutions2.9               |\n",
            "|AgreeYa Solutions3.8                |\n",
            "+------------------------------------+\n",
            "only showing top 20 rows\n",
            "\n"
          ]
        }
      ]
    },
    {
      "cell_type": "markdown",
      "metadata": {
        "application/vnd.databricks.v1+cell": {
          "cellMetadata": {},
          "inputWidgets": {},
          "nuid": "5e594ec2-2d3f-429a-8cf4-7a6815567aa0",
          "showTitle": false,
          "tableResultSettingsMap": {},
          "title": ""
        },
        "id": "4nIatKGvwcxs"
      },
      "source": [
        "16. En el campo `Location` convertir esa columna en dos: `City` y `State`. Las ciudades que tengas en `Location` asignar a la columna `City`. Lo mismo para `State`. Luego elimine la columna `Location`."
      ]
    },
    {
      "cell_type": "code",
      "source": [
        "df = df.withColumn(\"City\", F.split(F.col(\"Location\"), \",\")[0])\n",
        "df = df.withColumn(\"State\", F.split(F.col(\"Location\"), \",\")[1])\n",
        "df = df.drop(\"Location\")\n",
        "df.show()"
      ],
      "metadata": {
        "colab": {
          "base_uri": "https://localhost:8080/"
        },
        "id": "_I1C3vgtTkR4",
        "outputId": "e7047c4c-af87-4a33-9156-366c0e474079"
      },
      "execution_count": 227,
      "outputs": [
        {
          "output_type": "stream",
          "name": "stdout",
          "text": [
            "+-----+--------------------+------------------+--------------------+------+--------------------+--------------------+--------------------+-------+--------------------+--------------------+--------------------+--------------------+--------------------+-------------+-----+\n",
            "|index|           Job Title|   Salary Estimate|     Job Description|Rating|        Company Name|        Headquarters|                Size|Founded|   Type of ownership|            Industry|              Sector|             Revenue|         Competitors|         City|State|\n",
            "+-----+--------------------+------------------+--------------------+------+--------------------+--------------------+--------------------+-------+--------------------+--------------------+--------------------+--------------------+--------------------+-------------+-----+\n",
            "|   56|Senior Data Scien...| $75.000-$131.000 |Benson Hill empow...|  35.0|      Benson Hill3.5|     Saint Louis, MO|201 to 500 employees|   2012|   Company - Private|Biotech & Pharmac...|Biotech & Pharmac...|$1 to $5 million ...|             Unknown|  Saint Louis|   MO|\n",
            "|  282|      Data Scientist| $91.000-$150.000 |Greetings from Tr...| 38.84|      Trovetechs Inc|    Hillsborough, NJ|             Unknown|   none|   Company - Private|             Unknown|             Unknown|Unknown / Non-App...|             Unknown|San Francisco|   CA|\n",
            "|   74|Purification Scie...| $79.000-$131.000 |New England Biola...|  49.0|New England Biola...|         Ipswich, MA|201 to 500 employees|   1974|   Company - Private|Biotech & Pharmac...|Biotech & Pharmac...|Unknown / Non-App...|Thermo Fisher Sci...|      Ipswich|   MA|\n",
            "|  177|Data Scientist - ...|  $56.000-$97.000 |*Organization and...|  37.0|             PNNL3.7|        Richland, WA|1001 to 5000 empl...|   1965|          Government|              Energy|Oil, Gas, Energy ...|$500 million to $...|Oak Ridge Nationa...|     Richland|   WA|\n",
            "|  457|      Data Scientist| $69.000-$116.000 |Work in a fast gr...| 38.84|       Stride Search|Westlake Village, CA|   1 to 50 employees|   none|   Company - Private|             Unknown|             Unknown|Less than $1 mill...|             Unknown|San Francisco|   CA|\n",
            "|  662|      Data Scientist|$105.000-$167.000 |Solution IT Inc. ...|  44.0| SolutionIT, Inc.4.4|      Wilmington, MA| 51 to 200 employees|   none|   Company - Private|             Unknown|             Unknown|Unknown / Non-App...|             Unknown|       Edison|   NJ|\n",
            "|   19|Medical Lab Scien...|$137.000-$171.000 |Responsibilities ...|  35.0|     Tower Health3.5|         Reading, PA|5001 to 10000 emp...|   2017|Nonprofit Organiz...|Health Care Servi...|         Health Care|Unknown / Non-App...|             Unknown|   West Grove|   PA|\n",
            "|  145|Research Scientis...| $90.000-$109.000 |*We would ideally...|  38.0|          Evidera3.8|        Bethesda, MD|501 to 1000 emplo...|   2013|Subsidiary or Bus...|Biotech & Pharmac...|Biotech & Pharmac...|$100 to $500 mill...|         IQVIA, ICON|     Bethesda|   MD|\n",
            "|  157|Experienced Data ...|$101.000-$165.000 |*******Please App...|  44.0|Guzman & Griffin ...|    Mays Landing, NJ|   1 to 50 employees|   1997|   Company - Private|    Federal Agencies|          Government|Unknown / Non-App...|             Unknown|   Washington|   DC|\n",
            "|  303|      Data Scientist| $145.000-$225.000|Role Description ...|  32.0|       Triplebyte3.2|   San Francisco, CA| 51 to 200 employees|   2015|   Company - Private|Computer Hardware...|Information Techn...|Unknown / Non-App...|             Unknown|      Chicago|   IL|\n",
            "|  176|       Data Engineer|$101.000-$165.000 |Building Bridges,...|  44.0|Resurgent Capital...|      Greenville, SC|201 to 500 employees|   1998|   Company - Private|Venture Capital &...|             Finance|$50 to $100 milli...|             Unknown|   Cincinnati|   OH|\n",
            "|  478|      Data Scientist|  $31.000-$56.000 |Responsibilities�...|  41.0|IntelliPro Group ...|     Santa Clara, CA|201 to 500 employees|   none|   Company - Private|             Unknown|             Unknown|$10 to $25 millio...|             Unknown|  Santa Clara|   CA|\n",
            "|  637|      Data Scientist| $92.000-$155.000 |Job Description W...| 38.84|            Sophinea|       Chantilly, VA|   1 to 50 employees|   none|             Unknown|             Unknown|             Unknown|Unknown / Non-App...|             Unknown|    Chantilly|   VA|\n",
            "|   33|Senior Research S...| $75.000-$131.000 |Acuity is seeking...|  48.0| Acuity Insurance4.8|       Sheboygan, WI|1001 to 5000 empl...|   1925|   Company - Private|  Insurance Carriers|           Insurance|$1 to $2 billion ...|             Unknown|    Sheboygan|   WI|\n",
            "|   40|        Data Analyst| $75.000-$131.000 |Data Analyst Loca...|  31.0|Cambridge Associa...|          Boston, MA|501 to 1000 emplo...|   1973|   Company - Private|Investment Bankin...|             Finance|$100 to $500 mill...|             Unknown|       Boston|   MA|\n",
            "|  542|COMPUTER SCIENTIS...| $66.000-$112.000 |Join our Intellig...|  39.0|Southwest Researc...|     San Antonio, TX|1001 to 5000 empl...|   1947|Nonprofit Organiz...|Research & Develo...|   Business Services|$500 million to $...|Los Alamos Nation...|  San Antonio|   TX|\n",
            "|  206|Data Science Inst...| $79.000-$106.000 |Join our team ded...|  45.0|          Novetta4.5|         Mc Lean, VA|501 to 1000 emplo...|   2012|   Company - Private|Enterprise Softwa...|Information Techn...|$100 to $500 mill...|Leidos, CACI Inte...|      Herndon|   VA|\n",
            "|  428|Senior Data Scien...| $79.000-$133.000 |Benson Hill empow...|  35.0|      Benson Hill3.5|     Saint Louis, MO|201 to 500 employees|   2012|   Company - Private|Biotech & Pharmac...|Biotech & Pharmac...|$1 to $5 million ...|             Unknown|  Saint Louis|   MO|\n",
            "|  521|      Data Scientist|$212.000-$331.000 |The work is in su...|  38.0|    Aveshka, Inc.3.8|       Arlington, VA| 51 to 200 employees|   2010|    Company - Public|         IT Services|Information Techn...|$10 to $25 millio...|             Unknown|   Washington|   DC|\n",
            "|  253|      Data Scientist| $90.000-$124.000 |You are key to he...|  41.0|           Gallup4.1|      Washington, DC|1001 to 5000 empl...|   1935|   Company - Private|          Consulting|   Business Services|Unknown / Non-App...|Advisory Board, B...|     New York|   NY|\n",
            "+-----+--------------------+------------------+--------------------+------+--------------------+--------------------+--------------------+-------+--------------------+--------------------+--------------------+--------------------+--------------------+-------------+-----+\n",
            "only showing top 20 rows\n",
            "\n"
          ]
        }
      ]
    },
    {
      "cell_type": "markdown",
      "source": [
        "Podemos ver cómo se ha eliminado la columna location y se han añadido city y state"
      ],
      "metadata": {
        "id": "_qrS7NZ8T9aC"
      }
    },
    {
      "cell_type": "markdown",
      "metadata": {
        "application/vnd.databricks.v1+cell": {
          "cellMetadata": {},
          "inputWidgets": {},
          "nuid": "0ed408ad-803a-4209-9dae-57b7418724ef",
          "showTitle": false,
          "tableResultSettingsMap": {},
          "title": ""
        },
        "id": "RMD2HMgcwcxs"
      },
      "source": [
        "17. Repetir la misma lógica de la pregunta 16 pero para el campo `Headquarters`. En Headquarters dejar solo la ciudad, mientras que para el estado añadirla a una columna nueva ` Headquarter State`."
      ]
    },
    {
      "cell_type": "code",
      "source": [
        "df = df.withColumn(\"Headquarters State\", F.split(F.col(\"Headquarters\"), \",\")[1])\n",
        "df = df.withColumn(\"Headquarters\", F.split(F.trim(F.col(\"Headquarters\")), \",\")[0])\n",
        "\n",
        "df.select(\"Headquarters\", \"Headquarters State\").show(truncate=False)"
      ],
      "metadata": {
        "colab": {
          "base_uri": "https://localhost:8080/"
        },
        "id": "_CoSybGjUGNJ",
        "outputId": "66b328ee-7114-4400-9245-2f17b09227dd"
      },
      "execution_count": 228,
      "outputs": [
        {
          "output_type": "stream",
          "name": "stdout",
          "text": [
            "+----------------+------------------+\n",
            "|Headquarters    |Headquarters State|\n",
            "+----------------+------------------+\n",
            "|Saint Louis     | MO               |\n",
            "|Hillsborough    | NJ               |\n",
            "|Ipswich         | MA               |\n",
            "|Richland        | WA               |\n",
            "|Westlake Village| CA               |\n",
            "|Wilmington      | MA               |\n",
            "|Reading         | PA               |\n",
            "|Bethesda        | MD               |\n",
            "|Mays Landing    | NJ               |\n",
            "|San Francisco   | CA               |\n",
            "|Greenville      | SC               |\n",
            "|Santa Clara     | CA               |\n",
            "|Chantilly       | VA               |\n",
            "|Sheboygan       | WI               |\n",
            "|Boston          | MA               |\n",
            "|San Antonio     | TX               |\n",
            "|Mc Lean         | VA               |\n",
            "|Saint Louis     | MO               |\n",
            "|Arlington       | VA               |\n",
            "|Washington      | DC               |\n",
            "+----------------+------------------+\n",
            "only showing top 20 rows\n",
            "\n"
          ]
        }
      ]
    },
    {
      "cell_type": "markdown",
      "metadata": {
        "application/vnd.databricks.v1+cell": {
          "cellMetadata": {},
          "inputWidgets": {},
          "nuid": "09c9f37c-dbe5-4f0e-8f9b-7c4b4cfe8ee1",
          "showTitle": false,
          "tableResultSettingsMap": {},
          "title": ""
        },
        "id": "ZmimiQkBwcxs"
      },
      "source": [
        "18. Muestre los valores únicos del campo `Headquarter State`"
      ]
    },
    {
      "cell_type": "code",
      "source": [
        "df.select(\"Headquarters\").distinct().show(truncate=False)"
      ],
      "metadata": {
        "colab": {
          "base_uri": "https://localhost:8080/"
        },
        "id": "gp8miLmiU3G0",
        "outputId": "5cad52b9-c98c-4077-cf3b-4cb516414041"
      },
      "execution_count": 229,
      "outputs": [
        {
          "output_type": "stream",
          "name": "stdout",
          "text": [
            "+-------------+\n",
            "|Headquarters |\n",
            "+-------------+\n",
            "|Hanover      |\n",
            "|Bangalore    |\n",
            "|Springfield  |\n",
            "|Harrisburg   |\n",
            "|Tempe        |\n",
            "|Cherry Hill  |\n",
            "|Monroe       |\n",
            "|Menlo Park   |\n",
            "|Waltham      |\n",
            "|Fairmont     |\n",
            "|Sterling     |\n",
            "|Palo Alto    |\n",
            "|Omaha        |\n",
            "|Blue Bell    |\n",
            "|Ashburn      |\n",
            "|Woodbridge   |\n",
            "|Goteborg     |\n",
            "|2012         |\n",
            "|Richland     |\n",
            "|Half Moon Bay|\n",
            "+-------------+\n",
            "only showing top 20 rows\n",
            "\n"
          ]
        }
      ]
    },
    {
      "cell_type": "markdown",
      "metadata": {
        "application/vnd.databricks.v1+cell": {
          "cellMetadata": {},
          "inputWidgets": {},
          "nuid": "a7895f10-d9c8-443b-a225-848031030eb5",
          "showTitle": false,
          "tableResultSettingsMap": {},
          "title": ""
        },
        "id": "QoVSeSYrwcxs"
      },
      "source": [
        "19. Mostrar valores unicos del campo `Size`."
      ]
    },
    {
      "cell_type": "code",
      "source": [
        "df.select(\"Size\").distinct().show(truncate=False)\n"
      ],
      "metadata": {
        "colab": {
          "base_uri": "https://localhost:8080/"
        },
        "id": "BwUXhaFzU6Qw",
        "outputId": "60eaf921-1ad0-45c9-8c01-c6f134eab094"
      },
      "execution_count": 230,
      "outputs": [
        {
          "output_type": "stream",
          "name": "stdout",
          "text": [
            "+---------------------------------------+\n",
            "|Size                                   |\n",
            "+---------------------------------------+\n",
            "|Wholesale                              |\n",
            "|5001 to 10000 employees                |\n",
            "|Investment Banking & Asset Management  |\n",
            "|Insurance Carriers                     |\n",
            "|none                                   |\n",
            "|Advertising & Marketing                |\n",
            "|IT Services                            |\n",
            "|Government                             |\n",
            "|Enterprise Software & Network Solutions|\n",
            "|Internet                               |\n",
            "|Unknown                                |\n",
            "|Colleges & Universities                |\n",
            "|Lending                                |\n",
            "|51 to 200 employees                    |\n",
            "|Other Retail Stores                    |\n",
            "|Biotech & Pharmaceuticals              |\n",
            "|Staffing & Outsourcing                 |\n",
            "|1001 to 5000 employees                 |\n",
            "|Consulting                             |\n",
            "|501 to 1000 employees                  |\n",
            "+---------------------------------------+\n",
            "only showing top 20 rows\n",
            "\n"
          ]
        }
      ]
    },
    {
      "cell_type": "markdown",
      "metadata": {
        "application/vnd.databricks.v1+cell": {
          "cellMetadata": {},
          "inputWidgets": {},
          "nuid": "c8f6a6b8-52b5-4e2e-9850-6dadc97f206c",
          "showTitle": false,
          "tableResultSettingsMap": {},
          "title": ""
        },
        "id": "he1gsNaGwcxs"
      },
      "source": [
        "20. Quitar 'employee' de los registros del campo `Size`. Elimine tambien otros caracteres basura."
      ]
    },
    {
      "cell_type": "markdown",
      "source": [
        "Veo que hay mucha información inadecuada en el campo size, por lo que voy a hacer una condición de que si ese campo no contiene valores numéricos, lo remplazaré por lit(\"none\"). Después, volveré a sacar los valores únicos y veré que caracteres basura puedo eliminar a parte de employee"
      ],
      "metadata": {
        "id": "RKHTlod7VtiX"
      }
    },
    {
      "cell_type": "code",
      "source": [
        "# Verificar valores no numéricos en la columna 'Size' y reemplazarlos con 'none'\n",
        "df_cleaned = df.withColumn(\n",
        "    \"Size\",\n",
        "    F.when(col(\"Size\").rlike(r\".*\\d.*\"), col(\"Size\")).otherwise(F.lit(\"none\"))\n",
        ")\n",
        "\n",
        "# Limpiar la palabra employees\n",
        "df_cleaned = df_cleaned.withColumn(\"Size\", F.regexp_replace(F.col(\"Size\"), \"employees\", \"\"))\n",
        "\n",
        "df = df_cleaned\n",
        "# Mostrar el resultado\n",
        "df.select(\"Size\").distinct().show(truncate=False)"
      ],
      "metadata": {
        "colab": {
          "base_uri": "https://localhost:8080/"
        },
        "id": "kVF80G5_WDFB",
        "outputId": "f5b3a217-acb1-4c32-fe6f-7a0f1293b5e4"
      },
      "execution_count": 231,
      "outputs": [
        {
          "output_type": "stream",
          "name": "stdout",
          "text": [
            "+--------------+\n",
            "|Size          |\n",
            "+--------------+\n",
            "|5001 to 10000 |\n",
            "|51 to 200     |\n",
            "|1 to 50       |\n",
            "|none          |\n",
            "|10000+        |\n",
            "|501 to 1000   |\n",
            "|201 to 500    |\n",
            "|1001 to 5000  |\n",
            "+--------------+\n",
            "\n"
          ]
        }
      ]
    },
    {
      "cell_type": "markdown",
      "source": [
        "Al no ver más caracteres basura que limpiar, lo dejo así tal cual"
      ],
      "metadata": {
        "id": "rgyTizl0XnT8"
      }
    },
    {
      "cell_type": "markdown",
      "metadata": {
        "application/vnd.databricks.v1+cell": {
          "cellMetadata": {},
          "inputWidgets": {},
          "nuid": "36dfe0a0-9a25-40bc-8282-cba498d2badd",
          "showTitle": false,
          "tableResultSettingsMap": {},
          "title": ""
        },
        "id": "raEVhoggwcxs"
      },
      "source": [
        "21. Reemplazar la palabra 'to' por '-' en todos los registros del campo `Size`. Reemplazar tambien '-1' por 'Unknown'."
      ]
    },
    {
      "cell_type": "markdown",
      "source": [
        "El reemplazo de \"-1\" por Unknown ya lo he ejecutado en el código de limpieza de valores vacíos, por lo que cambiaré el texto none (previamente elegido para ser el valor que diga que no existe información) por Unknown"
      ],
      "metadata": {
        "id": "eAyaLQuBXtcL"
      }
    },
    {
      "cell_type": "code",
      "source": [
        "df = df.withColumn(\"Size\", F.regexp_replace(F.col(\"Size\"), \"to\", \"-\")).withColumn(\"Size\", F.regexp_replace(F.col(\"Size\"), \" \", \"\"))\n",
        "df = df.withColumn(\"Size\", F.regexp_replace(F.col(\"Size\"), \"none\", \"Unknown\"))\n",
        "\n",
        "df.select(\"Size\").distinct().show(truncate=False)"
      ],
      "metadata": {
        "colab": {
          "base_uri": "https://localhost:8080/"
        },
        "id": "KehgnNVXXs8a",
        "outputId": "6c7e3b54-2c76-4a6f-a451-ea0da766e762"
      },
      "execution_count": 232,
      "outputs": [
        {
          "output_type": "stream",
          "name": "stdout",
          "text": [
            "+----------+\n",
            "|Size      |\n",
            "+----------+\n",
            "|51-200    |\n",
            "|Unknown   |\n",
            "|501-1000  |\n",
            "|1001-5000 |\n",
            "|5001-10000|\n",
            "|1-50      |\n",
            "|201-500   |\n",
            "|10000+    |\n",
            "+----------+\n",
            "\n"
          ]
        }
      ]
    },
    {
      "cell_type": "markdown",
      "metadata": {
        "application/vnd.databricks.v1+cell": {
          "cellMetadata": {},
          "inputWidgets": {},
          "nuid": "f598578e-b86d-4de7-a298-709ec19648ed",
          "showTitle": false,
          "tableResultSettingsMap": {},
          "title": ""
        },
        "id": "QadfsOMIwcxs"
      },
      "source": [
        "22. Mostrar el tipo de dato del campo `Type of ownership` y sus registros unicos."
      ]
    },
    {
      "cell_type": "code",
      "source": [
        "df.select(\"Type of ownership\").distinct().show(truncate=False)\n",
        "\n",
        "column_name = \"Type of ownership\"\n",
        "column_type = [f.dataType for f in df.schema.fields if f.name == column_name][0]\n",
        "\n",
        "print(f\"El tipo de dato de la columna '{column_name}' es: {column_type}\")"
      ],
      "metadata": {
        "colab": {
          "base_uri": "https://localhost:8080/"
        },
        "id": "4TKZQG28YeY6",
        "outputId": "362054f5-ad7d-4ce0-abc4-37816d07b960"
      },
      "execution_count": 233,
      "outputs": [
        {
          "output_type": "stream",
          "name": "stdout",
          "text": [
            "+------------------------------+\n",
            "|Type of ownership             |\n",
            "+------------------------------+\n",
            "|$50 to $100 million (USD)     |\n",
            "|$100 to $500 million (USD)    |\n",
            "|$10 to $25 million (USD)      |\n",
            "|Government                    |\n",
            "|$10+ billion (USD)            |\n",
            "|Subsidiary or Business Segment|\n",
            "|Self-employed                 |\n",
            "|Contract                      |\n",
            "|Unknown                       |\n",
            "|Colleges & Universities       |\n",
            "|Company - Private             |\n",
            "|Biotech & Pharmaceuticals     |\n",
            "|Nonprofit Organization        |\n",
            "|Unknown / Non-Applicable      |\n",
            "|$25 to $50 million (USD)      |\n",
            "|Hospital                      |\n",
            "|$5 to $10 million (USD)       |\n",
            "|Private Practice / Firm       |\n",
            "|Company - Public              |\n",
            "|Other Organization            |\n",
            "+------------------------------+\n",
            "\n",
            "El tipo de dato de la columna 'Type of ownership' es: StringType()\n"
          ]
        }
      ]
    },
    {
      "cell_type": "markdown",
      "metadata": {
        "application/vnd.databricks.v1+cell": {
          "cellMetadata": {},
          "inputWidgets": {},
          "nuid": "4f42ef72-f068-4b46-b1d3-6a5d59290322",
          "showTitle": false,
          "tableResultSettingsMap": {},
          "title": ""
        },
        "id": "HNs6SaR1wcxt"
      },
      "source": [
        "23. Cambiar '-1' por 'Unknown' en todos los registros del campo `Type of ownership`."
      ]
    },
    {
      "cell_type": "markdown",
      "source": [
        "Una vez más, ya ejecuté ese código en la primera limpieza, pero de todas maneras este sería el código correspondiente:\n"
      ],
      "metadata": {
        "id": "LZowoRtuZOIi"
      }
    },
    {
      "cell_type": "code",
      "source": [
        "df = df.withColumn(\"Type of ownership\", F.regexp_replace(F.col(\"Type of ownership\"), \"-1\", \"Unknown\"))\n",
        "\n",
        "df.select(\"Type of ownership\").distinct().show(truncate=False)"
      ],
      "metadata": {
        "colab": {
          "base_uri": "https://localhost:8080/"
        },
        "id": "wx6mREthZVN8",
        "outputId": "0123d9bf-e22e-4335-b01a-527c1b76d190"
      },
      "execution_count": 234,
      "outputs": [
        {
          "output_type": "stream",
          "name": "stdout",
          "text": [
            "+------------------------------+\n",
            "|Type of ownership             |\n",
            "+------------------------------+\n",
            "|$50 to $100 million (USD)     |\n",
            "|$100 to $500 million (USD)    |\n",
            "|$10 to $25 million (USD)      |\n",
            "|Government                    |\n",
            "|$10+ billion (USD)            |\n",
            "|Subsidiary or Business Segment|\n",
            "|Self-employed                 |\n",
            "|Contract                      |\n",
            "|Unknown                       |\n",
            "|Colleges & Universities       |\n",
            "|Company - Private             |\n",
            "|Biotech & Pharmaceuticals     |\n",
            "|Nonprofit Organization        |\n",
            "|Unknown / Non-Applicable      |\n",
            "|$25 to $50 million (USD)      |\n",
            "|Hospital                      |\n",
            "|$5 to $10 million (USD)       |\n",
            "|Private Practice / Firm       |\n",
            "|Company - Public              |\n",
            "|Other Organization            |\n",
            "+------------------------------+\n",
            "\n"
          ]
        }
      ]
    },
    {
      "cell_type": "markdown",
      "metadata": {
        "application/vnd.databricks.v1+cell": {
          "cellMetadata": {},
          "inputWidgets": {},
          "nuid": "6b9f9087-9cce-4213-b99b-f573757dbd97",
          "showTitle": false,
          "tableResultSettingsMap": {},
          "title": ""
        },
        "id": "moSmfSZNwcxt"
      },
      "source": [
        "24. Cambiar:  \n",
        "-  `Company - Public` por `Public Company`  \n",
        "-  `Company - Private` por `Private Company`  \n",
        "-  `Private Practice / Firm` por `Private Company`  \n",
        "-  `Subsidiary or Business Segment` por `Business`  \n",
        "-  `College / University` por `Education`  \n",
        "En todos los registros del campo `Type of ownership`."
      ]
    },
    {
      "cell_type": "code",
      "source": [
        "df = df.withColumn(\"Type of ownership\", F.regexp_replace(F.col(\"Type of ownership\"), \"Company - Public\", \"Public Company\"))\n",
        "df = df.withColumn(\"Type of ownership\", F.regexp_replace(F.col(\"Type of ownership\"), \"Company - Private\", \"Private Company\"))\n",
        "df = df.withColumn(\"Type of ownership\", F.regexp_replace(F.col(\"Type of ownership\"), \"Private Practice / Firm\", \"Private Company\"))\n",
        "df = df.withColumn(\"Type of ownership\", F.regexp_replace(F.col(\"Type of ownership\"), \"Subsidiary or Business Segment\", \"Business\"))\n",
        "df = df.withColumn(\"Type of ownership\", F.regexp_replace(F.col(\"Type of ownership\"), \"College / University\", \"Education\"))\n",
        "\n",
        "df.select(\"Type of ownership\").distinct().show(truncate=False)"
      ],
      "metadata": {
        "colab": {
          "base_uri": "https://localhost:8080/"
        },
        "id": "zhyylCKsZfL_",
        "outputId": "c6328fa6-5547-4944-bbe1-46058ea854fb"
      },
      "execution_count": 235,
      "outputs": [
        {
          "output_type": "stream",
          "name": "stdout",
          "text": [
            "+--------------------------+\n",
            "|Type of ownership         |\n",
            "+--------------------------+\n",
            "|$50 to $100 million (USD) |\n",
            "|$100 to $500 million (USD)|\n",
            "|$10 to $25 million (USD)  |\n",
            "|Government                |\n",
            "|$10+ billion (USD)        |\n",
            "|Self-employed             |\n",
            "|Contract                  |\n",
            "|Unknown                   |\n",
            "|Colleges & Universities   |\n",
            "|Private Company           |\n",
            "|Biotech & Pharmaceuticals |\n",
            "|Nonprofit Organization    |\n",
            "|Unknown / Non-Applicable  |\n",
            "|$25 to $50 million (USD)  |\n",
            "|Hospital                  |\n",
            "|$5 to $10 million (USD)   |\n",
            "|Public Company            |\n",
            "|Business                  |\n",
            "|Other Organization        |\n",
            "+--------------------------+\n",
            "\n"
          ]
        }
      ]
    },
    {
      "cell_type": "markdown",
      "source": [
        "Como he visto que hay datos incorrectos en el campo Type of Ownership, voy a sustituir esa información por Unknown"
      ],
      "metadata": {
        "id": "1FAXv1YGZtbF"
      }
    },
    {
      "cell_type": "code",
      "source": [
        "df = df.withColumn(\n",
        "    \"Type of ownership\",\n",
        "    F.when(col(\"Type of ownership\").rlike(r\".*\\d.*\"), F.lit(\"Unknown\")).otherwise(col(\"Type of ownership\"))\n",
        ")\n",
        "\n",
        "df.select(\"Type of ownership\").distinct().show(truncate=False)\n"
      ],
      "metadata": {
        "colab": {
          "base_uri": "https://localhost:8080/"
        },
        "id": "0ESG5hdHZ22w",
        "outputId": "9c1926a2-edeb-498e-da13-8b22b935cc71"
      },
      "execution_count": 236,
      "outputs": [
        {
          "output_type": "stream",
          "name": "stdout",
          "text": [
            "+-------------------------+\n",
            "|Type of ownership        |\n",
            "+-------------------------+\n",
            "|Government               |\n",
            "|Self-employed            |\n",
            "|Contract                 |\n",
            "|Unknown                  |\n",
            "|Colleges & Universities  |\n",
            "|Private Company          |\n",
            "|Biotech & Pharmaceuticals|\n",
            "|Nonprofit Organization   |\n",
            "|Unknown / Non-Applicable |\n",
            "|Hospital                 |\n",
            "|Public Company           |\n",
            "|Business                 |\n",
            "|Other Organization       |\n",
            "+-------------------------+\n",
            "\n"
          ]
        }
      ]
    },
    {
      "cell_type": "markdown",
      "metadata": {
        "application/vnd.databricks.v1+cell": {
          "cellMetadata": {},
          "inputWidgets": {},
          "nuid": "ed329cf5-1daa-4dd9-9b16-d2ab23bbf486",
          "showTitle": false,
          "tableResultSettingsMap": {},
          "title": ""
        },
        "id": "VylhFg-Ywcxt"
      },
      "source": [
        "25. Mostrar el tipo de dato y los valores unicos del campo `Industry`."
      ]
    },
    {
      "cell_type": "code",
      "source": [
        "df.select(\"Industry\").distinct().show(truncate=False)\n",
        "\n",
        "column_name = \"Industry\"\n",
        "column_type = [f.dataType for f in df.schema.fields if f.name == column_name][0]\n",
        "\n",
        "print(f\"El tipo de dato de la columna '{column_name}' es: {column_type}\")"
      ],
      "metadata": {
        "colab": {
          "base_uri": "https://localhost:8080/"
        },
        "id": "eMYB6ymQa_Jz",
        "outputId": "3e8c64fb-5fe6-4d8e-ebac-4931c36f92e1"
      },
      "execution_count": 237,
      "outputs": [
        {
          "output_type": "stream",
          "name": "stdout",
          "text": [
            "+---------------------------------------------------+\n",
            "|Industry                                           |\n",
            "+---------------------------------------------------+\n",
            "|Seagate Technology, Toshiba                        |\n",
            "|Wholesale                                          |\n",
            "|United Natural Foods, US Foods, DPI Specialty Foods|\n",
            "|Telecommunications Services                        |\n",
            "|Education                                          |\n",
            "|Linqia, Collective Bias                            |\n",
            "|Cable, Internet & Telephone Providers              |\n",
            "|Investment Banking & Asset Management              |\n",
            "|Rail                                               |\n",
            "|Insurance Carriers                                 |\n",
            "|Consumer Products Manufacturing                    |\n",
            "|Energy                                             |\n",
            "|Genomic Health, 23andMe, Illumina                  |\n",
            "|Accounting                                         |\n",
            "|Advertising & Marketing                            |\n",
            "|IT Services                                        |\n",
            "|Farm Support Services                              |\n",
            "|Chemical Manufacturing                             |\n",
            "|Logistics & Supply Chain                           |\n",
            "|Enterprise Software & Network Solutions            |\n",
            "+---------------------------------------------------+\n",
            "only showing top 20 rows\n",
            "\n",
            "El tipo de dato de la columna 'Industry' es: StringType()\n"
          ]
        }
      ]
    },
    {
      "cell_type": "markdown",
      "source": [
        "Vemos que estos datos están bastante limpios y es una columna tipo String"
      ],
      "metadata": {
        "id": "8Ku04nwEbHTO"
      }
    },
    {
      "cell_type": "markdown",
      "metadata": {
        "application/vnd.databricks.v1+cell": {
          "cellMetadata": {},
          "inputWidgets": {},
          "nuid": "c06a12fb-1a33-4cfa-aadb-c01e00a9c4ee",
          "showTitle": false,
          "tableResultSettingsMap": {},
          "title": ""
        },
        "id": "Xqy3TkEnwcxt"
      },
      "source": [
        "26. En el mismo campo de `Industry` reemplazar '-1' por 'Not Available' y '&' por 'and'.  Vuelva a imprimir los valores unicos en orden alfabético."
      ]
    },
    {
      "cell_type": "markdown",
      "source": [
        "De nuevo, como ya hemos hecho la limpieza de los valores \"-1\" y hemos colocado Unknown, vamos a hacer el remplazo con la condición de que sea == \"Unknown\""
      ],
      "metadata": {
        "id": "CO_cGlTwbT4h"
      }
    },
    {
      "cell_type": "code",
      "source": [
        "df = df.withColumn(\"Industry\", F.regexp_replace(F.col(\"Industry\"), \"Unknown\", \"Not Available\"))\n",
        "df = df.withColumn(\"Industry\", F.regexp_replace(F.col(\"Industry\"), \"&\", \"and\"))\n",
        "\n",
        "df.select(\"Industry\").distinct().orderBy(\"Industry\", ascending=True).show(truncate=False)"
      ],
      "metadata": {
        "colab": {
          "base_uri": "https://localhost:8080/"
        },
        "id": "pL3ZlAVvbiAx",
        "outputId": "488f991d-0202-472d-ca9f-d0a406a2dc06"
      },
      "execution_count": 238,
      "outputs": [
        {
          "output_type": "stream",
          "name": "stdout",
          "text": [
            "+------------------------------------------+\n",
            "|Industry                                  |\n",
            "+------------------------------------------+\n",
            "|Accounting                                |\n",
            "|Advertising and Marketing                 |\n",
            "|Aerospace and Defense                     |\n",
            "|Architectural and Engineering Services    |\n",
            "|Banks and Credit Unions                   |\n",
            "|Biotech and Pharmaceuticals               |\n",
            "|Cable, Internet and Telephone Providers   |\n",
            "|Chemical Manufacturing                    |\n",
            "|Computer Hardware and Software            |\n",
            "|Construction                              |\n",
            "|Consulting                                |\n",
            "|Consumer Electronics and Appliances Stores|\n",
            "|Consumer Products Manufacturing           |\n",
            "|Department, Clothing, and Shoe Stores     |\n",
            "|Education                                 |\n",
            "|Electrical and Electronic Manufacturing   |\n",
            "|Energy                                    |\n",
            "|Enterprise Software and Network Solutions |\n",
            "|Express Delivery Services                 |\n",
            "|Farm Support Services                     |\n",
            "+------------------------------------------+\n",
            "only showing top 20 rows\n",
            "\n"
          ]
        }
      ]
    },
    {
      "cell_type": "markdown",
      "metadata": {
        "application/vnd.databricks.v1+cell": {
          "cellMetadata": {},
          "inputWidgets": {},
          "nuid": "c2490bb6-1f88-4410-a0c4-75826c48b70c",
          "showTitle": false,
          "tableResultSettingsMap": {},
          "title": ""
        },
        "id": "HagyG85bwcxt"
      },
      "source": [
        "27. Para el campo `Sector`, muestre el tipo de dato y los valores únicos."
      ]
    },
    {
      "cell_type": "code",
      "source": [
        "df.select(\"Sector\").distinct().show(truncate=False)\n",
        "\n",
        "column_name = \"Sector\"\n",
        "column_type = [f.dataType for f in df.schema.fields if f.name == column_name][0]\n",
        "\n",
        "print(f\"El tipo de dato de la columna '{column_name}' es: {column_type}\")"
      ],
      "metadata": {
        "colab": {
          "base_uri": "https://localhost:8080/"
        },
        "id": "FEXfWNwvcFYW",
        "outputId": "d5195dfd-a60b-4a89-f0af-77a3bdb7f61f"
      },
      "execution_count": 239,
      "outputs": [
        {
          "output_type": "stream",
          "name": "stdout",
          "text": [
            "+----------------------------------+\n",
            "|Sector                            |\n",
            "+----------------------------------+\n",
            "|Health Care                       |\n",
            "|Insurance                         |\n",
            "|Information Technology            |\n",
            "|Government                        |\n",
            "|Oil, Gas, Energy & Utilities      |\n",
            "|Finance                           |\n",
            "|Real Estate                       |\n",
            "|Non-Profit                        |\n",
            "|Construction, Repair & Maintenance|\n",
            "|Media                             |\n",
            "|Unknown                           |\n",
            "|Biotech & Pharmaceuticals         |\n",
            "|Telecommunications                |\n",
            "|Unknown / Non-Applicable          |\n",
            "|Consumer Services                 |\n",
            "|Accounting & Legal                |\n",
            "|Travel & Tourism                  |\n",
            "|Aerospace & Defense               |\n",
            "|Business Services                 |\n",
            "|Agriculture & Forestry            |\n",
            "+----------------------------------+\n",
            "only showing top 20 rows\n",
            "\n",
            "El tipo de dato de la columna 'Sector' es: StringType()\n"
          ]
        }
      ]
    },
    {
      "cell_type": "markdown",
      "source": [
        "Vemos que este también es un campo con datos limpios y de tipo string"
      ],
      "metadata": {
        "id": "ogXZW-6CcJ__"
      }
    },
    {
      "cell_type": "markdown",
      "metadata": {
        "application/vnd.databricks.v1+cell": {
          "cellMetadata": {},
          "inputWidgets": {},
          "nuid": "b0d92b2b-c4be-4aca-b734-3ef8d80b62cd",
          "showTitle": false,
          "tableResultSettingsMap": {},
          "title": ""
        },
        "id": "1u-8meiuwcxu"
      },
      "source": [
        "28. Aplica la misma lógica de la pregunta 26 pero sobre el campo `Sector`."
      ]
    },
    {
      "cell_type": "markdown",
      "source": [
        "De nuevo, como ya hemos hecho la limpieza de los valores \"-1\" y hemos colocado Unknown, vamos a hacer el remplazo con la condición de que sea == \"Unknown\""
      ],
      "metadata": {
        "id": "6lJXWhUBcYeW"
      }
    },
    {
      "cell_type": "code",
      "source": [
        "df = df.withColumn(\"Sector\", F.regexp_replace(F.col(\"Sector\"), \"Unknown\", \"Not Available\"))\n",
        "df = df.withColumn(\"Sector\", F.regexp_replace(F.col(\"Sector\"), \"&\", \"and\"))\n",
        "\n",
        "df.select(\"Sector\").distinct().orderBy(\"Sector\", ascending=True).show(truncate=False)"
      ],
      "metadata": {
        "colab": {
          "base_uri": "https://localhost:8080/"
        },
        "id": "aglOlGCZcWbx",
        "outputId": "da27b0aa-e3fc-4d1e-e7ae-1d0f5a2b2281"
      },
      "execution_count": 240,
      "outputs": [
        {
          "output_type": "stream",
          "name": "stdout",
          "text": [
            "+------------------------------------+\n",
            "|Sector                              |\n",
            "+------------------------------------+\n",
            "|Accounting and Legal                |\n",
            "|Aerospace and Defense               |\n",
            "|Agriculture and Forestry            |\n",
            "|Biotech and Pharmaceuticals         |\n",
            "|Business Services                   |\n",
            "|Construction, Repair and Maintenance|\n",
            "|Consumer Services                   |\n",
            "|Finance                             |\n",
            "|Government                          |\n",
            "|Health Care                         |\n",
            "|Information Technology              |\n",
            "|Insurance                           |\n",
            "|Manufacturing                       |\n",
            "|Media                               |\n",
            "|Non-Profit                          |\n",
            "|Not Available                       |\n",
            "|Not Available / Non-Applicable      |\n",
            "|Oil, Gas, Energy and Utilities      |\n",
            "|Real Estate                         |\n",
            "|Retail                              |\n",
            "+------------------------------------+\n",
            "only showing top 20 rows\n",
            "\n"
          ]
        }
      ]
    },
    {
      "cell_type": "markdown",
      "metadata": {
        "application/vnd.databricks.v1+cell": {
          "cellMetadata": {},
          "inputWidgets": {},
          "nuid": "6a3770cb-694e-439f-8038-d28da4e3ac0f",
          "showTitle": false,
          "tableResultSettingsMap": {},
          "title": ""
        },
        "id": "cpOCGTpPwcxu"
      },
      "source": [
        "29. Para el campo `Revenue`, muestre el tipo de dato y los valores únicos en orden ascedente."
      ]
    },
    {
      "cell_type": "code",
      "source": [
        "df.select(\"Revenue\").distinct().orderBy(\"Revenue\", ascending=True).show(truncate=False)\n",
        "\n",
        "column_name = \"Revenue\"\n",
        "column_type = [f.dataType for f in df.schema.fields if f.name == column_name][0]\n",
        "\n",
        "print(f\"El tipo de dato de la columna '{column_name}' es: {column_type}\")"
      ],
      "metadata": {
        "colab": {
          "base_uri": "https://localhost:8080/"
        },
        "id": "ERKdwahFcpt4",
        "outputId": "858bf96d-d904-47d7-8682-bb8460c5ec47"
      },
      "execution_count": 241,
      "outputs": [
        {
          "output_type": "stream",
          "name": "stdout",
          "text": [
            "+--------------------------------+\n",
            "|Revenue                         |\n",
            "+--------------------------------+\n",
            "|$1 to $2 billion (USD)          |\n",
            "|$1 to $5 million (USD)          |\n",
            "|$10 to $25 million (USD)        |\n",
            "|$10+ billion (USD)              |\n",
            "|$100 to $500 million (USD)      |\n",
            "|$2 to $5 billion (USD)          |\n",
            "|$25 to $50 million (USD)        |\n",
            "|$5 to $10 billion (USD)         |\n",
            "|$5 to $10 million (USD)         |\n",
            "|$50 to $100 million (USD)       |\n",
            "|$500 million to $1 billion (USD)|\n",
            "|Less than $1 million (USD)      |\n",
            "|Unknown                         |\n",
            "|Unknown / Non-Applicable        |\n",
            "+--------------------------------+\n",
            "\n",
            "El tipo de dato de la columna 'Revenue' es: StringType()\n"
          ]
        }
      ]
    },
    {
      "cell_type": "markdown",
      "metadata": {
        "application/vnd.databricks.v1+cell": {
          "cellMetadata": {},
          "inputWidgets": {},
          "nuid": "9cb56eb9-3684-49cd-b20f-fd368d23b499",
          "showTitle": false,
          "tableResultSettingsMap": {},
          "title": ""
        },
        "id": "PRk6r9xGwcxu"
      },
      "source": [
        "30. En el campo `Revenue`, cambiar:  \n",
        "-  `-1` por `N/A`  \n",
        "-  `Unknown / Non-Applicable` por `N/A`  \n",
        "-  `Less than $1 million (USD)` por `Less than 1`\n",
        "-  Quitar `$` y `(USD)`"
      ]
    },
    {
      "cell_type": "markdown",
      "source": [
        "De nuevo, como ya hemos hecho la limpieza de los valores \"-1\" y hemos colocado Unknown, vamos a hacer el remplazo con la condición de que sea == \"Unknown\""
      ],
      "metadata": {
        "id": "ayBR9QOwdX7_"
      }
    },
    {
      "cell_type": "code",
      "source": [
        "df = df.withColumn(\"Revenue\", F.regexp_replace(F.col(\"Revenue\"), \"Unknown\", \"N/A\"))\n",
        "df = df.withColumn(\"Revenue\", F.regexp_replace(F.col(\"Revenue\"), \"/ Non-Applicable\", \"\"))\n",
        "df = df.withColumn(\"Revenue\", F.regexp_replace(F.col(\"Revenue\"), \"Less than $1 million (USD)\", \"Less than 1\"))\n",
        "df = df.withColumn(\"Revenue\", F.regexp_replace(F.col(\"Revenue\"), \"\\$\", \"\"))\n",
        "df = df.withColumn(\"Revenue\", F.regexp_replace(F.col(\"Revenue\"), \"\\(USD\\)\", \"\"))\n",
        "\n",
        "df.select(\"Revenue\").distinct().orderBy(\"Revenue\", ascending=True).show(truncate=False)"
      ],
      "metadata": {
        "colab": {
          "base_uri": "https://localhost:8080/"
        },
        "id": "8LrEzcWNdAAf",
        "outputId": "a7692b1b-7b3f-4acb-822f-1dcf68c72de5"
      },
      "execution_count": 243,
      "outputs": [
        {
          "output_type": "stream",
          "name": "stdout",
          "text": [
            "+-------------------------+\n",
            "|Revenue                  |\n",
            "+-------------------------+\n",
            "|1 to 2 billion           |\n",
            "|1 to 5 million           |\n",
            "|10 to 25 million         |\n",
            "|10+ billion              |\n",
            "|100 to 500 million       |\n",
            "|2 to 5 billion           |\n",
            "|25 to 50 million         |\n",
            "|5 to 10 billion          |\n",
            "|5 to 10 million          |\n",
            "|50 to 100 million        |\n",
            "|500 million to 1 billion |\n",
            "|Less than 1 million      |\n",
            "|N/A                      |\n",
            "|N/A                      |\n",
            "+-------------------------+\n",
            "\n"
          ]
        }
      ]
    },
    {
      "cell_type": "markdown",
      "metadata": {
        "application/vnd.databricks.v1+cell": {
          "cellMetadata": {},
          "inputWidgets": {},
          "nuid": "d89472f2-855f-4edc-bc47-d2654069bf38",
          "showTitle": false,
          "tableResultSettingsMap": {},
          "title": ""
        },
        "id": "r3_hRZ7Lwcxu"
      },
      "source": [
        "31. Borrar el campo `Competitors`."
      ]
    },
    {
      "cell_type": "code",
      "source": [
        "df = df.drop(\"Competitors\")\n",
        "df.show()"
      ],
      "metadata": {
        "colab": {
          "base_uri": "https://localhost:8080/"
        },
        "id": "uvhi8WfkdZv3",
        "outputId": "9b1afa7e-4c26-421e-ed17-cc63c8e8d477"
      },
      "execution_count": 244,
      "outputs": [
        {
          "output_type": "stream",
          "name": "stdout",
          "text": [
            "+-----+--------------------+------------------+--------------------+------+--------------------+----------------+----------+-------+--------------------+--------------------+--------------------+--------------------+-------------+-----+------------------+\n",
            "|index|           Job Title|   Salary Estimate|     Job Description|Rating|        Company Name|    Headquarters|      Size|Founded|   Type of ownership|            Industry|              Sector|             Revenue|         City|State|Headquarters State|\n",
            "+-----+--------------------+------------------+--------------------+------+--------------------+----------------+----------+-------+--------------------+--------------------+--------------------+--------------------+-------------+-----+------------------+\n",
            "|   56|Senior Data Scien...| $75.000-$131.000 |Benson Hill empow...|  35.0|      Benson Hill3.5|     Saint Louis|   201-500|   2012|     Private Company|Biotech and Pharm...|Biotech and Pharm...|     1 to 5 million |  Saint Louis|   MO|                MO|\n",
            "|  282|      Data Scientist| $91.000-$150.000 |Greetings from Tr...| 38.84|      Trovetechs Inc|    Hillsborough|   Unknown|   none|     Private Company|       Not Available|       Not Available|                N/A |San Francisco|   CA|                NJ|\n",
            "|   74|Purification Scie...| $79.000-$131.000 |New England Biola...|  49.0|New England Biola...|         Ipswich|   201-500|   1974|     Private Company|Biotech and Pharm...|Biotech and Pharm...|                N/A |      Ipswich|   MA|                MA|\n",
            "|  177|Data Scientist - ...|  $56.000-$97.000 |*Organization and...|  37.0|             PNNL3.7|        Richland| 1001-5000|   1965|          Government|              Energy|Oil, Gas, Energy ...|500 million to 1 ...|     Richland|   WA|                WA|\n",
            "|  457|      Data Scientist| $69.000-$116.000 |Work in a fast gr...| 38.84|       Stride Search|Westlake Village|      1-50|   none|     Private Company|       Not Available|       Not Available|Less than 1 million |San Francisco|   CA|                CA|\n",
            "|  662|      Data Scientist|$105.000-$167.000 |Solution IT Inc. ...|  44.0| SolutionIT, Inc.4.4|      Wilmington|    51-200|   none|     Private Company|       Not Available|       Not Available|                N/A |       Edison|   NJ|                MA|\n",
            "|   19|Medical Lab Scien...|$137.000-$171.000 |Responsibilities ...|  35.0|     Tower Health3.5|         Reading|5001-10000|   2017|Nonprofit Organiz...|Health Care Servi...|         Health Care|                N/A |   West Grove|   PA|                PA|\n",
            "|  145|Research Scientis...| $90.000-$109.000 |*We would ideally...|  38.0|          Evidera3.8|        Bethesda|  501-1000|   2013|            Business|Biotech and Pharm...|Biotech and Pharm...| 100 to 500 million |     Bethesda|   MD|                MD|\n",
            "|  157|Experienced Data ...|$101.000-$165.000 |*******Please App...|  44.0|Guzman & Griffin ...|    Mays Landing|      1-50|   1997|     Private Company|    Federal Agencies|          Government|                N/A |   Washington|   DC|                NJ|\n",
            "|  303|      Data Scientist| $145.000-$225.000|Role Description ...|  32.0|       Triplebyte3.2|   San Francisco|    51-200|   2015|     Private Company|Computer Hardware...|Information Techn...|                N/A |      Chicago|   IL|                CA|\n",
            "|  176|       Data Engineer|$101.000-$165.000 |Building Bridges,...|  44.0|Resurgent Capital...|      Greenville|   201-500|   1998|     Private Company|Venture Capital a...|             Finance|  50 to 100 million |   Cincinnati|   OH|                SC|\n",
            "|  478|      Data Scientist|  $31.000-$56.000 |Responsibilities�...|  41.0|IntelliPro Group ...|     Santa Clara|   201-500|   none|     Private Company|       Not Available|       Not Available|   10 to 25 million |  Santa Clara|   CA|                CA|\n",
            "|  637|      Data Scientist| $92.000-$155.000 |Job Description W...| 38.84|            Sophinea|       Chantilly|      1-50|   none|             Unknown|       Not Available|       Not Available|                N/A |    Chantilly|   VA|                VA|\n",
            "|   33|Senior Research S...| $75.000-$131.000 |Acuity is seeking...|  48.0| Acuity Insurance4.8|       Sheboygan| 1001-5000|   1925|     Private Company|  Insurance Carriers|           Insurance|     1 to 2 billion |    Sheboygan|   WI|                WI|\n",
            "|   40|        Data Analyst| $75.000-$131.000 |Data Analyst Loca...|  31.0|Cambridge Associa...|          Boston|  501-1000|   1973|     Private Company|Investment Bankin...|             Finance| 100 to 500 million |       Boston|   MA|                MA|\n",
            "|  542|COMPUTER SCIENTIS...| $66.000-$112.000 |Join our Intellig...|  39.0|Southwest Researc...|     San Antonio| 1001-5000|   1947|Nonprofit Organiz...|Research and Deve...|   Business Services|500 million to 1 ...|  San Antonio|   TX|                TX|\n",
            "|  206|Data Science Inst...| $79.000-$106.000 |Join our team ded...|  45.0|          Novetta4.5|         Mc Lean|  501-1000|   2012|     Private Company|Enterprise Softwa...|Information Techn...| 100 to 500 million |      Herndon|   VA|                VA|\n",
            "|  428|Senior Data Scien...| $79.000-$133.000 |Benson Hill empow...|  35.0|      Benson Hill3.5|     Saint Louis|   201-500|   2012|     Private Company|Biotech and Pharm...|Biotech and Pharm...|     1 to 5 million |  Saint Louis|   MO|                MO|\n",
            "|  521|      Data Scientist|$212.000-$331.000 |The work is in su...|  38.0|    Aveshka, Inc.3.8|       Arlington|    51-200|   2010|      Public Company|         IT Services|Information Techn...|   10 to 25 million |   Washington|   DC|                VA|\n",
            "|  253|      Data Scientist| $90.000-$124.000 |You are key to he...|  41.0|           Gallup4.1|      Washington| 1001-5000|   1935|     Private Company|          Consulting|   Business Services|                N/A |     New York|   NY|                DC|\n",
            "+-----+--------------------+------------------+--------------------+------+--------------------+----------------+----------+-------+--------------------+--------------------+--------------------+--------------------+-------------+-----+------------------+\n",
            "only showing top 20 rows\n",
            "\n"
          ]
        }
      ]
    },
    {
      "cell_type": "markdown",
      "metadata": {
        "application/vnd.databricks.v1+cell": {
          "cellMetadata": {},
          "inputWidgets": {},
          "nuid": "a1d3b8e8-a020-4a19-9d85-fb3f635ed316",
          "showTitle": false,
          "tableResultSettingsMap": {},
          "title": ""
        },
        "id": "wnbQC79hwcxv"
      },
      "source": [
        "32. Crear tres columnas: `min_salary` (salario mínimo), `max_salary` (salario maximo) y `avg_salary` (salario promedio) a partir de los datos del campo `Salary Estimate`."
      ]
    },
    {
      "source": [
        "# primero usamos una columna auxiliar para tener el máximo y el mínimo en un array con dos posiciones\n",
        "df_cleaned = df.withColumn(\"aux\", F.regexp_replace(F.col(\"Salary Estimate\"), \"\\$\", \"\")) \\\n",
        "                .withColumn(\"aux\", F.split(F.col(\"aux\"), \"-\"))\n",
        "\n",
        "# una vez tenemos la columna con los datos que queremos, la utilizamos para separar estos datos y operar con ellos\n",
        "df_cleaned = df_cleaned.withColumn(\"min_salary\", F.col(\"aux\")[0].cast(\"int\"))\n",
        "df_cleaned = df_cleaned.withColumn(\"max_salary\", F.col(\"aux\")[1].cast(\"int\"))\n",
        "df_cleaned = df_cleaned.withColumn(\"avg_salary\", (F.col(\"min_salary\") + F.col(\"max_salary\")) / 2)\n",
        "df_cleaned = df_cleaned.drop(\"aux\")\n",
        "\n",
        "df = df_cleaned\n",
        "\n",
        "# mostramos los datos\n",
        "df.select(\"Salary Estimate\", \"min_salary\", \"max_salary\", \"avg_salary\").show()"
      ],
      "cell_type": "code",
      "metadata": {
        "colab": {
          "base_uri": "https://localhost:8080/"
        },
        "id": "zjrsqJBZfN5g",
        "outputId": "508fec81-c291-4512-c5ba-795e412329d4"
      },
      "execution_count": 250,
      "outputs": [
        {
          "output_type": "stream",
          "name": "stdout",
          "text": [
            "+------------------+----------+----------+----------+\n",
            "|   Salary Estimate|min_salary|max_salary|avg_salary|\n",
            "+------------------+----------+----------+----------+\n",
            "| $75.000-$131.000 |        75|       131|     103.0|\n",
            "| $91.000-$150.000 |        91|       150|     120.5|\n",
            "| $79.000-$131.000 |        79|       131|     105.0|\n",
            "|  $56.000-$97.000 |        56|        97|      76.5|\n",
            "| $69.000-$116.000 |        69|       116|      92.5|\n",
            "|$105.000-$167.000 |       105|       167|     136.0|\n",
            "|$137.000-$171.000 |       137|       171|     154.0|\n",
            "| $90.000-$109.000 |        90|       109|      99.5|\n",
            "|$101.000-$165.000 |       101|       165|     133.0|\n",
            "| $145.000-$225.000|       145|       225|     185.0|\n",
            "|$101.000-$165.000 |       101|       165|     133.0|\n",
            "|  $31.000-$56.000 |        31|        56|      43.5|\n",
            "| $92.000-$155.000 |        92|       155|     123.5|\n",
            "| $75.000-$131.000 |        75|       131|     103.0|\n",
            "| $75.000-$131.000 |        75|       131|     103.0|\n",
            "| $66.000-$112.000 |        66|       112|      89.0|\n",
            "| $79.000-$106.000 |        79|       106|      92.5|\n",
            "| $79.000-$133.000 |        79|       133|     106.0|\n",
            "|$212.000-$331.000 |       212|       331|     271.5|\n",
            "| $90.000-$124.000 |        90|       124|     107.0|\n",
            "+------------------+----------+----------+----------+\n",
            "only showing top 20 rows\n",
            "\n"
          ]
        }
      ]
    },
    {
      "cell_type": "markdown",
      "metadata": {
        "application/vnd.databricks.v1+cell": {
          "cellMetadata": {},
          "inputWidgets": {},
          "nuid": "359b377b-30ee-4c05-b7cd-f0f217a4d9e7",
          "showTitle": false,
          "tableResultSettingsMap": {},
          "title": ""
        },
        "id": "_dSFIm0Pwcxv"
      },
      "source": [
        "33. Mostrar los valores unicos del campo `Founded` y el tipo de dato."
      ]
    },
    {
      "cell_type": "code",
      "source": [
        "df.select(\"Founded\").distinct().show(truncate=False)\n",
        "\n",
        "column_name = \"Founded\"\n",
        "column_type = [f.dataType for f in df.schema.fields if f.name == column_name][0]\n",
        "\n",
        "print(f\"El tipo de dato de la columna '{column_name}' es: {column_type}\")"
      ],
      "metadata": {
        "colab": {
          "base_uri": "https://localhost:8080/"
        },
        "id": "wp8I8_czgDOk",
        "outputId": "c2322b6a-a9fa-47f2-c1cd-9acb8b25aef3"
      },
      "execution_count": 251,
      "outputs": [
        {
          "output_type": "stream",
          "name": "stdout",
          "text": [
            "+---------+\n",
            "|Founded  |\n",
            "+---------+\n",
            "|1953     |\n",
            "|1957     |\n",
            "|1880     |\n",
            "|1987     |\n",
            "|1956     |\n",
            "|Education|\n",
            "|2016     |\n",
            "|2012     |\n",
            "|1958     |\n",
            "|1972     |\n",
            "|1988     |\n",
            "|1926     |\n",
            "|1911     |\n",
            "|2019     |\n",
            "|1918     |\n",
            "|2017     |\n",
            "|1932     |\n",
            "|1977     |\n",
            "|2014     |\n",
            "|1971     |\n",
            "+---------+\n",
            "only showing top 20 rows\n",
            "\n",
            "El tipo de dato de la columna 'Founded' es: StringType()\n"
          ]
        }
      ]
    },
    {
      "cell_type": "markdown",
      "source": [
        "Como veo que el tipo de datos es string y que hay información incorrecta en un formato no numérico, voy a pasar la columna a entero, para dejar nulos los valores no numéricos y gestionarlos en la siguiente ejecución"
      ],
      "metadata": {
        "id": "d1kyNGiNgQGR"
      }
    },
    {
      "cell_type": "code",
      "source": [
        "df = df.withColumn(\"Founded\", F.col(\"Founded\").cast(\"int\"))\n",
        "\n",
        "df.select(\"Founded\").distinct().show(truncate=False)\n",
        "\n",
        "# contar filas nulas\n",
        "df.where(F.col(\"Founded\").isNull()).count()"
      ],
      "metadata": {
        "colab": {
          "base_uri": "https://localhost:8080/"
        },
        "id": "cEd9r76Hgf9Q",
        "outputId": "bda7d068-378a-4b16-8a31-c9f9d6126fba"
      },
      "execution_count": 254,
      "outputs": [
        {
          "output_type": "stream",
          "name": "stdout",
          "text": [
            "+-------+\n",
            "|Founded|\n",
            "+-------+\n",
            "|1959   |\n",
            "|1990   |\n",
            "|1896   |\n",
            "|1977   |\n",
            "|1863   |\n",
            "|2003   |\n",
            "|2007   |\n",
            "|2018   |\n",
            "|1974   |\n",
            "|2015   |\n",
            "|1875   |\n",
            "|1955   |\n",
            "|2006   |\n",
            "|1978   |\n",
            "|1820   |\n",
            "|1925   |\n",
            "|1908   |\n",
            "|1961   |\n",
            "|2013   |\n",
            "|1942   |\n",
            "+-------+\n",
            "only showing top 20 rows\n",
            "\n"
          ]
        },
        {
          "output_type": "execute_result",
          "data": {
            "text/plain": [
              "129"
            ]
          },
          "metadata": {},
          "execution_count": 254
        }
      ]
    },
    {
      "cell_type": "markdown",
      "metadata": {
        "application/vnd.databricks.v1+cell": {
          "cellMetadata": {},
          "inputWidgets": {},
          "nuid": "6cd2dd8d-9e02-46e5-b441-0b93d2775f05",
          "showTitle": false,
          "tableResultSettingsMap": {},
          "title": ""
        },
        "id": "t-WiaQ25wcxv"
      },
      "source": [
        "34. Reemplazar '-1' por '2024' en todos los registros del campo `Founded`."
      ]
    },
    {
      "cell_type": "markdown",
      "source": [
        "Ya hicimos esta comprobación anteriormente, pero remplazamos -1 por none, por lo que ahora, ya que he convertido los datos a tipo entero, ese dato se habrá convertido en nulo, entonces voy a cambiar los nulos por 2024"
      ],
      "metadata": {
        "id": "ZXIHLvxzgnJA"
      }
    },
    {
      "cell_type": "code",
      "source": [
        "df = df.withColumn(\"Founded\", F.when(F.col(\"Founded\").isNull(), 2024).otherwise(F.col(\"Founded\")))\n",
        "\n",
        "df.select(\"Founded\").distinct().show(truncate=False)\n",
        "\n",
        "# contar filas nulas nulas\n",
        "df.where(F.col(\"Founded\").isNull()).count()"
      ],
      "metadata": {
        "colab": {
          "base_uri": "https://localhost:8080/"
        },
        "id": "Ihy4avgvg37f",
        "outputId": "5392d554-a9d0-48e6-e2a0-b9191c68678a"
      },
      "execution_count": 255,
      "outputs": [
        {
          "output_type": "stream",
          "name": "stdout",
          "text": [
            "+-------+\n",
            "|Founded|\n",
            "+-------+\n",
            "|1959   |\n",
            "|1896   |\n",
            "|1990   |\n",
            "|1977   |\n",
            "|1863   |\n",
            "|2003   |\n",
            "|2007   |\n",
            "|2018   |\n",
            "|1974   |\n",
            "|2015   |\n",
            "|1875   |\n",
            "|1955   |\n",
            "|2006   |\n",
            "|1978   |\n",
            "|1820   |\n",
            "|1925   |\n",
            "|1908   |\n",
            "|1961   |\n",
            "|2013   |\n",
            "|1942   |\n",
            "+-------+\n",
            "only showing top 20 rows\n",
            "\n"
          ]
        },
        {
          "output_type": "execute_result",
          "data": {
            "text/plain": [
              "0"
            ]
          },
          "metadata": {},
          "execution_count": 255
        }
      ]
    },
    {
      "cell_type": "markdown",
      "metadata": {
        "application/vnd.databricks.v1+cell": {
          "cellMetadata": {},
          "inputWidgets": {},
          "nuid": "e823336d-0258-4af5-8d13-c9a358b9295f",
          "showTitle": false,
          "tableResultSettingsMap": {},
          "title": ""
        },
        "id": "SbBNiISOwcxv"
      },
      "source": [
        "35. Crear una nueva columna o campo que se llame `company_age` con los datos que se deducen del campo `Founded`."
      ]
    },
    {
      "cell_type": "code",
      "source": [
        "df = df.withColumn(\"company_age\", (F.year(F.current_date())) - F.col(\"Founded\"))\n",
        "\n",
        "df.select(\"Founded\", \"company_age\").orderBy(\"company_age\", ascending=False).show()"
      ],
      "metadata": {
        "colab": {
          "base_uri": "https://localhost:8080/"
        },
        "id": "Ye8JDfKWiMph",
        "outputId": "e1519a19-0346-4425-e6ef-01ee687ce9d2"
      },
      "execution_count": 259,
      "outputs": [
        {
          "output_type": "stream",
          "name": "stdout",
          "text": [
            "+-------+-----------+\n",
            "|Founded|company_age|\n",
            "+-------+-----------+\n",
            "|   1781|        243|\n",
            "|   1781|        243|\n",
            "|   1788|        236|\n",
            "|   1820|        204|\n",
            "|   1830|        194|\n",
            "|   1830|        194|\n",
            "|   1849|        175|\n",
            "|   1850|        174|\n",
            "|   1850|        174|\n",
            "|   1851|        173|\n",
            "|   1851|        173|\n",
            "|   1851|        173|\n",
            "|   1851|        173|\n",
            "|   1851|        173|\n",
            "|   1853|        171|\n",
            "|   1853|        171|\n",
            "|   1853|        171|\n",
            "|   1860|        164|\n",
            "|   1863|        161|\n",
            "|   1875|        149|\n",
            "+-------+-----------+\n",
            "only showing top 20 rows\n",
            "\n"
          ]
        }
      ]
    },
    {
      "cell_type": "markdown",
      "metadata": {
        "application/vnd.databricks.v1+cell": {
          "cellMetadata": {},
          "inputWidgets": {},
          "nuid": "49a8f7ed-434c-4ad1-ba31-eeecd65c117c",
          "showTitle": false,
          "tableResultSettingsMap": {},
          "title": ""
        },
        "id": "RR7TayUmwcxv"
      },
      "source": [
        "36. Crear una columna o campo que se llame: `Job Type` y en cada registro debe ir Senior, Junior o NA según los datos del campo `Job Title`.  \n",
        "- Cambiar 'sr' o 'senior' o 'lead' o 'principal' por `Senior` en el campo `Job Type`. No olvidar las mayúsculas.\n",
        "- Cambiar 'jr' o 'jr.' o cualquier otra variante por `Junior`.  \n",
        "- En cualquier otro caso distinto a los anteriores añadir NA."
      ]
    },
    {
      "cell_type": "code",
      "source": [
        "df = df.withColumn(\"Job Title\", F.lower(F.col(\"Job Title\")))\n",
        "\n",
        "df = df.withColumn(\n",
        "    \"Job Type\",\n",
        "    F.when(\n",
        "        F.lower(F.col(\"Job Title\")).rlike(r\".*\\b(sr|senior|lead|principal)\\b.*\"), \"Senior\"\n",
        "    ).when(\n",
        "        F.lower(F.col(\"Job Title\")).rlike(r\".*\\b(jr|jr\\.)\\b.*\"), \"Junior\"\n",
        "    ).otherwise(\"NA\")\n",
        ")\n",
        "\n",
        "# Mostrar el resultado\n",
        "df.where((F.col(\"Job Type\") == \"Junior\")).select(\"Job Title\", \"Job Type\").show(truncate=False)\n",
        "\n",
        "df.where((F.col(\"Job Type\") == \"Senior\")).select(\"Job Title\", \"Job Type\").show(truncate=False)\n"
      ],
      "metadata": {
        "colab": {
          "base_uri": "https://localhost:8080/"
        },
        "id": "c_wt9Nsai2GK",
        "outputId": "a1be0893-e941-47de-cf74-21f8f4593b4e"
      },
      "execution_count": 279,
      "outputs": [
        {
          "output_type": "stream",
          "name": "stdout",
          "text": [
            "+----------------------------------------------------+--------+\n",
            "|Job Title                                           |Job Type|\n",
            "+----------------------------------------------------+--------+\n",
            "|jr. business data analyst (position added 6/12/2020)|Junior  |\n",
            "|jr. data engineer                                   |Junior  |\n",
            "+----------------------------------------------------+--------+\n",
            "\n",
            "+-----------------------------------------------------------------+--------+\n",
            "|Job Title                                                        |Job Type|\n",
            "+-----------------------------------------------------------------+--------+\n",
            "|senior data scientist                                            |Senior  |\n",
            "|senior research statistician- data scientist                     |Senior  |\n",
            "|senior data scientist                                            |Senior  |\n",
            "|manager / lead, data science & analytics                         |Senior  |\n",
            "|sr. ml/data scientist - ai/nlp/chatbot                           |Senior  |\n",
            "|principal data scientist                                         |Senior  |\n",
            "|lead data scientist                                              |Senior  |\n",
            "|sr data scientist                                                |Senior  |\n",
            "|scientist / group lead, cancer biology                           |Senior  |\n",
            "|senior data scientist                                            |Senior  |\n",
            "|senior data scientist - r&d oncology                             |Senior  |\n",
            "|senior machine learning engineer                                 |Senior  |\n",
            "|senior analyst/data scientist                                    |Senior  |\n",
            "|senior data scientist                                            |Senior  |\n",
            "|senior data scientist                                            |Senior  |\n",
            "|sr data analyst                                                  |Senior  |\n",
            "|senior scientist - toxicologist - product integrity (stewardship)|Senior  |\n",
            "|senior principal data scientist (python/r)                       |Senior  |\n",
            "|senior data scientist                                            |Senior  |\n",
            "|scientist / group lead, cancer biology                           |Senior  |\n",
            "+-----------------------------------------------------------------+--------+\n",
            "only showing top 20 rows\n",
            "\n"
          ]
        }
      ]
    },
    {
      "cell_type": "markdown",
      "metadata": {
        "application/vnd.databricks.v1+cell": {
          "cellMetadata": {},
          "inputWidgets": {},
          "nuid": "2c70227b-c16c-4919-9aa2-9bf9514b76dd",
          "showTitle": false,
          "tableResultSettingsMap": {},
          "title": ""
        },
        "id": "z1rRVS1uwcxz"
      },
      "source": [
        "37. Muestra los registros únicos del campo `Job Type`."
      ]
    },
    {
      "cell_type": "code",
      "source": [
        "df.select(\"Job Type\").distinct().show(truncate=False)"
      ],
      "metadata": {
        "colab": {
          "base_uri": "https://localhost:8080/"
        },
        "id": "pJ2Xog5vm27h",
        "outputId": "9220d903-972e-49a1-adf9-bccacc07a1da"
      },
      "execution_count": 280,
      "outputs": [
        {
          "output_type": "stream",
          "name": "stdout",
          "text": [
            "+--------+\n",
            "|Job Type|\n",
            "+--------+\n",
            "|Senior  |\n",
            "|NA      |\n",
            "|Junior  |\n",
            "+--------+\n",
            "\n"
          ]
        }
      ]
    },
    {
      "cell_type": "markdown",
      "metadata": {
        "application/vnd.databricks.v1+cell": {
          "cellMetadata": {},
          "inputWidgets": {},
          "nuid": "2cd4dbad-048d-461f-bf2a-f54c557d16f4",
          "showTitle": false,
          "tableResultSettingsMap": {},
          "title": ""
        },
        "id": "x7Rr3sykwcxz"
      },
      "source": [
        "38. Partiendo del campo `Job Description` se extraer todas o las principales skills solicitadas por las empresas, por ejemplo: Python, Spark , Big Data. Cada Skill debe ir en una nueva columna de tipo Binaria ( 0 , 1) o Booleana (True,  False) de modo que cada skill va ser una nueva columna y si esa skill es solicitada por la empresa colocar 1 sino colocar 0. Por ejemplo:  "
      ]
    },
    {
      "cell_type": "markdown",
      "metadata": {
        "application/vnd.databricks.v1+cell": {
          "cellMetadata": {},
          "inputWidgets": {},
          "nuid": "80e86af1-e86e-48db-b9d8-832cee782b01",
          "showTitle": false,
          "tableResultSettingsMap": {},
          "title": ""
        },
        "id": "rYGwTQiawcxz"
      },
      "source": [
        "Por ejemplo:  \n",
        "| Job Title         | Salary Estimate | Job Description                                 | Rating | Company Name       | Size       | Founded | Type of ownership         | Industry                       | Sector                         | Same State      | company_age | Python | Excel |\n",
        "|--------------------|-----------------|-------------------------------------------------|--------|--------------------|------------|---------|---------------------------|--------------------------------|--------------------------------|----------------|-------------|--------|-------|\n",
        "| Sr Data Scientist | 137000-171000   | Description The Senior Data Scientist is resp... | 3.1    | Healthfirst        | 1001-5000  | 1993    | Nonprofit Organization    | Insurance Carriers            | Insurance Carriers            | Same State      | 31          | 0      | 0     |\n",
        "| Data Scientist    | 137000-171000   | Secure our Nation, Ignite your Future Join th... | 4.2    | ManTech            | 5001-10000 | 1968    | Public Company            | Research and Development      | Research and Development      | Same State      | 56          | 0      | 0     |\n",
        "| Data Scientist    | 137000-171000   | Overview Analysis Group is one of the larges... | 3.8    | Analysis Group      | 1001-5000  | 1981    | Private Company           | Consulting                    | Consulting                    | Same State      | 43          | 1      | 1     |\n",
        "| Data Scientist    | 137000-171000   | JOB DESCRIPTION: Do you have a passion for Da... | 3.5    | INFICON            | 501-1000   | 2000    | Public Company            | Electrical and Electronic Manufacturing | Electrical and Electronic Manufacturing | Different State | 24          | 1      | 1     |\n"
      ]
    },
    {
      "cell_type": "code",
      "source": [
        "df = df.withColumn(\"Python\", F.when(F.lower(F.col(\"Job Description\")).rlike(r\".*\\b(python)\\b.*\"), 1).otherwise(0)) \\\n",
        "       .withColumn(\"Scala\", F.when(F.lower(F.col(\"Job Description\")).rlike(r\".*\\b(scala)\\b.*\"), 1).otherwise(0)) \\\n",
        "       .withColumn(\"Pyspark\", F.when(F.lower(F.col(\"Job Description\")).rlike(r\".*\\b(pyspark)\\b.*\"), 1).otherwise(0)) \\\n",
        "       .withColumn(\"PowerBi\", F.when(F.lower(F.col(\"Job Description\")).rlike(r\".*\\b(powerbi)\\b.*\"), 1).otherwise(0))\n",
        "\n",
        "df.select(\"Python\", \"Scala\", \"Pyspark\", \"PowerBi\").show()"
      ],
      "metadata": {
        "colab": {
          "base_uri": "https://localhost:8080/"
        },
        "id": "09jcEBNTnLF1",
        "outputId": "3a320cda-a926-45a0-8295-c39d82fc8f90"
      },
      "execution_count": 287,
      "outputs": [
        {
          "output_type": "stream",
          "name": "stdout",
          "text": [
            "+------+-----+-------+-------+\n",
            "|Python|Scala|Pyspark|PowerBi|\n",
            "+------+-----+-------+-------+\n",
            "|     1|    0|      0|      0|\n",
            "|     0|    0|      0|      0|\n",
            "|     0|    0|      0|      0|\n",
            "|     0|    0|      0|      0|\n",
            "|     1|    1|      0|      0|\n",
            "|     0|    0|      0|      0|\n",
            "|     0|    0|      0|      0|\n",
            "|     0|    0|      0|      0|\n",
            "|     1|    0|      0|      0|\n",
            "|     0|    0|      0|      0|\n",
            "|     1|    0|      0|      0|\n",
            "|     1|    0|      0|      0|\n",
            "|     0|    0|      0|      0|\n",
            "|     0|    0|      0|      0|\n",
            "|     1|    0|      0|      0|\n",
            "|     1|    0|      0|      0|\n",
            "|     0|    0|      0|      0|\n",
            "|     1|    0|      0|      0|\n",
            "|     1|    0|      0|      0|\n",
            "|     1|    0|      0|      0|\n",
            "+------+-----+-------+-------+\n",
            "only showing top 20 rows\n",
            "\n"
          ]
        }
      ]
    },
    {
      "cell_type": "markdown",
      "metadata": {
        "application/vnd.databricks.v1+cell": {
          "cellMetadata": {},
          "inputWidgets": {},
          "nuid": "5609a545-1510-4707-a0bd-a937e37675a4",
          "showTitle": false,
          "tableResultSettingsMap": {},
          "title": ""
        },
        "id": "Onuk3hnDwcxz"
      },
      "source": [
        "39. Exportar dataset final a csv"
      ]
    },
    {
      "cell_type": "code",
      "source": [
        "import pandas as pd\n",
        "\n",
        "df = df.limit(100)\n",
        "\n",
        "df_pandas = df.toPandas()\n",
        "\n",
        "# Exportar a un archivo CSV\n",
        "df_pandas.to_csv(\"output.csv\", index=False)\n",
        "\n",
        "# Descargar el archivo\n",
        "from google.colab import files\n",
        "files.download(\"output.csv\")"
      ],
      "metadata": {
        "colab": {
          "base_uri": "https://localhost:8080/",
          "height": 17
        },
        "id": "ObvkPUa2nbRP",
        "outputId": "1c01581e-5e65-4e81-f780-fa540aa338b8"
      },
      "execution_count": 289,
      "outputs": [
        {
          "output_type": "display_data",
          "data": {
            "text/plain": [
              "<IPython.core.display.Javascript object>"
            ],
            "application/javascript": [
              "\n",
              "    async function download(id, filename, size) {\n",
              "      if (!google.colab.kernel.accessAllowed) {\n",
              "        return;\n",
              "      }\n",
              "      const div = document.createElement('div');\n",
              "      const label = document.createElement('label');\n",
              "      label.textContent = `Downloading \"${filename}\": `;\n",
              "      div.appendChild(label);\n",
              "      const progress = document.createElement('progress');\n",
              "      progress.max = size;\n",
              "      div.appendChild(progress);\n",
              "      document.body.appendChild(div);\n",
              "\n",
              "      const buffers = [];\n",
              "      let downloaded = 0;\n",
              "\n",
              "      const channel = await google.colab.kernel.comms.open(id);\n",
              "      // Send a message to notify the kernel that we're ready.\n",
              "      channel.send({})\n",
              "\n",
              "      for await (const message of channel.messages) {\n",
              "        // Send a message to notify the kernel that we're ready.\n",
              "        channel.send({})\n",
              "        if (message.buffers) {\n",
              "          for (const buffer of message.buffers) {\n",
              "            buffers.push(buffer);\n",
              "            downloaded += buffer.byteLength;\n",
              "            progress.value = downloaded;\n",
              "          }\n",
              "        }\n",
              "      }\n",
              "      const blob = new Blob(buffers, {type: 'application/binary'});\n",
              "      const a = document.createElement('a');\n",
              "      a.href = window.URL.createObjectURL(blob);\n",
              "      a.download = filename;\n",
              "      div.appendChild(a);\n",
              "      a.click();\n",
              "      div.remove();\n",
              "    }\n",
              "  "
            ]
          },
          "metadata": {}
        },
        {
          "output_type": "display_data",
          "data": {
            "text/plain": [
              "<IPython.core.display.Javascript object>"
            ],
            "application/javascript": [
              "download(\"download_ea88e7b6-a381-4bda-88c2-57646cb8e7d3\", \"output.csv\", 352036)"
            ]
          },
          "metadata": {}
        }
      ]
    },
    {
      "cell_type": "markdown",
      "metadata": {
        "application/vnd.databricks.v1+cell": {
          "cellMetadata": {},
          "inputWidgets": {},
          "nuid": "41fe24a6-5fc3-4ec4-9b76-56fd2b3e36ba",
          "showTitle": false,
          "tableResultSettingsMap": {},
          "title": ""
        },
        "id": "SZPMMumowcxz"
      },
      "source": [
        "40. Extraer todos los insights posibles que sean de valor o utilidad. Cree nuevas columnas, agrupar,  filtrar hacer varios plots que muestren dichos insights que sean de utilidad para una empresa o para un usuario. Elabore conclusiones con los insights encontrados."
      ]
    },
    {
      "cell_type": "markdown",
      "source": [
        "Para analizar que columnas nuevas puedo obtener, primero voy a visualizar los datos para tener una buena noción de qué posibilidades tengo y qué ventanas de negocios puedo crear"
      ],
      "metadata": {
        "id": "SuGXPb4TugUK"
      }
    },
    {
      "cell_type": "code",
      "source": [
        "df.show()"
      ],
      "metadata": {
        "id": "sOAByAmpt7xO"
      },
      "execution_count": null,
      "outputs": []
    },
    {
      "cell_type": "markdown",
      "source": [
        "Vamos a crear por ejemplo una columna que sea competitividad salarial, el cual va a ser un valor que mida como es el salario de esa oferta respecto a la media de las ofertas de esa industria"
      ],
      "metadata": {
        "id": "uyny7Mjpus7q"
      }
    },
    {
      "cell_type": "code",
      "source": [
        "industry_avg_salary = df.groupBy(\"Industry\").agg(F.avg(\"avg_salary\").alias(\"industry_avg_salary\"))\n",
        "\n",
        "# Unir con el DataFrame original\n",
        "df = df.join(industry_avg_salary, on=\"Industry\", how=\"left\")\n",
        "\n",
        "# Calcular la competitividad salarial\n",
        "df = df.withColumn(\n",
        "    \"Salary Competitiveness\",\n",
        "    ((F.col(\"avg_salary\") - F.col(\"industry_avg_salary\")) / F.col(\"industry_avg_salary\"))\n",
        ")"
      ],
      "metadata": {
        "id": "RI5O2J6Quwr8"
      },
      "execution_count": null,
      "outputs": []
    },
    {
      "cell_type": "code",
      "source": [
        "df.select(\"Salary Competitiveness\").show()"
      ],
      "metadata": {
        "colab": {
          "base_uri": "https://localhost:8080/"
        },
        "id": "ozuhCnL8wfHi",
        "outputId": "58860a78-ab3d-437d-c932-87f2ef2a6a55"
      },
      "execution_count": 304,
      "outputs": [
        {
          "output_type": "stream",
          "name": "stdout",
          "text": [
            "+----------------------+\n",
            "|Salary Competitiveness|\n",
            "+----------------------+\n",
            "|  -0.05704225352112...|\n",
            "|   -0.1254913819171454|\n",
            "|  -0.03873239436619...|\n",
            "|   -0.3362255965292842|\n",
            "|   -0.3286967039612942|\n",
            "|  -0.01300272149984...|\n",
            "|  0.019867549668874173|\n",
            "|  -0.08908450704225349|\n",
            "|  -0.01298701298701...|\n",
            "|   0.42216527866752074|\n",
            "|                   0.0|\n",
            "|   -0.6843060175385546|\n",
            "|  -0.10371938312670087|\n",
            "|  -0.17002417405318287|\n",
            "|                   0.0|\n",
            "|   -0.1623529411764706|\n",
            "|   -0.2505453412277968|\n",
            "|  -0.02957746478873...|\n",
            "|                1.2625|\n",
            "|   -0.2024844720496894|\n",
            "+----------------------+\n",
            "only showing top 20 rows\n",
            "\n"
          ]
        }
      ]
    },
    {
      "cell_type": "code",
      "source": [
        "df.select(\"Job Title\").distinct().count()"
      ],
      "metadata": {
        "colab": {
          "base_uri": "https://localhost:8080/"
        },
        "id": "c8mr8_f3wsAF",
        "outputId": "eff86f40-95ce-4c2b-a34f-9d53652b7cbb"
      },
      "execution_count": 307,
      "outputs": [
        {
          "output_type": "execute_result",
          "data": {
            "text/plain": [
              "46"
            ]
          },
          "metadata": {},
          "execution_count": 307
        }
      ]
    },
    {
      "cell_type": "markdown",
      "source": [
        "Vamos a crear ahora una gráfica donde nos muestre el salario mínimo distinguiendo entre junior y senior"
      ],
      "metadata": {
        "id": "Sac4_RGew_I5"
      }
    },
    {
      "cell_type": "code",
      "source": [
        "import matplotlib.pyplot as plt\n",
        "import seaborn as sns\n",
        "import pandas as pd\n",
        "\n",
        "# Paso 1: Agrupar por 'Job Type' y 'Job Title' y calcular el salario mínimo promedio\n",
        "df_grouped = df.groupBy(\"Job Type\") \\\n",
        "    .agg(F.avg(\"min_salary\").alias(\"avg_min_salary\"))\n",
        "\n",
        "# Paso 2: Convertir a pandas para graficar\n",
        "df_pandas = df_grouped.toPandas()\n",
        "\n",
        "# Paso 3: Filtrar por los valores 'Junior' y 'Senior' (si tienes otros tipos, ajusta)\n",
        "df_filtered = df_pandas[df_pandas['Job Type'].isin(['Junior', 'Senior'])]\n",
        "\n",
        "# Paso 4: Crear el gráfico (boxplot para comparar la distribución de salarios)\n",
        "plt.figure(figsize=(12, 8))\n",
        "sns.boxplot(x='Job Type', y='avg_min_salary', data=df_filtered, hue='Job Type', palette=\"Set2\", legend=False)\n",
        "\n",
        "# Personalizar el gráfico\n",
        "plt.title('Distribución de Salario Mínimo Promedio por Job Type (Junior vs Senior)', fontsize=16)\n",
        "plt.xlabel('Job Type', fontsize=12)\n",
        "plt.ylabel('Salario Mínimo Promedio en miles de dólares', fontsize=12)\n",
        "\n",
        "# Mostrar el gráfico\n",
        "plt.tight_layout()\n",
        "plt.show()"
      ],
      "metadata": {
        "colab": {
          "base_uri": "https://localhost:8080/",
          "height": 807
        },
        "id": "obqMQOz7xrEr",
        "outputId": "a78bc9ba-61ec-41fd-c203-2f05cdc5b67e"
      },
      "execution_count": 313,
      "outputs": [
        {
          "output_type": "display_data",
          "data": {
            "text/plain": [
              "<Figure size 1200x800 with 1 Axes>"
            ],
            "image/png": "[encoded data removed]"
          },
          "metadata": {}
        }
      ]
    },
    {
      "cell_type": "markdown",
      "source": [
        "Como podemos apreciar, el salario mínimo de los seniors es muchísimo mayor al de los Junior 😢"
      ],
      "metadata": {
        "id": "JAO4at1bzc_4"
      }
    },
    {
      "cell_type": "markdown",
      "source": [
        "Ahora vamos a crear un gráfico donde veamos qué lenguaje está mas demandado, para ver qué aptitud sería más interesante desarrollar"
      ],
      "metadata": {
        "id": "NLGOTlUvzRUs"
      }
    },
    {
      "cell_type": "code",
      "source": [
        "import matplotlib.pyplot as plt\n",
        "import seaborn as sns\n",
        "import pandas as pd\n",
        "from pyspark.sql import functions as F\n",
        "\n",
        "# Paso 1: Seleccionar las columnas de lenguajes\n",
        "df_selected = df.select(\"Python\", \"Scala\", \"Pyspark\", \"PowerBi\")\n",
        "\n",
        "# Paso 2: Contar cuántos trabajos requieren cada lenguaje (sumar las columnas)\n",
        "df_count = df_selected.agg(\n",
        "    F.sum(\"Python\").alias(\"Python_count\"),\n",
        "    F.sum(\"Scala\").alias(\"Scala_count\"),\n",
        "    F.sum(\"Pyspark\").alias(\"Pyspark_count\"),\n",
        "    F.sum(\"PowerBi\").alias(\"PowerBi_count\")\n",
        ")\n",
        "\n",
        "# Paso 3: Convertir el resultado a pandas\n",
        "df_pandas = df_count.toPandas()\n",
        "\n",
        "# Paso 4: Transformar el DataFrame para tener una fila por lenguaje y su respectivo conteo\n",
        "df_pandas_melted = df_pandas.melt(var_name=\"Language\", value_name=\"Job Count\")\n",
        "\n",
        "# Paso 5: Crear el gráfico de barras\n",
        "plt.figure(figsize=(8, 6))\n",
        "sns.barplot(x='Language', y='Job Count', data=df_pandas_melted, palette=\"Set2\")\n",
        "\n",
        "# Personalizar el gráfico\n",
        "plt.title('Cantidad de Trabajos que Requieren Cada Lenguaje', fontsize=16)\n",
        "plt.xlabel('Lenguaje', fontsize=12)\n",
        "plt.ylabel('Cantidad de Trabajos', fontsize=12)\n",
        "\n",
        "# Mostrar el gráfico\n",
        "plt.tight_layout()\n",
        "plt.show()\n"
      ],
      "metadata": {
        "colab": {
          "base_uri": "https://localhost:8080/",
          "height": 694
        },
        "id": "7U_dD1TBzNCD",
        "outputId": "2c3e68fa-86f6-48e4-b2b6-b4bece02bb34"
      },
      "execution_count": 314,
      "outputs": [
        {
          "output_type": "stream",
          "name": "stderr",
          "text": [
            "<ipython-input-314-0311b707eafb>:25: FutureWarning: \n",
            "\n",
            "Passing `palette` without assigning `hue` is deprecated and will be removed in v0.14.0. Assign the `x` variable to `hue` and set `legend=False` for the same effect.\n",
            "\n",
            "  sns.barplot(x='Language', y='Job Count', data=df_pandas_melted, palette=\"Set2\")\n"
          ]
        },
        {
          "output_type": "display_data",
          "data": {
            "text/plain": [
              "<Figure size 800x600 with 1 Axes>"
            ],
            "image/png": "[encoded data removed]"
          },
          "metadata": {}
        }
      ]
    },
    {
      "cell_type": "markdown",
      "source": [
        "Vemos que python es un claro ganador con casi 70 ofertas de trabajo que demandan este lenguaje"
      ],
      "metadata": {
        "id": "tvQnis-izyB1"
      }
    }
  ],
  "metadata": {
    "application/vnd.databricks.v1+notebook": {
      "dashboards": [],
      "environmentMetadata": null,
      "language": "python",
      "notebookMetadata": {
        "pythonIndentUnit": 4
      },
      "notebookName": "Caso_4",
      "widgets": {}
    },
    "colab": {
      "provenance": []
    },
    "language_info": {
      "name": "python"
    },
    "kernelspec": {
      "name": "python3",
      "display_name": "Python 3"
    }
  },
  "nbformat": 4,
  "nbformat_minor": 0
}