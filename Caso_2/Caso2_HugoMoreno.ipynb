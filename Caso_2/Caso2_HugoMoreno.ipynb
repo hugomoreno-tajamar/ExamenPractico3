{
  "cells": [
    {
      "cell_type": "markdown",
      "metadata": {
        "application/vnd.databricks.v1+cell": {
          "cellMetadata": {},
          "inputWidgets": {},
          "nuid": "7bc88472-0819-44bb-a870-05c265cca4c5",
          "showTitle": false,
          "tableResultSettingsMap": {},
          "title": ""
        },
        "id": "bCpraKNZTnDW"
      },
      "source": [
        "# Encontrando insights de la UEFA Champions League"
      ]
    },
    {
      "cell_type": "markdown",
      "metadata": {
        "application/vnd.databricks.v1+cell": {
          "cellMetadata": {},
          "inputWidgets": {},
          "nuid": "dec9c196-3f29-444f-a2f7-13e3827b29ef",
          "showTitle": false,
          "tableResultSettingsMap": {},
          "title": ""
        },
        "id": "1C5zuOaMTnDX"
      },
      "source": [
        "La Liga de Campeones de la UEFA, a menudo llamada Liga de Campeones, es una competencia anual de fútbol por excelencia que cautiva a los fanáticos de todo el mundo. Establecida en 1955 como la Copa de Clubes Campeones de Europa, evolucionó a la Liga de Campeones de la UEFA en 1992, ampliando su atractivo. El formato moderno cuenta con 32 equipos de clubes de primer nivel seleccionados en función de su desempeño en la liga nacional, lo que aumenta la intriga.  \n",
        "\n",
        "Este evento electrizante trasciende los deportes y se convierte en una celebración de la unidad, la cultura y el orgullo nacional. Los fanáticos, vestidos con los colores de sus países, crean una atmósfera eléctrica, lo que hace que el torneo sea tanto sobre los espectadores como sobre los jugadores. Financieramente, la Liga de Campeones es un salvavidas para los clubes, ya que aumenta los ingresos y ofrece oportunidades transformadoras. Sin embargo, genera debates sobre las disparidades de riqueza en el fútbol europeo.  \n",
        "\n",
        "La Liga de Campeones es sinónimo de rivalidades históricas, triunfos de los desvalidos y brillantez individual. Para los jugadores, representa la cima de su carrera, mientras que para los fanáticos, es un fenómeno cultural. El himno y los rituales icónicos enriquecen la experiencia futbolística. En 200 palabras, la UEFA Champions League es el epítome de la excelencia del fútbol europeo, que ofrece momentos inolvidables, recompensas económicas y un impacto cultural único, con 32 clubes de primer nivel que se suman a su atractivo."
      ]
    },
    {
      "cell_type": "markdown",
      "metadata": {
        "application/vnd.databricks.v1+cell": {
          "cellMetadata": {
            "byteLimit": 2048000,
            "rowLimit": 10000
          },
          "inputWidgets": {},
          "nuid": "3ff8fe53-6686-4ae2-8c5b-662e85535ff5",
          "showTitle": false,
          "tableResultSettingsMap": {},
          "title": ""
        },
        "id": "Dr9L3q3fTnDY"
      },
      "source": [
        "**Nombres de las tablas o ficheros a utilizar**:  \n",
        "[uefa_2020.csv](https://tajamar365.sharepoint.com/:x:/s/3405-MasterIA2024-2025/EQuW8d16tZJKpYZN6jR480sBgc1IYypAw9hGHKQARS560g?e=7TybBU)  \n",
        "[uefa_2021.csv](https://tajamar365.sharepoint.com/:x:/s/3405-MasterIA2024-2025/ESG8YBrjD3tBky3aGT0MwIABNt_PQxFVVYVlWMnZYUmV8g?e=VrYHtX)  \n",
        "[uefa_2022.csv](https://tajamar365.sharepoint.com/:x:/s/3405-MasterIA2024-2025/Ecf8O8U8sxJLoW9Bkd2ZVzgBb_gZc35mNcprnR9FMlzliQ?e=Vn3a6v)  \n",
        "- Todas las tablas tienen las mismas columnas y data types"
      ]
    },
    {
      "cell_type": "markdown",
      "metadata": {
        "application/vnd.databricks.v1+cell": {
          "cellMetadata": {},
          "inputWidgets": {},
          "nuid": "910b06ac-21ef-4f0c-bb95-9611f90d7635",
          "showTitle": false,
          "tableResultSettingsMap": {},
          "title": ""
        },
        "id": "I7dkS5_uTnDY"
      },
      "source": [
        "| Column | Definition | Data type |\n",
        "|--------|------------|-----------|\n",
        "| `STAGE`| Stage of the March | `VARCHAR(50)` |\n",
        "| `DATE` | When the match occurred. | `DATE` |\n",
        "| `PENS` | Did the match end with penalty | `VARCHAR(50)` |\n",
        "| `PENS_HOME_SCORE` | In case of penalty, score by home team | `VARCHAR(50)` |\n",
        "| `PENS_AWAY_SCORE` | In case of penalty, score by away team | `VARCHAR(50)` |\n",
        "| `TEAM_NAME_HOME` | Team home name | `VARCHAR(50)` |\n",
        "| `TEAM_NAME_AWAY`| Team away  name | `VARCHAR(50)` |\n",
        "| `TEAM_HOME_SCORE` | Team home score | `NUMBER` |\n",
        "| `TEAM_AWAY_SCORE` | Team away score | `NUMBER` |\n",
        "| `POSSESSION_HOME` | Ball possession for the home team | `FLOAT` |\n",
        "| `POSSESSION_AWAY` | Ball possession for the away team | `FLOAT` |\n",
        "| `TOTAL_SHOTS_HOME` | Number of shots by the home team | `NUMBER` |\n",
        "| `TOTAL_SHOTS_AWAY` | Number of shots by the away team | `NUMBER`\n",
        "| `SHOTS_ON_TARGET_HOME` | Total shot for home team | `FLOAT` |\n",
        "| `SHOTS_ON_TARGET_AWAY` | Total shot for away team | `FLOAT` |\n",
        "| `DUELS_WON_HOME` | duel win possession of ball - for home team | `NUMBER` |\n",
        "| `DUELS_WON_AWAY` | duel win possession of ball - for away team | `NUMBER`\n",
        "| `PREDICTION_TEAM_HOME_WIN` | Probability of home team to win | `FLOAT` |\n",
        "| `PREDICTION_DRAW` | Probability of draw | `FLOAT` |\n",
        "| `PREDICTION_TEAM_AWAY_WIN` | Probability of away team to win | `FLOAT` |\n",
        "| `LOCATION` | Stadium where the match was held | `VARCHAR(50)` |"
      ]
    },
    {
      "cell_type": "code",
      "source": [
        "!pip install pyspark"
      ],
      "metadata": {
        "colab": {
          "base_uri": "https://localhost:8080/"
        },
        "id": "JdJz9LupZLhO",
        "outputId": "a04a96bd-1222-42d2-c81e-0eeb780a6743"
      },
      "execution_count": 17,
      "outputs": [
        {
          "output_type": "stream",
          "name": "stdout",
          "text": [
            "Requirement already satisfied: pyspark in /usr/local/lib/python3.10/dist-packages (3.5.3)\n",
            "Requirement already satisfied: py4j==0.10.9.7 in /usr/local/lib/python3.10/dist-packages (from pyspark) (0.10.9.7)\n"
          ]
        }
      ]
    },
    {
      "cell_type": "code",
      "source": [
        "from pyspark.sql import SparkSession\n",
        "\n",
        "# Crear una sesión de Spark\n",
        "spark = SparkSession.builder.appName(\"CargarCSV\").getOrCreate()"
      ],
      "metadata": {
        "id": "9yIwaHAbZIsG"
      },
      "execution_count": 18,
      "outputs": []
    },
    {
      "cell_type": "code",
      "source": [
        "df_2020 = spark.read.csv(\"uefa_2020.csv\", header=True, inferSchema=True)\n",
        "df_2021 = spark.read.csv(\"uefa_2021.csv\", header=True, inferSchema=True)\n",
        "df_2022 = spark.read.csv(\"uefa_2022.csv\", header=True, inferSchema=True)"
      ],
      "metadata": {
        "id": "LHBA0fZCZEhP"
      },
      "execution_count": 19,
      "outputs": []
    },
    {
      "cell_type": "markdown",
      "metadata": {
        "application/vnd.databricks.v1+cell": {
          "cellMetadata": {},
          "inputWidgets": {},
          "nuid": "b6ed3067-8a31-45a7-9120-766336560fef",
          "showTitle": false,
          "tableResultSettingsMap": {},
          "title": ""
        },
        "id": "WMRm4XdpTnDY"
      },
      "source": [
        "### Requerimientos:  \n",
        "-Puedes utilizar SQL o PySpark"
      ]
    },
    {
      "cell_type": "markdown",
      "metadata": {
        "application/vnd.databricks.v1+cell": {
          "cellMetadata": {},
          "inputWidgets": {},
          "nuid": "96872dad-7ed6-4372-84e9-763aa2d6c83f",
          "showTitle": false,
          "tableResultSettingsMap": {},
          "title": ""
        },
        "id": "FQv6OjdpTnDZ"
      },
      "source": [
        "1. Encuentra los 3 equipos que anotaron más goles jugando en su estadio en la UEFA Champions League 2020-21. El resultado debe contener dos columnas: TEAM_NAME_HOME y TEAM_HOME_SCORE ordenadas en orden descendente de TEAM_HOME_SCORE. Guarda la consulta (o el notebook) como TEAM_HOME_WITH_MOST_GOALS."
      ]
    },
    {
      "cell_type": "code",
      "source": [
        "TEAM_HOME_WITH_MOST_GOALS = df_2020.groupBy(\"TEAM_NAME_HOME\").agg(F.sum(F.col(\"TEAM_HOME_SCORE\")).alias(\"TEAM_HOME_SCORE\")).orderBy(\"TEAM_HOME_SCORE\", ascending=False).limit(3)\n",
        "TEAM_HOME_WITH_MOST_GOALS.show(truncate=False)"
      ],
      "metadata": {
        "colab": {
          "base_uri": "https://localhost:8080/"
        },
        "id": "hlOdGoYJkBQI",
        "outputId": "ff919cb9-d563-460b-a660-dd2e0ed44a57"
      },
      "execution_count": 27,
      "outputs": [
        {
          "output_type": "stream",
          "name": "stdout",
          "text": [
            "+-----------------+---------------+\n",
            "|TEAM_NAME_HOME   |TEAM_HOME_SCORE|\n",
            "+-----------------+---------------+\n",
            "| Manchester City |15             |\n",
            "| Real Madrid     |14             |\n",
            "| Bayern Munich   |13             |\n",
            "+-----------------+---------------+\n",
            "\n"
          ]
        }
      ]
    },
    {
      "cell_type": "markdown",
      "source": [
        "Creamos un filtro donde ordenamos los goles marcados en casa (TEAM_HOME_SCORE) descendentemente para ver el top 3"
      ],
      "metadata": {
        "id": "yn076zycke84"
      }
    },
    {
      "cell_type": "markdown",
      "metadata": {
        "application/vnd.databricks.v1+cell": {
          "cellMetadata": {},
          "inputWidgets": {},
          "nuid": "b375e92e-5c96-4ee8-8c35-29b8e7ab887f",
          "showTitle": false,
          "tableResultSettingsMap": {},
          "title": ""
        },
        "id": "Dnt-tQSsTnDZ"
      },
      "source": [
        "2. Encuentra el equipo con posesión mayoritaria la mayor cantidad de veces durante la UEFA Champions League 2021-22. El resultado debe incluir dos columnas: TEAM_NAME y GAME_COUNT, que es la cantidad de veces que el equipo tuvo posesión mayoritaria durante un partido de fútbol. Guarda esta consulta (o el notebook) como TEAM_WITH_MAJORITY_POSSESSION"
      ]
    },
    {
      "cell_type": "code",
      "source": [
        "import pyspark.sql.functions as F\n",
        "\n",
        "# primero spliteamos los valores del porcentaje de posesión para poder comparar sus valores\n",
        "posesion_home = F.split(F.col(\"POSSESSION_HOME\"), \"%\")[0]\n",
        "posesion_away = F.split(F.col(\"POSSESSION_AWAY\"), \"%\")[0]\n",
        "\n",
        "# filtramos las líneas en las que cada equipo haya ganado la posesión, sea visitante o local\n",
        "df_posesion_won_home = df_2021.where((posesion_home > posesion_away)).groupBy(F.col(\"TEAM_NAME_HOME\").alias(\"TEAM_NAME\")).agg(F.count(F.col(\"POSSESSION_HOME\")).alias(\"GAME_COUNT\"))\n",
        "df_posesion_won_away = df_2021.where((posesion_away > posesion_home)).groupBy(F.col(\"TEAM_NAME_AWAY\").alias(\"TEAM_NAME\")).agg(F.count(F.col(\"POSSESSION_AWAY\")).alias(\"GAME_COUNT\"))\n",
        "\n",
        "# juntamos ambos dataframes para tener toda la información junta\n",
        "df_posesion_joined = df_posesion_won_home.union(df_posesion_won_away)\n",
        "\n",
        "# sumamos todos los partidos en los que un equipo ha ganado en posesión\n",
        "df_posesion_joined = df_posesion_joined.groupBy(F.col(\"TEAM_NAME\")).agg(F.sum(F.col(\"GAME_COUNT\")).alias(\"GAME_COUNT\"))\n",
        "\n",
        "# asignamos el valor a una variable\n",
        "TEAM_WITH_MAJORITY_POSSESSION = df_posesion_joined.orderBy(F.col(\"GAME_COUNT\").desc())\n",
        "\n",
        "# mostramos el mejor (top 1)\n",
        "TEAM_WITH_MAJORITY_POSSESSION.show(1)\n"
      ],
      "metadata": {
        "colab": {
          "base_uri": "https://localhost:8080/"
        },
        "id": "FSyNH7urYy8J",
        "outputId": "4fec9a36-34f4-47b9-cca3-ea01b3fba506"
      },
      "execution_count": 25,
      "outputs": [
        {
          "output_type": "stream",
          "name": "stdout",
          "text": [
            "+---------+----------+\n",
            "|TEAM_NAME|GAME_COUNT|\n",
            "+---------+----------+\n",
            "|Liverpool|         9|\n",
            "+---------+----------+\n",
            "only showing top 1 row\n",
            "\n"
          ]
        }
      ]
    },
    {
      "cell_type": "markdown",
      "source": [
        "El resultado nos muestra el equipo con más partidos en los que ha ganado en posesión, sin importar si es visitante o local. Para ello he creado 2 dataframes filtrando por visitante y por local y los he juntado en uno solo para después sumarlo todo junto"
      ],
      "metadata": {
        "id": "mx0nHSo_kooJ"
      }
    },
    {
      "cell_type": "markdown",
      "metadata": {
        "application/vnd.databricks.v1+cell": {
          "cellMetadata": {},
          "inputWidgets": {},
          "nuid": "7c960a38-f12d-4b88-aaad-b70de0c2323f",
          "showTitle": false,
          "tableResultSettingsMap": {},
          "title": ""
        },
        "id": "8WploeWeTnDZ"
      },
      "source": [
        "3. Encuentra la lista de equipos de cada fase del juego que ganaron el duelo en un partido pero terminaron perdiendo el juego en el Campeonato de la UEFA 2022-23. El resultado debe contener dos columnas: STAGE y TEAM_LOST. Guarda la consulta (o el notebook) como TEAM_WON_DUEL_LOST_GAME_STAGE_WISE."
      ]
    },
    {
      "cell_type": "code",
      "execution_count": 2,
      "metadata": {
        "application/vnd.databricks.v1+cell": {
          "cellMetadata": {},
          "inputWidgets": {},
          "nuid": "5b5a904a-58be-4e45-8a29-d16b3b8fa65f",
          "showTitle": false,
          "tableResultSettingsMap": {},
          "title": ""
        },
        "colab": {
          "base_uri": "https://localhost:8080/",
          "height": 142
        },
        "id": "OWsyN9F6TnDa",
        "outputId": "159c4c7f-ef10-4da8-9f89-e8eed2c78832"
      },
      "outputs": [
        {
          "output_type": "display_data",
          "data": {
            "text/plain": [
              "<IPython.core.display.HTML object>"
            ],
            "text/html": [
              "\n",
              "     <input type=\"file\" id=\"files-d0639b18-53c3-4df5-8fac-7ee7ec26a2ad\" name=\"files[]\" multiple disabled\n",
              "        style=\"border:none\" />\n",
              "     <output id=\"result-d0639b18-53c3-4df5-8fac-7ee7ec26a2ad\">\n",
              "      Upload widget is only available when the cell has been executed in the\n",
              "      current browser session. Please rerun this cell to enable.\n",
              "      </output>\n",
              "      <script>// Copyright 2017 Google LLC\n",
              "//\n",
              "// Licensed under the Apache License, Version 2.0 (the \"License\");\n",
              "// you may not use this file except in compliance with the License.\n",
              "// You may obtain a copy of the License at\n",
              "//\n",
              "//      http://www.apache.org/licenses/LICENSE-2.0\n",
              "//\n",
              "// Unless required by applicable law or agreed to in writing, software\n",
              "// distributed under the License is distributed on an \"AS IS\" BASIS,\n",
              "// WITHOUT WARRANTIES OR CONDITIONS OF ANY KIND, either express or implied.\n",
              "// See the License for the specific language governing permissions and\n",
              "// limitations under the License.\n",
              "\n",
              "/**\n",
              " * @fileoverview Helpers for google.colab Python module.\n",
              " */\n",
              "(function(scope) {\n",
              "function span(text, styleAttributes = {}) {\n",
              "  const element = document.createElement('span');\n",
              "  element.textContent = text;\n",
              "  for (const key of Object.keys(styleAttributes)) {\n",
              "    element.style[key] = styleAttributes[key];\n",
              "  }\n",
              "  return element;\n",
              "}\n",
              "\n",
              "// Max number of bytes which will be uploaded at a time.\n",
              "const MAX_PAYLOAD_SIZE = 100 * 1024;\n",
              "\n",
              "function _uploadFiles(inputId, outputId) {\n",
              "  const steps = uploadFilesStep(inputId, outputId);\n",
              "  const outputElement = document.getElementById(outputId);\n",
              "  // Cache steps on the outputElement to make it available for the next call\n",
              "  // to uploadFilesContinue from Python.\n",
              "  outputElement.steps = steps;\n",
              "\n",
              "  return _uploadFilesContinue(outputId);\n",
              "}\n",
              "\n",
              "// This is roughly an async generator (not supported in the browser yet),\n",
              "// where there are multiple asynchronous steps and the Python side is going\n",
              "// to poll for completion of each step.\n",
              "// This uses a Promise to block the python side on completion of each step,\n",
              "// then passes the result of the previous step as the input to the next step.\n",
              "function _uploadFilesContinue(outputId) {\n",
              "  const outputElement = document.getElementById(outputId);\n",
              "  const steps = outputElement.steps;\n",
              "\n",
              "  const next = steps.next(outputElement.lastPromiseValue);\n",
              "  return Promise.resolve(next.value.promise).then((value) => {\n",
              "    // Cache the last promise value to make it available to the next\n",
              "    // step of the generator.\n",
              "    outputElement.lastPromiseValue = value;\n",
              "    return next.value.response;\n",
              "  });\n",
              "}\n",
              "\n",
              "/**\n",
              " * Generator function which is called between each async step of the upload\n",
              " * process.\n",
              " * @param {string} inputId Element ID of the input file picker element.\n",
              " * @param {string} outputId Element ID of the output display.\n",
              " * @return {!Iterable<!Object>} Iterable of next steps.\n",
              " */\n",
              "function* uploadFilesStep(inputId, outputId) {\n",
              "  const inputElement = document.getElementById(inputId);\n",
              "  inputElement.disabled = false;\n",
              "\n",
              "  const outputElement = document.getElementById(outputId);\n",
              "  outputElement.innerHTML = '';\n",
              "\n",
              "  const pickedPromise = new Promise((resolve) => {\n",
              "    inputElement.addEventListener('change', (e) => {\n",
              "      resolve(e.target.files);\n",
              "    });\n",
              "  });\n",
              "\n",
              "  const cancel = document.createElement('button');\n",
              "  inputElement.parentElement.appendChild(cancel);\n",
              "  cancel.textContent = 'Cancel upload';\n",
              "  const cancelPromise = new Promise((resolve) => {\n",
              "    cancel.onclick = () => {\n",
              "      resolve(null);\n",
              "    };\n",
              "  });\n",
              "\n",
              "  // Wait for the user to pick the files.\n",
              "  const files = yield {\n",
              "    promise: Promise.race([pickedPromise, cancelPromise]),\n",
              "    response: {\n",
              "      action: 'starting',\n",
              "    }\n",
              "  };\n",
              "\n",
              "  cancel.remove();\n",
              "\n",
              "  // Disable the input element since further picks are not allowed.\n",
              "  inputElement.disabled = true;\n",
              "\n",
              "  if (!files) {\n",
              "    return {\n",
              "      response: {\n",
              "        action: 'complete',\n",
              "      }\n",
              "    };\n",
              "  }\n",
              "\n",
              "  for (const file of files) {\n",
              "    const li = document.createElement('li');\n",
              "    li.append(span(file.name, {fontWeight: 'bold'}));\n",
              "    li.append(span(\n",
              "        `(${file.type || 'n/a'}) - ${file.size} bytes, ` +\n",
              "        `last modified: ${\n",
              "            file.lastModifiedDate ? file.lastModifiedDate.toLocaleDateString() :\n",
              "                                    'n/a'} - `));\n",
              "    const percent = span('0% done');\n",
              "    li.appendChild(percent);\n",
              "\n",
              "    outputElement.appendChild(li);\n",
              "\n",
              "    const fileDataPromise = new Promise((resolve) => {\n",
              "      const reader = new FileReader();\n",
              "      reader.onload = (e) => {\n",
              "        resolve(e.target.result);\n",
              "      };\n",
              "      reader.readAsArrayBuffer(file);\n",
              "    });\n",
              "    // Wait for the data to be ready.\n",
              "    let fileData = yield {\n",
              "      promise: fileDataPromise,\n",
              "      response: {\n",
              "        action: 'continue',\n",
              "      }\n",
              "    };\n",
              "\n",
              "    // Use a chunked sending to avoid message size limits. See b/62115660.\n",
              "    let position = 0;\n",
              "    do {\n",
              "      const length = Math.min(fileData.byteLength - position, MAX_PAYLOAD_SIZE);\n",
              "      const chunk = new Uint8Array(fileData, position, length);\n",
              "      position += length;\n",
              "\n",
              "      const base64 = btoa(String.fromCharCode.apply(null, chunk));\n",
              "      yield {\n",
              "        response: {\n",
              "          action: 'append',\n",
              "          file: file.name,\n",
              "          data: base64,\n",
              "        },\n",
              "      };\n",
              "\n",
              "      let percentDone = fileData.byteLength === 0 ?\n",
              "          100 :\n",
              "          Math.round((position / fileData.byteLength) * 100);\n",
              "      percent.textContent = `${percentDone}% done`;\n",
              "\n",
              "    } while (position < fileData.byteLength);\n",
              "  }\n",
              "\n",
              "  // All done.\n",
              "  yield {\n",
              "    response: {\n",
              "      action: 'complete',\n",
              "    }\n",
              "  };\n",
              "}\n",
              "\n",
              "scope.google = scope.google || {};\n",
              "scope.google.colab = scope.google.colab || {};\n",
              "scope.google.colab._files = {\n",
              "  _uploadFiles,\n",
              "  _uploadFilesContinue,\n",
              "};\n",
              "})(self);\n",
              "</script> "
            ]
          },
          "metadata": {}
        },
        {
          "output_type": "stream",
          "name": "stdout",
          "text": [
            "Saving uefa_2020.csv to uefa_2020.csv\n",
            "Saving uefa_2021.csv to uefa_2021.csv\n",
            "Saving uefa_2022.csv to uefa_2022.csv\n"
          ]
        }
      ],
      "source": [
        "from google.colab import files\n",
        "\n",
        "uploaded = files.upload()"
      ]
    },
    {
      "cell_type": "code",
      "source": [
        "import pyspark.sql.functions as F\n",
        "\n",
        "# primero spliteamos los valores del porcentaje de duelos ganados para poder comparar sus valores\n",
        "duels_won_home = F.split(F.col(\"DUELS_WON_HOME\"), \"%\")[0]\n",
        "duels_won_away = F.split(F.col(\"DUELS_WON_AWAY\"), \"%\")[0]\n",
        "\n",
        "# filtramos las líneas en las que los duelos hayan sido ganados por un equipo, y ese equipo haya perdido el partido\n",
        "df_duels_home_lost = df_2022.where((duels_won_home > duels_won_away) & (F.col(\"TEAM_HOME_SCORE\") < F.col(\"TEAM_AWAY_SCORE\")))\n",
        "df_duels_away_lost = df_2022.where((duels_won_away > duels_won_home) & (F.col(\"TEAM_HOME_SCORE\") > F.col(\"TEAM_AWAY_SCORE\")))\n",
        "\n",
        "# juntamos ambos dataframes para tener toda la información junta\n",
        "df_duels_won_lost_joined = df_duels_home_lost.union(df_duels_away_lost)\n",
        "\n",
        "# creamos una columna llamada TEAM_LOST indicando cuál es el equipo perdedor\n",
        "df_duels_won_lost_joined = df_duels_won_lost_joined.withColumn(\n",
        "    \"TEAM_LOST\",\n",
        "    F.when(F.col(\"TEAM_HOME_SCORE\") > F.col(\"TEAM_AWAY_SCORE\"), F.col(\"TEAM_NAME_AWAY\"))\n",
        "     .when(F.col(\"TEAM_HOME_SCORE\") < F.col(\"TEAM_AWAY_SCORE\"), F.col(\"TEAM_NAME_HOME\"))\n",
        ")\n",
        "\n",
        "# guardamos los datos en una variable\n",
        "TEAM_WON_DUEL_LOST_GAME_STAGE_WISE = df_duels_won_lost_joined.select(\"STAGE\", \"TEAM_LOST\")\n",
        "\n",
        "# mostramos el resultado\n",
        "TEAM_WON_DUEL_LOST_GAME_STAGE_WISE.show(truncate=False)"
      ],
      "metadata": {
        "colab": {
          "base_uri": "https://localhost:8080/"
        },
        "id": "DNbPUz_HU0YD",
        "outputId": "3fc40aca-702e-433a-d81d-ec33ef2f6d1f"
      },
      "execution_count": 16,
      "outputs": [
        {
          "output_type": "stream",
          "name": "stdout",
          "text": [
            "+-------------------------+-----------------+\n",
            "|STAGE                    |TEAM_LOST        |\n",
            "+-------------------------+-----------------+\n",
            "| Group stage: Matchday 1 |Chelsea          |\n",
            "| Group stage: Matchday 1 |K�benhavn        |\n",
            "| Group stage: Matchday 1 |Juventus         |\n",
            "| Group stage: Matchday 1 |Maccabi Haifa    |\n",
            "| Group stage: Matchday 1 |Rangers          |\n",
            "| Group stage: Matchday 1 |Liverpool        |\n",
            "| Group stage: Matchday 1 |Porto            |\n",
            "| Group stage: Matchday 1 |Bayer Leverkusen |\n",
            "| Group stage: Matchday 1 |Viktoria Plze?   |\n",
            "| Group stage: Matchday 1 |Marseille        |\n",
            "| Group stage: Matchday 2 |Ajax             |\n",
            "| Group stage: Matchday 2 |Atletico Madrid  |\n",
            "| Group stage: Matchday 2 |Barcelona        |\n",
            "| Group stage: Matchday 2 |Tottenham Hotspur|\n",
            "| Group stage: Matchday 2 |RB Leipzig       |\n",
            "| Group stage: Matchday 3 |Rangers          |\n",
            "| Group stage: Matchday 3 |Atletico Madrid  |\n",
            "| Group stage: Matchday 3 |Bayer Leverkusen |\n",
            "| Group stage: Matchday 3 |Viktoria Plze?   |\n",
            "| Group stage: Matchday 3 |Barcelona        |\n",
            "+-------------------------+-----------------+\n",
            "only showing top 20 rows\n",
            "\n"
          ]
        }
      ]
    },
    {
      "cell_type": "markdown",
      "source": [
        "El resultado nos muestra todos los equipos que han ganado en duelos, y han terminado perdiendo el partido.\n",
        "\n",
        "Para ello, también he creado 2 dataframes istintos filtrando por visitante y local, y los he unido todos en uno para obtener los datos de todos los equipos que cumpliesen dicha condición"
      ],
      "metadata": {
        "id": "ggt7nahkk4uP"
      }
    }
  ],
  "metadata": {
    "application/vnd.databricks.v1+notebook": {
      "dashboards": [],
      "environmentMetadata": null,
      "language": "python",
      "notebookMetadata": {
        "pythonIndentUnit": 4
      },
      "notebookName": "Caso_2",
      "widgets": {}
    },
    "colab": {
      "provenance": []
    },
    "language_info": {
      "name": "python"
    },
    "kernelspec": {
      "name": "python3",
      "display_name": "Python 3"
    }
  },
  "nbformat": 4,
  "nbformat_minor": 0
}